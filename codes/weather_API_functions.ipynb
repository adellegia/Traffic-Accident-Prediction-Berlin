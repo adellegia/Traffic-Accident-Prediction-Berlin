{
  "cells": [
    {
      "cell_type": "markdown",
      "metadata": {
        "id": "IRKraiCCjDts"
      },
      "source": [
        "# Loading packages and settings"
      ]
    },
    {
      "cell_type": "code",
      "execution_count": 1,
      "metadata": {
        "colab": {
          "base_uri": "https://localhost:8080/"
        },
        "id": "AZH9iytwpLGo",
        "outputId": "29cc64db-8c49-45f8-cc67-fc3a4fa8bfa5"
      },
      "outputs": [
        {
          "output_type": "stream",
          "name": "stdout",
          "text": [
            "Collecting wetterdienst\n",
            "  Downloading wetterdienst-0.28.0-py3-none-any.whl (186 kB)\n",
            "\u001b[K     |████████████████████████████████| 186 kB 7.5 MB/s \n",
            "\u001b[?25hCollecting click<9.0,>=8.0\n",
            "  Downloading click-8.1.2-py3-none-any.whl (96 kB)\n",
            "\u001b[K     |████████████████████████████████| 96 kB 3.7 MB/s \n",
            "\u001b[?25hCollecting click-params<0.2,>=0.1\n",
            "  Downloading click_params-0.1.2-py3-none-any.whl (11 kB)\n",
            "Requirement already satisfied: requests<3.0,>=2.20 in /usr/local/lib/python3.7/dist-packages (from wetterdienst) (2.23.0)\n",
            "Requirement already satisfied: cachetools<5.0,>=4.1 in /usr/local/lib/python3.7/dist-packages (from wetterdienst) (4.2.4)\n",
            "Collecting fsspec==2021.7\n",
            "  Downloading fsspec-2021.7.0-py3-none-any.whl (118 kB)\n",
            "\u001b[K     |████████████████████████████████| 118 kB 49.2 MB/s \n",
            "\u001b[?25hCollecting cloup<0.9,>=0.8\n",
            "  Downloading cloup-0.8.2-py2.py3-none-any.whl (36 kB)\n",
            "Collecting aenum<4.0,>=3.0\n",
            "  Downloading aenum-3.1.8-py3-none-any.whl (132 kB)\n",
            "\u001b[K     |████████████████████████████████| 132 kB 39.9 MB/s \n",
            "\u001b[?25hRequirement already satisfied: tqdm<5.0,>=4.47 in /usr/local/lib/python3.7/dist-packages (from wetterdienst) (4.63.0)\n",
            "Collecting rapidfuzz<2.0,>=1.4\n",
            "  Downloading rapidfuzz-1.9.1-cp37-cp37m-manylinux_2_12_x86_64.manylinux2010_x86_64.whl (893 kB)\n",
            "\u001b[K     |████████████████████████████████| 893 kB 58.5 MB/s \n",
            "\u001b[?25hCollecting beautifulsoup4<5.0,>=4.9\n",
            "  Downloading beautifulsoup4-4.11.1-py3-none-any.whl (128 kB)\n",
            "\u001b[K     |████████████████████████████████| 128 kB 52.7 MB/s \n",
            "\u001b[?25hRequirement already satisfied: pandas<2.0,>=1.3 in /usr/local/lib/python3.7/dist-packages (from wetterdienst) (1.3.5)\n",
            "Collecting PyPDF2<2.0,>=1.26\n",
            "  Downloading PyPDF2-1.27.3-py3-none-any.whl (64 kB)\n",
            "\u001b[K     |████████████████████████████████| 64 kB 4.0 MB/s \n",
            "\u001b[?25hCollecting environs<10.0.0,>=9.4.0\n",
            "  Downloading environs-9.5.0-py2.py3-none-any.whl (12 kB)\n",
            "Requirement already satisfied: tabulate<0.9,>=0.8 in /usr/local/lib/python3.7/dist-packages (from wetterdienst) (0.8.9)\n",
            "Collecting diskcache<6.0.0,>=5.4.0\n",
            "  Downloading diskcache-5.4.0-py3-none-any.whl (44 kB)\n",
            "\u001b[K     |████████████████████████████████| 44 kB 3.5 MB/s \n",
            "\u001b[?25hRequirement already satisfied: numpy<2.0,>=1.19 in /usr/local/lib/python3.7/dist-packages (from wetterdienst) (1.21.5)\n",
            "Collecting measurement<4.0,>=3.2\n",
            "  Downloading measurement-3.2.0.tar.gz (12 kB)\n",
            "Collecting importlib_metadata<2.0,>=1.7\n",
            "  Downloading importlib_metadata-1.7.0-py2.py3-none-any.whl (31 kB)\n",
            "Requirement already satisfied: scikit-learn<2.0.0,>=1.0.2 in /usr/local/lib/python3.7/dist-packages (from wetterdienst) (1.0.2)\n",
            "Collecting timezonefinder<6.0,>=5.2\n",
            "  Downloading timezonefinder-5.2.0-py36.py37.py38-none-any.whl (43.0 MB)\n",
            "\u001b[K     |████████████████████████████████| 43.0 MB 1.3 MB/s \n",
            "\u001b[?25hCollecting Pint<0.18,>=0.17\n",
            "  Downloading Pint-0.17-py2.py3-none-any.whl (204 kB)\n",
            "\u001b[K     |████████████████████████████████| 204 kB 62.5 MB/s \n",
            "\u001b[?25hCollecting deprecation<3.0,>=2.1\n",
            "  Downloading deprecation-2.1.0-py2.py3-none-any.whl (11 kB)\n",
            "Collecting lxml<5.0,>=4.5\n",
            "  Downloading lxml-4.8.0-cp37-cp37m-manylinux_2_17_x86_64.manylinux2014_x86_64.manylinux_2_24_x86_64.whl (6.4 MB)\n",
            "\u001b[K     |████████████████████████████████| 6.4 MB 38.6 MB/s \n",
            "\u001b[?25hCollecting aiohttp<4.0,>=3.7\n",
            "  Downloading aiohttp-3.8.1-cp37-cp37m-manylinux_2_5_x86_64.manylinux1_x86_64.manylinux_2_12_x86_64.manylinux2010_x86_64.whl (1.1 MB)\n",
            "\u001b[K     |████████████████████████████████| 1.1 MB 41.6 MB/s \n",
            "\u001b[?25hCollecting dateparser<2.0,>=1.0\n",
            "  Downloading dateparser-1.1.1-py2.py3-none-any.whl (288 kB)\n",
            "\u001b[K     |████████████████████████████████| 288 kB 69.6 MB/s \n",
            "\u001b[?25hRequirement already satisfied: python-dateutil<3.0,>=2.8 in /usr/local/lib/python3.7/dist-packages (from wetterdienst) (2.8.2)\n",
            "Requirement already satisfied: appdirs<2.0,>=1.4 in /usr/local/lib/python3.7/dist-packages (from wetterdienst) (1.4.4)\n",
            "Requirement already satisfied: charset-normalizer<3.0,>=2.0 in /usr/local/lib/python3.7/dist-packages (from aiohttp<4.0,>=3.7->wetterdienst) (2.0.12)\n",
            "Requirement already satisfied: attrs>=17.3.0 in /usr/local/lib/python3.7/dist-packages (from aiohttp<4.0,>=3.7->wetterdienst) (21.4.0)\n",
            "Collecting frozenlist>=1.1.1\n",
            "  Downloading frozenlist-1.3.0-cp37-cp37m-manylinux_2_5_x86_64.manylinux1_x86_64.manylinux_2_17_x86_64.manylinux2014_x86_64.whl (144 kB)\n",
            "\u001b[K     |████████████████████████████████| 144 kB 76.1 MB/s \n",
            "\u001b[?25hCollecting async-timeout<5.0,>=4.0.0a3\n",
            "  Downloading async_timeout-4.0.2-py3-none-any.whl (5.8 kB)\n",
            "Collecting yarl<2.0,>=1.0\n",
            "  Downloading yarl-1.7.2-cp37-cp37m-manylinux_2_5_x86_64.manylinux1_x86_64.manylinux_2_12_x86_64.manylinux2010_x86_64.whl (271 kB)\n",
            "\u001b[K     |████████████████████████████████| 271 kB 78.9 MB/s \n",
            "\u001b[?25hCollecting asynctest==0.13.0\n",
            "  Downloading asynctest-0.13.0-py3-none-any.whl (26 kB)\n",
            "Collecting multidict<7.0,>=4.5\n",
            "  Downloading multidict-6.0.2-cp37-cp37m-manylinux_2_17_x86_64.manylinux2014_x86_64.whl (94 kB)\n",
            "\u001b[K     |████████████████████████████████| 94 kB 3.7 MB/s \n",
            "\u001b[?25hRequirement already satisfied: typing-extensions>=3.7.4 in /usr/local/lib/python3.7/dist-packages (from aiohttp<4.0,>=3.7->wetterdienst) (3.10.0.2)\n",
            "Collecting aiosignal>=1.1.2\n",
            "  Downloading aiosignal-1.2.0-py3-none-any.whl (8.2 kB)\n",
            "Requirement already satisfied: soupsieve>1.2 in /usr/local/lib/python3.7/dist-packages (from beautifulsoup4<5.0,>=4.9->wetterdienst) (2.3.2)\n",
            "Collecting validators<0.19,>=0.18\n",
            "  Downloading validators-0.18.2-py3-none-any.whl (19 kB)\n",
            "Requirement already satisfied: pytz in /usr/local/lib/python3.7/dist-packages (from dateparser<2.0,>=1.0->wetterdienst) (2018.9)\n",
            "Requirement already satisfied: tzlocal in /usr/local/lib/python3.7/dist-packages (from dateparser<2.0,>=1.0->wetterdienst) (1.5.1)\n",
            "Requirement already satisfied: regex!=2019.02.19,!=2021.8.27,<2022.3.15 in /usr/local/lib/python3.7/dist-packages (from dateparser<2.0,>=1.0->wetterdienst) (2019.12.20)\n",
            "Requirement already satisfied: packaging in /usr/local/lib/python3.7/dist-packages (from deprecation<3.0,>=2.1->wetterdienst) (21.3)\n",
            "Collecting python-dotenv\n",
            "  Downloading python_dotenv-0.20.0-py3-none-any.whl (17 kB)\n",
            "Collecting marshmallow>=3.0.0\n",
            "  Downloading marshmallow-3.15.0-py3-none-any.whl (47 kB)\n",
            "\u001b[K     |████████████████████████████████| 47 kB 5.4 MB/s \n",
            "\u001b[?25hRequirement already satisfied: zipp>=0.5 in /usr/local/lib/python3.7/dist-packages (from importlib_metadata<2.0,>=1.7->wetterdienst) (3.7.0)\n",
            "Requirement already satisfied: sympy>=0.7.3 in /usr/local/lib/python3.7/dist-packages (from measurement<4.0,>=3.2->wetterdienst) (1.7.1)\n",
            "Requirement already satisfied: six>=1.5 in /usr/local/lib/python3.7/dist-packages (from python-dateutil<3.0,>=2.8->wetterdienst) (1.15.0)\n",
            "Requirement already satisfied: idna<3,>=2.5 in /usr/local/lib/python3.7/dist-packages (from requests<3.0,>=2.20->wetterdienst) (2.10)\n",
            "Requirement already satisfied: certifi>=2017.4.17 in /usr/local/lib/python3.7/dist-packages (from requests<3.0,>=2.20->wetterdienst) (2021.10.8)\n",
            "Requirement already satisfied: urllib3!=1.25.0,!=1.25.1,<1.26,>=1.21.1 in /usr/local/lib/python3.7/dist-packages (from requests<3.0,>=2.20->wetterdienst) (1.24.3)\n",
            "Requirement already satisfied: chardet<4,>=3.0.2 in /usr/local/lib/python3.7/dist-packages (from requests<3.0,>=2.20->wetterdienst) (3.0.4)\n",
            "Requirement already satisfied: joblib>=0.11 in /usr/local/lib/python3.7/dist-packages (from scikit-learn<2.0.0,>=1.0.2->wetterdienst) (1.1.0)\n",
            "Requirement already satisfied: scipy>=1.1.0 in /usr/local/lib/python3.7/dist-packages (from scikit-learn<2.0.0,>=1.0.2->wetterdienst) (1.4.1)\n",
            "Requirement already satisfied: threadpoolctl>=2.0.0 in /usr/local/lib/python3.7/dist-packages (from scikit-learn<2.0.0,>=1.0.2->wetterdienst) (3.1.0)\n",
            "Requirement already satisfied: mpmath>=0.19 in /usr/local/lib/python3.7/dist-packages (from sympy>=0.7.3->measurement<4.0,>=3.2->wetterdienst) (1.2.1)\n",
            "Requirement already satisfied: decorator>=3.4.0 in /usr/local/lib/python3.7/dist-packages (from validators<0.19,>=0.18->click-params<0.2,>=0.1->wetterdienst) (4.4.2)\n",
            "Requirement already satisfied: pyparsing!=3.0.5,>=2.0.2 in /usr/local/lib/python3.7/dist-packages (from packaging->deprecation<3.0,>=2.1->wetterdienst) (3.0.7)\n",
            "Building wheels for collected packages: measurement\n",
            "  Building wheel for measurement (setup.py) ... \u001b[?25l\u001b[?25hdone\n",
            "  Created wheel for measurement: filename=measurement-3.2.0-py2.py3-none-any.whl size=17377 sha256=dd204881450f2dc6f39fd49a7818e782895c74ba89a8f391def49b907eb2570b\n",
            "  Stored in directory: /root/.cache/pip/wheels/9a/d8/fe/1966e527a7eccea3ef9f0e4a9fa06c6a8986389342e2f25fe6\n",
            "Successfully built measurement\n",
            "Installing collected packages: multidict, importlib-metadata, frozenlist, yarl, validators, python-dotenv, marshmallow, click, asynctest, async-timeout, aiosignal, timezonefinder, rapidfuzz, PyPDF2, Pint, measurement, lxml, fsspec, environs, diskcache, deprecation, dateparser, cloup, click-params, beautifulsoup4, aiohttp, aenum, wetterdienst\n",
            "  Attempting uninstall: importlib-metadata\n",
            "    Found existing installation: importlib-metadata 4.11.3\n",
            "    Uninstalling importlib-metadata-4.11.3:\n",
            "      Successfully uninstalled importlib-metadata-4.11.3\n",
            "  Attempting uninstall: click\n",
            "    Found existing installation: click 7.1.2\n",
            "    Uninstalling click-7.1.2:\n",
            "      Successfully uninstalled click-7.1.2\n",
            "  Attempting uninstall: lxml\n",
            "    Found existing installation: lxml 4.2.6\n",
            "    Uninstalling lxml-4.2.6:\n",
            "      Successfully uninstalled lxml-4.2.6\n",
            "  Attempting uninstall: beautifulsoup4\n",
            "    Found existing installation: beautifulsoup4 4.6.3\n",
            "    Uninstalling beautifulsoup4-4.6.3:\n",
            "      Successfully uninstalled beautifulsoup4-4.6.3\n",
            "\u001b[31mERROR: pip's dependency resolver does not currently take into account all the packages that are installed. This behaviour is the source of the following dependency conflicts.\n",
            "markdown 3.3.6 requires importlib-metadata>=4.4; python_version < \"3.10\", but you have importlib-metadata 1.7.0 which is incompatible.\n",
            "flask 1.1.4 requires click<8.0,>=5.1, but you have click 8.1.2 which is incompatible.\u001b[0m\n",
            "Successfully installed Pint-0.17 PyPDF2-1.27.3 aenum-3.1.8 aiohttp-3.8.1 aiosignal-1.2.0 async-timeout-4.0.2 asynctest-0.13.0 beautifulsoup4-4.11.1 click-8.1.2 click-params-0.1.2 cloup-0.8.2 dateparser-1.1.1 deprecation-2.1.0 diskcache-5.4.0 environs-9.5.0 frozenlist-1.3.0 fsspec-2021.7.0 importlib-metadata-1.7.0 lxml-4.8.0 marshmallow-3.15.0 measurement-3.2.0 multidict-6.0.2 python-dotenv-0.20.0 rapidfuzz-1.9.1 timezonefinder-5.2.0 validators-0.18.2 wetterdienst-0.28.0 yarl-1.7.2\n"
          ]
        }
      ],
      "source": [
        "#installing wetterdienst API package\n",
        "!pip install wetterdienst"
      ]
    },
    {
      "cell_type": "code",
      "execution_count": 2,
      "metadata": {
        "id": "lOQqLuD73TKw",
        "colab": {
          "base_uri": "https://localhost:8080/"
        },
        "outputId": "377a1a59-dd31-4e41-b3a8-bf855a070606"
      },
      "outputs": [
        {
          "output_type": "stream",
          "name": "stdout",
          "text": [
            "Reading package lists... Done\n",
            "Building dependency tree       \n",
            "Reading state information... Done\n",
            "gdal-bin is already the newest version (2.2.3+dfsg-2).\n",
            "python-gdal is already the newest version (2.2.3+dfsg-2).\n",
            "The following additional packages will be installed:\n",
            "  python3-numpy\n",
            "Suggested packages:\n",
            "  python-numpy-doc python3-nose python3-numpy-dbg\n",
            "The following NEW packages will be installed:\n",
            "  python3-gdal python3-numpy\n",
            "0 upgraded, 2 newly installed, 0 to remove and 39 not upgraded.\n",
            "Need to get 2,288 kB of archives.\n",
            "After this operation, 13.2 MB of additional disk space will be used.\n",
            "Get:1 http://archive.ubuntu.com/ubuntu bionic/main amd64 python3-numpy amd64 1:1.13.3-2ubuntu1 [1,943 kB]\n",
            "Get:2 http://archive.ubuntu.com/ubuntu bionic/universe amd64 python3-gdal amd64 2.2.3+dfsg-2 [346 kB]\n",
            "Fetched 2,288 kB in 1s (1,590 kB/s)\n",
            "Selecting previously unselected package python3-numpy.\n",
            "(Reading database ... 155455 files and directories currently installed.)\n",
            "Preparing to unpack .../python3-numpy_1%3a1.13.3-2ubuntu1_amd64.deb ...\n",
            "Unpacking python3-numpy (1:1.13.3-2ubuntu1) ...\n",
            "Selecting previously unselected package python3-gdal.\n",
            "Preparing to unpack .../python3-gdal_2.2.3+dfsg-2_amd64.deb ...\n",
            "Unpacking python3-gdal (2.2.3+dfsg-2) ...\n",
            "Setting up python3-numpy (1:1.13.3-2ubuntu1) ...\n",
            "Setting up python3-gdal (2.2.3+dfsg-2) ...\n",
            "Processing triggers for man-db (2.8.3-2ubuntu0.1) ...\n",
            "Reading package lists... Done\n",
            "Building dependency tree       \n",
            "Reading state information... Done\n",
            "The following additional packages will be installed:\n",
            "  libspatialindex-c4v5 libspatialindex-dev libspatialindex4v5\n",
            "  python3-pkg-resources\n",
            "Suggested packages:\n",
            "  python3-setuptools\n",
            "The following NEW packages will be installed:\n",
            "  libspatialindex-c4v5 libspatialindex-dev libspatialindex4v5\n",
            "  python3-pkg-resources python3-rtree\n",
            "0 upgraded, 5 newly installed, 0 to remove and 39 not upgraded.\n",
            "Need to get 671 kB of archives.\n",
            "After this operation, 3,948 kB of additional disk space will be used.\n",
            "Get:1 http://archive.ubuntu.com/ubuntu bionic/universe amd64 libspatialindex4v5 amd64 1.8.5-5 [219 kB]\n",
            "Get:2 http://archive.ubuntu.com/ubuntu bionic/universe amd64 libspatialindex-c4v5 amd64 1.8.5-5 [51.7 kB]\n",
            "Get:3 http://archive.ubuntu.com/ubuntu bionic/main amd64 python3-pkg-resources all 39.0.1-2 [98.8 kB]\n",
            "Get:4 http://archive.ubuntu.com/ubuntu bionic/universe amd64 libspatialindex-dev amd64 1.8.5-5 [285 kB]\n",
            "Get:5 http://archive.ubuntu.com/ubuntu bionic/universe amd64 python3-rtree all 0.8.3+ds-1 [16.9 kB]\n",
            "Fetched 671 kB in 1s (549 kB/s)\n",
            "Selecting previously unselected package libspatialindex4v5:amd64.\n",
            "(Reading database ... 155865 files and directories currently installed.)\n",
            "Preparing to unpack .../libspatialindex4v5_1.8.5-5_amd64.deb ...\n",
            "Unpacking libspatialindex4v5:amd64 (1.8.5-5) ...\n",
            "Selecting previously unselected package libspatialindex-c4v5:amd64.\n",
            "Preparing to unpack .../libspatialindex-c4v5_1.8.5-5_amd64.deb ...\n",
            "Unpacking libspatialindex-c4v5:amd64 (1.8.5-5) ...\n",
            "Selecting previously unselected package python3-pkg-resources.\n",
            "Preparing to unpack .../python3-pkg-resources_39.0.1-2_all.deb ...\n",
            "Unpacking python3-pkg-resources (39.0.1-2) ...\n",
            "Selecting previously unselected package libspatialindex-dev:amd64.\n",
            "Preparing to unpack .../libspatialindex-dev_1.8.5-5_amd64.deb ...\n",
            "Unpacking libspatialindex-dev:amd64 (1.8.5-5) ...\n",
            "Selecting previously unselected package python3-rtree.\n",
            "Preparing to unpack .../python3-rtree_0.8.3+ds-1_all.deb ...\n",
            "Unpacking python3-rtree (0.8.3+ds-1) ...\n",
            "Setting up libspatialindex4v5:amd64 (1.8.5-5) ...\n",
            "Setting up python3-pkg-resources (39.0.1-2) ...\n",
            "Setting up libspatialindex-c4v5:amd64 (1.8.5-5) ...\n",
            "Setting up libspatialindex-dev:amd64 (1.8.5-5) ...\n",
            "Setting up python3-rtree (0.8.3+ds-1) ...\n",
            "Processing triggers for libc-bin (2.27-3ubuntu1.3) ...\n",
            "/sbin/ldconfig.real: /usr/local/lib/python3.7/dist-packages/ideep4py/lib/libmkldnn.so.0 is not a symbolic link\n",
            "\n",
            "Collecting git+git://github.com/geopandas/geopandas.git\n",
            "  Cloning git://github.com/geopandas/geopandas.git to /tmp/pip-req-build-ahn6kerv\n",
            "  Running command git clone -q git://github.com/geopandas/geopandas.git /tmp/pip-req-build-ahn6kerv\n",
            "  fatal: remote error:\n",
            "    The unauthenticated git protocol on port 9418 is no longer supported.\n",
            "  Please see https://github.blog/2021-09-01-improving-git-protocol-security-github/ for more information.\n",
            "\u001b[33mWARNING: Discarding git+git://github.com/geopandas/geopandas.git. Command errored out with exit status 128: git clone -q git://github.com/geopandas/geopandas.git /tmp/pip-req-build-ahn6kerv Check the logs for full command output.\u001b[0m\n",
            "\u001b[31mERROR: Command errored out with exit status 128: git clone -q git://github.com/geopandas/geopandas.git /tmp/pip-req-build-ahn6kerv Check the logs for full command output.\u001b[0m\n",
            "Requirement already satisfied: descartes in /usr/local/lib/python3.7/dist-packages (1.1.0)\n",
            "Requirement already satisfied: matplotlib in /usr/local/lib/python3.7/dist-packages (from descartes) (3.2.2)\n",
            "Requirement already satisfied: kiwisolver>=1.0.1 in /usr/local/lib/python3.7/dist-packages (from matplotlib->descartes) (1.4.0)\n",
            "Requirement already satisfied: pyparsing!=2.0.4,!=2.1.2,!=2.1.6,>=2.0.1 in /usr/local/lib/python3.7/dist-packages (from matplotlib->descartes) (3.0.7)\n",
            "Requirement already satisfied: numpy>=1.11 in /usr/local/lib/python3.7/dist-packages (from matplotlib->descartes) (1.21.5)\n",
            "Requirement already satisfied: python-dateutil>=2.1 in /usr/local/lib/python3.7/dist-packages (from matplotlib->descartes) (2.8.2)\n",
            "Requirement already satisfied: cycler>=0.10 in /usr/local/lib/python3.7/dist-packages (from matplotlib->descartes) (0.11.0)\n",
            "Requirement already satisfied: typing-extensions in /usr/local/lib/python3.7/dist-packages (from kiwisolver>=1.0.1->matplotlib->descartes) (3.10.0.2)\n",
            "Requirement already satisfied: six>=1.5 in /usr/local/lib/python3.7/dist-packages (from python-dateutil>=2.1->matplotlib->descartes) (1.15.0)\n"
          ]
        }
      ],
      "source": [
        "#installing geopandas\n",
        "#install geopython libraries\n",
        "!apt install gdal-bin python-gdal python3-gdal\n",
        "#install python3-rtree - Geopandas requirement\n",
        "!apt install python3-rtree \n",
        "#install geopandas\n",
        "!pip install git+git://github.com/geopandas/geopandas.git\n",
        "#install descartes - Geopandas requirement\n",
        "!pip install descartes"
      ]
    },
    {
      "cell_type": "code",
      "execution_count": 3,
      "metadata": {
        "colab": {
          "base_uri": "https://localhost:8080/"
        },
        "id": "yymkN5wx4SLo",
        "outputId": "12d86fb0-c928-4a6f-fc50-f754fe58c317"
      },
      "outputs": [
        {
          "output_type": "stream",
          "name": "stdout",
          "text": [
            "Collecting geopandas\n",
            "  Downloading geopandas-0.10.2-py2.py3-none-any.whl (1.0 MB)\n",
            "\u001b[?25l\r\u001b[K     |▎                               | 10 kB 30.2 MB/s eta 0:00:01\r\u001b[K     |▋                               | 20 kB 27.7 MB/s eta 0:00:01\r\u001b[K     |█                               | 30 kB 12.4 MB/s eta 0:00:01\r\u001b[K     |█▎                              | 40 kB 9.8 MB/s eta 0:00:01\r\u001b[K     |█▋                              | 51 kB 6.0 MB/s eta 0:00:01\r\u001b[K     |██                              | 61 kB 7.1 MB/s eta 0:00:01\r\u001b[K     |██▎                             | 71 kB 7.6 MB/s eta 0:00:01\r\u001b[K     |██▌                             | 81 kB 7.0 MB/s eta 0:00:01\r\u001b[K     |██▉                             | 92 kB 7.7 MB/s eta 0:00:01\r\u001b[K     |███▏                            | 102 kB 7.1 MB/s eta 0:00:01\r\u001b[K     |███▌                            | 112 kB 7.1 MB/s eta 0:00:01\r\u001b[K     |███▉                            | 122 kB 7.1 MB/s eta 0:00:01\r\u001b[K     |████▏                           | 133 kB 7.1 MB/s eta 0:00:01\r\u001b[K     |████▌                           | 143 kB 7.1 MB/s eta 0:00:01\r\u001b[K     |████▊                           | 153 kB 7.1 MB/s eta 0:00:01\r\u001b[K     |█████                           | 163 kB 7.1 MB/s eta 0:00:01\r\u001b[K     |█████▍                          | 174 kB 7.1 MB/s eta 0:00:01\r\u001b[K     |█████▊                          | 184 kB 7.1 MB/s eta 0:00:01\r\u001b[K     |██████                          | 194 kB 7.1 MB/s eta 0:00:01\r\u001b[K     |██████▍                         | 204 kB 7.1 MB/s eta 0:00:01\r\u001b[K     |██████▊                         | 215 kB 7.1 MB/s eta 0:00:01\r\u001b[K     |███████                         | 225 kB 7.1 MB/s eta 0:00:01\r\u001b[K     |███████▎                        | 235 kB 7.1 MB/s eta 0:00:01\r\u001b[K     |███████▋                        | 245 kB 7.1 MB/s eta 0:00:01\r\u001b[K     |████████                        | 256 kB 7.1 MB/s eta 0:00:01\r\u001b[K     |████████▎                       | 266 kB 7.1 MB/s eta 0:00:01\r\u001b[K     |████████▋                       | 276 kB 7.1 MB/s eta 0:00:01\r\u001b[K     |█████████                       | 286 kB 7.1 MB/s eta 0:00:01\r\u001b[K     |█████████▏                      | 296 kB 7.1 MB/s eta 0:00:01\r\u001b[K     |█████████▌                      | 307 kB 7.1 MB/s eta 0:00:01\r\u001b[K     |█████████▉                      | 317 kB 7.1 MB/s eta 0:00:01\r\u001b[K     |██████████▏                     | 327 kB 7.1 MB/s eta 0:00:01\r\u001b[K     |██████████▌                     | 337 kB 7.1 MB/s eta 0:00:01\r\u001b[K     |██████████▉                     | 348 kB 7.1 MB/s eta 0:00:01\r\u001b[K     |███████████▏                    | 358 kB 7.1 MB/s eta 0:00:01\r\u001b[K     |███████████▍                    | 368 kB 7.1 MB/s eta 0:00:01\r\u001b[K     |███████████▊                    | 378 kB 7.1 MB/s eta 0:00:01\r\u001b[K     |████████████                    | 389 kB 7.1 MB/s eta 0:00:01\r\u001b[K     |████████████▍                   | 399 kB 7.1 MB/s eta 0:00:01\r\u001b[K     |████████████▊                   | 409 kB 7.1 MB/s eta 0:00:01\r\u001b[K     |█████████████                   | 419 kB 7.1 MB/s eta 0:00:01\r\u001b[K     |█████████████▍                  | 430 kB 7.1 MB/s eta 0:00:01\r\u001b[K     |█████████████▋                  | 440 kB 7.1 MB/s eta 0:00:01\r\u001b[K     |██████████████                  | 450 kB 7.1 MB/s eta 0:00:01\r\u001b[K     |██████████████▎                 | 460 kB 7.1 MB/s eta 0:00:01\r\u001b[K     |██████████████▋                 | 471 kB 7.1 MB/s eta 0:00:01\r\u001b[K     |███████████████                 | 481 kB 7.1 MB/s eta 0:00:01\r\u001b[K     |███████████████▎                | 491 kB 7.1 MB/s eta 0:00:01\r\u001b[K     |███████████████▋                | 501 kB 7.1 MB/s eta 0:00:01\r\u001b[K     |███████████████▉                | 512 kB 7.1 MB/s eta 0:00:01\r\u001b[K     |████████████████▏               | 522 kB 7.1 MB/s eta 0:00:01\r\u001b[K     |████████████████▌               | 532 kB 7.1 MB/s eta 0:00:01\r\u001b[K     |████████████████▉               | 542 kB 7.1 MB/s eta 0:00:01\r\u001b[K     |█████████████████▏              | 552 kB 7.1 MB/s eta 0:00:01\r\u001b[K     |█████████████████▌              | 563 kB 7.1 MB/s eta 0:00:01\r\u001b[K     |█████████████████▉              | 573 kB 7.1 MB/s eta 0:00:01\r\u001b[K     |██████████████████              | 583 kB 7.1 MB/s eta 0:00:01\r\u001b[K     |██████████████████▍             | 593 kB 7.1 MB/s eta 0:00:01\r\u001b[K     |██████████████████▊             | 604 kB 7.1 MB/s eta 0:00:01\r\u001b[K     |███████████████████             | 614 kB 7.1 MB/s eta 0:00:01\r\u001b[K     |███████████████████▍            | 624 kB 7.1 MB/s eta 0:00:01\r\u001b[K     |███████████████████▊            | 634 kB 7.1 MB/s eta 0:00:01\r\u001b[K     |████████████████████            | 645 kB 7.1 MB/s eta 0:00:01\r\u001b[K     |████████████████████▎           | 655 kB 7.1 MB/s eta 0:00:01\r\u001b[K     |████████████████████▋           | 665 kB 7.1 MB/s eta 0:00:01\r\u001b[K     |█████████████████████           | 675 kB 7.1 MB/s eta 0:00:01\r\u001b[K     |█████████████████████▎          | 686 kB 7.1 MB/s eta 0:00:01\r\u001b[K     |█████████████████████▋          | 696 kB 7.1 MB/s eta 0:00:01\r\u001b[K     |██████████████████████          | 706 kB 7.1 MB/s eta 0:00:01\r\u001b[K     |██████████████████████▎         | 716 kB 7.1 MB/s eta 0:00:01\r\u001b[K     |██████████████████████▋         | 727 kB 7.1 MB/s eta 0:00:01\r\u001b[K     |██████████████████████▉         | 737 kB 7.1 MB/s eta 0:00:01\r\u001b[K     |███████████████████████▏        | 747 kB 7.1 MB/s eta 0:00:01\r\u001b[K     |███████████████████████▌        | 757 kB 7.1 MB/s eta 0:00:01\r\u001b[K     |███████████████████████▉        | 768 kB 7.1 MB/s eta 0:00:01\r\u001b[K     |████████████████████████▏       | 778 kB 7.1 MB/s eta 0:00:01\r\u001b[K     |████████████████████████▌       | 788 kB 7.1 MB/s eta 0:00:01\r\u001b[K     |████████████████████████▉       | 798 kB 7.1 MB/s eta 0:00:01\r\u001b[K     |█████████████████████████       | 808 kB 7.1 MB/s eta 0:00:01\r\u001b[K     |█████████████████████████▍      | 819 kB 7.1 MB/s eta 0:00:01\r\u001b[K     |█████████████████████████▊      | 829 kB 7.1 MB/s eta 0:00:01\r\u001b[K     |██████████████████████████      | 839 kB 7.1 MB/s eta 0:00:01\r\u001b[K     |██████████████████████████▍     | 849 kB 7.1 MB/s eta 0:00:01\r\u001b[K     |██████████████████████████▊     | 860 kB 7.1 MB/s eta 0:00:01\r\u001b[K     |███████████████████████████     | 870 kB 7.1 MB/s eta 0:00:01\r\u001b[K     |███████████████████████████▎    | 880 kB 7.1 MB/s eta 0:00:01\r\u001b[K     |███████████████████████████▋    | 890 kB 7.1 MB/s eta 0:00:01\r\u001b[K     |████████████████████████████    | 901 kB 7.1 MB/s eta 0:00:01\r\u001b[K     |████████████████████████████▎   | 911 kB 7.1 MB/s eta 0:00:01\r\u001b[K     |████████████████████████████▋   | 921 kB 7.1 MB/s eta 0:00:01\r\u001b[K     |█████████████████████████████   | 931 kB 7.1 MB/s eta 0:00:01\r\u001b[K     |█████████████████████████████▎  | 942 kB 7.1 MB/s eta 0:00:01\r\u001b[K     |█████████████████████████████▌  | 952 kB 7.1 MB/s eta 0:00:01\r\u001b[K     |█████████████████████████████▉  | 962 kB 7.1 MB/s eta 0:00:01\r\u001b[K     |██████████████████████████████▏ | 972 kB 7.1 MB/s eta 0:00:01\r\u001b[K     |██████████████████████████████▌ | 983 kB 7.1 MB/s eta 0:00:01\r\u001b[K     |██████████████████████████████▉ | 993 kB 7.1 MB/s eta 0:00:01\r\u001b[K     |███████████████████████████████▏| 1.0 MB 7.1 MB/s eta 0:00:01\r\u001b[K     |███████████████████████████████▌| 1.0 MB 7.1 MB/s eta 0:00:01\r\u001b[K     |███████████████████████████████▊| 1.0 MB 7.1 MB/s eta 0:00:01\r\u001b[K     |████████████████████████████████| 1.0 MB 7.1 MB/s \n",
            "\u001b[?25hRequirement already satisfied: shapely>=1.6 in /usr/local/lib/python3.7/dist-packages (from geopandas) (1.8.1.post1)\n",
            "Requirement already satisfied: pandas>=0.25.0 in /usr/local/lib/python3.7/dist-packages (from geopandas) (1.3.5)\n",
            "Collecting pyproj>=2.2.0\n",
            "  Downloading pyproj-3.2.1-cp37-cp37m-manylinux2010_x86_64.whl (6.3 MB)\n",
            "\u001b[K     |████████████████████████████████| 6.3 MB 45.1 MB/s \n",
            "\u001b[?25hCollecting fiona>=1.8\n",
            "  Downloading Fiona-1.8.21-cp37-cp37m-manylinux2014_x86_64.whl (16.7 MB)\n",
            "\u001b[K     |████████████████████████████████| 16.7 MB 145 kB/s \n",
            "\u001b[?25hRequirement already satisfied: six>=1.7 in /usr/local/lib/python3.7/dist-packages (from fiona>=1.8->geopandas) (1.15.0)\n",
            "Requirement already satisfied: attrs>=17 in /usr/local/lib/python3.7/dist-packages (from fiona>=1.8->geopandas) (21.4.0)\n",
            "Collecting munch\n",
            "  Downloading munch-2.5.0-py2.py3-none-any.whl (10 kB)\n",
            "Collecting cligj>=0.5\n",
            "  Downloading cligj-0.7.2-py3-none-any.whl (7.1 kB)\n",
            "Requirement already satisfied: certifi in /usr/local/lib/python3.7/dist-packages (from fiona>=1.8->geopandas) (2021.10.8)\n",
            "Collecting click-plugins>=1.0\n",
            "  Downloading click_plugins-1.1.1-py2.py3-none-any.whl (7.5 kB)\n",
            "Requirement already satisfied: setuptools in /usr/local/lib/python3.7/dist-packages (from fiona>=1.8->geopandas) (57.4.0)\n",
            "Requirement already satisfied: click>=4.0 in /usr/local/lib/python3.7/dist-packages (from fiona>=1.8->geopandas) (8.1.2)\n",
            "Requirement already satisfied: importlib-metadata in /usr/local/lib/python3.7/dist-packages (from click>=4.0->fiona>=1.8->geopandas) (1.7.0)\n",
            "Requirement already satisfied: python-dateutil>=2.7.3 in /usr/local/lib/python3.7/dist-packages (from pandas>=0.25.0->geopandas) (2.8.2)\n",
            "Requirement already satisfied: pytz>=2017.3 in /usr/local/lib/python3.7/dist-packages (from pandas>=0.25.0->geopandas) (2018.9)\n",
            "Requirement already satisfied: numpy>=1.17.3 in /usr/local/lib/python3.7/dist-packages (from pandas>=0.25.0->geopandas) (1.21.5)\n",
            "Requirement already satisfied: zipp>=0.5 in /usr/local/lib/python3.7/dist-packages (from importlib-metadata->click>=4.0->fiona>=1.8->geopandas) (3.7.0)\n",
            "Installing collected packages: munch, cligj, click-plugins, pyproj, fiona, geopandas\n",
            "Successfully installed click-plugins-1.1.1 cligj-0.7.2 fiona-1.8.21 geopandas-0.10.2 munch-2.5.0 pyproj-3.2.1\n",
            "Collecting pyshp\n",
            "  Downloading pyshp-2.2.0-py3-none-any.whl (44 kB)\n",
            "\u001b[K     |████████████████████████████████| 44 kB 2.3 MB/s \n",
            "\u001b[?25hInstalling collected packages: pyshp\n",
            "Successfully installed pyshp-2.2.0\n",
            "Requirement already satisfied: shapely in /usr/local/lib/python3.7/dist-packages (1.8.1.post1)\n",
            "Requirement already satisfied: descartes in /usr/local/lib/python3.7/dist-packages (1.1.0)\n",
            "Requirement already satisfied: matplotlib in /usr/local/lib/python3.7/dist-packages (from descartes) (3.2.2)\n",
            "Requirement already satisfied: python-dateutil>=2.1 in /usr/local/lib/python3.7/dist-packages (from matplotlib->descartes) (2.8.2)\n",
            "Requirement already satisfied: kiwisolver>=1.0.1 in /usr/local/lib/python3.7/dist-packages (from matplotlib->descartes) (1.4.0)\n",
            "Requirement already satisfied: cycler>=0.10 in /usr/local/lib/python3.7/dist-packages (from matplotlib->descartes) (0.11.0)\n",
            "Requirement already satisfied: numpy>=1.11 in /usr/local/lib/python3.7/dist-packages (from matplotlib->descartes) (1.21.5)\n",
            "Requirement already satisfied: pyparsing!=2.0.4,!=2.1.2,!=2.1.6,>=2.0.1 in /usr/local/lib/python3.7/dist-packages (from matplotlib->descartes) (3.0.7)\n",
            "Requirement already satisfied: typing-extensions in /usr/local/lib/python3.7/dist-packages (from kiwisolver>=1.0.1->matplotlib->descartes) (3.10.0.2)\n",
            "Requirement already satisfied: six>=1.5 in /usr/local/lib/python3.7/dist-packages (from python-dateutil>=2.1->matplotlib->descartes) (1.15.0)\n"
          ]
        }
      ],
      "source": [
        "!pip install --upgrade geopandas\n",
        "\n",
        "!pip install --upgrade pyshp\n",
        "\n",
        "!pip install --upgrade shapely\n",
        "\n",
        "!pip install --upgrade descartes"
      ]
    },
    {
      "cell_type": "code",
      "execution_count": 4,
      "metadata": {
        "id": "GI8nv16G8vD1"
      },
      "outputs": [],
      "source": [
        "#importing packages and classes from API package\n",
        "\n",
        "import pandas as pd\n",
        "from wetterdienst.provider.dwd.observation import DwdObservationRequest\n",
        "from wetterdienst import Settings\n",
        "from google.colab import drive\n",
        "import geopandas as gpd"
      ]
    },
    {
      "cell_type": "code",
      "execution_count": 5,
      "metadata": {
        "id": "BJWQPCN8Kk43"
      },
      "outputs": [],
      "source": [
        "#Changing settings of wetterdienst\n",
        "\n",
        "Settings.tidy = True #default, tidy data\n",
        "Settings.humanize = True #default, humanized parameters\n",
        "Settings.si_units = False #DON'T convert values to SI units. For original units, see: https://opendata.dwd.de/climate_environment/CDC/observations_germany/climate/10_minutes/air_temperature/historical/DESCRIPTION_obsgermany_climate_10min_tu_historical_en.pdf"
      ]
    },
    {
      "cell_type": "code",
      "execution_count": 6,
      "metadata": {
        "id": "780I6oVQ0C3y"
      },
      "outputs": [],
      "source": [
        "#packages for the projection\n",
        "from functools import partial\n",
        "from pyproj import Proj, transform\n",
        "from shapely.ops import transform\n",
        "from shapely.geometry import Point\n",
        "import numpy as np"
      ]
    },
    {
      "cell_type": "markdown",
      "metadata": {
        "id": "7eQtn7pMja0E"
      },
      "source": [
        "# Weather databases download\n",
        "\n",
        "Downloading all datapoints for 3 weather databases: temperature, precipitation and visibility. All data outputs saved at data/raw.\n"
      ]
    },
    {
      "cell_type": "markdown",
      "source": [
        "## Temperature"
      ],
      "metadata": {
        "id": "0Y_l3urUPABm"
      }
    },
    {
      "cell_type": "code",
      "execution_count": null,
      "metadata": {
        "colab": {
          "base_uri": "https://localhost:8080/"
        },
        "id": "mUCiyPI992an",
        "outputId": "9c233a13-b448-4dfa-cb32-87994ec39fa0"
      },
      "outputs": [
        {
          "name": "stderr",
          "output_type": "stream",
          "text": [
            "Dircache located at /root/.cache/wetterdienst\n"
          ]
        }
      ],
      "source": [
        "#air temperature database, 1 hour granularity, all stations\n",
        "#for list of stations, see: https://opendata.dwd.de/climate_environment/CDC/observations_germany/climate/10_minutes/air_temperature/historical/zehn_min_tu_Beschreibung_Stationen.txt \n",
        "\n",
        "temperature = DwdObservationRequest(\n",
        "    parameter=[\"air_temperature\"],\n",
        "    resolution=\"hourly\",\n",
        "    start_date=\"2018-01-01\",\n",
        "    end_date=\"2021-01-01\"\n",
        ").filter_by_station_id(station_id=[\"0400\", \"0410\",\"0420\", \"0430\", \"0433\"]) #Berlin-Buch, Berlin-Kaniswall, Marzahn, Tegel, Tempelhof (Alexanderplatz doesn't have data past 2015. Link: )"
      ]
    },
    {
      "cell_type": "code",
      "execution_count": null,
      "metadata": {
        "colab": {
          "base_uri": "https://localhost:8080/",
          "height": 206
        },
        "id": "-twD7_03At7K",
        "outputId": "c7569af8-da4b-4769-d956-43d26bb7f3c2"
      },
      "outputs": [
        {
          "data": {
            "text/html": [
              "\n",
              "  <div id=\"df-699ef9a1-bbf0-4e4d-bd7b-55deb25c25af\">\n",
              "    <div class=\"colab-df-container\">\n",
              "      <div>\n",
              "<style scoped>\n",
              "    .dataframe tbody tr th:only-of-type {\n",
              "        vertical-align: middle;\n",
              "    }\n",
              "\n",
              "    .dataframe tbody tr th {\n",
              "        vertical-align: top;\n",
              "    }\n",
              "\n",
              "    .dataframe thead th {\n",
              "        text-align: right;\n",
              "    }\n",
              "</style>\n",
              "<table border=\"1\" class=\"dataframe\">\n",
              "  <thead>\n",
              "    <tr style=\"text-align: right;\">\n",
              "      <th></th>\n",
              "      <th>station_id</th>\n",
              "      <th>from_date</th>\n",
              "      <th>to_date</th>\n",
              "      <th>height</th>\n",
              "      <th>latitude</th>\n",
              "      <th>longitude</th>\n",
              "      <th>name</th>\n",
              "      <th>state</th>\n",
              "    </tr>\n",
              "  </thead>\n",
              "  <tbody>\n",
              "    <tr>\n",
              "      <th>45</th>\n",
              "      <td>00400</td>\n",
              "      <td>1991-01-01 00:00:00+00:00</td>\n",
              "      <td>2022-04-08 00:00:00+00:00</td>\n",
              "      <td>60.0</td>\n",
              "      <td>52.6310</td>\n",
              "      <td>13.5021</td>\n",
              "      <td>Berlin-Buch</td>\n",
              "      <td>Berlin</td>\n",
              "    </tr>\n",
              "    <tr>\n",
              "      <th>47</th>\n",
              "      <td>00410</td>\n",
              "      <td>2004-05-01 00:00:00+00:00</td>\n",
              "      <td>2020-06-15 00:00:00+00:00</td>\n",
              "      <td>33.0</td>\n",
              "      <td>52.4040</td>\n",
              "      <td>13.7309</td>\n",
              "      <td>Berlin-Kaniswall</td>\n",
              "      <td>Berlin</td>\n",
              "    </tr>\n",
              "    <tr>\n",
              "      <th>48</th>\n",
              "      <td>00420</td>\n",
              "      <td>2007-08-01 00:00:00+00:00</td>\n",
              "      <td>2022-04-08 00:00:00+00:00</td>\n",
              "      <td>61.0</td>\n",
              "      <td>52.5447</td>\n",
              "      <td>13.5598</td>\n",
              "      <td>Berlin-Marzahn</td>\n",
              "      <td>Berlin</td>\n",
              "    </tr>\n",
              "    <tr>\n",
              "      <th>51</th>\n",
              "      <td>00430</td>\n",
              "      <td>1986-01-01 00:00:00+00:00</td>\n",
              "      <td>2021-05-05 00:00:00+00:00</td>\n",
              "      <td>36.0</td>\n",
              "      <td>52.5644</td>\n",
              "      <td>13.3088</td>\n",
              "      <td>Berlin-Tegel</td>\n",
              "      <td>Berlin</td>\n",
              "    </tr>\n",
              "    <tr>\n",
              "      <th>52</th>\n",
              "      <td>00433</td>\n",
              "      <td>1951-01-01 00:00:00+00:00</td>\n",
              "      <td>2022-04-08 00:00:00+00:00</td>\n",
              "      <td>48.0</td>\n",
              "      <td>52.4675</td>\n",
              "      <td>13.4021</td>\n",
              "      <td>Berlin-Tempelhof</td>\n",
              "      <td>Berlin</td>\n",
              "    </tr>\n",
              "  </tbody>\n",
              "</table>\n",
              "</div>\n",
              "      <button class=\"colab-df-convert\" onclick=\"convertToInteractive('df-699ef9a1-bbf0-4e4d-bd7b-55deb25c25af')\"\n",
              "              title=\"Convert this dataframe to an interactive table.\"\n",
              "              style=\"display:none;\">\n",
              "        \n",
              "  <svg xmlns=\"http://www.w3.org/2000/svg\" height=\"24px\"viewBox=\"0 0 24 24\"\n",
              "       width=\"24px\">\n",
              "    <path d=\"M0 0h24v24H0V0z\" fill=\"none\"/>\n",
              "    <path d=\"M18.56 5.44l.94 2.06.94-2.06 2.06-.94-2.06-.94-.94-2.06-.94 2.06-2.06.94zm-11 1L8.5 8.5l.94-2.06 2.06-.94-2.06-.94L8.5 2.5l-.94 2.06-2.06.94zm10 10l.94 2.06.94-2.06 2.06-.94-2.06-.94-.94-2.06-.94 2.06-2.06.94z\"/><path d=\"M17.41 7.96l-1.37-1.37c-.4-.4-.92-.59-1.43-.59-.52 0-1.04.2-1.43.59L10.3 9.45l-7.72 7.72c-.78.78-.78 2.05 0 2.83L4 21.41c.39.39.9.59 1.41.59.51 0 1.02-.2 1.41-.59l7.78-7.78 2.81-2.81c.8-.78.8-2.07 0-2.86zM5.41 20L4 18.59l7.72-7.72 1.47 1.35L5.41 20z\"/>\n",
              "  </svg>\n",
              "      </button>\n",
              "      \n",
              "  <style>\n",
              "    .colab-df-container {\n",
              "      display:flex;\n",
              "      flex-wrap:wrap;\n",
              "      gap: 12px;\n",
              "    }\n",
              "\n",
              "    .colab-df-convert {\n",
              "      background-color: #E8F0FE;\n",
              "      border: none;\n",
              "      border-radius: 50%;\n",
              "      cursor: pointer;\n",
              "      display: none;\n",
              "      fill: #1967D2;\n",
              "      height: 32px;\n",
              "      padding: 0 0 0 0;\n",
              "      width: 32px;\n",
              "    }\n",
              "\n",
              "    .colab-df-convert:hover {\n",
              "      background-color: #E2EBFA;\n",
              "      box-shadow: 0px 1px 2px rgba(60, 64, 67, 0.3), 0px 1px 3px 1px rgba(60, 64, 67, 0.15);\n",
              "      fill: #174EA6;\n",
              "    }\n",
              "\n",
              "    [theme=dark] .colab-df-convert {\n",
              "      background-color: #3B4455;\n",
              "      fill: #D2E3FC;\n",
              "    }\n",
              "\n",
              "    [theme=dark] .colab-df-convert:hover {\n",
              "      background-color: #434B5C;\n",
              "      box-shadow: 0px 1px 3px 1px rgba(0, 0, 0, 0.15);\n",
              "      filter: drop-shadow(0px 1px 2px rgba(0, 0, 0, 0.3));\n",
              "      fill: #FFFFFF;\n",
              "    }\n",
              "  </style>\n",
              "\n",
              "      <script>\n",
              "        const buttonEl =\n",
              "          document.querySelector('#df-699ef9a1-bbf0-4e4d-bd7b-55deb25c25af button.colab-df-convert');\n",
              "        buttonEl.style.display =\n",
              "          google.colab.kernel.accessAllowed ? 'block' : 'none';\n",
              "\n",
              "        async function convertToInteractive(key) {\n",
              "          const element = document.querySelector('#df-699ef9a1-bbf0-4e4d-bd7b-55deb25c25af');\n",
              "          const dataTable =\n",
              "            await google.colab.kernel.invokeFunction('convertToInteractive',\n",
              "                                                     [key], {});\n",
              "          if (!dataTable) return;\n",
              "\n",
              "          const docLinkHtml = 'Like what you see? Visit the ' +\n",
              "            '<a target=\"_blank\" href=https://colab.research.google.com/notebooks/data_table.ipynb>data table notebook</a>'\n",
              "            + ' to learn more about interactive tables.';\n",
              "          element.innerHTML = '';\n",
              "          dataTable['output_type'] = 'display_data';\n",
              "          await google.colab.output.renderOutput(dataTable, element);\n",
              "          const docLink = document.createElement('div');\n",
              "          docLink.innerHTML = docLinkHtml;\n",
              "          element.appendChild(docLink);\n",
              "        }\n",
              "      </script>\n",
              "    </div>\n",
              "  </div>\n",
              "  "
            ],
            "text/plain": [
              "   station_id                 from_date                   to_date  height  \\\n",
              "45      00400 1991-01-01 00:00:00+00:00 2022-04-08 00:00:00+00:00    60.0   \n",
              "47      00410 2004-05-01 00:00:00+00:00 2020-06-15 00:00:00+00:00    33.0   \n",
              "48      00420 2007-08-01 00:00:00+00:00 2022-04-08 00:00:00+00:00    61.0   \n",
              "51      00430 1986-01-01 00:00:00+00:00 2021-05-05 00:00:00+00:00    36.0   \n",
              "52      00433 1951-01-01 00:00:00+00:00 2022-04-08 00:00:00+00:00    48.0   \n",
              "\n",
              "    latitude  longitude              name   state  \n",
              "45   52.6310    13.5021       Berlin-Buch  Berlin  \n",
              "47   52.4040    13.7309  Berlin-Kaniswall  Berlin  \n",
              "48   52.5447    13.5598    Berlin-Marzahn  Berlin  \n",
              "51   52.5644    13.3088      Berlin-Tegel  Berlin  \n",
              "52   52.4675    13.4021  Berlin-Tempelhof  Berlin  "
            ]
          },
          "execution_count": 14,
          "metadata": {},
          "output_type": "execute_result"
        }
      ],
      "source": [
        "temperature.df.head(10) #list of stations"
      ]
    },
    {
      "cell_type": "code",
      "execution_count": null,
      "metadata": {
        "colab": {
          "base_uri": "https://localhost:8080/",
          "height": 329
        },
        "id": "LS5R1EG2A0x7",
        "outputId": "4ac4afc7-691c-4a7d-f470-4138fadbb1ae"
      },
      "outputs": [
        {
          "ename": "KeyboardInterrupt",
          "evalue": "ignored",
          "output_type": "error",
          "traceback": [
            "\u001b[0;31m---------------------------------------------------------------------------\u001b[0m",
            "\u001b[0;31mKeyboardInterrupt\u001b[0m                         Traceback (most recent call last)",
            "\u001b[0;32m<ipython-input-11-8a3b052dc8c6>\u001b[0m in \u001b[0;36m<module>\u001b[0;34m()\u001b[0m\n\u001b[1;32m      1\u001b[0m \u001b[0;31m#getting all values\u001b[0m\u001b[0;34m\u001b[0m\u001b[0;34m\u001b[0m\u001b[0;34m\u001b[0m\u001b[0m\n\u001b[0;32m----> 2\u001b[0;31m \u001b[0mtemperature_df\u001b[0m \u001b[0;34m=\u001b[0m \u001b[0mtemperature\u001b[0m\u001b[0;34m.\u001b[0m\u001b[0mvalues\u001b[0m\u001b[0;34m.\u001b[0m\u001b[0mall\u001b[0m\u001b[0;34m(\u001b[0m\u001b[0;34m)\u001b[0m\u001b[0;34m.\u001b[0m\u001b[0mdf\u001b[0m \u001b[0;31m#all values for all stations\u001b[0m\u001b[0;34m\u001b[0m\u001b[0;34m\u001b[0m\u001b[0m\n\u001b[0m",
            "\u001b[0;32m/usr/local/lib/python3.7/dist-packages/wetterdienst/core/scalar/values.py\u001b[0m in \u001b[0;36mall\u001b[0;34m(self)\u001b[0m\n\u001b[1;32m    779\u001b[0m         \u001b[0mtqdm_out\u001b[0m \u001b[0;34m=\u001b[0m \u001b[0mTqdmToLogger\u001b[0m\u001b[0;34m(\u001b[0m\u001b[0mlog\u001b[0m\u001b[0;34m,\u001b[0m \u001b[0mlevel\u001b[0m\u001b[0;34m=\u001b[0m\u001b[0mlogging\u001b[0m\u001b[0;34m.\u001b[0m\u001b[0mINFO\u001b[0m\u001b[0;34m)\u001b[0m\u001b[0;34m\u001b[0m\u001b[0;34m\u001b[0m\u001b[0m\n\u001b[1;32m    780\u001b[0m \u001b[0;34m\u001b[0m\u001b[0m\n\u001b[0;32m--> 781\u001b[0;31m         \u001b[0;32mfor\u001b[0m \u001b[0mresult\u001b[0m \u001b[0;32min\u001b[0m \u001b[0mtqdm\u001b[0m\u001b[0;34m(\u001b[0m\u001b[0mself\u001b[0m\u001b[0;34m.\u001b[0m\u001b[0mquery\u001b[0m\u001b[0;34m(\u001b[0m\u001b[0;34m)\u001b[0m\u001b[0;34m,\u001b[0m \u001b[0mtotal\u001b[0m\u001b[0;34m=\u001b[0m\u001b[0mlen\u001b[0m\u001b[0;34m(\u001b[0m\u001b[0mself\u001b[0m\u001b[0;34m.\u001b[0m\u001b[0mstations\u001b[0m\u001b[0;34m.\u001b[0m\u001b[0mstation_id\u001b[0m\u001b[0;34m)\u001b[0m\u001b[0;34m,\u001b[0m \u001b[0mfile\u001b[0m\u001b[0;34m=\u001b[0m\u001b[0mtqdm_out\u001b[0m\u001b[0;34m)\u001b[0m\u001b[0;34m:\u001b[0m\u001b[0;34m\u001b[0m\u001b[0;34m\u001b[0m\u001b[0m\n\u001b[0m\u001b[1;32m    782\u001b[0m             \u001b[0mdata\u001b[0m\u001b[0;34m.\u001b[0m\u001b[0mappend\u001b[0m\u001b[0;34m(\u001b[0m\u001b[0mresult\u001b[0m\u001b[0;34m.\u001b[0m\u001b[0mdf\u001b[0m\u001b[0;34m)\u001b[0m\u001b[0;34m\u001b[0m\u001b[0;34m\u001b[0m\u001b[0m\n\u001b[1;32m    783\u001b[0m \u001b[0;34m\u001b[0m\u001b[0m\n",
            "\u001b[0;32m/usr/local/lib/python3.7/dist-packages/tqdm/std.py\u001b[0m in \u001b[0;36m__iter__\u001b[0;34m(self)\u001b[0m\n\u001b[1;32m   1193\u001b[0m \u001b[0;34m\u001b[0m\u001b[0m\n\u001b[1;32m   1194\u001b[0m         \u001b[0;32mtry\u001b[0m\u001b[0;34m:\u001b[0m\u001b[0;34m\u001b[0m\u001b[0;34m\u001b[0m\u001b[0m\n\u001b[0;32m-> 1195\u001b[0;31m             \u001b[0;32mfor\u001b[0m \u001b[0mobj\u001b[0m \u001b[0;32min\u001b[0m \u001b[0miterable\u001b[0m\u001b[0;34m:\u001b[0m\u001b[0;34m\u001b[0m\u001b[0;34m\u001b[0m\u001b[0m\n\u001b[0m\u001b[1;32m   1196\u001b[0m                 \u001b[0;32myield\u001b[0m \u001b[0mobj\u001b[0m\u001b[0;34m\u001b[0m\u001b[0;34m\u001b[0m\u001b[0m\n\u001b[1;32m   1197\u001b[0m                 \u001b[0;31m# Update and possibly print the progressbar.\u001b[0m\u001b[0;34m\u001b[0m\u001b[0;34m\u001b[0m\u001b[0;34m\u001b[0m\u001b[0m\n",
            "\u001b[0;32m/usr/local/lib/python3.7/dist-packages/wetterdienst/core/scalar/values.py\u001b[0m in \u001b[0;36mquery\u001b[0;34m(self)\u001b[0m\n\u001b[1;32m    464\u001b[0m                     \u001b[0;32mcontinue\u001b[0m\u001b[0;34m\u001b[0m\u001b[0;34m\u001b[0m\u001b[0m\n\u001b[1;32m    465\u001b[0m \u001b[0;34m\u001b[0m\u001b[0m\n\u001b[0;32m--> 466\u001b[0;31m                 \u001b[0mparameter_df\u001b[0m \u001b[0;34m=\u001b[0m \u001b[0mself\u001b[0m\u001b[0;34m.\u001b[0m\u001b[0m_collect_station_parameter\u001b[0m\u001b[0;34m(\u001b[0m\u001b[0mstation_id\u001b[0m\u001b[0;34m,\u001b[0m \u001b[0mparameter\u001b[0m\u001b[0;34m,\u001b[0m \u001b[0mdataset\u001b[0m\u001b[0;34m)\u001b[0m\u001b[0;34m\u001b[0m\u001b[0;34m\u001b[0m\u001b[0m\n\u001b[0m\u001b[1;32m    467\u001b[0m \u001b[0;34m\u001b[0m\u001b[0m\n\u001b[1;32m    468\u001b[0m                 \u001b[0;32mif\u001b[0m \u001b[0mparameter_df\u001b[0m\u001b[0;34m.\u001b[0m\u001b[0mempty\u001b[0m\u001b[0;34m:\u001b[0m\u001b[0;34m\u001b[0m\u001b[0;34m\u001b[0m\u001b[0m\n",
            "\u001b[0;32m/usr/local/lib/python3.7/dist-packages/wetterdienst/provider/dwd/observation/api.py\u001b[0m in \u001b[0;36m_collect_station_parameter\u001b[0;34m(self, station_id, parameter, dataset)\u001b[0m\n\u001b[1;32m    174\u001b[0m                 \u001b[0;32mcontinue\u001b[0m\u001b[0;34m\u001b[0m\u001b[0;34m\u001b[0m\u001b[0m\n\u001b[1;32m    175\u001b[0m \u001b[0;34m\u001b[0m\u001b[0m\n\u001b[0;32m--> 176\u001b[0;31m             \u001b[0mfilenames_and_files\u001b[0m \u001b[0;34m=\u001b[0m \u001b[0mdownload_climate_observations_data_parallel\u001b[0m\u001b[0;34m(\u001b[0m\u001b[0mremote_files\u001b[0m\u001b[0;34m)\u001b[0m\u001b[0;34m\u001b[0m\u001b[0;34m\u001b[0m\u001b[0m\n\u001b[0m\u001b[1;32m    177\u001b[0m \u001b[0;34m\u001b[0m\u001b[0m\n\u001b[1;32m    178\u001b[0m             \u001b[0mperiod_df\u001b[0m \u001b[0;34m=\u001b[0m \u001b[0mparse_climate_observations_data\u001b[0m\u001b[0;34m(\u001b[0m\u001b[0mfilenames_and_files\u001b[0m\u001b[0;34m,\u001b[0m \u001b[0mdataset\u001b[0m\u001b[0;34m,\u001b[0m \u001b[0mself\u001b[0m\u001b[0;34m.\u001b[0m\u001b[0mstations\u001b[0m\u001b[0;34m.\u001b[0m\u001b[0mresolution\u001b[0m\u001b[0;34m,\u001b[0m \u001b[0mperiod\u001b[0m\u001b[0;34m)\u001b[0m\u001b[0;34m\u001b[0m\u001b[0;34m\u001b[0m\u001b[0m\n",
            "\u001b[0;32m/usr/local/lib/python3.7/dist-packages/wetterdienst/provider/dwd/observation/download.py\u001b[0m in \u001b[0;36mdownload_climate_observations_data_parallel\u001b[0;34m(remote_files)\u001b[0m\n\u001b[1;32m     25\u001b[0m     \"\"\"\n\u001b[1;32m     26\u001b[0m     \u001b[0;32mwith\u001b[0m \u001b[0mThreadPoolExecutor\u001b[0m\u001b[0;34m(\u001b[0m\u001b[0;34m)\u001b[0m \u001b[0;32mas\u001b[0m \u001b[0mp\u001b[0m\u001b[0;34m:\u001b[0m\u001b[0;34m\u001b[0m\u001b[0;34m\u001b[0m\u001b[0m\n\u001b[0;32m---> 27\u001b[0;31m         \u001b[0mfiles_in_bytes\u001b[0m \u001b[0;34m=\u001b[0m \u001b[0mp\u001b[0m\u001b[0;34m.\u001b[0m\u001b[0mmap\u001b[0m\u001b[0;34m(\u001b[0m\u001b[0m_download_climate_observations_data\u001b[0m\u001b[0;34m,\u001b[0m \u001b[0mremote_files\u001b[0m\u001b[0;34m)\u001b[0m\u001b[0;34m\u001b[0m\u001b[0;34m\u001b[0m\u001b[0m\n\u001b[0m\u001b[1;32m     28\u001b[0m \u001b[0;34m\u001b[0m\u001b[0m\n\u001b[1;32m     29\u001b[0m     \u001b[0;32mreturn\u001b[0m \u001b[0mlist\u001b[0m\u001b[0;34m(\u001b[0m\u001b[0mzip\u001b[0m\u001b[0;34m(\u001b[0m\u001b[0mremote_files\u001b[0m\u001b[0;34m,\u001b[0m \u001b[0mfiles_in_bytes\u001b[0m\u001b[0;34m)\u001b[0m\u001b[0;34m)\u001b[0m\u001b[0;34m\u001b[0m\u001b[0;34m\u001b[0m\u001b[0m\n",
            "\u001b[0;32m/usr/lib/python3.7/concurrent/futures/_base.py\u001b[0m in \u001b[0;36m__exit__\u001b[0;34m(self, exc_type, exc_val, exc_tb)\u001b[0m\n\u001b[1;32m    621\u001b[0m \u001b[0;34m\u001b[0m\u001b[0m\n\u001b[1;32m    622\u001b[0m     \u001b[0;32mdef\u001b[0m \u001b[0m__exit__\u001b[0m\u001b[0;34m(\u001b[0m\u001b[0mself\u001b[0m\u001b[0;34m,\u001b[0m \u001b[0mexc_type\u001b[0m\u001b[0;34m,\u001b[0m \u001b[0mexc_val\u001b[0m\u001b[0;34m,\u001b[0m \u001b[0mexc_tb\u001b[0m\u001b[0;34m)\u001b[0m\u001b[0;34m:\u001b[0m\u001b[0;34m\u001b[0m\u001b[0;34m\u001b[0m\u001b[0m\n\u001b[0;32m--> 623\u001b[0;31m         \u001b[0mself\u001b[0m\u001b[0;34m.\u001b[0m\u001b[0mshutdown\u001b[0m\u001b[0;34m(\u001b[0m\u001b[0mwait\u001b[0m\u001b[0;34m=\u001b[0m\u001b[0;32mTrue\u001b[0m\u001b[0;34m)\u001b[0m\u001b[0;34m\u001b[0m\u001b[0;34m\u001b[0m\u001b[0m\n\u001b[0m\u001b[1;32m    624\u001b[0m         \u001b[0;32mreturn\u001b[0m \u001b[0;32mFalse\u001b[0m\u001b[0;34m\u001b[0m\u001b[0;34m\u001b[0m\u001b[0m\n\u001b[1;32m    625\u001b[0m \u001b[0;34m\u001b[0m\u001b[0m\n",
            "\u001b[0;32m/usr/lib/python3.7/concurrent/futures/thread.py\u001b[0m in \u001b[0;36mshutdown\u001b[0;34m(self, wait)\u001b[0m\n\u001b[1;32m    214\u001b[0m         \u001b[0;32mif\u001b[0m \u001b[0mwait\u001b[0m\u001b[0;34m:\u001b[0m\u001b[0;34m\u001b[0m\u001b[0;34m\u001b[0m\u001b[0m\n\u001b[1;32m    215\u001b[0m             \u001b[0;32mfor\u001b[0m \u001b[0mt\u001b[0m \u001b[0;32min\u001b[0m \u001b[0mself\u001b[0m\u001b[0;34m.\u001b[0m\u001b[0m_threads\u001b[0m\u001b[0;34m:\u001b[0m\u001b[0;34m\u001b[0m\u001b[0;34m\u001b[0m\u001b[0m\n\u001b[0;32m--> 216\u001b[0;31m                 \u001b[0mt\u001b[0m\u001b[0;34m.\u001b[0m\u001b[0mjoin\u001b[0m\u001b[0;34m(\u001b[0m\u001b[0;34m)\u001b[0m\u001b[0;34m\u001b[0m\u001b[0;34m\u001b[0m\u001b[0m\n\u001b[0m\u001b[1;32m    217\u001b[0m     \u001b[0mshutdown\u001b[0m\u001b[0;34m.\u001b[0m\u001b[0m__doc__\u001b[0m \u001b[0;34m=\u001b[0m \u001b[0m_base\u001b[0m\u001b[0;34m.\u001b[0m\u001b[0mExecutor\u001b[0m\u001b[0;34m.\u001b[0m\u001b[0mshutdown\u001b[0m\u001b[0;34m.\u001b[0m\u001b[0m__doc__\u001b[0m\u001b[0;34m\u001b[0m\u001b[0;34m\u001b[0m\u001b[0m\n",
            "\u001b[0;32m/usr/lib/python3.7/threading.py\u001b[0m in \u001b[0;36mjoin\u001b[0;34m(self, timeout)\u001b[0m\n\u001b[1;32m   1042\u001b[0m \u001b[0;34m\u001b[0m\u001b[0m\n\u001b[1;32m   1043\u001b[0m         \u001b[0;32mif\u001b[0m \u001b[0mtimeout\u001b[0m \u001b[0;32mis\u001b[0m \u001b[0;32mNone\u001b[0m\u001b[0;34m:\u001b[0m\u001b[0;34m\u001b[0m\u001b[0;34m\u001b[0m\u001b[0m\n\u001b[0;32m-> 1044\u001b[0;31m             \u001b[0mself\u001b[0m\u001b[0;34m.\u001b[0m\u001b[0m_wait_for_tstate_lock\u001b[0m\u001b[0;34m(\u001b[0m\u001b[0;34m)\u001b[0m\u001b[0;34m\u001b[0m\u001b[0;34m\u001b[0m\u001b[0m\n\u001b[0m\u001b[1;32m   1045\u001b[0m         \u001b[0;32melse\u001b[0m\u001b[0;34m:\u001b[0m\u001b[0;34m\u001b[0m\u001b[0;34m\u001b[0m\u001b[0m\n\u001b[1;32m   1046\u001b[0m             \u001b[0;31m# the behavior of a negative timeout isn't documented, but\u001b[0m\u001b[0;34m\u001b[0m\u001b[0;34m\u001b[0m\u001b[0;34m\u001b[0m\u001b[0m\n",
            "\u001b[0;32m/usr/lib/python3.7/threading.py\u001b[0m in \u001b[0;36m_wait_for_tstate_lock\u001b[0;34m(self, block, timeout)\u001b[0m\n\u001b[1;32m   1058\u001b[0m         \u001b[0;32mif\u001b[0m \u001b[0mlock\u001b[0m \u001b[0;32mis\u001b[0m \u001b[0;32mNone\u001b[0m\u001b[0;34m:\u001b[0m  \u001b[0;31m# already determined that the C code is done\u001b[0m\u001b[0;34m\u001b[0m\u001b[0;34m\u001b[0m\u001b[0m\n\u001b[1;32m   1059\u001b[0m             \u001b[0;32massert\u001b[0m \u001b[0mself\u001b[0m\u001b[0;34m.\u001b[0m\u001b[0m_is_stopped\u001b[0m\u001b[0;34m\u001b[0m\u001b[0;34m\u001b[0m\u001b[0m\n\u001b[0;32m-> 1060\u001b[0;31m         \u001b[0;32melif\u001b[0m \u001b[0mlock\u001b[0m\u001b[0;34m.\u001b[0m\u001b[0macquire\u001b[0m\u001b[0;34m(\u001b[0m\u001b[0mblock\u001b[0m\u001b[0;34m,\u001b[0m \u001b[0mtimeout\u001b[0m\u001b[0;34m)\u001b[0m\u001b[0;34m:\u001b[0m\u001b[0;34m\u001b[0m\u001b[0;34m\u001b[0m\u001b[0m\n\u001b[0m\u001b[1;32m   1061\u001b[0m             \u001b[0mlock\u001b[0m\u001b[0;34m.\u001b[0m\u001b[0mrelease\u001b[0m\u001b[0;34m(\u001b[0m\u001b[0;34m)\u001b[0m\u001b[0;34m\u001b[0m\u001b[0;34m\u001b[0m\u001b[0m\n\u001b[1;32m   1062\u001b[0m             \u001b[0mself\u001b[0m\u001b[0;34m.\u001b[0m\u001b[0m_stop\u001b[0m\u001b[0;34m(\u001b[0m\u001b[0;34m)\u001b[0m\u001b[0;34m\u001b[0m\u001b[0;34m\u001b[0m\u001b[0m\n",
            "\u001b[0;31mKeyboardInterrupt\u001b[0m: "
          ]
        }
      ],
      "source": [
        "#getting all values\n",
        "temperature_df = temperature.values.all().df #all values for all stations"
      ]
    },
    {
      "cell_type": "code",
      "execution_count": null,
      "metadata": {
        "id": "7xKsvQdcnabF"
      },
      "outputs": [],
      "source": [
        "#saving data - temperatures\n",
        "#drive.mount('/content/drive')\n",
        "path = '/content/drive/My Drive/temperature.csv'\n",
        "\n",
        "with open(path, 'w', encoding = 'utf-8-sig') as f:\n",
        "  temperature_df.to_csv(f)"
      ]
    },
    {
      "cell_type": "code",
      "execution_count": null,
      "metadata": {
        "id": "JEBjCrJf7vI5"
      },
      "outputs": [],
      "source": [
        "#saving data - station info\n",
        "path = '/content/drive/My Drive/temperature_stations.csv'\n",
        "\n",
        "with open(path, 'w', encoding = 'utf-8-sig') as f:\n",
        "  temperature.df.to_csv(f)"
      ]
    },
    {
      "cell_type": "markdown",
      "source": [
        "## Precipitation"
      ],
      "metadata": {
        "id": "ccrI2DdP-eNx"
      }
    },
    {
      "cell_type": "code",
      "execution_count": 227,
      "metadata": {
        "id": "S4hEwsbs3_DU",
        "colab": {
          "base_uri": "https://localhost:8080/",
          "height": 363
        },
        "outputId": "9d9b4f78-0403-482d-d90d-7eb9a5d5bd60"
      },
      "outputs": [
        {
          "output_type": "stream",
          "name": "stderr",
          "text": [
            "Dircache located at /root/.cache/wetterdienst\n"
          ]
        },
        {
          "output_type": "error",
          "ename": "KeyboardInterrupt",
          "evalue": "ignored",
          "traceback": [
            "\u001b[0;31m---------------------------------------------------------------------------\u001b[0m",
            "\u001b[0;31mKeyboardInterrupt\u001b[0m                         Traceback (most recent call last)",
            "\u001b[0;32m<ipython-input-227-5b762b661f9f>\u001b[0m in \u001b[0;36m<module>\u001b[0;34m()\u001b[0m\n\u001b[1;32m      7\u001b[0m     \u001b[0mstart_date\u001b[0m\u001b[0;34m=\u001b[0m\u001b[0;34m\"2017-12-31\"\u001b[0m\u001b[0;34m,\u001b[0m\u001b[0;34m\u001b[0m\u001b[0;34m\u001b[0m\u001b[0m\n\u001b[1;32m      8\u001b[0m     \u001b[0mend_date\u001b[0m\u001b[0;34m=\u001b[0m\u001b[0;34m\"2021-01-01\"\u001b[0m\u001b[0;34m\u001b[0m\u001b[0;34m\u001b[0m\u001b[0m\n\u001b[0;32m----> 9\u001b[0;31m ).filter_by_station_id(station_id=[\"0400\", \"0410\",\"0420\", \"0430\", \"0433\"])\n\u001b[0m",
            "\u001b[0;32m/usr/local/lib/python3.7/dist-packages/wetterdienst/core/scalar/request.py\u001b[0m in \u001b[0;36mfilter_by_station_id\u001b[0;34m(self, station_id)\u001b[0m\n\u001b[1;32m    551\u001b[0m         \u001b[0;34m:\u001b[0m\u001b[0;32mreturn\u001b[0m\u001b[0;34m:\u001b[0m \u001b[0mdf\u001b[0m \u001b[0;32mwith\u001b[0m \u001b[0mfiltered\u001b[0m \u001b[0mstations\u001b[0m\u001b[0;34m\u001b[0m\u001b[0;34m\u001b[0m\u001b[0m\n\u001b[1;32m    552\u001b[0m         \"\"\"\n\u001b[0;32m--> 553\u001b[0;31m         \u001b[0mdf\u001b[0m \u001b[0;34m=\u001b[0m \u001b[0mself\u001b[0m\u001b[0;34m.\u001b[0m\u001b[0mall\u001b[0m\u001b[0;34m(\u001b[0m\u001b[0;34m)\u001b[0m\u001b[0;34m.\u001b[0m\u001b[0mdf\u001b[0m\u001b[0;34m\u001b[0m\u001b[0;34m\u001b[0m\u001b[0m\n\u001b[0m\u001b[1;32m    554\u001b[0m \u001b[0;34m\u001b[0m\u001b[0m\n\u001b[1;32m    555\u001b[0m         \u001b[0mstation_id\u001b[0m \u001b[0;34m=\u001b[0m \u001b[0mself\u001b[0m\u001b[0;34m.\u001b[0m\u001b[0m_parse_station_id\u001b[0m\u001b[0;34m(\u001b[0m\u001b[0mpd\u001b[0m\u001b[0;34m.\u001b[0m\u001b[0mSeries\u001b[0m\u001b[0;34m(\u001b[0m\u001b[0mstation_id\u001b[0m\u001b[0;34m)\u001b[0m\u001b[0;34m)\u001b[0m\u001b[0;34m\u001b[0m\u001b[0;34m\u001b[0m\u001b[0m\n",
            "\u001b[0;32m/usr/local/lib/python3.7/dist-packages/wetterdienst/core/scalar/request.py\u001b[0m in \u001b[0;36mall\u001b[0;34m(self)\u001b[0m\n\u001b[1;32m    536\u001b[0m         \u001b[0;34m:\u001b[0m\u001b[0;32mreturn\u001b[0m\u001b[0;34m:\u001b[0m \u001b[0mpandas\u001b[0m\u001b[0;34m.\u001b[0m\u001b[0mDataFrame\u001b[0m \u001b[0;32mwith\u001b[0m \u001b[0mthe\u001b[0m \u001b[0minformation\u001b[0m \u001b[0mof\u001b[0m \u001b[0mdifferent\u001b[0m \u001b[0mavailable\u001b[0m \u001b[0mstations\u001b[0m\u001b[0;34m\u001b[0m\u001b[0;34m\u001b[0m\u001b[0m\n\u001b[1;32m    537\u001b[0m         \"\"\"\n\u001b[0;32m--> 538\u001b[0;31m         \u001b[0mdf\u001b[0m \u001b[0;34m=\u001b[0m \u001b[0mself\u001b[0m\u001b[0;34m.\u001b[0m\u001b[0m_all\u001b[0m\u001b[0;34m(\u001b[0m\u001b[0;34m)\u001b[0m\u001b[0;34m\u001b[0m\u001b[0;34m\u001b[0m\u001b[0m\n\u001b[0m\u001b[1;32m    539\u001b[0m \u001b[0;34m\u001b[0m\u001b[0m\n\u001b[1;32m    540\u001b[0m         \u001b[0mdf\u001b[0m \u001b[0;34m=\u001b[0m \u001b[0mdf\u001b[0m\u001b[0;34m.\u001b[0m\u001b[0mreindex\u001b[0m\u001b[0;34m(\u001b[0m\u001b[0mcolumns\u001b[0m\u001b[0;34m=\u001b[0m\u001b[0mself\u001b[0m\u001b[0;34m.\u001b[0m\u001b[0m_base_columns\u001b[0m\u001b[0;34m)\u001b[0m\u001b[0;34m\u001b[0m\u001b[0;34m\u001b[0m\u001b[0m\n",
            "\u001b[0;32m/usr/local/lib/python3.7/dist-packages/wetterdienst/provider/dwd/observation/api.py\u001b[0m in \u001b[0;36m_all\u001b[0;34m(self)\u001b[0m\n\u001b[1;32m    570\u001b[0m                     \u001b[0;32mcontinue\u001b[0m\u001b[0;34m\u001b[0m\u001b[0;34m\u001b[0m\u001b[0m\n\u001b[1;32m    571\u001b[0m \u001b[0;34m\u001b[0m\u001b[0m\n\u001b[0;32m--> 572\u001b[0;31m                 \u001b[0mdf\u001b[0m \u001b[0;34m=\u001b[0m \u001b[0mcreate_meta_index_for_climate_observations\u001b[0m\u001b[0;34m(\u001b[0m\u001b[0mdataset\u001b[0m\u001b[0;34m,\u001b[0m \u001b[0mself\u001b[0m\u001b[0;34m.\u001b[0m\u001b[0mresolution\u001b[0m\u001b[0;34m,\u001b[0m \u001b[0mperiod\u001b[0m\u001b[0;34m)\u001b[0m\u001b[0;34m\u001b[0m\u001b[0;34m\u001b[0m\u001b[0m\n\u001b[0m\u001b[1;32m    573\u001b[0m \u001b[0;34m\u001b[0m\u001b[0m\n\u001b[1;32m    574\u001b[0m                 \u001b[0mfile_index\u001b[0m \u001b[0;34m=\u001b[0m \u001b[0mcreate_file_index_for_climate_observations\u001b[0m\u001b[0;34m(\u001b[0m\u001b[0mdataset\u001b[0m\u001b[0;34m,\u001b[0m \u001b[0mself\u001b[0m\u001b[0;34m.\u001b[0m\u001b[0mresolution\u001b[0m\u001b[0;34m,\u001b[0m \u001b[0mperiod\u001b[0m\u001b[0;34m)\u001b[0m\u001b[0;34m\u001b[0m\u001b[0;34m\u001b[0m\u001b[0m\n",
            "\u001b[0;32m/usr/local/lib/python3.7/dist-packages/wetterdienst/provider/dwd/observation/metaindex.py\u001b[0m in \u001b[0;36mcreate_meta_index_for_climate_observations\u001b[0;34m(parameter_set, resolution, period)\u001b[0m\n\u001b[1;32m     72\u001b[0m         \u001b[0mmeta_index\u001b[0m \u001b[0;34m=\u001b[0m \u001b[0m_create_meta_index_for_1minute_historical_precipitation\u001b[0m\u001b[0;34m(\u001b[0m\u001b[0;34m)\u001b[0m\u001b[0;34m\u001b[0m\u001b[0;34m\u001b[0m\u001b[0m\n\u001b[1;32m     73\u001b[0m     \u001b[0;32melse\u001b[0m\u001b[0;34m:\u001b[0m\u001b[0;34m\u001b[0m\u001b[0;34m\u001b[0m\u001b[0m\n\u001b[0;32m---> 74\u001b[0;31m         \u001b[0mmeta_index\u001b[0m \u001b[0;34m=\u001b[0m \u001b[0m_create_meta_index_for_climate_observations\u001b[0m\u001b[0;34m(\u001b[0m\u001b[0mparameter_set\u001b[0m\u001b[0;34m,\u001b[0m \u001b[0mresolution\u001b[0m\u001b[0;34m,\u001b[0m \u001b[0mperiod\u001b[0m\u001b[0;34m)\u001b[0m\u001b[0;34m\u001b[0m\u001b[0;34m\u001b[0m\u001b[0m\n\u001b[0m\u001b[1;32m     75\u001b[0m \u001b[0;34m\u001b[0m\u001b[0m\n\u001b[1;32m     76\u001b[0m     \u001b[0;31m# If no state column available, take state information from daily historical\u001b[0m\u001b[0;34m\u001b[0m\u001b[0;34m\u001b[0m\u001b[0;34m\u001b[0m\u001b[0m\n",
            "\u001b[0;32m/usr/local/lib/python3.7/dist-packages/wetterdienst/provider/dwd/observation/metaindex.py\u001b[0m in \u001b[0;36m_create_meta_index_for_climate_observations\u001b[0;34m(parameter_set, resolution, period)\u001b[0m\n\u001b[1;32m    128\u001b[0m \u001b[0;34m\u001b[0m\u001b[0m\n\u001b[1;32m    129\u001b[0m     \u001b[0;32mtry\u001b[0m\u001b[0;34m:\u001b[0m\u001b[0;34m\u001b[0m\u001b[0;34m\u001b[0m\u001b[0m\n\u001b[0;32m--> 130\u001b[0;31m         \u001b[0mfile\u001b[0m \u001b[0;34m=\u001b[0m \u001b[0mdownload_file\u001b[0m\u001b[0;34m(\u001b[0m\u001b[0mmeta_file\u001b[0m\u001b[0;34m,\u001b[0m \u001b[0mttl\u001b[0m\u001b[0;34m=\u001b[0m\u001b[0mCacheExpiry\u001b[0m\u001b[0;34m.\u001b[0m\u001b[0mMETAINDEX\u001b[0m\u001b[0;34m)\u001b[0m\u001b[0;34m\u001b[0m\u001b[0;34m\u001b[0m\u001b[0m\n\u001b[0m\u001b[1;32m    131\u001b[0m     \u001b[0;32mexcept\u001b[0m \u001b[0mInvalidURL\u001b[0m \u001b[0;32mas\u001b[0m \u001b[0me\u001b[0m\u001b[0;34m:\u001b[0m\u001b[0;34m\u001b[0m\u001b[0;34m\u001b[0m\u001b[0m\n\u001b[1;32m    132\u001b[0m         \u001b[0;32mraise\u001b[0m \u001b[0mInvalidURL\u001b[0m\u001b[0;34m(\u001b[0m\u001b[0;34mf\"Error: reading metadata {meta_file} file failed.\"\u001b[0m\u001b[0;34m)\u001b[0m \u001b[0;32mfrom\u001b[0m \u001b[0me\u001b[0m\u001b[0;34m\u001b[0m\u001b[0;34m\u001b[0m\u001b[0m\n",
            "\u001b[0;32m/usr/local/lib/python3.7/dist-packages/wetterdienst/util/network.py\u001b[0m in \u001b[0;36mdownload_file\u001b[0;34m(url, ttl)\u001b[0m\n\u001b[1;32m     89\u001b[0m     \"\"\"\n\u001b[1;32m     90\u001b[0m     \u001b[0mfilesystem\u001b[0m \u001b[0;34m=\u001b[0m \u001b[0mNetworkFilesystemManager\u001b[0m\u001b[0;34m.\u001b[0m\u001b[0mget\u001b[0m\u001b[0;34m(\u001b[0m\u001b[0mttl\u001b[0m\u001b[0;34m=\u001b[0m\u001b[0mttl\u001b[0m\u001b[0;34m)\u001b[0m\u001b[0;34m\u001b[0m\u001b[0;34m\u001b[0m\u001b[0m\n\u001b[0;32m---> 91\u001b[0;31m     \u001b[0mpayload\u001b[0m \u001b[0;34m=\u001b[0m \u001b[0mfilesystem\u001b[0m\u001b[0;34m.\u001b[0m\u001b[0mcat\u001b[0m\u001b[0;34m(\u001b[0m\u001b[0murl\u001b[0m\u001b[0;34m)\u001b[0m\u001b[0;34m\u001b[0m\u001b[0;34m\u001b[0m\u001b[0m\n\u001b[0m\u001b[1;32m     92\u001b[0m     \u001b[0;32mreturn\u001b[0m \u001b[0mBytesIO\u001b[0m\u001b[0;34m(\u001b[0m\u001b[0mpayload\u001b[0m\u001b[0;34m)\u001b[0m\u001b[0;34m\u001b[0m\u001b[0;34m\u001b[0m\u001b[0m\n",
            "\u001b[0;32m/usr/local/lib/python3.7/dist-packages/fsspec/implementations/cached.py\u001b[0m in \u001b[0;36m<lambda>\u001b[0;34m(*args, **kw)\u001b[0m\n\u001b[1;32m    392\u001b[0m             \u001b[0;31m# it calls `_open`, but is actually in superclass\u001b[0m\u001b[0;34m\u001b[0m\u001b[0;34m\u001b[0m\u001b[0;34m\u001b[0m\u001b[0m\n\u001b[1;32m    393\u001b[0m             return lambda *args, **kw: getattr(type(self), item).__get__(self)(\n\u001b[0;32m--> 394\u001b[0;31m                 \u001b[0;34m*\u001b[0m\u001b[0margs\u001b[0m\u001b[0;34m,\u001b[0m \u001b[0;34m**\u001b[0m\u001b[0mkw\u001b[0m\u001b[0;34m\u001b[0m\u001b[0;34m\u001b[0m\u001b[0m\n\u001b[0m\u001b[1;32m    395\u001b[0m             )\n\u001b[1;32m    396\u001b[0m         \u001b[0;32mif\u001b[0m \u001b[0mitem\u001b[0m \u001b[0;32min\u001b[0m \u001b[0;34m[\u001b[0m\u001b[0;34m\"__reduce_ex__\"\u001b[0m\u001b[0;34m]\u001b[0m\u001b[0;34m:\u001b[0m\u001b[0;34m\u001b[0m\u001b[0;34m\u001b[0m\u001b[0m\n",
            "\u001b[0;32m/usr/local/lib/python3.7/dist-packages/fsspec/implementations/cached.py\u001b[0m in \u001b[0;36mcat\u001b[0;34m(self, path, recursive, on_error, callback, **kwargs)\u001b[0m\n\u001b[1;32m    568\u001b[0m             \u001b[0mfns\u001b[0m\u001b[0;34m.\u001b[0m\u001b[0mappend\u001b[0m\u001b[0;34m(\u001b[0m\u001b[0mfn\u001b[0m\u001b[0;34m)\u001b[0m\u001b[0;34m\u001b[0m\u001b[0;34m\u001b[0m\u001b[0m\n\u001b[1;32m    569\u001b[0m         \u001b[0;32mif\u001b[0m \u001b[0mgetpaths\u001b[0m\u001b[0;34m:\u001b[0m\u001b[0;34m\u001b[0m\u001b[0;34m\u001b[0m\u001b[0m\n\u001b[0;32m--> 570\u001b[0;31m             \u001b[0mself\u001b[0m\u001b[0;34m.\u001b[0m\u001b[0mfs\u001b[0m\u001b[0;34m.\u001b[0m\u001b[0mget\u001b[0m\u001b[0;34m(\u001b[0m\u001b[0mgetpaths\u001b[0m\u001b[0;34m,\u001b[0m \u001b[0mstorepaths\u001b[0m\u001b[0;34m)\u001b[0m\u001b[0;34m\u001b[0m\u001b[0;34m\u001b[0m\u001b[0m\n\u001b[0m\u001b[1;32m    571\u001b[0m             \u001b[0mself\u001b[0m\u001b[0;34m.\u001b[0m\u001b[0msave_cache\u001b[0m\u001b[0;34m(\u001b[0m\u001b[0;34m)\u001b[0m\u001b[0;34m\u001b[0m\u001b[0;34m\u001b[0m\u001b[0m\n\u001b[1;32m    572\u001b[0m \u001b[0;34m\u001b[0m\u001b[0m\n",
            "\u001b[0;32m/usr/local/lib/python3.7/dist-packages/fsspec/asyn.py\u001b[0m in \u001b[0;36mwrapper\u001b[0;34m(*args, **kwargs)\u001b[0m\n\u001b[1;32m     86\u001b[0m     \u001b[0;32mdef\u001b[0m \u001b[0mwrapper\u001b[0m\u001b[0;34m(\u001b[0m\u001b[0;34m*\u001b[0m\u001b[0margs\u001b[0m\u001b[0;34m,\u001b[0m \u001b[0;34m**\u001b[0m\u001b[0mkwargs\u001b[0m\u001b[0;34m)\u001b[0m\u001b[0;34m:\u001b[0m\u001b[0;34m\u001b[0m\u001b[0;34m\u001b[0m\u001b[0m\n\u001b[1;32m     87\u001b[0m         \u001b[0mself\u001b[0m \u001b[0;34m=\u001b[0m \u001b[0mobj\u001b[0m \u001b[0;32mor\u001b[0m \u001b[0margs\u001b[0m\u001b[0;34m[\u001b[0m\u001b[0;36m0\u001b[0m\u001b[0;34m]\u001b[0m\u001b[0;34m\u001b[0m\u001b[0;34m\u001b[0m\u001b[0m\n\u001b[0;32m---> 88\u001b[0;31m         \u001b[0;32mreturn\u001b[0m \u001b[0msync\u001b[0m\u001b[0;34m(\u001b[0m\u001b[0mself\u001b[0m\u001b[0;34m.\u001b[0m\u001b[0mloop\u001b[0m\u001b[0;34m,\u001b[0m \u001b[0mfunc\u001b[0m\u001b[0;34m,\u001b[0m \u001b[0;34m*\u001b[0m\u001b[0margs\u001b[0m\u001b[0;34m,\u001b[0m \u001b[0;34m**\u001b[0m\u001b[0mkwargs\u001b[0m\u001b[0;34m)\u001b[0m\u001b[0;34m\u001b[0m\u001b[0;34m\u001b[0m\u001b[0m\n\u001b[0m\u001b[1;32m     89\u001b[0m \u001b[0;34m\u001b[0m\u001b[0m\n\u001b[1;32m     90\u001b[0m     \u001b[0;32mreturn\u001b[0m \u001b[0mwrapper\u001b[0m\u001b[0;34m\u001b[0m\u001b[0;34m\u001b[0m\u001b[0m\n",
            "\u001b[0;32m/usr/local/lib/python3.7/dist-packages/fsspec/asyn.py\u001b[0m in \u001b[0;36msync\u001b[0;34m(loop, func, timeout, *args, **kwargs)\u001b[0m\n\u001b[1;32m     57\u001b[0m     \u001b[0;32mwhile\u001b[0m \u001b[0;32mTrue\u001b[0m\u001b[0;34m:\u001b[0m\u001b[0;34m\u001b[0m\u001b[0;34m\u001b[0m\u001b[0m\n\u001b[1;32m     58\u001b[0m         \u001b[0;31m# this loops allows thread to get interrupted\u001b[0m\u001b[0;34m\u001b[0m\u001b[0;34m\u001b[0m\u001b[0;34m\u001b[0m\u001b[0m\n\u001b[0;32m---> 59\u001b[0;31m         \u001b[0;32mif\u001b[0m \u001b[0mevent\u001b[0m\u001b[0;34m.\u001b[0m\u001b[0mwait\u001b[0m\u001b[0;34m(\u001b[0m\u001b[0;36m1\u001b[0m\u001b[0;34m)\u001b[0m\u001b[0;34m:\u001b[0m\u001b[0;34m\u001b[0m\u001b[0;34m\u001b[0m\u001b[0m\n\u001b[0m\u001b[1;32m     60\u001b[0m             \u001b[0;32mbreak\u001b[0m\u001b[0;34m\u001b[0m\u001b[0;34m\u001b[0m\u001b[0m\n\u001b[1;32m     61\u001b[0m         \u001b[0;32mif\u001b[0m \u001b[0mtimeout\u001b[0m \u001b[0;32mis\u001b[0m \u001b[0;32mnot\u001b[0m \u001b[0;32mNone\u001b[0m\u001b[0;34m:\u001b[0m\u001b[0;34m\u001b[0m\u001b[0;34m\u001b[0m\u001b[0m\n",
            "\u001b[0;32m/usr/lib/python3.7/threading.py\u001b[0m in \u001b[0;36mwait\u001b[0;34m(self, timeout)\u001b[0m\n\u001b[1;32m    550\u001b[0m             \u001b[0msignaled\u001b[0m \u001b[0;34m=\u001b[0m \u001b[0mself\u001b[0m\u001b[0;34m.\u001b[0m\u001b[0m_flag\u001b[0m\u001b[0;34m\u001b[0m\u001b[0;34m\u001b[0m\u001b[0m\n\u001b[1;32m    551\u001b[0m             \u001b[0;32mif\u001b[0m \u001b[0;32mnot\u001b[0m \u001b[0msignaled\u001b[0m\u001b[0;34m:\u001b[0m\u001b[0;34m\u001b[0m\u001b[0;34m\u001b[0m\u001b[0m\n\u001b[0;32m--> 552\u001b[0;31m                 \u001b[0msignaled\u001b[0m \u001b[0;34m=\u001b[0m \u001b[0mself\u001b[0m\u001b[0;34m.\u001b[0m\u001b[0m_cond\u001b[0m\u001b[0;34m.\u001b[0m\u001b[0mwait\u001b[0m\u001b[0;34m(\u001b[0m\u001b[0mtimeout\u001b[0m\u001b[0;34m)\u001b[0m\u001b[0;34m\u001b[0m\u001b[0;34m\u001b[0m\u001b[0m\n\u001b[0m\u001b[1;32m    553\u001b[0m             \u001b[0;32mreturn\u001b[0m \u001b[0msignaled\u001b[0m\u001b[0;34m\u001b[0m\u001b[0;34m\u001b[0m\u001b[0m\n\u001b[1;32m    554\u001b[0m \u001b[0;34m\u001b[0m\u001b[0m\n",
            "\u001b[0;32m/usr/lib/python3.7/threading.py\u001b[0m in \u001b[0;36mwait\u001b[0;34m(self, timeout)\u001b[0m\n\u001b[1;32m    298\u001b[0m             \u001b[0;32melse\u001b[0m\u001b[0;34m:\u001b[0m\u001b[0;34m\u001b[0m\u001b[0;34m\u001b[0m\u001b[0m\n\u001b[1;32m    299\u001b[0m                 \u001b[0;32mif\u001b[0m \u001b[0mtimeout\u001b[0m \u001b[0;34m>\u001b[0m \u001b[0;36m0\u001b[0m\u001b[0;34m:\u001b[0m\u001b[0;34m\u001b[0m\u001b[0;34m\u001b[0m\u001b[0m\n\u001b[0;32m--> 300\u001b[0;31m                     \u001b[0mgotit\u001b[0m \u001b[0;34m=\u001b[0m \u001b[0mwaiter\u001b[0m\u001b[0;34m.\u001b[0m\u001b[0macquire\u001b[0m\u001b[0;34m(\u001b[0m\u001b[0;32mTrue\u001b[0m\u001b[0;34m,\u001b[0m \u001b[0mtimeout\u001b[0m\u001b[0;34m)\u001b[0m\u001b[0;34m\u001b[0m\u001b[0;34m\u001b[0m\u001b[0m\n\u001b[0m\u001b[1;32m    301\u001b[0m                 \u001b[0;32melse\u001b[0m\u001b[0;34m:\u001b[0m\u001b[0;34m\u001b[0m\u001b[0;34m\u001b[0m\u001b[0m\n\u001b[1;32m    302\u001b[0m                     \u001b[0mgotit\u001b[0m \u001b[0;34m=\u001b[0m \u001b[0mwaiter\u001b[0m\u001b[0;34m.\u001b[0m\u001b[0macquire\u001b[0m\u001b[0;34m(\u001b[0m\u001b[0;32mFalse\u001b[0m\u001b[0;34m)\u001b[0m\u001b[0;34m\u001b[0m\u001b[0;34m\u001b[0m\u001b[0m\n",
            "\u001b[0;31mKeyboardInterrupt\u001b[0m: "
          ]
        }
      ],
      "source": [
        "#precipitation, 10 minutes granularity, all stations\n",
        "#for list of stations, see: https://opendata.dwd.de/climate_environment/CDC/observations_germany/climate/10_minutes/air_temperature/historical/zehn_min_tu_Beschreibung_Stationen.txt \n",
        "\n",
        "precipitation = DwdObservationRequest(\n",
        "    parameter=[\"precipitation\"],\n",
        "    resolution=\"minute_10\",\n",
        "    start_date=\"2017-12-31\",\n",
        "    end_date=\"2021-01-01\"\n",
        ").filter_by_station_id(station_id=[\"0400\", \"0410\",\"0420\", \"0430\", \"0433\"])"
      ]
    },
    {
      "cell_type": "code",
      "execution_count": null,
      "metadata": {
        "id": "JJzsE6II4aXp"
      },
      "outputs": [],
      "source": [
        "precipitation.df.head()"
      ]
    },
    {
      "cell_type": "code",
      "execution_count": null,
      "metadata": {
        "id": "7S56jbyB4W_j"
      },
      "outputs": [],
      "source": [
        "precipitation_df = precipitation.values.all().df #all values for all stations"
      ]
    },
    {
      "cell_type": "code",
      "execution_count": null,
      "metadata": {
        "id": "vVcPhkte4-Xw"
      },
      "outputs": [],
      "source": [
        "precipitation_df.info()"
      ]
    },
    {
      "cell_type": "code",
      "execution_count": null,
      "metadata": {
        "id": "vahkLPUAi0rX"
      },
      "outputs": [],
      "source": [
        "#save precipitation data\n",
        "\n",
        "path = '/content/drive/My Drive/precipitation.csv'\n",
        "\n",
        "with open(path, 'w', encoding = 'utf-8-sig') as f:\n",
        "  precipitation_df.to_csv(f)\n",
        "\n",
        "  #saving data - station info\n",
        "path = '/content/drive/My Drive/precipitation_stations.csv'\n",
        "\n",
        "with open(path, 'w', encoding = 'utf-8-sig') as f:\n",
        "  precipitation.df.to_csv(f)"
      ]
    },
    {
      "cell_type": "markdown",
      "source": [
        "## Visibility"
      ],
      "metadata": {
        "id": "wpJpbi7z-Plg"
      }
    },
    {
      "cell_type": "code",
      "source": [
        "#visibility, 1 hour granularity, all stations\n",
        "#for list of stations, see: https://opendata.dwd.de/climate_environment/CDC/observations_germany/climate/10_minutes/air_temperature/historical/zehn_min_tu_Beschreibung_Stationen.txt \n",
        "\n",
        "visibility = DwdObservationRequest(\n",
        "    parameter=[\"visibility\"],\n",
        "    resolution=\"hourly\",\n",
        "    start_date=\"2018-01-01\",\n",
        "    end_date=\"2021-01-01\"\n",
        ").filter_by_station_id(station_id=[\"0400\", \"0410\",\"0420\", \"0430\", \"0433\"]) #Berlin-Buch, Berlin-Kaniswall, Marzahn, Tegel, Tempelhof (Alexanderplatz doesn't have data past 2015. Link: )"
      ],
      "metadata": {
        "id": "fdPHYIth94MH"
      },
      "execution_count": 376,
      "outputs": []
    },
    {
      "cell_type": "code",
      "source": [
        "visibility_df = visibility.values.all().df #all values for all stations"
      ],
      "metadata": {
        "colab": {
          "base_uri": "https://localhost:8080/",
          "height": 311
        },
        "id": "-THXJf-L-NRE",
        "outputId": "e9d3d294-c79d-48a2-8400-d9ae1ae00754"
      },
      "execution_count": 377,
      "outputs": [
        {
          "output_type": "error",
          "ename": "KeyboardInterrupt",
          "evalue": "ignored",
          "traceback": [
            "\u001b[0;31m---------------------------------------------------------------------------\u001b[0m",
            "\u001b[0;31mKeyboardInterrupt\u001b[0m                         Traceback (most recent call last)",
            "\u001b[0;32m<ipython-input-377-b1d65959f2e1>\u001b[0m in \u001b[0;36m<module>\u001b[0;34m()\u001b[0m\n\u001b[0;32m----> 1\u001b[0;31m \u001b[0mvisibility_df\u001b[0m \u001b[0;34m=\u001b[0m \u001b[0mvisibility\u001b[0m\u001b[0;34m.\u001b[0m\u001b[0mvalues\u001b[0m\u001b[0;34m.\u001b[0m\u001b[0mall\u001b[0m\u001b[0;34m(\u001b[0m\u001b[0;34m)\u001b[0m\u001b[0;34m.\u001b[0m\u001b[0mdf\u001b[0m \u001b[0;31m#all values for all stations\u001b[0m\u001b[0;34m\u001b[0m\u001b[0;34m\u001b[0m\u001b[0m\n\u001b[0m",
            "\u001b[0;32m/usr/local/lib/python3.7/dist-packages/wetterdienst/core/scalar/values.py\u001b[0m in \u001b[0;36mall\u001b[0;34m(self)\u001b[0m\n\u001b[1;32m    779\u001b[0m         \u001b[0mtqdm_out\u001b[0m \u001b[0;34m=\u001b[0m \u001b[0mTqdmToLogger\u001b[0m\u001b[0;34m(\u001b[0m\u001b[0mlog\u001b[0m\u001b[0;34m,\u001b[0m \u001b[0mlevel\u001b[0m\u001b[0;34m=\u001b[0m\u001b[0mlogging\u001b[0m\u001b[0;34m.\u001b[0m\u001b[0mINFO\u001b[0m\u001b[0;34m)\u001b[0m\u001b[0;34m\u001b[0m\u001b[0;34m\u001b[0m\u001b[0m\n\u001b[1;32m    780\u001b[0m \u001b[0;34m\u001b[0m\u001b[0m\n\u001b[0;32m--> 781\u001b[0;31m         \u001b[0;32mfor\u001b[0m \u001b[0mresult\u001b[0m \u001b[0;32min\u001b[0m \u001b[0mtqdm\u001b[0m\u001b[0;34m(\u001b[0m\u001b[0mself\u001b[0m\u001b[0;34m.\u001b[0m\u001b[0mquery\u001b[0m\u001b[0;34m(\u001b[0m\u001b[0;34m)\u001b[0m\u001b[0;34m,\u001b[0m \u001b[0mtotal\u001b[0m\u001b[0;34m=\u001b[0m\u001b[0mlen\u001b[0m\u001b[0;34m(\u001b[0m\u001b[0mself\u001b[0m\u001b[0;34m.\u001b[0m\u001b[0mstations\u001b[0m\u001b[0;34m.\u001b[0m\u001b[0mstation_id\u001b[0m\u001b[0;34m)\u001b[0m\u001b[0;34m,\u001b[0m \u001b[0mfile\u001b[0m\u001b[0;34m=\u001b[0m\u001b[0mtqdm_out\u001b[0m\u001b[0;34m)\u001b[0m\u001b[0;34m:\u001b[0m\u001b[0;34m\u001b[0m\u001b[0;34m\u001b[0m\u001b[0m\n\u001b[0m\u001b[1;32m    782\u001b[0m             \u001b[0mdata\u001b[0m\u001b[0;34m.\u001b[0m\u001b[0mappend\u001b[0m\u001b[0;34m(\u001b[0m\u001b[0mresult\u001b[0m\u001b[0;34m.\u001b[0m\u001b[0mdf\u001b[0m\u001b[0;34m)\u001b[0m\u001b[0;34m\u001b[0m\u001b[0;34m\u001b[0m\u001b[0m\n\u001b[1;32m    783\u001b[0m \u001b[0;34m\u001b[0m\u001b[0m\n",
            "\u001b[0;32m/usr/local/lib/python3.7/dist-packages/tqdm/std.py\u001b[0m in \u001b[0;36m__iter__\u001b[0;34m(self)\u001b[0m\n\u001b[1;32m   1193\u001b[0m \u001b[0;34m\u001b[0m\u001b[0m\n\u001b[1;32m   1194\u001b[0m         \u001b[0;32mtry\u001b[0m\u001b[0;34m:\u001b[0m\u001b[0;34m\u001b[0m\u001b[0;34m\u001b[0m\u001b[0m\n\u001b[0;32m-> 1195\u001b[0;31m             \u001b[0;32mfor\u001b[0m \u001b[0mobj\u001b[0m \u001b[0;32min\u001b[0m \u001b[0miterable\u001b[0m\u001b[0;34m:\u001b[0m\u001b[0;34m\u001b[0m\u001b[0;34m\u001b[0m\u001b[0m\n\u001b[0m\u001b[1;32m   1196\u001b[0m                 \u001b[0;32myield\u001b[0m \u001b[0mobj\u001b[0m\u001b[0;34m\u001b[0m\u001b[0;34m\u001b[0m\u001b[0m\n\u001b[1;32m   1197\u001b[0m                 \u001b[0;31m# Update and possibly print the progressbar.\u001b[0m\u001b[0;34m\u001b[0m\u001b[0;34m\u001b[0m\u001b[0;34m\u001b[0m\u001b[0m\n",
            "\u001b[0;32m/usr/local/lib/python3.7/dist-packages/wetterdienst/core/scalar/values.py\u001b[0m in \u001b[0;36mquery\u001b[0;34m(self)\u001b[0m\n\u001b[1;32m    464\u001b[0m                     \u001b[0;32mcontinue\u001b[0m\u001b[0;34m\u001b[0m\u001b[0;34m\u001b[0m\u001b[0m\n\u001b[1;32m    465\u001b[0m \u001b[0;34m\u001b[0m\u001b[0m\n\u001b[0;32m--> 466\u001b[0;31m                 \u001b[0mparameter_df\u001b[0m \u001b[0;34m=\u001b[0m \u001b[0mself\u001b[0m\u001b[0;34m.\u001b[0m\u001b[0m_collect_station_parameter\u001b[0m\u001b[0;34m(\u001b[0m\u001b[0mstation_id\u001b[0m\u001b[0;34m,\u001b[0m \u001b[0mparameter\u001b[0m\u001b[0;34m,\u001b[0m \u001b[0mdataset\u001b[0m\u001b[0;34m)\u001b[0m\u001b[0;34m\u001b[0m\u001b[0;34m\u001b[0m\u001b[0m\n\u001b[0m\u001b[1;32m    467\u001b[0m \u001b[0;34m\u001b[0m\u001b[0m\n\u001b[1;32m    468\u001b[0m                 \u001b[0;32mif\u001b[0m \u001b[0mparameter_df\u001b[0m\u001b[0;34m.\u001b[0m\u001b[0mempty\u001b[0m\u001b[0;34m:\u001b[0m\u001b[0;34m\u001b[0m\u001b[0;34m\u001b[0m\u001b[0m\n",
            "\u001b[0;32m/usr/local/lib/python3.7/dist-packages/wetterdienst/provider/dwd/observation/api.py\u001b[0m in \u001b[0;36m_collect_station_parameter\u001b[0;34m(self, station_id, parameter, dataset)\u001b[0m\n\u001b[1;32m    174\u001b[0m                 \u001b[0;32mcontinue\u001b[0m\u001b[0;34m\u001b[0m\u001b[0;34m\u001b[0m\u001b[0m\n\u001b[1;32m    175\u001b[0m \u001b[0;34m\u001b[0m\u001b[0m\n\u001b[0;32m--> 176\u001b[0;31m             \u001b[0mfilenames_and_files\u001b[0m \u001b[0;34m=\u001b[0m \u001b[0mdownload_climate_observations_data_parallel\u001b[0m\u001b[0;34m(\u001b[0m\u001b[0mremote_files\u001b[0m\u001b[0;34m)\u001b[0m\u001b[0;34m\u001b[0m\u001b[0;34m\u001b[0m\u001b[0m\n\u001b[0m\u001b[1;32m    177\u001b[0m \u001b[0;34m\u001b[0m\u001b[0m\n\u001b[1;32m    178\u001b[0m             \u001b[0mperiod_df\u001b[0m \u001b[0;34m=\u001b[0m \u001b[0mparse_climate_observations_data\u001b[0m\u001b[0;34m(\u001b[0m\u001b[0mfilenames_and_files\u001b[0m\u001b[0;34m,\u001b[0m \u001b[0mdataset\u001b[0m\u001b[0;34m,\u001b[0m \u001b[0mself\u001b[0m\u001b[0;34m.\u001b[0m\u001b[0mstations\u001b[0m\u001b[0;34m.\u001b[0m\u001b[0mresolution\u001b[0m\u001b[0;34m,\u001b[0m \u001b[0mperiod\u001b[0m\u001b[0;34m)\u001b[0m\u001b[0;34m\u001b[0m\u001b[0;34m\u001b[0m\u001b[0m\n",
            "\u001b[0;32m/usr/local/lib/python3.7/dist-packages/wetterdienst/provider/dwd/observation/download.py\u001b[0m in \u001b[0;36mdownload_climate_observations_data_parallel\u001b[0;34m(remote_files)\u001b[0m\n\u001b[1;32m     25\u001b[0m     \"\"\"\n\u001b[1;32m     26\u001b[0m     \u001b[0;32mwith\u001b[0m \u001b[0mThreadPoolExecutor\u001b[0m\u001b[0;34m(\u001b[0m\u001b[0;34m)\u001b[0m \u001b[0;32mas\u001b[0m \u001b[0mp\u001b[0m\u001b[0;34m:\u001b[0m\u001b[0;34m\u001b[0m\u001b[0;34m\u001b[0m\u001b[0m\n\u001b[0;32m---> 27\u001b[0;31m         \u001b[0mfiles_in_bytes\u001b[0m \u001b[0;34m=\u001b[0m \u001b[0mp\u001b[0m\u001b[0;34m.\u001b[0m\u001b[0mmap\u001b[0m\u001b[0;34m(\u001b[0m\u001b[0m_download_climate_observations_data\u001b[0m\u001b[0;34m,\u001b[0m \u001b[0mremote_files\u001b[0m\u001b[0;34m)\u001b[0m\u001b[0;34m\u001b[0m\u001b[0;34m\u001b[0m\u001b[0m\n\u001b[0m\u001b[1;32m     28\u001b[0m \u001b[0;34m\u001b[0m\u001b[0m\n\u001b[1;32m     29\u001b[0m     \u001b[0;32mreturn\u001b[0m \u001b[0mlist\u001b[0m\u001b[0;34m(\u001b[0m\u001b[0mzip\u001b[0m\u001b[0;34m(\u001b[0m\u001b[0mremote_files\u001b[0m\u001b[0;34m,\u001b[0m \u001b[0mfiles_in_bytes\u001b[0m\u001b[0;34m)\u001b[0m\u001b[0;34m)\u001b[0m\u001b[0;34m\u001b[0m\u001b[0;34m\u001b[0m\u001b[0m\n",
            "\u001b[0;32m/usr/lib/python3.7/concurrent/futures/_base.py\u001b[0m in \u001b[0;36m__exit__\u001b[0;34m(self, exc_type, exc_val, exc_tb)\u001b[0m\n\u001b[1;32m    621\u001b[0m \u001b[0;34m\u001b[0m\u001b[0m\n\u001b[1;32m    622\u001b[0m     \u001b[0;32mdef\u001b[0m \u001b[0m__exit__\u001b[0m\u001b[0;34m(\u001b[0m\u001b[0mself\u001b[0m\u001b[0;34m,\u001b[0m \u001b[0mexc_type\u001b[0m\u001b[0;34m,\u001b[0m \u001b[0mexc_val\u001b[0m\u001b[0;34m,\u001b[0m \u001b[0mexc_tb\u001b[0m\u001b[0;34m)\u001b[0m\u001b[0;34m:\u001b[0m\u001b[0;34m\u001b[0m\u001b[0;34m\u001b[0m\u001b[0m\n\u001b[0;32m--> 623\u001b[0;31m         \u001b[0mself\u001b[0m\u001b[0;34m.\u001b[0m\u001b[0mshutdown\u001b[0m\u001b[0;34m(\u001b[0m\u001b[0mwait\u001b[0m\u001b[0;34m=\u001b[0m\u001b[0;32mTrue\u001b[0m\u001b[0;34m)\u001b[0m\u001b[0;34m\u001b[0m\u001b[0;34m\u001b[0m\u001b[0m\n\u001b[0m\u001b[1;32m    624\u001b[0m         \u001b[0;32mreturn\u001b[0m \u001b[0;32mFalse\u001b[0m\u001b[0;34m\u001b[0m\u001b[0;34m\u001b[0m\u001b[0m\n\u001b[1;32m    625\u001b[0m \u001b[0;34m\u001b[0m\u001b[0m\n",
            "\u001b[0;32m/usr/lib/python3.7/concurrent/futures/thread.py\u001b[0m in \u001b[0;36mshutdown\u001b[0;34m(self, wait)\u001b[0m\n\u001b[1;32m    214\u001b[0m         \u001b[0;32mif\u001b[0m \u001b[0mwait\u001b[0m\u001b[0;34m:\u001b[0m\u001b[0;34m\u001b[0m\u001b[0;34m\u001b[0m\u001b[0m\n\u001b[1;32m    215\u001b[0m             \u001b[0;32mfor\u001b[0m \u001b[0mt\u001b[0m \u001b[0;32min\u001b[0m \u001b[0mself\u001b[0m\u001b[0;34m.\u001b[0m\u001b[0m_threads\u001b[0m\u001b[0;34m:\u001b[0m\u001b[0;34m\u001b[0m\u001b[0;34m\u001b[0m\u001b[0m\n\u001b[0;32m--> 216\u001b[0;31m                 \u001b[0mt\u001b[0m\u001b[0;34m.\u001b[0m\u001b[0mjoin\u001b[0m\u001b[0;34m(\u001b[0m\u001b[0;34m)\u001b[0m\u001b[0;34m\u001b[0m\u001b[0;34m\u001b[0m\u001b[0m\n\u001b[0m\u001b[1;32m    217\u001b[0m     \u001b[0mshutdown\u001b[0m\u001b[0;34m.\u001b[0m\u001b[0m__doc__\u001b[0m \u001b[0;34m=\u001b[0m \u001b[0m_base\u001b[0m\u001b[0;34m.\u001b[0m\u001b[0mExecutor\u001b[0m\u001b[0;34m.\u001b[0m\u001b[0mshutdown\u001b[0m\u001b[0;34m.\u001b[0m\u001b[0m__doc__\u001b[0m\u001b[0;34m\u001b[0m\u001b[0;34m\u001b[0m\u001b[0m\n",
            "\u001b[0;32m/usr/lib/python3.7/threading.py\u001b[0m in \u001b[0;36mjoin\u001b[0;34m(self, timeout)\u001b[0m\n\u001b[1;32m   1042\u001b[0m \u001b[0;34m\u001b[0m\u001b[0m\n\u001b[1;32m   1043\u001b[0m         \u001b[0;32mif\u001b[0m \u001b[0mtimeout\u001b[0m \u001b[0;32mis\u001b[0m \u001b[0;32mNone\u001b[0m\u001b[0;34m:\u001b[0m\u001b[0;34m\u001b[0m\u001b[0;34m\u001b[0m\u001b[0m\n\u001b[0;32m-> 1044\u001b[0;31m             \u001b[0mself\u001b[0m\u001b[0;34m.\u001b[0m\u001b[0m_wait_for_tstate_lock\u001b[0m\u001b[0;34m(\u001b[0m\u001b[0;34m)\u001b[0m\u001b[0;34m\u001b[0m\u001b[0;34m\u001b[0m\u001b[0m\n\u001b[0m\u001b[1;32m   1045\u001b[0m         \u001b[0;32melse\u001b[0m\u001b[0;34m:\u001b[0m\u001b[0;34m\u001b[0m\u001b[0;34m\u001b[0m\u001b[0m\n\u001b[1;32m   1046\u001b[0m             \u001b[0;31m# the behavior of a negative timeout isn't documented, but\u001b[0m\u001b[0;34m\u001b[0m\u001b[0;34m\u001b[0m\u001b[0;34m\u001b[0m\u001b[0m\n",
            "\u001b[0;32m/usr/lib/python3.7/threading.py\u001b[0m in \u001b[0;36m_wait_for_tstate_lock\u001b[0;34m(self, block, timeout)\u001b[0m\n\u001b[1;32m   1058\u001b[0m         \u001b[0;32mif\u001b[0m \u001b[0mlock\u001b[0m \u001b[0;32mis\u001b[0m \u001b[0;32mNone\u001b[0m\u001b[0;34m:\u001b[0m  \u001b[0;31m# already determined that the C code is done\u001b[0m\u001b[0;34m\u001b[0m\u001b[0;34m\u001b[0m\u001b[0m\n\u001b[1;32m   1059\u001b[0m             \u001b[0;32massert\u001b[0m \u001b[0mself\u001b[0m\u001b[0;34m.\u001b[0m\u001b[0m_is_stopped\u001b[0m\u001b[0;34m\u001b[0m\u001b[0;34m\u001b[0m\u001b[0m\n\u001b[0;32m-> 1060\u001b[0;31m         \u001b[0;32melif\u001b[0m \u001b[0mlock\u001b[0m\u001b[0;34m.\u001b[0m\u001b[0macquire\u001b[0m\u001b[0;34m(\u001b[0m\u001b[0mblock\u001b[0m\u001b[0;34m,\u001b[0m \u001b[0mtimeout\u001b[0m\u001b[0;34m)\u001b[0m\u001b[0;34m:\u001b[0m\u001b[0;34m\u001b[0m\u001b[0;34m\u001b[0m\u001b[0m\n\u001b[0m\u001b[1;32m   1061\u001b[0m             \u001b[0mlock\u001b[0m\u001b[0;34m.\u001b[0m\u001b[0mrelease\u001b[0m\u001b[0;34m(\u001b[0m\u001b[0;34m)\u001b[0m\u001b[0;34m\u001b[0m\u001b[0;34m\u001b[0m\u001b[0m\n\u001b[1;32m   1062\u001b[0m             \u001b[0mself\u001b[0m\u001b[0;34m.\u001b[0m\u001b[0m_stop\u001b[0m\u001b[0;34m(\u001b[0m\u001b[0;34m)\u001b[0m\u001b[0;34m\u001b[0m\u001b[0;34m\u001b[0m\u001b[0m\n",
            "\u001b[0;31mKeyboardInterrupt\u001b[0m: "
          ]
        }
      ]
    },
    {
      "cell_type": "code",
      "source": [
        "visibility_df.info()"
      ],
      "metadata": {
        "id": "b8az2AVY-a2d"
      },
      "execution_count": null,
      "outputs": []
    },
    {
      "cell_type": "code",
      "source": [
        "visibility_df.groupby(by=[\"parameter\", \"station_id\"]).count() #only station 430 has data"
      ],
      "metadata": {
        "id": "1D6GQQcI-rhb"
      },
      "execution_count": null,
      "outputs": []
    },
    {
      "cell_type": "code",
      "source": [
        "#save visibility data\n",
        "path = '/content/drive/My Drive/data/raw/visibility.csv'\n",
        "\n",
        "with open(path, 'w', encoding = 'utf-8-sig') as f:\n",
        "  visibility_df.to_csv(f)\n",
        "\n",
        "  #saving data - station info\n",
        "path = '/content/drive/My Drive/data/raw/visibility_stations.csv'\n",
        "\n",
        "with open(path, 'w', encoding = 'utf-8-sig') as f:\n",
        "  visibility.df.to_csv(f)"
      ],
      "metadata": {
        "id": "s9D3OznL_3K0"
      },
      "execution_count": null,
      "outputs": []
    },
    {
      "cell_type": "markdown",
      "metadata": {
        "id": "_rS2egqojy6I"
      },
      "source": [
        "# Data recodes and checks"
      ]
    },
    {
      "cell_type": "markdown",
      "metadata": {
        "id": "iKKDOcsnjM9_"
      },
      "source": [
        "## Temperature"
      ]
    },
    {
      "cell_type": "code",
      "execution_count": 423,
      "metadata": {
        "colab": {
          "base_uri": "https://localhost:8080/"
        },
        "id": "GFyunjW2ycYh",
        "outputId": "6b056671-9892-49cb-b568-ff04c8ead8d5"
      },
      "outputs": [
        {
          "output_type": "stream",
          "name": "stdout",
          "text": [
            "Drive already mounted at /content/drive; to attempt to forcibly remount, call drive.mount(\"/content/drive\", force_remount=True).\n"
          ]
        }
      ],
      "source": [
        "#loading data\n",
        "drive.mount(\"/content/drive\")\n",
        "path = '/content/drive/My Drive/data/raw/temperature.csv'\n",
        "temperature_df = pd.read_csv(path)"
      ]
    },
    {
      "cell_type": "code",
      "execution_count": 424,
      "metadata": {
        "id": "rRkKa_JewMHl"
      },
      "outputs": [],
      "source": [
        "#Now in the clean_cols function\n",
        "###temperature_df.rename(columns={ temperature_df.columns[0]: \"col_id\" }, inplace=True)\n",
        "###temperature_df.set_index(\"col_id\", inplace=True)\n",
        "###temperature_df['year'] = pd.DatetimeIndex(temperature_df['date']).year\n",
        "###temperature_df['month'] = pd.DatetimeIndex(temperature_df['date']).month\n",
        "###temperature_df['day'] = pd.DatetimeIndex(temperature_df['date']).day\n",
        "###temperature_df['hour'] = pd.DatetimeIndex(temperature_df['date']).hour\n",
        "###temperature_df = temperature_df[temperature_df[\"year\"] != 2021]\n",
        "###\n",
        "###import datetime\n",
        "###temperature_df.loc[:, \"weekday\"] = pd.DatetimeIndex(temperature_df['date']).dayofweek\n",
        "###temperature_df[\"weekday\"] = temperature_df[\"weekday\"] + 1\n",
        "###temperature_df.loc[:, \"time\"] = pd.to_datetime(temperature_df[['year', 'month', 'weekday', \"hour\"]]) #can't create with weekday\n",
        "###temperature_df[\"weekday\"] = temperature_df[[\"date\"]].dt.dayofweek"
      ]
    },
    {
      "cell_type": "code",
      "source": [
        "#temperature_df[\"day\"].value_counts()"
      ],
      "metadata": {
        "id": "wKTwKeRYAryc"
      },
      "execution_count": 425,
      "outputs": []
    },
    {
      "cell_type": "code",
      "source": [
        "#temperature_df[\"weekday\"].value_counts()"
      ],
      "metadata": {
        "id": "dyMCaOJoEjtJ"
      },
      "execution_count": 426,
      "outputs": []
    },
    {
      "cell_type": "code",
      "source": [
        "####getting average per weekday - now in clean_cols function\n",
        "###temperature_day_average = temperature_df.groupby(by=[\"year\", \"month\", \"weekday\", \"hour\", \"station_id\", \"parameter\"]).mean()\n",
        "###temperature_day_average = temperature_day_average.reset_index()\n",
        "###temperature_day_average[temperature_day_average[\"year\"]==2018]\n",
        "###temperature_day_average.head(20)"
      ],
      "metadata": {
        "id": "r-vIbj07E7R8"
      },
      "execution_count": 427,
      "outputs": []
    },
    {
      "cell_type": "code",
      "source": [
        "#temperature_day_average.info()"
      ],
      "metadata": {
        "id": "20YAHecoPVFz"
      },
      "execution_count": 428,
      "outputs": []
    },
    {
      "cell_type": "code",
      "execution_count": 429,
      "metadata": {
        "id": "xKg2f574prPj"
      },
      "outputs": [],
      "source": [
        "#temperature_df.info()"
      ]
    },
    {
      "cell_type": "code",
      "execution_count": 430,
      "metadata": {
        "id": "SUqL2aFEmohW"
      },
      "outputs": [],
      "source": [
        "#temperature_df.head(10)"
      ]
    },
    {
      "cell_type": "code",
      "execution_count": 431,
      "metadata": {
        "id": "OpghETABzYgE"
      },
      "outputs": [],
      "source": [
        "#temperature_df.groupby(by=[\"station_id\", \"year\"]).count() #number of non-missing data per station and year"
      ]
    },
    {
      "cell_type": "code",
      "execution_count": 432,
      "metadata": {
        "id": "UbeZwrpH2she"
      },
      "outputs": [],
      "source": [
        "#temperature_df.groupby(by=[\"parameter\"]).count() #values per parameter, hourly has less parameters? mjust humidity and temperature_air_mean_200"
      ]
    },
    {
      "cell_type": "code",
      "execution_count": 433,
      "metadata": {
        "id": "GjNJSOG67Nz1"
      },
      "outputs": [],
      "source": [
        "#temperature_df.groupby(by=[\"month\", \"parameter\"]).mean() #checking that means make sense"
      ]
    },
    {
      "cell_type": "markdown",
      "metadata": {
        "id": "bXS_NrNAjU_k"
      },
      "source": [
        "## Precipitation"
      ]
    },
    {
      "cell_type": "code",
      "execution_count": 458,
      "metadata": {
        "id": "v5hZzb3PjXzY"
      },
      "outputs": [],
      "source": [
        "#loading data\n",
        "#drive.mount(\"/content/drive\")\n",
        "path = '/content/drive/My Drive/data/raw/precipitation.csv'\n",
        "precipitation_df = pd.read_csv(path)"
      ]
    },
    {
      "cell_type": "code",
      "execution_count": 459,
      "metadata": {
        "id": "eQKaEy03kmvn"
      },
      "outputs": [],
      "source": [
        "#precipitation = clean_cols(precipitation_df)"
      ]
    },
    {
      "cell_type": "code",
      "execution_count": 460,
      "metadata": {
        "id": "dEFhg4B_j2wH"
      },
      "outputs": [],
      "source": [
        "#precipitation.groupby(by=[\"year\", \"month\", \"parameter\"]).mean()"
      ]
    },
    {
      "cell_type": "code",
      "execution_count": 461,
      "metadata": {
        "id": "umq0GZCCl4GE"
      },
      "outputs": [],
      "source": [
        "#precipitation.groupby(by=[\"station_id\", \"parameter\"]).count()"
      ]
    },
    {
      "cell_type": "code",
      "execution_count": 462,
      "metadata": {
        "id": "i2GmYjA1xdRK"
      },
      "outputs": [],
      "source": [
        "#precipitation.info()"
      ]
    },
    {
      "cell_type": "markdown",
      "source": [
        "## Visibility"
      ],
      "metadata": {
        "id": "Ajzvr6-_fNm5"
      }
    },
    {
      "cell_type": "code",
      "source": [
        "#load data\n",
        "path = '/content/drive/My Drive/data/raw/visibility.csv'\n",
        "visibility = pd.read_csv(path)"
      ],
      "metadata": {
        "id": "yfnIQyEtfRat"
      },
      "execution_count": 473,
      "outputs": []
    },
    {
      "cell_type": "code",
      "source": [
        "visibility.info()"
      ],
      "metadata": {
        "colab": {
          "base_uri": "https://localhost:8080/"
        },
        "id": "7i-D6GQ-f_AA",
        "outputId": "ed881c43-e30d-4424-a5d0-a82010cf90e8"
      },
      "execution_count": 474,
      "outputs": [
        {
          "output_type": "stream",
          "name": "stdout",
          "text": [
            "<class 'pandas.core.frame.DataFrame'>\n",
            "RangeIndex: 131525 entries, 0 to 131524\n",
            "Data columns (total 7 columns):\n",
            " #   Column      Non-Null Count   Dtype  \n",
            "---  ------      --------------   -----  \n",
            " 0   Unnamed: 0  131525 non-null  int64  \n",
            " 1   station_id  131525 non-null  int64  \n",
            " 2   dataset     131525 non-null  object \n",
            " 3   parameter   131525 non-null  object \n",
            " 4   date        131525 non-null  object \n",
            " 5   value       26300 non-null   float64\n",
            " 6   quality     26300 non-null   float64\n",
            "dtypes: float64(2), int64(2), object(3)\n",
            "memory usage: 7.0+ MB\n"
          ]
        }
      ]
    },
    {
      "cell_type": "code",
      "source": [
        "visibility.head()"
      ],
      "metadata": {
        "colab": {
          "base_uri": "https://localhost:8080/",
          "height": 0
        },
        "id": "G07xq3sRnnZT",
        "outputId": "0e75e34e-d5e9-4d46-d0ef-86c524138425"
      },
      "execution_count": 475,
      "outputs": [
        {
          "output_type": "execute_result",
          "data": {
            "text/plain": [
              "   Unnamed: 0  station_id     dataset   parameter                       date  \\\n",
              "0           0         400  visibility  visibility  2018-01-01 00:00:00+00:00   \n",
              "1           1         400  visibility  visibility  2018-01-01 01:00:00+00:00   \n",
              "2           2         400  visibility  visibility  2018-01-01 02:00:00+00:00   \n",
              "3           3         400  visibility  visibility  2018-01-01 03:00:00+00:00   \n",
              "4           4         400  visibility  visibility  2018-01-01 04:00:00+00:00   \n",
              "\n",
              "   value  quality  \n",
              "0    NaN      NaN  \n",
              "1    NaN      NaN  \n",
              "2    NaN      NaN  \n",
              "3    NaN      NaN  \n",
              "4    NaN      NaN  "
            ],
            "text/html": [
              "\n",
              "  <div id=\"df-95225b01-e52a-4e78-9b74-da5d7158130d\">\n",
              "    <div class=\"colab-df-container\">\n",
              "      <div>\n",
              "<style scoped>\n",
              "    .dataframe tbody tr th:only-of-type {\n",
              "        vertical-align: middle;\n",
              "    }\n",
              "\n",
              "    .dataframe tbody tr th {\n",
              "        vertical-align: top;\n",
              "    }\n",
              "\n",
              "    .dataframe thead th {\n",
              "        text-align: right;\n",
              "    }\n",
              "</style>\n",
              "<table border=\"1\" class=\"dataframe\">\n",
              "  <thead>\n",
              "    <tr style=\"text-align: right;\">\n",
              "      <th></th>\n",
              "      <th>Unnamed: 0</th>\n",
              "      <th>station_id</th>\n",
              "      <th>dataset</th>\n",
              "      <th>parameter</th>\n",
              "      <th>date</th>\n",
              "      <th>value</th>\n",
              "      <th>quality</th>\n",
              "    </tr>\n",
              "  </thead>\n",
              "  <tbody>\n",
              "    <tr>\n",
              "      <th>0</th>\n",
              "      <td>0</td>\n",
              "      <td>400</td>\n",
              "      <td>visibility</td>\n",
              "      <td>visibility</td>\n",
              "      <td>2018-01-01 00:00:00+00:00</td>\n",
              "      <td>NaN</td>\n",
              "      <td>NaN</td>\n",
              "    </tr>\n",
              "    <tr>\n",
              "      <th>1</th>\n",
              "      <td>1</td>\n",
              "      <td>400</td>\n",
              "      <td>visibility</td>\n",
              "      <td>visibility</td>\n",
              "      <td>2018-01-01 01:00:00+00:00</td>\n",
              "      <td>NaN</td>\n",
              "      <td>NaN</td>\n",
              "    </tr>\n",
              "    <tr>\n",
              "      <th>2</th>\n",
              "      <td>2</td>\n",
              "      <td>400</td>\n",
              "      <td>visibility</td>\n",
              "      <td>visibility</td>\n",
              "      <td>2018-01-01 02:00:00+00:00</td>\n",
              "      <td>NaN</td>\n",
              "      <td>NaN</td>\n",
              "    </tr>\n",
              "    <tr>\n",
              "      <th>3</th>\n",
              "      <td>3</td>\n",
              "      <td>400</td>\n",
              "      <td>visibility</td>\n",
              "      <td>visibility</td>\n",
              "      <td>2018-01-01 03:00:00+00:00</td>\n",
              "      <td>NaN</td>\n",
              "      <td>NaN</td>\n",
              "    </tr>\n",
              "    <tr>\n",
              "      <th>4</th>\n",
              "      <td>4</td>\n",
              "      <td>400</td>\n",
              "      <td>visibility</td>\n",
              "      <td>visibility</td>\n",
              "      <td>2018-01-01 04:00:00+00:00</td>\n",
              "      <td>NaN</td>\n",
              "      <td>NaN</td>\n",
              "    </tr>\n",
              "  </tbody>\n",
              "</table>\n",
              "</div>\n",
              "      <button class=\"colab-df-convert\" onclick=\"convertToInteractive('df-95225b01-e52a-4e78-9b74-da5d7158130d')\"\n",
              "              title=\"Convert this dataframe to an interactive table.\"\n",
              "              style=\"display:none;\">\n",
              "        \n",
              "  <svg xmlns=\"http://www.w3.org/2000/svg\" height=\"24px\"viewBox=\"0 0 24 24\"\n",
              "       width=\"24px\">\n",
              "    <path d=\"M0 0h24v24H0V0z\" fill=\"none\"/>\n",
              "    <path d=\"M18.56 5.44l.94 2.06.94-2.06 2.06-.94-2.06-.94-.94-2.06-.94 2.06-2.06.94zm-11 1L8.5 8.5l.94-2.06 2.06-.94-2.06-.94L8.5 2.5l-.94 2.06-2.06.94zm10 10l.94 2.06.94-2.06 2.06-.94-2.06-.94-.94-2.06-.94 2.06-2.06.94z\"/><path d=\"M17.41 7.96l-1.37-1.37c-.4-.4-.92-.59-1.43-.59-.52 0-1.04.2-1.43.59L10.3 9.45l-7.72 7.72c-.78.78-.78 2.05 0 2.83L4 21.41c.39.39.9.59 1.41.59.51 0 1.02-.2 1.41-.59l7.78-7.78 2.81-2.81c.8-.78.8-2.07 0-2.86zM5.41 20L4 18.59l7.72-7.72 1.47 1.35L5.41 20z\"/>\n",
              "  </svg>\n",
              "      </button>\n",
              "      \n",
              "  <style>\n",
              "    .colab-df-container {\n",
              "      display:flex;\n",
              "      flex-wrap:wrap;\n",
              "      gap: 12px;\n",
              "    }\n",
              "\n",
              "    .colab-df-convert {\n",
              "      background-color: #E8F0FE;\n",
              "      border: none;\n",
              "      border-radius: 50%;\n",
              "      cursor: pointer;\n",
              "      display: none;\n",
              "      fill: #1967D2;\n",
              "      height: 32px;\n",
              "      padding: 0 0 0 0;\n",
              "      width: 32px;\n",
              "    }\n",
              "\n",
              "    .colab-df-convert:hover {\n",
              "      background-color: #E2EBFA;\n",
              "      box-shadow: 0px 1px 2px rgba(60, 64, 67, 0.3), 0px 1px 3px 1px rgba(60, 64, 67, 0.15);\n",
              "      fill: #174EA6;\n",
              "    }\n",
              "\n",
              "    [theme=dark] .colab-df-convert {\n",
              "      background-color: #3B4455;\n",
              "      fill: #D2E3FC;\n",
              "    }\n",
              "\n",
              "    [theme=dark] .colab-df-convert:hover {\n",
              "      background-color: #434B5C;\n",
              "      box-shadow: 0px 1px 3px 1px rgba(0, 0, 0, 0.15);\n",
              "      filter: drop-shadow(0px 1px 2px rgba(0, 0, 0, 0.3));\n",
              "      fill: #FFFFFF;\n",
              "    }\n",
              "  </style>\n",
              "\n",
              "      <script>\n",
              "        const buttonEl =\n",
              "          document.querySelector('#df-95225b01-e52a-4e78-9b74-da5d7158130d button.colab-df-convert');\n",
              "        buttonEl.style.display =\n",
              "          google.colab.kernel.accessAllowed ? 'block' : 'none';\n",
              "\n",
              "        async function convertToInteractive(key) {\n",
              "          const element = document.querySelector('#df-95225b01-e52a-4e78-9b74-da5d7158130d');\n",
              "          const dataTable =\n",
              "            await google.colab.kernel.invokeFunction('convertToInteractive',\n",
              "                                                     [key], {});\n",
              "          if (!dataTable) return;\n",
              "\n",
              "          const docLinkHtml = 'Like what you see? Visit the ' +\n",
              "            '<a target=\"_blank\" href=https://colab.research.google.com/notebooks/data_table.ipynb>data table notebook</a>'\n",
              "            + ' to learn more about interactive tables.';\n",
              "          element.innerHTML = '';\n",
              "          dataTable['output_type'] = 'display_data';\n",
              "          await google.colab.output.renderOutput(dataTable, element);\n",
              "          const docLink = document.createElement('div');\n",
              "          docLink.innerHTML = docLinkHtml;\n",
              "          element.appendChild(docLink);\n",
              "        }\n",
              "      </script>\n",
              "    </div>\n",
              "  </div>\n",
              "  "
            ]
          },
          "metadata": {},
          "execution_count": 475
        }
      ]
    },
    {
      "cell_type": "code",
      "source": [
        "#checking the number of data points\n",
        "vis = visibility.copy()\n",
        "vis[\"year\"] = pd.DatetimeIndex(vis[\"date\"]).year\n",
        "\n",
        "vis[vis[\"station_id\"] == 430].groupby(by = vis[\"year\"]).count()"
      ],
      "metadata": {
        "colab": {
          "base_uri": "https://localhost:8080/",
          "height": 0
        },
        "id": "n1Y0WHDIfTp5",
        "outputId": "e813154b-2871-4749-c942-7c9931768416"
      },
      "execution_count": 476,
      "outputs": [
        {
          "output_type": "execute_result",
          "data": {
            "text/plain": [
              "      Unnamed: 0  station_id  dataset  parameter  date  value  quality  year\n",
              "year                                                                        \n",
              "2018        8760        8760     8760       8760  8760   8760     8760  8760\n",
              "2019        8760        8760     8760       8760  8760   8760     8760  8760\n",
              "2020        8784        8784     8784       8784  8784   8779     8779  8784\n",
              "2021           1           1        1          1     1      1        1     1"
            ],
            "text/html": [
              "\n",
              "  <div id=\"df-6eff0f7b-5235-426e-877a-e09d7021043b\">\n",
              "    <div class=\"colab-df-container\">\n",
              "      <div>\n",
              "<style scoped>\n",
              "    .dataframe tbody tr th:only-of-type {\n",
              "        vertical-align: middle;\n",
              "    }\n",
              "\n",
              "    .dataframe tbody tr th {\n",
              "        vertical-align: top;\n",
              "    }\n",
              "\n",
              "    .dataframe thead th {\n",
              "        text-align: right;\n",
              "    }\n",
              "</style>\n",
              "<table border=\"1\" class=\"dataframe\">\n",
              "  <thead>\n",
              "    <tr style=\"text-align: right;\">\n",
              "      <th></th>\n",
              "      <th>Unnamed: 0</th>\n",
              "      <th>station_id</th>\n",
              "      <th>dataset</th>\n",
              "      <th>parameter</th>\n",
              "      <th>date</th>\n",
              "      <th>value</th>\n",
              "      <th>quality</th>\n",
              "      <th>year</th>\n",
              "    </tr>\n",
              "    <tr>\n",
              "      <th>year</th>\n",
              "      <th></th>\n",
              "      <th></th>\n",
              "      <th></th>\n",
              "      <th></th>\n",
              "      <th></th>\n",
              "      <th></th>\n",
              "      <th></th>\n",
              "      <th></th>\n",
              "    </tr>\n",
              "  </thead>\n",
              "  <tbody>\n",
              "    <tr>\n",
              "      <th>2018</th>\n",
              "      <td>8760</td>\n",
              "      <td>8760</td>\n",
              "      <td>8760</td>\n",
              "      <td>8760</td>\n",
              "      <td>8760</td>\n",
              "      <td>8760</td>\n",
              "      <td>8760</td>\n",
              "      <td>8760</td>\n",
              "    </tr>\n",
              "    <tr>\n",
              "      <th>2019</th>\n",
              "      <td>8760</td>\n",
              "      <td>8760</td>\n",
              "      <td>8760</td>\n",
              "      <td>8760</td>\n",
              "      <td>8760</td>\n",
              "      <td>8760</td>\n",
              "      <td>8760</td>\n",
              "      <td>8760</td>\n",
              "    </tr>\n",
              "    <tr>\n",
              "      <th>2020</th>\n",
              "      <td>8784</td>\n",
              "      <td>8784</td>\n",
              "      <td>8784</td>\n",
              "      <td>8784</td>\n",
              "      <td>8784</td>\n",
              "      <td>8779</td>\n",
              "      <td>8779</td>\n",
              "      <td>8784</td>\n",
              "    </tr>\n",
              "    <tr>\n",
              "      <th>2021</th>\n",
              "      <td>1</td>\n",
              "      <td>1</td>\n",
              "      <td>1</td>\n",
              "      <td>1</td>\n",
              "      <td>1</td>\n",
              "      <td>1</td>\n",
              "      <td>1</td>\n",
              "      <td>1</td>\n",
              "    </tr>\n",
              "  </tbody>\n",
              "</table>\n",
              "</div>\n",
              "      <button class=\"colab-df-convert\" onclick=\"convertToInteractive('df-6eff0f7b-5235-426e-877a-e09d7021043b')\"\n",
              "              title=\"Convert this dataframe to an interactive table.\"\n",
              "              style=\"display:none;\">\n",
              "        \n",
              "  <svg xmlns=\"http://www.w3.org/2000/svg\" height=\"24px\"viewBox=\"0 0 24 24\"\n",
              "       width=\"24px\">\n",
              "    <path d=\"M0 0h24v24H0V0z\" fill=\"none\"/>\n",
              "    <path d=\"M18.56 5.44l.94 2.06.94-2.06 2.06-.94-2.06-.94-.94-2.06-.94 2.06-2.06.94zm-11 1L8.5 8.5l.94-2.06 2.06-.94-2.06-.94L8.5 2.5l-.94 2.06-2.06.94zm10 10l.94 2.06.94-2.06 2.06-.94-2.06-.94-.94-2.06-.94 2.06-2.06.94z\"/><path d=\"M17.41 7.96l-1.37-1.37c-.4-.4-.92-.59-1.43-.59-.52 0-1.04.2-1.43.59L10.3 9.45l-7.72 7.72c-.78.78-.78 2.05 0 2.83L4 21.41c.39.39.9.59 1.41.59.51 0 1.02-.2 1.41-.59l7.78-7.78 2.81-2.81c.8-.78.8-2.07 0-2.86zM5.41 20L4 18.59l7.72-7.72 1.47 1.35L5.41 20z\"/>\n",
              "  </svg>\n",
              "      </button>\n",
              "      \n",
              "  <style>\n",
              "    .colab-df-container {\n",
              "      display:flex;\n",
              "      flex-wrap:wrap;\n",
              "      gap: 12px;\n",
              "    }\n",
              "\n",
              "    .colab-df-convert {\n",
              "      background-color: #E8F0FE;\n",
              "      border: none;\n",
              "      border-radius: 50%;\n",
              "      cursor: pointer;\n",
              "      display: none;\n",
              "      fill: #1967D2;\n",
              "      height: 32px;\n",
              "      padding: 0 0 0 0;\n",
              "      width: 32px;\n",
              "    }\n",
              "\n",
              "    .colab-df-convert:hover {\n",
              "      background-color: #E2EBFA;\n",
              "      box-shadow: 0px 1px 2px rgba(60, 64, 67, 0.3), 0px 1px 3px 1px rgba(60, 64, 67, 0.15);\n",
              "      fill: #174EA6;\n",
              "    }\n",
              "\n",
              "    [theme=dark] .colab-df-convert {\n",
              "      background-color: #3B4455;\n",
              "      fill: #D2E3FC;\n",
              "    }\n",
              "\n",
              "    [theme=dark] .colab-df-convert:hover {\n",
              "      background-color: #434B5C;\n",
              "      box-shadow: 0px 1px 3px 1px rgba(0, 0, 0, 0.15);\n",
              "      filter: drop-shadow(0px 1px 2px rgba(0, 0, 0, 0.3));\n",
              "      fill: #FFFFFF;\n",
              "    }\n",
              "  </style>\n",
              "\n",
              "      <script>\n",
              "        const buttonEl =\n",
              "          document.querySelector('#df-6eff0f7b-5235-426e-877a-e09d7021043b button.colab-df-convert');\n",
              "        buttonEl.style.display =\n",
              "          google.colab.kernel.accessAllowed ? 'block' : 'none';\n",
              "\n",
              "        async function convertToInteractive(key) {\n",
              "          const element = document.querySelector('#df-6eff0f7b-5235-426e-877a-e09d7021043b');\n",
              "          const dataTable =\n",
              "            await google.colab.kernel.invokeFunction('convertToInteractive',\n",
              "                                                     [key], {});\n",
              "          if (!dataTable) return;\n",
              "\n",
              "          const docLinkHtml = 'Like what you see? Visit the ' +\n",
              "            '<a target=\"_blank\" href=https://colab.research.google.com/notebooks/data_table.ipynb>data table notebook</a>'\n",
              "            + ' to learn more about interactive tables.';\n",
              "          element.innerHTML = '';\n",
              "          dataTable['output_type'] = 'display_data';\n",
              "          await google.colab.output.renderOutput(dataTable, element);\n",
              "          const docLink = document.createElement('div');\n",
              "          docLink.innerHTML = docLinkHtml;\n",
              "          element.appendChild(docLink);\n",
              "        }\n",
              "      </script>\n",
              "    </div>\n",
              "  </div>\n",
              "  "
            ]
          },
          "metadata": {},
          "execution_count": 476
        }
      ]
    },
    {
      "cell_type": "markdown",
      "metadata": {
        "id": "5RuH0tDk1G-h"
      },
      "source": [
        "## Collision data and weather stations"
      ]
    },
    {
      "cell_type": "code",
      "execution_count": 200,
      "metadata": {
        "id": "Fj2qnHXh15lQ",
        "colab": {
          "base_uri": "https://localhost:8080/"
        },
        "outputId": "d4e34376-7c97-45cf-cea2-61e589caefcd"
      },
      "outputs": [
        {
          "output_type": "stream",
          "name": "stdout",
          "text": [
            "Drive already mounted at /content/drive; to attempt to forcibly remount, call drive.mount(\"/content/drive\", force_remount=True).\n"
          ]
        }
      ],
      "source": [
        "#collision data\n",
        "#drive.mount(\"/content/drive\")\n",
        "#path = '/content/drive/MyDrive/data/output/collisions_shp.dbf'\n",
        "#collision = gpd.read_file(path)"
      ]
    },
    {
      "cell_type": "markdown",
      "source": [
        "## Weather stations"
      ],
      "metadata": {
        "id": "iK6HY3JJf09S"
      }
    },
    {
      "cell_type": "code",
      "execution_count": 31,
      "metadata": {
        "id": "jgLapJCP8Un3"
      },
      "outputs": [],
      "source": [
        "#weather stations - temperature dataset\n",
        "path = '/content/drive/My Drive/data/raw/temperature_stations.csv'\n",
        "stations = pd.read_csv(path)"
      ]
    },
    {
      "cell_type": "code",
      "execution_count": 32,
      "metadata": {
        "id": "VdBLHuHbnktE"
      },
      "outputs": [],
      "source": [
        "#weather stations - precipitation dataset\n",
        "path = '/content/drive/My Drive/data/raw/precipitation_stations.csv'\n",
        "stations_precipitation = pd.read_csv(path)"
      ]
    },
    {
      "cell_type": "code",
      "source": [
        "#weather stations - visibility dataset - only one station\n",
        "#path = \"/content/drive/My_Drive/data/raw/visibility_stations.csv\"\n",
        "#stations_visibility = pd.read_csv(path)"
      ],
      "metadata": {
        "id": "UkBrxToifelU",
        "colab": {
          "base_uri": "https://localhost:8080/",
          "height": 346
        },
        "outputId": "1ed19d48-edba-45bb-cc75-9b15d01a8f1f"
      },
      "execution_count": 33,
      "outputs": [
        {
          "output_type": "error",
          "ename": "FileNotFoundError",
          "evalue": "ignored",
          "traceback": [
            "\u001b[0;31m---------------------------------------------------------------------------\u001b[0m",
            "\u001b[0;31mFileNotFoundError\u001b[0m                         Traceback (most recent call last)",
            "\u001b[0;32m<ipython-input-33-1c2347245067>\u001b[0m in \u001b[0;36m<module>\u001b[0;34m()\u001b[0m\n\u001b[1;32m      1\u001b[0m \u001b[0;31m#weather stations - visibility dataset\u001b[0m\u001b[0;34m\u001b[0m\u001b[0;34m\u001b[0m\u001b[0;34m\u001b[0m\u001b[0m\n\u001b[1;32m      2\u001b[0m \u001b[0mpath\u001b[0m \u001b[0;34m=\u001b[0m \u001b[0;34m\"/content/drive/My_Drive/data/raw/visibility_stations.csv\"\u001b[0m\u001b[0;34m\u001b[0m\u001b[0;34m\u001b[0m\u001b[0m\n\u001b[0;32m----> 3\u001b[0;31m \u001b[0mstations_visibility\u001b[0m \u001b[0;34m=\u001b[0m \u001b[0mpd\u001b[0m\u001b[0;34m.\u001b[0m\u001b[0mread_csv\u001b[0m\u001b[0;34m(\u001b[0m\u001b[0mpath\u001b[0m\u001b[0;34m)\u001b[0m\u001b[0;34m\u001b[0m\u001b[0;34m\u001b[0m\u001b[0m\n\u001b[0m",
            "\u001b[0;32m/usr/local/lib/python3.7/dist-packages/pandas/util/_decorators.py\u001b[0m in \u001b[0;36mwrapper\u001b[0;34m(*args, **kwargs)\u001b[0m\n\u001b[1;32m    309\u001b[0m                     \u001b[0mstacklevel\u001b[0m\u001b[0;34m=\u001b[0m\u001b[0mstacklevel\u001b[0m\u001b[0;34m,\u001b[0m\u001b[0;34m\u001b[0m\u001b[0;34m\u001b[0m\u001b[0m\n\u001b[1;32m    310\u001b[0m                 )\n\u001b[0;32m--> 311\u001b[0;31m             \u001b[0;32mreturn\u001b[0m \u001b[0mfunc\u001b[0m\u001b[0;34m(\u001b[0m\u001b[0;34m*\u001b[0m\u001b[0margs\u001b[0m\u001b[0;34m,\u001b[0m \u001b[0;34m**\u001b[0m\u001b[0mkwargs\u001b[0m\u001b[0;34m)\u001b[0m\u001b[0;34m\u001b[0m\u001b[0;34m\u001b[0m\u001b[0m\n\u001b[0m\u001b[1;32m    312\u001b[0m \u001b[0;34m\u001b[0m\u001b[0m\n\u001b[1;32m    313\u001b[0m         \u001b[0;32mreturn\u001b[0m \u001b[0mwrapper\u001b[0m\u001b[0;34m\u001b[0m\u001b[0;34m\u001b[0m\u001b[0m\n",
            "\u001b[0;32m/usr/local/lib/python3.7/dist-packages/pandas/io/parsers/readers.py\u001b[0m in \u001b[0;36mread_csv\u001b[0;34m(filepath_or_buffer, sep, delimiter, header, names, index_col, usecols, squeeze, prefix, mangle_dupe_cols, dtype, engine, converters, true_values, false_values, skipinitialspace, skiprows, skipfooter, nrows, na_values, keep_default_na, na_filter, verbose, skip_blank_lines, parse_dates, infer_datetime_format, keep_date_col, date_parser, dayfirst, cache_dates, iterator, chunksize, compression, thousands, decimal, lineterminator, quotechar, quoting, doublequote, escapechar, comment, encoding, encoding_errors, dialect, error_bad_lines, warn_bad_lines, on_bad_lines, delim_whitespace, low_memory, memory_map, float_precision, storage_options)\u001b[0m\n\u001b[1;32m    584\u001b[0m     \u001b[0mkwds\u001b[0m\u001b[0;34m.\u001b[0m\u001b[0mupdate\u001b[0m\u001b[0;34m(\u001b[0m\u001b[0mkwds_defaults\u001b[0m\u001b[0;34m)\u001b[0m\u001b[0;34m\u001b[0m\u001b[0;34m\u001b[0m\u001b[0m\n\u001b[1;32m    585\u001b[0m \u001b[0;34m\u001b[0m\u001b[0m\n\u001b[0;32m--> 586\u001b[0;31m     \u001b[0;32mreturn\u001b[0m \u001b[0m_read\u001b[0m\u001b[0;34m(\u001b[0m\u001b[0mfilepath_or_buffer\u001b[0m\u001b[0;34m,\u001b[0m \u001b[0mkwds\u001b[0m\u001b[0;34m)\u001b[0m\u001b[0;34m\u001b[0m\u001b[0;34m\u001b[0m\u001b[0m\n\u001b[0m\u001b[1;32m    587\u001b[0m \u001b[0;34m\u001b[0m\u001b[0m\n\u001b[1;32m    588\u001b[0m \u001b[0;34m\u001b[0m\u001b[0m\n",
            "\u001b[0;32m/usr/local/lib/python3.7/dist-packages/pandas/io/parsers/readers.py\u001b[0m in \u001b[0;36m_read\u001b[0;34m(filepath_or_buffer, kwds)\u001b[0m\n\u001b[1;32m    480\u001b[0m \u001b[0;34m\u001b[0m\u001b[0m\n\u001b[1;32m    481\u001b[0m     \u001b[0;31m# Create the parser.\u001b[0m\u001b[0;34m\u001b[0m\u001b[0;34m\u001b[0m\u001b[0;34m\u001b[0m\u001b[0m\n\u001b[0;32m--> 482\u001b[0;31m     \u001b[0mparser\u001b[0m \u001b[0;34m=\u001b[0m \u001b[0mTextFileReader\u001b[0m\u001b[0;34m(\u001b[0m\u001b[0mfilepath_or_buffer\u001b[0m\u001b[0;34m,\u001b[0m \u001b[0;34m**\u001b[0m\u001b[0mkwds\u001b[0m\u001b[0;34m)\u001b[0m\u001b[0;34m\u001b[0m\u001b[0;34m\u001b[0m\u001b[0m\n\u001b[0m\u001b[1;32m    483\u001b[0m \u001b[0;34m\u001b[0m\u001b[0m\n\u001b[1;32m    484\u001b[0m     \u001b[0;32mif\u001b[0m \u001b[0mchunksize\u001b[0m \u001b[0;32mor\u001b[0m \u001b[0miterator\u001b[0m\u001b[0;34m:\u001b[0m\u001b[0;34m\u001b[0m\u001b[0;34m\u001b[0m\u001b[0m\n",
            "\u001b[0;32m/usr/local/lib/python3.7/dist-packages/pandas/io/parsers/readers.py\u001b[0m in \u001b[0;36m__init__\u001b[0;34m(self, f, engine, **kwds)\u001b[0m\n\u001b[1;32m    809\u001b[0m             \u001b[0mself\u001b[0m\u001b[0;34m.\u001b[0m\u001b[0moptions\u001b[0m\u001b[0;34m[\u001b[0m\u001b[0;34m\"has_index_names\"\u001b[0m\u001b[0;34m]\u001b[0m \u001b[0;34m=\u001b[0m \u001b[0mkwds\u001b[0m\u001b[0;34m[\u001b[0m\u001b[0;34m\"has_index_names\"\u001b[0m\u001b[0;34m]\u001b[0m\u001b[0;34m\u001b[0m\u001b[0;34m\u001b[0m\u001b[0m\n\u001b[1;32m    810\u001b[0m \u001b[0;34m\u001b[0m\u001b[0m\n\u001b[0;32m--> 811\u001b[0;31m         \u001b[0mself\u001b[0m\u001b[0;34m.\u001b[0m\u001b[0m_engine\u001b[0m \u001b[0;34m=\u001b[0m \u001b[0mself\u001b[0m\u001b[0;34m.\u001b[0m\u001b[0m_make_engine\u001b[0m\u001b[0;34m(\u001b[0m\u001b[0mself\u001b[0m\u001b[0;34m.\u001b[0m\u001b[0mengine\u001b[0m\u001b[0;34m)\u001b[0m\u001b[0;34m\u001b[0m\u001b[0;34m\u001b[0m\u001b[0m\n\u001b[0m\u001b[1;32m    812\u001b[0m \u001b[0;34m\u001b[0m\u001b[0m\n\u001b[1;32m    813\u001b[0m     \u001b[0;32mdef\u001b[0m \u001b[0mclose\u001b[0m\u001b[0;34m(\u001b[0m\u001b[0mself\u001b[0m\u001b[0;34m)\u001b[0m\u001b[0;34m:\u001b[0m\u001b[0;34m\u001b[0m\u001b[0;34m\u001b[0m\u001b[0m\n",
            "\u001b[0;32m/usr/local/lib/python3.7/dist-packages/pandas/io/parsers/readers.py\u001b[0m in \u001b[0;36m_make_engine\u001b[0;34m(self, engine)\u001b[0m\n\u001b[1;32m   1038\u001b[0m             )\n\u001b[1;32m   1039\u001b[0m         \u001b[0;31m# error: Too many arguments for \"ParserBase\"\u001b[0m\u001b[0;34m\u001b[0m\u001b[0;34m\u001b[0m\u001b[0;34m\u001b[0m\u001b[0m\n\u001b[0;32m-> 1040\u001b[0;31m         \u001b[0;32mreturn\u001b[0m \u001b[0mmapping\u001b[0m\u001b[0;34m[\u001b[0m\u001b[0mengine\u001b[0m\u001b[0;34m]\u001b[0m\u001b[0;34m(\u001b[0m\u001b[0mself\u001b[0m\u001b[0;34m.\u001b[0m\u001b[0mf\u001b[0m\u001b[0;34m,\u001b[0m \u001b[0;34m**\u001b[0m\u001b[0mself\u001b[0m\u001b[0;34m.\u001b[0m\u001b[0moptions\u001b[0m\u001b[0;34m)\u001b[0m  \u001b[0;31m# type: ignore[call-arg]\u001b[0m\u001b[0;34m\u001b[0m\u001b[0;34m\u001b[0m\u001b[0m\n\u001b[0m\u001b[1;32m   1041\u001b[0m \u001b[0;34m\u001b[0m\u001b[0m\n\u001b[1;32m   1042\u001b[0m     \u001b[0;32mdef\u001b[0m \u001b[0m_failover_to_python\u001b[0m\u001b[0;34m(\u001b[0m\u001b[0mself\u001b[0m\u001b[0;34m)\u001b[0m\u001b[0;34m:\u001b[0m\u001b[0;34m\u001b[0m\u001b[0;34m\u001b[0m\u001b[0m\n",
            "\u001b[0;32m/usr/local/lib/python3.7/dist-packages/pandas/io/parsers/c_parser_wrapper.py\u001b[0m in \u001b[0;36m__init__\u001b[0;34m(self, src, **kwds)\u001b[0m\n\u001b[1;32m     49\u001b[0m \u001b[0;34m\u001b[0m\u001b[0m\n\u001b[1;32m     50\u001b[0m         \u001b[0;31m# open handles\u001b[0m\u001b[0;34m\u001b[0m\u001b[0;34m\u001b[0m\u001b[0;34m\u001b[0m\u001b[0m\n\u001b[0;32m---> 51\u001b[0;31m         \u001b[0mself\u001b[0m\u001b[0;34m.\u001b[0m\u001b[0m_open_handles\u001b[0m\u001b[0;34m(\u001b[0m\u001b[0msrc\u001b[0m\u001b[0;34m,\u001b[0m \u001b[0mkwds\u001b[0m\u001b[0;34m)\u001b[0m\u001b[0;34m\u001b[0m\u001b[0;34m\u001b[0m\u001b[0m\n\u001b[0m\u001b[1;32m     52\u001b[0m         \u001b[0;32massert\u001b[0m \u001b[0mself\u001b[0m\u001b[0;34m.\u001b[0m\u001b[0mhandles\u001b[0m \u001b[0;32mis\u001b[0m \u001b[0;32mnot\u001b[0m \u001b[0;32mNone\u001b[0m\u001b[0;34m\u001b[0m\u001b[0;34m\u001b[0m\u001b[0m\n\u001b[1;32m     53\u001b[0m \u001b[0;34m\u001b[0m\u001b[0m\n",
            "\u001b[0;32m/usr/local/lib/python3.7/dist-packages/pandas/io/parsers/base_parser.py\u001b[0m in \u001b[0;36m_open_handles\u001b[0;34m(self, src, kwds)\u001b[0m\n\u001b[1;32m    227\u001b[0m             \u001b[0mmemory_map\u001b[0m\u001b[0;34m=\u001b[0m\u001b[0mkwds\u001b[0m\u001b[0;34m.\u001b[0m\u001b[0mget\u001b[0m\u001b[0;34m(\u001b[0m\u001b[0;34m\"memory_map\"\u001b[0m\u001b[0;34m,\u001b[0m \u001b[0;32mFalse\u001b[0m\u001b[0;34m)\u001b[0m\u001b[0;34m,\u001b[0m\u001b[0;34m\u001b[0m\u001b[0;34m\u001b[0m\u001b[0m\n\u001b[1;32m    228\u001b[0m             \u001b[0mstorage_options\u001b[0m\u001b[0;34m=\u001b[0m\u001b[0mkwds\u001b[0m\u001b[0;34m.\u001b[0m\u001b[0mget\u001b[0m\u001b[0;34m(\u001b[0m\u001b[0;34m\"storage_options\"\u001b[0m\u001b[0;34m,\u001b[0m \u001b[0;32mNone\u001b[0m\u001b[0;34m)\u001b[0m\u001b[0;34m,\u001b[0m\u001b[0;34m\u001b[0m\u001b[0;34m\u001b[0m\u001b[0m\n\u001b[0;32m--> 229\u001b[0;31m             \u001b[0merrors\u001b[0m\u001b[0;34m=\u001b[0m\u001b[0mkwds\u001b[0m\u001b[0;34m.\u001b[0m\u001b[0mget\u001b[0m\u001b[0;34m(\u001b[0m\u001b[0;34m\"encoding_errors\"\u001b[0m\u001b[0;34m,\u001b[0m \u001b[0;34m\"strict\"\u001b[0m\u001b[0;34m)\u001b[0m\u001b[0;34m,\u001b[0m\u001b[0;34m\u001b[0m\u001b[0;34m\u001b[0m\u001b[0m\n\u001b[0m\u001b[1;32m    230\u001b[0m         )\n\u001b[1;32m    231\u001b[0m \u001b[0;34m\u001b[0m\u001b[0m\n",
            "\u001b[0;32m/usr/local/lib/python3.7/dist-packages/pandas/io/common.py\u001b[0m in \u001b[0;36mget_handle\u001b[0;34m(path_or_buf, mode, encoding, compression, memory_map, is_text, errors, storage_options)\u001b[0m\n\u001b[1;32m    705\u001b[0m                 \u001b[0mencoding\u001b[0m\u001b[0;34m=\u001b[0m\u001b[0mioargs\u001b[0m\u001b[0;34m.\u001b[0m\u001b[0mencoding\u001b[0m\u001b[0;34m,\u001b[0m\u001b[0;34m\u001b[0m\u001b[0;34m\u001b[0m\u001b[0m\n\u001b[1;32m    706\u001b[0m                 \u001b[0merrors\u001b[0m\u001b[0;34m=\u001b[0m\u001b[0merrors\u001b[0m\u001b[0;34m,\u001b[0m\u001b[0;34m\u001b[0m\u001b[0;34m\u001b[0m\u001b[0m\n\u001b[0;32m--> 707\u001b[0;31m                 \u001b[0mnewline\u001b[0m\u001b[0;34m=\u001b[0m\u001b[0;34m\"\"\u001b[0m\u001b[0;34m,\u001b[0m\u001b[0;34m\u001b[0m\u001b[0;34m\u001b[0m\u001b[0m\n\u001b[0m\u001b[1;32m    708\u001b[0m             )\n\u001b[1;32m    709\u001b[0m         \u001b[0;32melse\u001b[0m\u001b[0;34m:\u001b[0m\u001b[0;34m\u001b[0m\u001b[0;34m\u001b[0m\u001b[0m\n",
            "\u001b[0;31mFileNotFoundError\u001b[0m: [Errno 2] No such file or directory: '/content/drive/My_Drive/data/raw/visibility_stations.csv'"
          ]
        }
      ]
    },
    {
      "cell_type": "markdown",
      "metadata": {
        "id": "tZvyVq3v1wCE"
      },
      "source": [
        "# Data transformations and data extraction"
      ]
    },
    {
      "cell_type": "markdown",
      "source": [
        "## Functions that are applied to all dataframes\n",
        "\n",
        "Getting distances from data points to weather stations and preparing weather databases for merge "
      ],
      "metadata": {
        "id": "U0cbudD89Io9"
      }
    },
    {
      "cell_type": "code",
      "execution_count": 390,
      "metadata": {
        "id": "6d_-GFWDkB4W"
      },
      "outputs": [],
      "source": [
        "def clean_cols(df):\n",
        "  #cleans data types and creates columns to be used later\n",
        "\n",
        "  df.rename(columns={df.columns[0]: \"col_id\" }, inplace=True)\n",
        "  df.set_index(\"col_id\", inplace=True)\n",
        "  \n",
        "  #recoding date to match colision dataframe\n",
        "  df['year'] = pd.DatetimeIndex(df['date']).year\n",
        "  df['month'] = pd.DatetimeIndex(df['date']).month\n",
        "  df['hour'] = pd.DatetimeIndex(df['date']).hour\n",
        "\n",
        "  #getting day of the week to calculate average later\n",
        "  df.loc[:, \"weekday\"] = pd.DatetimeIndex(df['date']).dayofweek #getting day of week from date (Monday = 0, Sunday = 6)\n",
        "  df.loc[:, \"weekday\"] = df[\"weekday\"] + 2 #setting day of week to match collision dataframe where Sunday == 1\n",
        "  df.loc[df[\"weekday\"] == 8, \"weekday\"] = 1\n",
        "\n",
        "  #ADDED! Check if OK\n",
        "  df = df.rename(columns={\"weekday\": \"day\"})\n",
        "\n",
        "  df = df[df[\"year\"] != 2021] #filter 2021 out\n",
        "\n",
        "  return df"
      ]
    },
    {
      "cell_type": "code",
      "source": [
        "def get_average(df):\n",
        "\n",
        "  #takes clean columns of weather dataframe and returns the average value of weather per hour of the day of the month of the year\n",
        "\n",
        "  #calculating the average value of weather per hour of the day of the month\n",
        "  df = df.groupby(by=[\"year\", \"month\", \"day\", \"hour\", \"station_id\", \"parameter\"]).mean() #WEEKDAY CHANGED TO DAY\n",
        "  df = df.reset_index()\n",
        "\n",
        "  return df"
      ],
      "metadata": {
        "id": "gS5X0QPUJvWE"
      },
      "execution_count": 327,
      "outputs": []
    },
    {
      "cell_type": "code",
      "execution_count": 328,
      "metadata": {
        "id": "jH4l-5GMFpRI"
      },
      "outputs": [],
      "source": [
        "def get_distances(collision, stations):\n",
        "\n",
        "  #takes a clean collision geodataframe and stations csv dataframe, returns a dataframe with distances for every collision in collisions dataset\n",
        "\n",
        "  #turn stations dataframe to GeoDataframe\n",
        "  stations = gpd.GeoDataFrame(\n",
        "    stations, geometry=gpd.points_from_xy(stations.longitude, stations.latitude)) #we just need to define where geometry points are saved\n",
        "  stations[\"geometry\"] = stations[\"geometry\"].set_crs(\"EPSG:4326\") #set the geometry to latitude/longitude\n",
        "  \n",
        "  #set projection to calculate distance in meters. points need to already be set to EPSG:4326 #CHECK WITH 3174\n",
        "  collision = collision.to_crs(epsg=3149)\n",
        "  stations = stations.to_crs(epsg=3149)\n",
        "\n",
        "  #dictionary from stations geodataframe\n",
        "  points = stations.set_index(\"station_id\").to_dict()[\"geometry\"] #weather stations into dictionary\n",
        "\n",
        "  #calculate distance\n",
        "  distance = []\n",
        "  for key, value in points.items(): #iterrating over dictionary pairs\n",
        "    d = collision.distance(value).rename(key) #calculating distance from collision dataframe and saving in columns named by the key\n",
        "    distance.append(d)\n",
        "  \n",
        "  return pd.concat(distance, axis=1)"
      ]
    },
    {
      "cell_type": "code",
      "execution_count": 329,
      "metadata": {
        "id": "qL1EsJyZLbWX"
      },
      "outputs": [],
      "source": [
        "def pivot_weather(df, precipitation=False):\n",
        "\n",
        "  #setting data types\n",
        "  df = df.astype(\"object\")\n",
        "\n",
        "  #creating unique indetifier - using weekday instead of day to create a \"timestamp\"\n",
        "  #df = df.rename(columns={\"weekday\": \"day\"})\n",
        "  df[\"datetime\"] = pd.to_datetime(df[['year', 'month', 'day', \"hour\"]])\n",
        "\n",
        "  if precipitation==True:\n",
        "    d = df.pivot_table('value', [\"datetime\", \"station_id\", \"year\", \"month\", \"day\", \"hour\"], 'parameter') #pivoting temperature dataframe, to get weather data\n",
        "    d = d.reset_index()\n",
        "  else: \n",
        "    #pivoting\n",
        "    d = df.pivot_table('value', [\"datetime\", \"station_id\"], 'parameter') #pivoting temperature dataframe, to get weather data\n",
        "    d = d.reset_index()\n",
        "\n",
        "  d[\"station_id\"] = d[\"station_id\"].astype(\"object\") #so that data types are the same for later merge\n",
        "\n",
        "\n",
        "  return d"
      ]
    },
    {
      "cell_type": "code",
      "source": [
        "def get_temperature(collision, distances, temperature):\n",
        "\n",
        "  #takes collision dataframe, distances dataframe and pivoted temperature dataframe and outputs temperature and humidity with col index from collision\n",
        "\n",
        "  collision_d = collision\n",
        "  collision_d[\"st_closest\"] = distances_full.loc[:, \"400\":\"433\"].idxmin(axis=1).astype(\"object\") #geting the station_id of the nearest station\n",
        "  collision_d[\"st_2closest\"] = distances_full.loc[:, \"400\":\"433\"].mask(distances_full.loc[:, \"400\":\"433\"].eq(distances_full.min(axis=1), axis=0)).idxmin(axis=1).astype(\"object\") #getting second closest by masking the closest\n",
        "\n",
        "  #setting datetime for unique identification in collision dataframe\n",
        "  collision_d = collision_d.rename(columns={\"weekday\": \"day\"})\n",
        "  collision_d[\"datetime\"] = pd.to_datetime(collision_d[['year', 'month', 'day', \"hour\"]])\n",
        "\n",
        "  #getting data for the closest and second closest station\n",
        "  collision_d = collision_d.merge(temperature[[\"temperature_air_mean_200\", \"humidity\", \"datetime\", \"station_id\"]], how = \"left\", left_on=[\"datetime\", \"st_closest\"], right_on=[\"datetime\", \"station_id\"]).drop(columns = ['station_id'])\n",
        "  collision_d = collision_d.merge(temperature[[\"temperature_air_mean_200\", \"humidity\", \"datetime\", \"station_id\"]], how = \"left\", left_on=[\"datetime\", \"st_2closest\"], right_on=[\"datetime\", \"station_id\"]).drop(columns = ['station_id'])\n",
        "  \n",
        "  #filling missing data for the closest station with data from the second closest station\n",
        "  collision_d[\"temperature_air_mean_200_x\"] = collision_d[\"temperature_air_mean_200_x\"].fillna(collision_d[\"temperature_air_mean_200_y\"])\n",
        "  collision_d[\"humidity_x\"] = collision_d[\"humidity_x\"].fillna(collision_d[\"humidity_y\"])\n",
        "\n",
        "  #renaming columns\n",
        "  collision_d = collision_d.rename(columns={\"temperature_air_mean_200_x\": \"temperature\", \"humidity_x\": \"humidity\"})\n",
        "\n",
        "  #return collision_d[[\"col_id\", \"objectid\", \"temperature\", \"humidity\"]]\n",
        "  return collision_d[[\"year\", \"month\", \"day\", \"hour\", \"segment_id\", \"temperature\", \"humidity\"]] #for negative samples\n",
        "\n",
        "\n"
      ],
      "metadata": {
        "id": "3lrIyRZevKIZ"
      },
      "execution_count": 446,
      "outputs": []
    },
    {
      "cell_type": "code",
      "source": [
        "def get_precipitation(collision, distances, precipitation):\n",
        "\n",
        "  #takes collision dataframe, distances dataframe and pivoted precipitation dataframe with rolling averages and outputs precipitation hight and duration with col index from collision\n",
        "  \n",
        "  collision_d = collision\n",
        "\n",
        "  #gets closest station for precipitation duration (only two stations with data: 430 & 433)\n",
        "  collision_d[\"st_closest_duration\"] = distances.loc[:, \"430\":\"433\"].idxmin(axis=1).astype(\"object\")\n",
        "  collision_d[\"st_2closest_duration\"] = distances.loc[:, \"430\":\"433\"].mask(distances.loc[:, \"430\":\"433\"].eq(distances.min(axis=1), axis=0)).idxmin(axis=1).astype(\"object\")\n",
        "  \n",
        "  #gets closest station for precipitation hight\n",
        "  collision_d[\"st_closest_height\"] = distances.loc[:, \"400\":\"433\"].idxmin(axis=1).astype(\"object\") #geting the station_id of the nearest station\n",
        "  collision_d[\"st_2closest_height\"] = distances.loc[:, \"400\":\"433\"].mask(distances.loc[:, \"400\":\"433\"].eq(distances.min(axis=1), axis=0)).idxmin(axis=1).astype(\"object\") #getting second closest by masking the closest\n",
        "\n",
        "  #setting datetime for unique identification in collision dataframe\n",
        "  collision_d = collision_d.rename(columns={\"weekday\": \"day\"})\n",
        "  collision_d[\"datetime\"] = pd.to_datetime(collision_d[['year', 'month', 'day', \"hour\"]])\n",
        "  precipitation[\"datetime\"] = pd.to_datetime(precipitation[['year', 'month', 'day', \"hour\"]])\n",
        "\n",
        "  #collision_d[\"hour_before\"] = collision_d[\"datetime\"] - pd.Timedelta(1, unit=\"h\")\n",
        "\n",
        "  #getting precipitation duration\n",
        "  collision_d = collision_d.merge(precipitation[[\"prec_duration\", \"datetime\", \"station_id\"]], how = \"left\", left_on=[\"datetime\", \"st_closest_duration\"], right_on=[\"datetime\", \"station_id\"]).drop(columns = ['station_id'])\n",
        "  collision_d = collision_d.merge(precipitation[[\"prec_duration\", \"datetime\", \"station_id\"]], how = \"left\", left_on=[\"datetime\", \"st_2closest_duration\"], right_on=[\"datetime\", \"station_id\"]).drop(columns = ['station_id'])\n",
        "\n",
        "  #getting precipitation height for the closest and second closest station\n",
        "  collision_d = collision_d.merge(precipitation[[\"prec_height\", \"datetime\", \"station_id\"]], how = \"left\", left_on=[\"datetime\", \"st_closest_height\"], right_on=[\"datetime\", \"station_id\"]).drop(columns = ['station_id'])\n",
        "  collision_d = collision_d.merge(precipitation[[\"prec_height\", \"datetime\", \"station_id\"]], how = \"left\", left_on=[\"datetime\", \"st_2closest_height\"], right_on=[\"datetime\", \"station_id\"]).drop(columns = ['station_id'])\n",
        "  \n",
        "  #filling missing data for precipitation duration and height for the closest station with data from the second closest station\n",
        "  collision_d[\"prec_duration_x\"] = collision_d[\"prec_duration_x\"].fillna(collision_d[\"prec_duration_y\"])\n",
        "  #collision_d[\"prec_duration_x\"] = collision_d[\"prec_duration_x\"].fillna(collision_d[\"prec_duration_x\"].mean()) #fill the rest of the missing with the mean\n",
        "  collision_d[\"prec_height_x\"] = collision_d[\"prec_height_x\"].fillna(collision_d[\"prec_height_y\"])\n",
        "  \n",
        "  #renaming columns\n",
        "  collision_d = collision_d.rename(columns={\"prec_duration_x\":\"prec_duration\",\"prec_height_x\": \"prec_height\"})\n",
        "\n",
        "  #return collision_d[[\"col_id\", \"objectid\", \"prec_duration\", \"prec_height\"]]\n",
        "  return collision_d[[\"year\", \"month\", \"day\", \"hour\", \"segment_id\", \"prec_duration\", \"prec_height\"]] #for negative samples\n"
      ],
      "metadata": {
        "id": "A64JpQ1d2tev"
      },
      "execution_count": 457,
      "outputs": []
    },
    {
      "cell_type": "code",
      "source": [
        "def get_visibility(collision, visibility):\n",
        "\n",
        "  #takes collision dataframe and pivoted visibility dataframe and outputs visibility with col index from collision\n",
        "  #we don't need distances from weather station as there is only one station \n",
        "\n",
        "  collision_d = collision\n",
        "\n",
        "  #setting datetime for unique identification in collision dataframe\n",
        "  collision_d = collision_d.rename(columns={\"weekday\": \"day\"})\n",
        "  collision_d[\"datetime\"] = pd.to_datetime(collision_d[['year', 'month', 'day', \"hour\"]])\n",
        "\n",
        "  #getting visibility\n",
        "  collision_d[\"hour_before\"] = collision_d[\"datetime\"] - pd.Timedelta(1, unit=\"h\") #setting a column for an hour before to fill missing data\n",
        "\n",
        "  collision_d = collision_d.merge(visibility[[\"visibility\", \"datetime\"]], how = \"left\", left_on=\"datetime\", right_on=\"datetime\").drop(columns = [\"datetime\"]) #getting data for the hour of the collision\n",
        "  collision_d = collision_d.merge(visibility[[\"visibility\", \"datetime\"]], how = \"left\", left_on=\"hour_before\", right_on=\"datetime\").drop(columns = [\"datetime\"]) #getting data for hour before\n",
        "\n",
        "  collision_d[\"visibility_x\"] = collision_d[\"visibility_x\"].fillna(collision_d[\"visibility_y\"]) #filling missing data\n",
        "\n",
        "  collision_d = collision_d.rename(columns={\"visibility_x\":\"visibility\"})\n",
        "\n",
        "  #return collision_d[[\"col_id\", \"objectid\", \"visibility\"]]\n",
        "  return collision_d[[\"year\", \"month\", \"day\", \"hour\", \"segment_id\", \"visibility\"]]\n"
      ],
      "metadata": {
        "id": "IY3kmr6qp4pq"
      },
      "execution_count": 482,
      "outputs": []
    },
    {
      "cell_type": "markdown",
      "metadata": {
        "id": "uZROx5KWrNvb"
      },
      "source": [
        "## Temperature"
      ]
    },
    {
      "cell_type": "code",
      "source": [
        "collision.head()"
      ],
      "metadata": {
        "colab": {
          "base_uri": "https://localhost:8080/",
          "height": 473
        },
        "id": "B5MT0UJb7Iop",
        "outputId": "a696462b-040c-4d0d-9126-f7ca32bd752c"
      },
      "execution_count": 367,
      "outputs": [
        {
          "output_type": "execute_result",
          "data": {
            "text/plain": [
              "   col_id objectid land district       LOR                         street  \\\n",
              "0       0   112695   11        2   2050602               Samariterviertel   \n",
              "1       1   112705   11       12  12304314     Ziekowstraße/Freie Scholle   \n",
              "2       2   112726   11        2   2040501                     Barnimkiez   \n",
              "3       3   112737   11        7   7020202  Volkspark (Rudolf-Wilde-Park)   \n",
              "4       4   112747   11        3   3020209              Niederschönhausen   \n",
              "\n",
              "  LOR_ab_202  year month hour  ...      LINREFY  XGCSWGS84  YGCSWGS84  \\\n",
              "0    2500729  2018     1   15  ...  5827580,738  13.475018  52.513597   \n",
              "1   12500824  2018     1   11  ...  5835009,589  13.291022  52.587259   \n",
              "2    2400520  2018     1    9  ...  5828733,523  13.420578  52.526019   \n",
              "3    7200308  2018     1   17  ...  5823525,402  13.348288  52.481844   \n",
              "4    3200206  2018     1   15  ...   5835047,26  13.403228  52.583472   \n",
              "\n",
              "                    geometry st_closest st_2closest st_closest_duration  \\\n",
              "0  POINT (13.47502 52.51360)        420         433                 433   \n",
              "1  POINT (13.29102 52.58726)        430         400                 430   \n",
              "2  POINT (13.42058 52.52602)        433         430                 433   \n",
              "3  POINT (13.34829 52.48184)        433         430                 433   \n",
              "4  POINT (13.40323 52.58347)        430         400                 430   \n",
              "\n",
              "  st_2closest_duration st_closest_height st_2closest_height  \n",
              "0                  433               420                433  \n",
              "1                  433               430                400  \n",
              "2                  430               433                430  \n",
              "3                  430               433                430  \n",
              "4                  433               430                400  \n",
              "\n",
              "[5 rows x 33 columns]"
            ],
            "text/html": [
              "\n",
              "  <div id=\"df-32cebc67-2c60-4286-8307-626ccc76105a\">\n",
              "    <div class=\"colab-df-container\">\n",
              "      <div>\n",
              "<style scoped>\n",
              "    .dataframe tbody tr th:only-of-type {\n",
              "        vertical-align: middle;\n",
              "    }\n",
              "\n",
              "    .dataframe tbody tr th {\n",
              "        vertical-align: top;\n",
              "    }\n",
              "\n",
              "    .dataframe thead th {\n",
              "        text-align: right;\n",
              "    }\n",
              "</style>\n",
              "<table border=\"1\" class=\"dataframe\">\n",
              "  <thead>\n",
              "    <tr style=\"text-align: right;\">\n",
              "      <th></th>\n",
              "      <th>col_id</th>\n",
              "      <th>objectid</th>\n",
              "      <th>land</th>\n",
              "      <th>district</th>\n",
              "      <th>LOR</th>\n",
              "      <th>street</th>\n",
              "      <th>LOR_ab_202</th>\n",
              "      <th>year</th>\n",
              "      <th>month</th>\n",
              "      <th>hour</th>\n",
              "      <th>...</th>\n",
              "      <th>LINREFY</th>\n",
              "      <th>XGCSWGS84</th>\n",
              "      <th>YGCSWGS84</th>\n",
              "      <th>geometry</th>\n",
              "      <th>st_closest</th>\n",
              "      <th>st_2closest</th>\n",
              "      <th>st_closest_duration</th>\n",
              "      <th>st_2closest_duration</th>\n",
              "      <th>st_closest_height</th>\n",
              "      <th>st_2closest_height</th>\n",
              "    </tr>\n",
              "  </thead>\n",
              "  <tbody>\n",
              "    <tr>\n",
              "      <th>0</th>\n",
              "      <td>0</td>\n",
              "      <td>112695</td>\n",
              "      <td>11</td>\n",
              "      <td>2</td>\n",
              "      <td>2050602</td>\n",
              "      <td>Samariterviertel</td>\n",
              "      <td>2500729</td>\n",
              "      <td>2018</td>\n",
              "      <td>1</td>\n",
              "      <td>15</td>\n",
              "      <td>...</td>\n",
              "      <td>5827580,738</td>\n",
              "      <td>13.475018</td>\n",
              "      <td>52.513597</td>\n",
              "      <td>POINT (13.47502 52.51360)</td>\n",
              "      <td>420</td>\n",
              "      <td>433</td>\n",
              "      <td>433</td>\n",
              "      <td>433</td>\n",
              "      <td>420</td>\n",
              "      <td>433</td>\n",
              "    </tr>\n",
              "    <tr>\n",
              "      <th>1</th>\n",
              "      <td>1</td>\n",
              "      <td>112705</td>\n",
              "      <td>11</td>\n",
              "      <td>12</td>\n",
              "      <td>12304314</td>\n",
              "      <td>Ziekowstraße/Freie Scholle</td>\n",
              "      <td>12500824</td>\n",
              "      <td>2018</td>\n",
              "      <td>1</td>\n",
              "      <td>11</td>\n",
              "      <td>...</td>\n",
              "      <td>5835009,589</td>\n",
              "      <td>13.291022</td>\n",
              "      <td>52.587259</td>\n",
              "      <td>POINT (13.29102 52.58726)</td>\n",
              "      <td>430</td>\n",
              "      <td>400</td>\n",
              "      <td>430</td>\n",
              "      <td>433</td>\n",
              "      <td>430</td>\n",
              "      <td>400</td>\n",
              "    </tr>\n",
              "    <tr>\n",
              "      <th>2</th>\n",
              "      <td>2</td>\n",
              "      <td>112726</td>\n",
              "      <td>11</td>\n",
              "      <td>2</td>\n",
              "      <td>2040501</td>\n",
              "      <td>Barnimkiez</td>\n",
              "      <td>2400520</td>\n",
              "      <td>2018</td>\n",
              "      <td>1</td>\n",
              "      <td>9</td>\n",
              "      <td>...</td>\n",
              "      <td>5828733,523</td>\n",
              "      <td>13.420578</td>\n",
              "      <td>52.526019</td>\n",
              "      <td>POINT (13.42058 52.52602)</td>\n",
              "      <td>433</td>\n",
              "      <td>430</td>\n",
              "      <td>433</td>\n",
              "      <td>430</td>\n",
              "      <td>433</td>\n",
              "      <td>430</td>\n",
              "    </tr>\n",
              "    <tr>\n",
              "      <th>3</th>\n",
              "      <td>3</td>\n",
              "      <td>112737</td>\n",
              "      <td>11</td>\n",
              "      <td>7</td>\n",
              "      <td>7020202</td>\n",
              "      <td>Volkspark (Rudolf-Wilde-Park)</td>\n",
              "      <td>7200308</td>\n",
              "      <td>2018</td>\n",
              "      <td>1</td>\n",
              "      <td>17</td>\n",
              "      <td>...</td>\n",
              "      <td>5823525,402</td>\n",
              "      <td>13.348288</td>\n",
              "      <td>52.481844</td>\n",
              "      <td>POINT (13.34829 52.48184)</td>\n",
              "      <td>433</td>\n",
              "      <td>430</td>\n",
              "      <td>433</td>\n",
              "      <td>430</td>\n",
              "      <td>433</td>\n",
              "      <td>430</td>\n",
              "    </tr>\n",
              "    <tr>\n",
              "      <th>4</th>\n",
              "      <td>4</td>\n",
              "      <td>112747</td>\n",
              "      <td>11</td>\n",
              "      <td>3</td>\n",
              "      <td>3020209</td>\n",
              "      <td>Niederschönhausen</td>\n",
              "      <td>3200206</td>\n",
              "      <td>2018</td>\n",
              "      <td>1</td>\n",
              "      <td>15</td>\n",
              "      <td>...</td>\n",
              "      <td>5835047,26</td>\n",
              "      <td>13.403228</td>\n",
              "      <td>52.583472</td>\n",
              "      <td>POINT (13.40323 52.58347)</td>\n",
              "      <td>430</td>\n",
              "      <td>400</td>\n",
              "      <td>430</td>\n",
              "      <td>433</td>\n",
              "      <td>430</td>\n",
              "      <td>400</td>\n",
              "    </tr>\n",
              "  </tbody>\n",
              "</table>\n",
              "<p>5 rows × 33 columns</p>\n",
              "</div>\n",
              "      <button class=\"colab-df-convert\" onclick=\"convertToInteractive('df-32cebc67-2c60-4286-8307-626ccc76105a')\"\n",
              "              title=\"Convert this dataframe to an interactive table.\"\n",
              "              style=\"display:none;\">\n",
              "        \n",
              "  <svg xmlns=\"http://www.w3.org/2000/svg\" height=\"24px\"viewBox=\"0 0 24 24\"\n",
              "       width=\"24px\">\n",
              "    <path d=\"M0 0h24v24H0V0z\" fill=\"none\"/>\n",
              "    <path d=\"M18.56 5.44l.94 2.06.94-2.06 2.06-.94-2.06-.94-.94-2.06-.94 2.06-2.06.94zm-11 1L8.5 8.5l.94-2.06 2.06-.94-2.06-.94L8.5 2.5l-.94 2.06-2.06.94zm10 10l.94 2.06.94-2.06 2.06-.94-2.06-.94-.94-2.06-.94 2.06-2.06.94z\"/><path d=\"M17.41 7.96l-1.37-1.37c-.4-.4-.92-.59-1.43-.59-.52 0-1.04.2-1.43.59L10.3 9.45l-7.72 7.72c-.78.78-.78 2.05 0 2.83L4 21.41c.39.39.9.59 1.41.59.51 0 1.02-.2 1.41-.59l7.78-7.78 2.81-2.81c.8-.78.8-2.07 0-2.86zM5.41 20L4 18.59l7.72-7.72 1.47 1.35L5.41 20z\"/>\n",
              "  </svg>\n",
              "      </button>\n",
              "      \n",
              "  <style>\n",
              "    .colab-df-container {\n",
              "      display:flex;\n",
              "      flex-wrap:wrap;\n",
              "      gap: 12px;\n",
              "    }\n",
              "\n",
              "    .colab-df-convert {\n",
              "      background-color: #E8F0FE;\n",
              "      border: none;\n",
              "      border-radius: 50%;\n",
              "      cursor: pointer;\n",
              "      display: none;\n",
              "      fill: #1967D2;\n",
              "      height: 32px;\n",
              "      padding: 0 0 0 0;\n",
              "      width: 32px;\n",
              "    }\n",
              "\n",
              "    .colab-df-convert:hover {\n",
              "      background-color: #E2EBFA;\n",
              "      box-shadow: 0px 1px 2px rgba(60, 64, 67, 0.3), 0px 1px 3px 1px rgba(60, 64, 67, 0.15);\n",
              "      fill: #174EA6;\n",
              "    }\n",
              "\n",
              "    [theme=dark] .colab-df-convert {\n",
              "      background-color: #3B4455;\n",
              "      fill: #D2E3FC;\n",
              "    }\n",
              "\n",
              "    [theme=dark] .colab-df-convert:hover {\n",
              "      background-color: #434B5C;\n",
              "      box-shadow: 0px 1px 3px 1px rgba(0, 0, 0, 0.15);\n",
              "      filter: drop-shadow(0px 1px 2px rgba(0, 0, 0, 0.3));\n",
              "      fill: #FFFFFF;\n",
              "    }\n",
              "  </style>\n",
              "\n",
              "      <script>\n",
              "        const buttonEl =\n",
              "          document.querySelector('#df-32cebc67-2c60-4286-8307-626ccc76105a button.colab-df-convert');\n",
              "        buttonEl.style.display =\n",
              "          google.colab.kernel.accessAllowed ? 'block' : 'none';\n",
              "\n",
              "        async function convertToInteractive(key) {\n",
              "          const element = document.querySelector('#df-32cebc67-2c60-4286-8307-626ccc76105a');\n",
              "          const dataTable =\n",
              "            await google.colab.kernel.invokeFunction('convertToInteractive',\n",
              "                                                     [key], {});\n",
              "          if (!dataTable) return;\n",
              "\n",
              "          const docLinkHtml = 'Like what you see? Visit the ' +\n",
              "            '<a target=\"_blank\" href=https://colab.research.google.com/notebooks/data_table.ipynb>data table notebook</a>'\n",
              "            + ' to learn more about interactive tables.';\n",
              "          element.innerHTML = '';\n",
              "          dataTable['output_type'] = 'display_data';\n",
              "          await google.colab.output.renderOutput(dataTable, element);\n",
              "          const docLink = document.createElement('div');\n",
              "          docLink.innerHTML = docLinkHtml;\n",
              "          element.appendChild(docLink);\n",
              "        }\n",
              "      </script>\n",
              "    </div>\n",
              "  </div>\n",
              "  "
            ]
          },
          "metadata": {},
          "execution_count": 367
        }
      ]
    },
    {
      "cell_type": "code",
      "source": [
        "temperature_clean = clean_cols(temperature_df)"
      ],
      "metadata": {
        "id": "pywrtz44zfu2"
      },
      "execution_count": 368,
      "outputs": []
    },
    {
      "cell_type": "code",
      "source": [
        "temperature_clean.info()"
      ],
      "metadata": {
        "colab": {
          "base_uri": "https://localhost:8080/"
        },
        "id": "7TBXcg4rMT9g",
        "outputId": "de51af21-0152-49c7-8ceb-215cffae7fd2"
      },
      "execution_count": 242,
      "outputs": [
        {
          "output_type": "stream",
          "name": "stdout",
          "text": [
            "<class 'pandas.core.frame.DataFrame'>\n",
            "Int64Index: 263040 entries, 400 to 433\n",
            "Data columns (total 9 columns):\n",
            " #   Column     Non-Null Count   Dtype  \n",
            "---  ------     --------------   -----  \n",
            " 0   dataset    263040 non-null  object \n",
            " 1   parameter  263040 non-null  object \n",
            " 2   date       263040 non-null  object \n",
            " 3   value      231341 non-null  float64\n",
            " 4   quality    231341 non-null  float64\n",
            " 5   year       263040 non-null  int64  \n",
            " 6   month      263040 non-null  int64  \n",
            " 7   hour       263040 non-null  int64  \n",
            " 8   weekday    263040 non-null  int64  \n",
            "dtypes: float64(2), int64(4), object(3)\n",
            "memory usage: 20.1+ MB\n"
          ]
        }
      ]
    },
    {
      "cell_type": "code",
      "source": [
        "temperature_avg = get_average(temperature_clean)"
      ],
      "metadata": {
        "id": "1EdWF0i-Km1u"
      },
      "execution_count": 369,
      "outputs": []
    },
    {
      "cell_type": "code",
      "source": [
        "temperature_avg[\"day\"].value_counts()"
      ],
      "metadata": {
        "colab": {
          "base_uri": "https://localhost:8080/"
        },
        "id": "F46OIPoyClkW",
        "outputId": "eaed9989-d0ba-4d88-ffde-e8cf133f3868"
      },
      "execution_count": 371,
      "outputs": [
        {
          "output_type": "execute_result",
          "data": {
            "text/plain": [
              "1    8640\n",
              "2    8640\n",
              "3    8640\n",
              "4    8640\n",
              "5    8640\n",
              "6    8640\n",
              "7    8640\n",
              "Name: day, dtype: int64"
            ]
          },
          "metadata": {},
          "execution_count": 371
        }
      ]
    },
    {
      "cell_type": "code",
      "execution_count": 372,
      "metadata": {
        "id": "WO-i3gpCO2Si"
      },
      "outputs": [],
      "source": [
        "#for temperature extraction\n",
        "distances_full = get_distances(collision, stations)"
      ]
    },
    {
      "cell_type": "code",
      "execution_count": 373,
      "metadata": {
        "id": "_qTX587MMxaR"
      },
      "outputs": [],
      "source": [
        "#pivoted dataframe for temperature\n",
        "pivot = pivot_weather(temperature_avg)"
      ]
    },
    {
      "cell_type": "code",
      "source": [
        "collision_temperature = get_temperature(collision, distances_full, pivot)"
      ],
      "metadata": {
        "id": "hqEqli6fxPHc"
      },
      "execution_count": 374,
      "outputs": []
    },
    {
      "cell_type": "code",
      "source": [
        "collision_temperature.info()"
      ],
      "metadata": {
        "colab": {
          "base_uri": "https://localhost:8080/"
        },
        "id": "H7yCMMzWyrlZ",
        "outputId": "4a3a71c1-61a6-4357-8781-c62cba20fe03"
      },
      "execution_count": 375,
      "outputs": [
        {
          "output_type": "stream",
          "name": "stdout",
          "text": [
            "<class 'pandas.core.frame.DataFrame'>\n",
            "Int64Index: 38851 entries, 0 to 38850\n",
            "Data columns (total 4 columns):\n",
            " #   Column       Non-Null Count  Dtype  \n",
            "---  ------       --------------  -----  \n",
            " 0   col_id       38851 non-null  int64  \n",
            " 1   objectid     38851 non-null  object \n",
            " 2   temperature  38851 non-null  float64\n",
            " 3   humidity     38851 non-null  float64\n",
            "dtypes: float64(2), int64(1), object(1)\n",
            "memory usage: 1.5+ MB\n"
          ]
        }
      ]
    },
    {
      "cell_type": "code",
      "source": [
        "collision_temperature.head(30)"
      ],
      "metadata": {
        "colab": {
          "base_uri": "https://localhost:8080/",
          "height": 990
        },
        "id": "OifP1Z_I1-31",
        "outputId": "b54750e2-b228-497c-fcf7-ccdf65629148"
      },
      "execution_count": 226,
      "outputs": [
        {
          "output_type": "execute_result",
          "data": {
            "text/plain": [
              "    col_id objectid  temperature  humidity\n",
              "0        0   112695        5.940     83.60\n",
              "1        1   112705        4.600     65.40\n",
              "2        2   112726        2.980     79.60\n",
              "3        3   112737        3.780     69.20\n",
              "4        4   112747        6.200     84.60\n",
              "5        5   112770        2.800     81.80\n",
              "6        6   112792        3.620     70.40\n",
              "7        7   112805        5.300     87.25\n",
              "8        8   112820        5.060     60.20\n",
              "9        9   112837        2.275     84.75\n",
              "10      10   112848        4.320     79.60\n",
              "11      11   112862        6.060     84.60\n",
              "12      12   112892        5.225     89.00\n",
              "13      13   112902        2.440     76.20\n",
              "14      14   112921        5.720     84.80\n",
              "15      15   112937        5.000     82.00\n",
              "16      16   112947        5.740     85.00\n",
              "17      17   112957        2.425     76.50\n",
              "18      18   112980        5.060     75.40\n",
              "19      19   112992        3.575     81.50\n",
              "20      20   113009        2.740     78.60\n",
              "21      21   113020        4.050     87.50\n",
              "22      22   113046        4.700     61.40\n",
              "23      23   113058        4.975     91.00\n",
              "24      24   113087        4.240     90.60\n",
              "25      25   113110        2.150     81.25\n",
              "26      26   113121        6.040     86.00\n",
              "27      27   113151        6.060     84.60\n",
              "28      28   113164        3.400     91.50\n",
              "29      29   113175        2.980     79.60"
            ],
            "text/html": [
              "\n",
              "  <div id=\"df-6eb83af0-aaa5-40cb-9caa-72fab1d9bfa5\">\n",
              "    <div class=\"colab-df-container\">\n",
              "      <div>\n",
              "<style scoped>\n",
              "    .dataframe tbody tr th:only-of-type {\n",
              "        vertical-align: middle;\n",
              "    }\n",
              "\n",
              "    .dataframe tbody tr th {\n",
              "        vertical-align: top;\n",
              "    }\n",
              "\n",
              "    .dataframe thead th {\n",
              "        text-align: right;\n",
              "    }\n",
              "</style>\n",
              "<table border=\"1\" class=\"dataframe\">\n",
              "  <thead>\n",
              "    <tr style=\"text-align: right;\">\n",
              "      <th></th>\n",
              "      <th>col_id</th>\n",
              "      <th>objectid</th>\n",
              "      <th>temperature</th>\n",
              "      <th>humidity</th>\n",
              "    </tr>\n",
              "  </thead>\n",
              "  <tbody>\n",
              "    <tr>\n",
              "      <th>0</th>\n",
              "      <td>0</td>\n",
              "      <td>112695</td>\n",
              "      <td>5.940</td>\n",
              "      <td>83.60</td>\n",
              "    </tr>\n",
              "    <tr>\n",
              "      <th>1</th>\n",
              "      <td>1</td>\n",
              "      <td>112705</td>\n",
              "      <td>4.600</td>\n",
              "      <td>65.40</td>\n",
              "    </tr>\n",
              "    <tr>\n",
              "      <th>2</th>\n",
              "      <td>2</td>\n",
              "      <td>112726</td>\n",
              "      <td>2.980</td>\n",
              "      <td>79.60</td>\n",
              "    </tr>\n",
              "    <tr>\n",
              "      <th>3</th>\n",
              "      <td>3</td>\n",
              "      <td>112737</td>\n",
              "      <td>3.780</td>\n",
              "      <td>69.20</td>\n",
              "    </tr>\n",
              "    <tr>\n",
              "      <th>4</th>\n",
              "      <td>4</td>\n",
              "      <td>112747</td>\n",
              "      <td>6.200</td>\n",
              "      <td>84.60</td>\n",
              "    </tr>\n",
              "    <tr>\n",
              "      <th>5</th>\n",
              "      <td>5</td>\n",
              "      <td>112770</td>\n",
              "      <td>2.800</td>\n",
              "      <td>81.80</td>\n",
              "    </tr>\n",
              "    <tr>\n",
              "      <th>6</th>\n",
              "      <td>6</td>\n",
              "      <td>112792</td>\n",
              "      <td>3.620</td>\n",
              "      <td>70.40</td>\n",
              "    </tr>\n",
              "    <tr>\n",
              "      <th>7</th>\n",
              "      <td>7</td>\n",
              "      <td>112805</td>\n",
              "      <td>5.300</td>\n",
              "      <td>87.25</td>\n",
              "    </tr>\n",
              "    <tr>\n",
              "      <th>8</th>\n",
              "      <td>8</td>\n",
              "      <td>112820</td>\n",
              "      <td>5.060</td>\n",
              "      <td>60.20</td>\n",
              "    </tr>\n",
              "    <tr>\n",
              "      <th>9</th>\n",
              "      <td>9</td>\n",
              "      <td>112837</td>\n",
              "      <td>2.275</td>\n",
              "      <td>84.75</td>\n",
              "    </tr>\n",
              "    <tr>\n",
              "      <th>10</th>\n",
              "      <td>10</td>\n",
              "      <td>112848</td>\n",
              "      <td>4.320</td>\n",
              "      <td>79.60</td>\n",
              "    </tr>\n",
              "    <tr>\n",
              "      <th>11</th>\n",
              "      <td>11</td>\n",
              "      <td>112862</td>\n",
              "      <td>6.060</td>\n",
              "      <td>84.60</td>\n",
              "    </tr>\n",
              "    <tr>\n",
              "      <th>12</th>\n",
              "      <td>12</td>\n",
              "      <td>112892</td>\n",
              "      <td>5.225</td>\n",
              "      <td>89.00</td>\n",
              "    </tr>\n",
              "    <tr>\n",
              "      <th>13</th>\n",
              "      <td>13</td>\n",
              "      <td>112902</td>\n",
              "      <td>2.440</td>\n",
              "      <td>76.20</td>\n",
              "    </tr>\n",
              "    <tr>\n",
              "      <th>14</th>\n",
              "      <td>14</td>\n",
              "      <td>112921</td>\n",
              "      <td>5.720</td>\n",
              "      <td>84.80</td>\n",
              "    </tr>\n",
              "    <tr>\n",
              "      <th>15</th>\n",
              "      <td>15</td>\n",
              "      <td>112937</td>\n",
              "      <td>5.000</td>\n",
              "      <td>82.00</td>\n",
              "    </tr>\n",
              "    <tr>\n",
              "      <th>16</th>\n",
              "      <td>16</td>\n",
              "      <td>112947</td>\n",
              "      <td>5.740</td>\n",
              "      <td>85.00</td>\n",
              "    </tr>\n",
              "    <tr>\n",
              "      <th>17</th>\n",
              "      <td>17</td>\n",
              "      <td>112957</td>\n",
              "      <td>2.425</td>\n",
              "      <td>76.50</td>\n",
              "    </tr>\n",
              "    <tr>\n",
              "      <th>18</th>\n",
              "      <td>18</td>\n",
              "      <td>112980</td>\n",
              "      <td>5.060</td>\n",
              "      <td>75.40</td>\n",
              "    </tr>\n",
              "    <tr>\n",
              "      <th>19</th>\n",
              "      <td>19</td>\n",
              "      <td>112992</td>\n",
              "      <td>3.575</td>\n",
              "      <td>81.50</td>\n",
              "    </tr>\n",
              "    <tr>\n",
              "      <th>20</th>\n",
              "      <td>20</td>\n",
              "      <td>113009</td>\n",
              "      <td>2.740</td>\n",
              "      <td>78.60</td>\n",
              "    </tr>\n",
              "    <tr>\n",
              "      <th>21</th>\n",
              "      <td>21</td>\n",
              "      <td>113020</td>\n",
              "      <td>4.050</td>\n",
              "      <td>87.50</td>\n",
              "    </tr>\n",
              "    <tr>\n",
              "      <th>22</th>\n",
              "      <td>22</td>\n",
              "      <td>113046</td>\n",
              "      <td>4.700</td>\n",
              "      <td>61.40</td>\n",
              "    </tr>\n",
              "    <tr>\n",
              "      <th>23</th>\n",
              "      <td>23</td>\n",
              "      <td>113058</td>\n",
              "      <td>4.975</td>\n",
              "      <td>91.00</td>\n",
              "    </tr>\n",
              "    <tr>\n",
              "      <th>24</th>\n",
              "      <td>24</td>\n",
              "      <td>113087</td>\n",
              "      <td>4.240</td>\n",
              "      <td>90.60</td>\n",
              "    </tr>\n",
              "    <tr>\n",
              "      <th>25</th>\n",
              "      <td>25</td>\n",
              "      <td>113110</td>\n",
              "      <td>2.150</td>\n",
              "      <td>81.25</td>\n",
              "    </tr>\n",
              "    <tr>\n",
              "      <th>26</th>\n",
              "      <td>26</td>\n",
              "      <td>113121</td>\n",
              "      <td>6.040</td>\n",
              "      <td>86.00</td>\n",
              "    </tr>\n",
              "    <tr>\n",
              "      <th>27</th>\n",
              "      <td>27</td>\n",
              "      <td>113151</td>\n",
              "      <td>6.060</td>\n",
              "      <td>84.60</td>\n",
              "    </tr>\n",
              "    <tr>\n",
              "      <th>28</th>\n",
              "      <td>28</td>\n",
              "      <td>113164</td>\n",
              "      <td>3.400</td>\n",
              "      <td>91.50</td>\n",
              "    </tr>\n",
              "    <tr>\n",
              "      <th>29</th>\n",
              "      <td>29</td>\n",
              "      <td>113175</td>\n",
              "      <td>2.980</td>\n",
              "      <td>79.60</td>\n",
              "    </tr>\n",
              "  </tbody>\n",
              "</table>\n",
              "</div>\n",
              "      <button class=\"colab-df-convert\" onclick=\"convertToInteractive('df-6eb83af0-aaa5-40cb-9caa-72fab1d9bfa5')\"\n",
              "              title=\"Convert this dataframe to an interactive table.\"\n",
              "              style=\"display:none;\">\n",
              "        \n",
              "  <svg xmlns=\"http://www.w3.org/2000/svg\" height=\"24px\"viewBox=\"0 0 24 24\"\n",
              "       width=\"24px\">\n",
              "    <path d=\"M0 0h24v24H0V0z\" fill=\"none\"/>\n",
              "    <path d=\"M18.56 5.44l.94 2.06.94-2.06 2.06-.94-2.06-.94-.94-2.06-.94 2.06-2.06.94zm-11 1L8.5 8.5l.94-2.06 2.06-.94-2.06-.94L8.5 2.5l-.94 2.06-2.06.94zm10 10l.94 2.06.94-2.06 2.06-.94-2.06-.94-.94-2.06-.94 2.06-2.06.94z\"/><path d=\"M17.41 7.96l-1.37-1.37c-.4-.4-.92-.59-1.43-.59-.52 0-1.04.2-1.43.59L10.3 9.45l-7.72 7.72c-.78.78-.78 2.05 0 2.83L4 21.41c.39.39.9.59 1.41.59.51 0 1.02-.2 1.41-.59l7.78-7.78 2.81-2.81c.8-.78.8-2.07 0-2.86zM5.41 20L4 18.59l7.72-7.72 1.47 1.35L5.41 20z\"/>\n",
              "  </svg>\n",
              "      </button>\n",
              "      \n",
              "  <style>\n",
              "    .colab-df-container {\n",
              "      display:flex;\n",
              "      flex-wrap:wrap;\n",
              "      gap: 12px;\n",
              "    }\n",
              "\n",
              "    .colab-df-convert {\n",
              "      background-color: #E8F0FE;\n",
              "      border: none;\n",
              "      border-radius: 50%;\n",
              "      cursor: pointer;\n",
              "      display: none;\n",
              "      fill: #1967D2;\n",
              "      height: 32px;\n",
              "      padding: 0 0 0 0;\n",
              "      width: 32px;\n",
              "    }\n",
              "\n",
              "    .colab-df-convert:hover {\n",
              "      background-color: #E2EBFA;\n",
              "      box-shadow: 0px 1px 2px rgba(60, 64, 67, 0.3), 0px 1px 3px 1px rgba(60, 64, 67, 0.15);\n",
              "      fill: #174EA6;\n",
              "    }\n",
              "\n",
              "    [theme=dark] .colab-df-convert {\n",
              "      background-color: #3B4455;\n",
              "      fill: #D2E3FC;\n",
              "    }\n",
              "\n",
              "    [theme=dark] .colab-df-convert:hover {\n",
              "      background-color: #434B5C;\n",
              "      box-shadow: 0px 1px 3px 1px rgba(0, 0, 0, 0.15);\n",
              "      filter: drop-shadow(0px 1px 2px rgba(0, 0, 0, 0.3));\n",
              "      fill: #FFFFFF;\n",
              "    }\n",
              "  </style>\n",
              "\n",
              "      <script>\n",
              "        const buttonEl =\n",
              "          document.querySelector('#df-6eb83af0-aaa5-40cb-9caa-72fab1d9bfa5 button.colab-df-convert');\n",
              "        buttonEl.style.display =\n",
              "          google.colab.kernel.accessAllowed ? 'block' : 'none';\n",
              "\n",
              "        async function convertToInteractive(key) {\n",
              "          const element = document.querySelector('#df-6eb83af0-aaa5-40cb-9caa-72fab1d9bfa5');\n",
              "          const dataTable =\n",
              "            await google.colab.kernel.invokeFunction('convertToInteractive',\n",
              "                                                     [key], {});\n",
              "          if (!dataTable) return;\n",
              "\n",
              "          const docLinkHtml = 'Like what you see? Visit the ' +\n",
              "            '<a target=\"_blank\" href=https://colab.research.google.com/notebooks/data_table.ipynb>data table notebook</a>'\n",
              "            + ' to learn more about interactive tables.';\n",
              "          element.innerHTML = '';\n",
              "          dataTable['output_type'] = 'display_data';\n",
              "          await google.colab.output.renderOutput(dataTable, element);\n",
              "          const docLink = document.createElement('div');\n",
              "          docLink.innerHTML = docLinkHtml;\n",
              "          element.appendChild(docLink);\n",
              "        }\n",
              "      </script>\n",
              "    </div>\n",
              "  </div>\n",
              "  "
            ]
          },
          "metadata": {},
          "execution_count": 226
        }
      ]
    },
    {
      "cell_type": "code",
      "execution_count": 50,
      "metadata": {
        "id": "NZsOg5XZ0wn0"
      },
      "outputs": [],
      "source": [
        "####saving data - temperatures\n",
        "####drive.mount('/content/drive')\n",
        "###path = '/content/drive/My Drive/data/output/collision_temperature.csv'\n",
        "###\n",
        "###with open(path, 'w', encoding = 'utf-8-sig') as f:\n",
        "###  collision_temperature.to_csv(f)"
      ]
    },
    {
      "cell_type": "markdown",
      "metadata": {
        "id": "QnSmevDYrUXB"
      },
      "source": [
        "## Precipitation"
      ]
    },
    {
      "cell_type": "code",
      "source": [
        "precipitation_clean = clean_cols(precipitation_df)"
      ],
      "metadata": {
        "id": "I6DpwFL2dhUK"
      },
      "execution_count": 352,
      "outputs": []
    },
    {
      "cell_type": "code",
      "source": [
        "precipitation_clean.head()"
      ],
      "metadata": {
        "colab": {
          "base_uri": "https://localhost:8080/",
          "height": 237
        },
        "id": "qD9fu_J34Ot4",
        "outputId": "59e0a20f-3f37-4f4b-e3c0-d5bf426a3f1c"
      },
      "execution_count": 353,
      "outputs": [
        {
          "output_type": "execute_result",
          "data": {
            "text/plain": [
              "        station_id        dataset               parameter  \\\n",
              "col_id                                                      \n",
              "0              400  precipitation  precipitation_duration   \n",
              "1              400  precipitation  precipitation_duration   \n",
              "2              400  precipitation  precipitation_duration   \n",
              "3              400  precipitation  precipitation_duration   \n",
              "4              400  precipitation  precipitation_duration   \n",
              "\n",
              "                             date  value  quality  year  month  hour  day  \n",
              "col_id                                                                     \n",
              "0       2017-12-31 00:00:00+00:00    NaN      NaN  2017     12     0    1  \n",
              "1       2017-12-31 00:10:00+00:00    NaN      NaN  2017     12     0    1  \n",
              "2       2017-12-31 00:20:00+00:00    NaN      NaN  2017     12     0    1  \n",
              "3       2017-12-31 00:30:00+00:00    NaN      NaN  2017     12     0    1  \n",
              "4       2017-12-31 00:40:00+00:00    NaN      NaN  2017     12     0    1  "
            ],
            "text/html": [
              "\n",
              "  <div id=\"df-c2efff93-942e-4e78-b43a-131ba11d24fd\">\n",
              "    <div class=\"colab-df-container\">\n",
              "      <div>\n",
              "<style scoped>\n",
              "    .dataframe tbody tr th:only-of-type {\n",
              "        vertical-align: middle;\n",
              "    }\n",
              "\n",
              "    .dataframe tbody tr th {\n",
              "        vertical-align: top;\n",
              "    }\n",
              "\n",
              "    .dataframe thead th {\n",
              "        text-align: right;\n",
              "    }\n",
              "</style>\n",
              "<table border=\"1\" class=\"dataframe\">\n",
              "  <thead>\n",
              "    <tr style=\"text-align: right;\">\n",
              "      <th></th>\n",
              "      <th>station_id</th>\n",
              "      <th>dataset</th>\n",
              "      <th>parameter</th>\n",
              "      <th>date</th>\n",
              "      <th>value</th>\n",
              "      <th>quality</th>\n",
              "      <th>year</th>\n",
              "      <th>month</th>\n",
              "      <th>hour</th>\n",
              "      <th>day</th>\n",
              "    </tr>\n",
              "    <tr>\n",
              "      <th>col_id</th>\n",
              "      <th></th>\n",
              "      <th></th>\n",
              "      <th></th>\n",
              "      <th></th>\n",
              "      <th></th>\n",
              "      <th></th>\n",
              "      <th></th>\n",
              "      <th></th>\n",
              "      <th></th>\n",
              "      <th></th>\n",
              "    </tr>\n",
              "  </thead>\n",
              "  <tbody>\n",
              "    <tr>\n",
              "      <th>0</th>\n",
              "      <td>400</td>\n",
              "      <td>precipitation</td>\n",
              "      <td>precipitation_duration</td>\n",
              "      <td>2017-12-31 00:00:00+00:00</td>\n",
              "      <td>NaN</td>\n",
              "      <td>NaN</td>\n",
              "      <td>2017</td>\n",
              "      <td>12</td>\n",
              "      <td>0</td>\n",
              "      <td>1</td>\n",
              "    </tr>\n",
              "    <tr>\n",
              "      <th>1</th>\n",
              "      <td>400</td>\n",
              "      <td>precipitation</td>\n",
              "      <td>precipitation_duration</td>\n",
              "      <td>2017-12-31 00:10:00+00:00</td>\n",
              "      <td>NaN</td>\n",
              "      <td>NaN</td>\n",
              "      <td>2017</td>\n",
              "      <td>12</td>\n",
              "      <td>0</td>\n",
              "      <td>1</td>\n",
              "    </tr>\n",
              "    <tr>\n",
              "      <th>2</th>\n",
              "      <td>400</td>\n",
              "      <td>precipitation</td>\n",
              "      <td>precipitation_duration</td>\n",
              "      <td>2017-12-31 00:20:00+00:00</td>\n",
              "      <td>NaN</td>\n",
              "      <td>NaN</td>\n",
              "      <td>2017</td>\n",
              "      <td>12</td>\n",
              "      <td>0</td>\n",
              "      <td>1</td>\n",
              "    </tr>\n",
              "    <tr>\n",
              "      <th>3</th>\n",
              "      <td>400</td>\n",
              "      <td>precipitation</td>\n",
              "      <td>precipitation_duration</td>\n",
              "      <td>2017-12-31 00:30:00+00:00</td>\n",
              "      <td>NaN</td>\n",
              "      <td>NaN</td>\n",
              "      <td>2017</td>\n",
              "      <td>12</td>\n",
              "      <td>0</td>\n",
              "      <td>1</td>\n",
              "    </tr>\n",
              "    <tr>\n",
              "      <th>4</th>\n",
              "      <td>400</td>\n",
              "      <td>precipitation</td>\n",
              "      <td>precipitation_duration</td>\n",
              "      <td>2017-12-31 00:40:00+00:00</td>\n",
              "      <td>NaN</td>\n",
              "      <td>NaN</td>\n",
              "      <td>2017</td>\n",
              "      <td>12</td>\n",
              "      <td>0</td>\n",
              "      <td>1</td>\n",
              "    </tr>\n",
              "  </tbody>\n",
              "</table>\n",
              "</div>\n",
              "      <button class=\"colab-df-convert\" onclick=\"convertToInteractive('df-c2efff93-942e-4e78-b43a-131ba11d24fd')\"\n",
              "              title=\"Convert this dataframe to an interactive table.\"\n",
              "              style=\"display:none;\">\n",
              "        \n",
              "  <svg xmlns=\"http://www.w3.org/2000/svg\" height=\"24px\"viewBox=\"0 0 24 24\"\n",
              "       width=\"24px\">\n",
              "    <path d=\"M0 0h24v24H0V0z\" fill=\"none\"/>\n",
              "    <path d=\"M18.56 5.44l.94 2.06.94-2.06 2.06-.94-2.06-.94-.94-2.06-.94 2.06-2.06.94zm-11 1L8.5 8.5l.94-2.06 2.06-.94-2.06-.94L8.5 2.5l-.94 2.06-2.06.94zm10 10l.94 2.06.94-2.06 2.06-.94-2.06-.94-.94-2.06-.94 2.06-2.06.94z\"/><path d=\"M17.41 7.96l-1.37-1.37c-.4-.4-.92-.59-1.43-.59-.52 0-1.04.2-1.43.59L10.3 9.45l-7.72 7.72c-.78.78-.78 2.05 0 2.83L4 21.41c.39.39.9.59 1.41.59.51 0 1.02-.2 1.41-.59l7.78-7.78 2.81-2.81c.8-.78.8-2.07 0-2.86zM5.41 20L4 18.59l7.72-7.72 1.47 1.35L5.41 20z\"/>\n",
              "  </svg>\n",
              "      </button>\n",
              "      \n",
              "  <style>\n",
              "    .colab-df-container {\n",
              "      display:flex;\n",
              "      flex-wrap:wrap;\n",
              "      gap: 12px;\n",
              "    }\n",
              "\n",
              "    .colab-df-convert {\n",
              "      background-color: #E8F0FE;\n",
              "      border: none;\n",
              "      border-radius: 50%;\n",
              "      cursor: pointer;\n",
              "      display: none;\n",
              "      fill: #1967D2;\n",
              "      height: 32px;\n",
              "      padding: 0 0 0 0;\n",
              "      width: 32px;\n",
              "    }\n",
              "\n",
              "    .colab-df-convert:hover {\n",
              "      background-color: #E2EBFA;\n",
              "      box-shadow: 0px 1px 2px rgba(60, 64, 67, 0.3), 0px 1px 3px 1px rgba(60, 64, 67, 0.15);\n",
              "      fill: #174EA6;\n",
              "    }\n",
              "\n",
              "    [theme=dark] .colab-df-convert {\n",
              "      background-color: #3B4455;\n",
              "      fill: #D2E3FC;\n",
              "    }\n",
              "\n",
              "    [theme=dark] .colab-df-convert:hover {\n",
              "      background-color: #434B5C;\n",
              "      box-shadow: 0px 1px 3px 1px rgba(0, 0, 0, 0.15);\n",
              "      filter: drop-shadow(0px 1px 2px rgba(0, 0, 0, 0.3));\n",
              "      fill: #FFFFFF;\n",
              "    }\n",
              "  </style>\n",
              "\n",
              "      <script>\n",
              "        const buttonEl =\n",
              "          document.querySelector('#df-c2efff93-942e-4e78-b43a-131ba11d24fd button.colab-df-convert');\n",
              "        buttonEl.style.display =\n",
              "          google.colab.kernel.accessAllowed ? 'block' : 'none';\n",
              "\n",
              "        async function convertToInteractive(key) {\n",
              "          const element = document.querySelector('#df-c2efff93-942e-4e78-b43a-131ba11d24fd');\n",
              "          const dataTable =\n",
              "            await google.colab.kernel.invokeFunction('convertToInteractive',\n",
              "                                                     [key], {});\n",
              "          if (!dataTable) return;\n",
              "\n",
              "          const docLinkHtml = 'Like what you see? Visit the ' +\n",
              "            '<a target=\"_blank\" href=https://colab.research.google.com/notebooks/data_table.ipynb>data table notebook</a>'\n",
              "            + ' to learn more about interactive tables.';\n",
              "          element.innerHTML = '';\n",
              "          dataTable['output_type'] = 'display_data';\n",
              "          await google.colab.output.renderOutput(dataTable, element);\n",
              "          const docLink = document.createElement('div');\n",
              "          docLink.innerHTML = docLinkHtml;\n",
              "          element.appendChild(docLink);\n",
              "        }\n",
              "      </script>\n",
              "    </div>\n",
              "  </div>\n",
              "  "
            ]
          },
          "metadata": {},
          "execution_count": 353
        }
      ]
    },
    {
      "cell_type": "code",
      "source": [
        "precipitation_clean.info()"
      ],
      "metadata": {
        "colab": {
          "base_uri": "https://localhost:8080/"
        },
        "id": "Xc9a5cauON-a",
        "outputId": "c221f71b-249c-4775-b529-58c4b0877b25"
      },
      "execution_count": 354,
      "outputs": [
        {
          "output_type": "stream",
          "name": "stdout",
          "text": [
            "<class 'pandas.core.frame.DataFrame'>\n",
            "Int64Index: 2369520 entries, 0 to 2369533\n",
            "Data columns (total 10 columns):\n",
            " #   Column      Dtype  \n",
            "---  ------      -----  \n",
            " 0   station_id  int64  \n",
            " 1   dataset     object \n",
            " 2   parameter   object \n",
            " 3   date        object \n",
            " 4   value       float64\n",
            " 5   quality     float64\n",
            " 6   year        int64  \n",
            " 7   month       int64  \n",
            " 8   hour        int64  \n",
            " 9   day         int64  \n",
            "dtypes: float64(2), int64(5), object(3)\n",
            "memory usage: 198.9+ MB\n"
          ]
        }
      ]
    },
    {
      "cell_type": "code",
      "execution_count": 333,
      "metadata": {
        "id": "DrVet3CtoPKv"
      },
      "outputs": [],
      "source": [
        "#distances for precipitation\n",
        "distances_prec = get_distances(collision, stations_precipitation)"
      ]
    },
    {
      "cell_type": "code",
      "execution_count": 334,
      "metadata": {
        "colab": {
          "base_uri": "https://localhost:8080/",
          "height": 206
        },
        "id": "Y4S7jPTYpOkt",
        "outputId": "1aec9d3f-b158-454f-8035-0009549dd749"
      },
      "outputs": [
        {
          "output_type": "execute_result",
          "data": {
            "text/plain": [
              "            400           410           420           430           433\n",
              "0  16510.840982  26628.036638   8408.130192  15792.831520   8932.539592\n",
              "1  18891.801271  45314.167261  23566.146806   3521.675757  19169.190398\n",
              "2  16171.666559  31438.564615  12111.369442  10893.880458   8306.709636\n",
              "3  24537.139456  34376.585874  20003.483226  11981.401498   4998.623842\n",
              "4  10675.426083  37464.139664  14343.960655   8438.908809  16158.899622"
            ],
            "text/html": [
              "\n",
              "  <div id=\"df-4fd60344-b5dd-4c9c-8544-d0657fe62cca\">\n",
              "    <div class=\"colab-df-container\">\n",
              "      <div>\n",
              "<style scoped>\n",
              "    .dataframe tbody tr th:only-of-type {\n",
              "        vertical-align: middle;\n",
              "    }\n",
              "\n",
              "    .dataframe tbody tr th {\n",
              "        vertical-align: top;\n",
              "    }\n",
              "\n",
              "    .dataframe thead th {\n",
              "        text-align: right;\n",
              "    }\n",
              "</style>\n",
              "<table border=\"1\" class=\"dataframe\">\n",
              "  <thead>\n",
              "    <tr style=\"text-align: right;\">\n",
              "      <th></th>\n",
              "      <th>400</th>\n",
              "      <th>410</th>\n",
              "      <th>420</th>\n",
              "      <th>430</th>\n",
              "      <th>433</th>\n",
              "    </tr>\n",
              "  </thead>\n",
              "  <tbody>\n",
              "    <tr>\n",
              "      <th>0</th>\n",
              "      <td>16510.840982</td>\n",
              "      <td>26628.036638</td>\n",
              "      <td>8408.130192</td>\n",
              "      <td>15792.831520</td>\n",
              "      <td>8932.539592</td>\n",
              "    </tr>\n",
              "    <tr>\n",
              "      <th>1</th>\n",
              "      <td>18891.801271</td>\n",
              "      <td>45314.167261</td>\n",
              "      <td>23566.146806</td>\n",
              "      <td>3521.675757</td>\n",
              "      <td>19169.190398</td>\n",
              "    </tr>\n",
              "    <tr>\n",
              "      <th>2</th>\n",
              "      <td>16171.666559</td>\n",
              "      <td>31438.564615</td>\n",
              "      <td>12111.369442</td>\n",
              "      <td>10893.880458</td>\n",
              "      <td>8306.709636</td>\n",
              "    </tr>\n",
              "    <tr>\n",
              "      <th>3</th>\n",
              "      <td>24537.139456</td>\n",
              "      <td>34376.585874</td>\n",
              "      <td>20003.483226</td>\n",
              "      <td>11981.401498</td>\n",
              "      <td>4998.623842</td>\n",
              "    </tr>\n",
              "    <tr>\n",
              "      <th>4</th>\n",
              "      <td>10675.426083</td>\n",
              "      <td>37464.139664</td>\n",
              "      <td>14343.960655</td>\n",
              "      <td>8438.908809</td>\n",
              "      <td>16158.899622</td>\n",
              "    </tr>\n",
              "  </tbody>\n",
              "</table>\n",
              "</div>\n",
              "      <button class=\"colab-df-convert\" onclick=\"convertToInteractive('df-4fd60344-b5dd-4c9c-8544-d0657fe62cca')\"\n",
              "              title=\"Convert this dataframe to an interactive table.\"\n",
              "              style=\"display:none;\">\n",
              "        \n",
              "  <svg xmlns=\"http://www.w3.org/2000/svg\" height=\"24px\"viewBox=\"0 0 24 24\"\n",
              "       width=\"24px\">\n",
              "    <path d=\"M0 0h24v24H0V0z\" fill=\"none\"/>\n",
              "    <path d=\"M18.56 5.44l.94 2.06.94-2.06 2.06-.94-2.06-.94-.94-2.06-.94 2.06-2.06.94zm-11 1L8.5 8.5l.94-2.06 2.06-.94-2.06-.94L8.5 2.5l-.94 2.06-2.06.94zm10 10l.94 2.06.94-2.06 2.06-.94-2.06-.94-.94-2.06-.94 2.06-2.06.94z\"/><path d=\"M17.41 7.96l-1.37-1.37c-.4-.4-.92-.59-1.43-.59-.52 0-1.04.2-1.43.59L10.3 9.45l-7.72 7.72c-.78.78-.78 2.05 0 2.83L4 21.41c.39.39.9.59 1.41.59.51 0 1.02-.2 1.41-.59l7.78-7.78 2.81-2.81c.8-.78.8-2.07 0-2.86zM5.41 20L4 18.59l7.72-7.72 1.47 1.35L5.41 20z\"/>\n",
              "  </svg>\n",
              "      </button>\n",
              "      \n",
              "  <style>\n",
              "    .colab-df-container {\n",
              "      display:flex;\n",
              "      flex-wrap:wrap;\n",
              "      gap: 12px;\n",
              "    }\n",
              "\n",
              "    .colab-df-convert {\n",
              "      background-color: #E8F0FE;\n",
              "      border: none;\n",
              "      border-radius: 50%;\n",
              "      cursor: pointer;\n",
              "      display: none;\n",
              "      fill: #1967D2;\n",
              "      height: 32px;\n",
              "      padding: 0 0 0 0;\n",
              "      width: 32px;\n",
              "    }\n",
              "\n",
              "    .colab-df-convert:hover {\n",
              "      background-color: #E2EBFA;\n",
              "      box-shadow: 0px 1px 2px rgba(60, 64, 67, 0.3), 0px 1px 3px 1px rgba(60, 64, 67, 0.15);\n",
              "      fill: #174EA6;\n",
              "    }\n",
              "\n",
              "    [theme=dark] .colab-df-convert {\n",
              "      background-color: #3B4455;\n",
              "      fill: #D2E3FC;\n",
              "    }\n",
              "\n",
              "    [theme=dark] .colab-df-convert:hover {\n",
              "      background-color: #434B5C;\n",
              "      box-shadow: 0px 1px 3px 1px rgba(0, 0, 0, 0.15);\n",
              "      filter: drop-shadow(0px 1px 2px rgba(0, 0, 0, 0.3));\n",
              "      fill: #FFFFFF;\n",
              "    }\n",
              "  </style>\n",
              "\n",
              "      <script>\n",
              "        const buttonEl =\n",
              "          document.querySelector('#df-4fd60344-b5dd-4c9c-8544-d0657fe62cca button.colab-df-convert');\n",
              "        buttonEl.style.display =\n",
              "          google.colab.kernel.accessAllowed ? 'block' : 'none';\n",
              "\n",
              "        async function convertToInteractive(key) {\n",
              "          const element = document.querySelector('#df-4fd60344-b5dd-4c9c-8544-d0657fe62cca');\n",
              "          const dataTable =\n",
              "            await google.colab.kernel.invokeFunction('convertToInteractive',\n",
              "                                                     [key], {});\n",
              "          if (!dataTable) return;\n",
              "\n",
              "          const docLinkHtml = 'Like what you see? Visit the ' +\n",
              "            '<a target=\"_blank\" href=https://colab.research.google.com/notebooks/data_table.ipynb>data table notebook</a>'\n",
              "            + ' to learn more about interactive tables.';\n",
              "          element.innerHTML = '';\n",
              "          dataTable['output_type'] = 'display_data';\n",
              "          await google.colab.output.renderOutput(dataTable, element);\n",
              "          const docLink = document.createElement('div');\n",
              "          docLink.innerHTML = docLinkHtml;\n",
              "          element.appendChild(docLink);\n",
              "        }\n",
              "      </script>\n",
              "    </div>\n",
              "  </div>\n",
              "  "
            ]
          },
          "metadata": {},
          "execution_count": 334
        }
      ],
      "source": [
        "distances_prec.head()"
      ]
    },
    {
      "cell_type": "code",
      "execution_count": 355,
      "metadata": {
        "id": "s5vI-OWmpvuH"
      },
      "outputs": [],
      "source": [
        "#pivoted dataframe for precipitation\n",
        "pivot_prec = pivot_weather(precipitation_clean, precipitation=True)"
      ]
    },
    {
      "cell_type": "code",
      "source": [
        "#saving pivot as it takes long\n",
        "path = '/content/drive/My Drive/precipitation_pivot.csv'\n",
        "\n",
        "with open(path, 'w', encoding = 'utf-8-sig') as f:\n",
        "  pivot_prec.to_csv(f)"
      ],
      "metadata": {
        "id": "tYhCRsSz3bPs"
      },
      "execution_count": 261,
      "outputs": []
    },
    {
      "cell_type": "code",
      "source": [
        "#opening pivot from drive\n",
        "\n",
        "path = '/content/drive/My Drive/precipitation_pivot.csv'\n",
        "pivot_prec = pd.read_csv(path)"
      ],
      "metadata": {
        "id": "wHMlzTEb0tZp"
      },
      "execution_count": null,
      "outputs": []
    },
    {
      "cell_type": "code",
      "source": [
        "pivot_prec.info()"
      ],
      "metadata": {
        "colab": {
          "base_uri": "https://localhost:8080/"
        },
        "id": "FWCk901M4-jR",
        "outputId": "bbafd257-a991-48af-f8a1-14193f62408b"
      },
      "execution_count": 356,
      "outputs": [
        {
          "output_type": "stream",
          "name": "stdout",
          "text": [
            "<class 'pandas.core.frame.DataFrame'>\n",
            "RangeIndex: 27000 entries, 0 to 26999\n",
            "Data columns (total 9 columns):\n",
            " #   Column                      Non-Null Count  Dtype         \n",
            "---  ------                      --------------  -----         \n",
            " 0   datetime                    27000 non-null  datetime64[ns]\n",
            " 1   station_id                  27000 non-null  object        \n",
            " 2   year                        27000 non-null  int64         \n",
            " 3   month                       27000 non-null  int64         \n",
            " 4   day                         27000 non-null  int64         \n",
            " 5   hour                        27000 non-null  int64         \n",
            " 6   precipitation_duration      12144 non-null  float64       \n",
            " 7   precipitation_height        27000 non-null  float64       \n",
            " 8   precipitation_indicator_wr  12144 non-null  float64       \n",
            "dtypes: datetime64[ns](1), float64(3), int64(4), object(1)\n",
            "memory usage: 1.9+ MB\n"
          ]
        }
      ]
    },
    {
      "cell_type": "code",
      "execution_count": 357,
      "metadata": {
        "id": "N1zfZ4meqK_i"
      },
      "outputs": [],
      "source": [
        "#rolling average for precipitation\n",
        "pivot_prec_av = pivot_prec.copy()\n",
        "\n",
        "pivot_prec_av[\"prec_duration\"] = pivot_prec.groupby('station_id')['precipitation_duration'].rolling(10, min_periods=6).mean().reset_index(0,drop=True)\n",
        "pivot_prec_av[\"prec_height\"] = pivot_prec.groupby('station_id')['precipitation_height'].rolling(10, min_periods=6).mean().reset_index(0,drop=True)\n",
        "\n",
        "#filtering out all data that is not full hour\n",
        "#pivot_prec_av[\"date\"] = pd.to_datetime(pivot_prec_av['date'])\n",
        "#pivot_prec_av[\"datetime\"] = pd.to_datetime(pivot_prec_av['datetime'])\n",
        "pivot_prec_av = pivot_prec_av.loc[pivot_prec_av[\"datetime\"].dt.minute == 0]\n",
        "pivot_prec_av = pivot_prec_av.drop([\"precipitation_indicator_wr\", \"precipitation_duration\", \"precipitation_height\"], axis=1)"
      ]
    },
    {
      "cell_type": "code",
      "source": [
        "pivot_prec_av.info()"
      ],
      "metadata": {
        "colab": {
          "base_uri": "https://localhost:8080/"
        },
        "id": "ksZR-YO1F8XC",
        "outputId": "006b8067-d55c-497e-acb3-5a9787b83644"
      },
      "execution_count": 358,
      "outputs": [
        {
          "output_type": "stream",
          "name": "stdout",
          "text": [
            "<class 'pandas.core.frame.DataFrame'>\n",
            "Int64Index: 27000 entries, 0 to 26999\n",
            "Data columns (total 8 columns):\n",
            " #   Column         Non-Null Count  Dtype         \n",
            "---  ------         --------------  -----         \n",
            " 0   datetime       27000 non-null  datetime64[ns]\n",
            " 1   station_id     27000 non-null  object        \n",
            " 2   year           27000 non-null  int64         \n",
            " 3   month          27000 non-null  int64         \n",
            " 4   day            27000 non-null  int64         \n",
            " 5   hour           27000 non-null  int64         \n",
            " 6   prec_duration  12134 non-null  float64       \n",
            " 7   prec_height    26975 non-null  float64       \n",
            "dtypes: datetime64[ns](1), float64(2), int64(4), object(1)\n",
            "memory usage: 1.9+ MB\n"
          ]
        }
      ]
    },
    {
      "cell_type": "code",
      "source": [
        "####calculating average per day of week\n",
        "\n",
        "precipitation_avg = pivot_prec_av.copy()\n",
        "\n",
        "#avg for duration\n",
        "duration_avg = precipitation_avg.groupby(by=[\"year\", \"month\", \"day\", \"hour\", \"station_id\"])[\"prec_duration\"].mean()\n",
        "duration_avg = duration_avg.reset_index()\n",
        "\n",
        "#avg for height\n",
        "height_avg = precipitation_avg.groupby(by=[\"year\", \"month\", \"day\", \"hour\", \"station_id\"])[\"prec_height\"].mean()\n",
        "height_avg = height_avg.reset_index()\n",
        "\n",
        "#join\n",
        "precipitation_avg_full = duration_avg.merge(height_avg, how=\"inner\", on=[\"year\", \"month\", \"day\", \"hour\", \"station_id\"])\n",
        "#reset_index(0, drop=True)\n",
        "#precipitation_avg[\"prec_height_avg\"] = precipitation_avg.groupby(by=[\"year\", \"month\", \"day\", \"hour\", \"station_id\"])[\"prec_height\"].mean().reset_index(0, drop=True)  "
      ],
      "metadata": {
        "id": "2ePLUNTON1Yi"
      },
      "execution_count": 359,
      "outputs": []
    },
    {
      "cell_type": "code",
      "source": [
        "precipitation_avg_full.info()"
      ],
      "metadata": {
        "colab": {
          "base_uri": "https://localhost:8080/"
        },
        "id": "86WxJuPmTzw2",
        "outputId": "341a70fe-a373-44e2-f994-068936c3d31e"
      },
      "execution_count": 360,
      "outputs": [
        {
          "output_type": "stream",
          "name": "stdout",
          "text": [
            "<class 'pandas.core.frame.DataFrame'>\n",
            "Int64Index: 27000 entries, 0 to 26999\n",
            "Data columns (total 7 columns):\n",
            " #   Column         Non-Null Count  Dtype  \n",
            "---  ------         --------------  -----  \n",
            " 0   year           27000 non-null  int64  \n",
            " 1   month          27000 non-null  int64  \n",
            " 2   day            27000 non-null  int64  \n",
            " 3   hour           27000 non-null  int64  \n",
            " 4   station_id     27000 non-null  int64  \n",
            " 5   prec_duration  12134 non-null  float64\n",
            " 6   prec_height    26975 non-null  float64\n",
            "dtypes: float64(2), int64(5)\n",
            "memory usage: 1.6 MB\n"
          ]
        }
      ]
    },
    {
      "cell_type": "code",
      "source": [
        "###filtered = precipitation_avg_full[\"station_id\"] >= 430 #boolean\n",
        "###filtered_df = precipitation_avg_full[filtered]\n",
        "####filtered_df.info()\n",
        "###bool_index = filtered_df[\"prec_duration\"].isnull()\n",
        "###filtered_df[bool_index]"
      ],
      "metadata": {
        "colab": {
          "base_uri": "https://localhost:8080/",
          "height": 363
        },
        "id": "YTWPJZPvpGMW",
        "outputId": "39355152-d449-4c3c-a145-1da4c6994a97"
      },
      "execution_count": 301,
      "outputs": [
        {
          "output_type": "execute_result",
          "data": {
            "text/plain": [
              "    year  month  day  hour  station_id  prec_duration  prec_height\n",
              "3   2017     12    1     0         430            NaN          NaN\n",
              "4   2017     12    1     0         433            NaN          NaN\n",
              "8   2017     12    1     1         430            NaN          NaN\n",
              "9   2017     12    1     1         433            NaN          NaN\n",
              "13  2017     12    1     2         430            NaN          NaN\n",
              "14  2017     12    1     2         433            NaN          NaN\n",
              "18  2017     12    1     3         430            NaN          NaN\n",
              "19  2017     12    1     3         433            NaN          NaN\n",
              "23  2017     12    1     4         430            NaN          NaN\n",
              "24  2017     12    1     4         433            NaN          NaN"
            ],
            "text/html": [
              "\n",
              "  <div id=\"df-269f4302-030f-42c3-9dac-552666721e79\">\n",
              "    <div class=\"colab-df-container\">\n",
              "      <div>\n",
              "<style scoped>\n",
              "    .dataframe tbody tr th:only-of-type {\n",
              "        vertical-align: middle;\n",
              "    }\n",
              "\n",
              "    .dataframe tbody tr th {\n",
              "        vertical-align: top;\n",
              "    }\n",
              "\n",
              "    .dataframe thead th {\n",
              "        text-align: right;\n",
              "    }\n",
              "</style>\n",
              "<table border=\"1\" class=\"dataframe\">\n",
              "  <thead>\n",
              "    <tr style=\"text-align: right;\">\n",
              "      <th></th>\n",
              "      <th>year</th>\n",
              "      <th>month</th>\n",
              "      <th>day</th>\n",
              "      <th>hour</th>\n",
              "      <th>station_id</th>\n",
              "      <th>prec_duration</th>\n",
              "      <th>prec_height</th>\n",
              "    </tr>\n",
              "  </thead>\n",
              "  <tbody>\n",
              "    <tr>\n",
              "      <th>3</th>\n",
              "      <td>2017</td>\n",
              "      <td>12</td>\n",
              "      <td>1</td>\n",
              "      <td>0</td>\n",
              "      <td>430</td>\n",
              "      <td>NaN</td>\n",
              "      <td>NaN</td>\n",
              "    </tr>\n",
              "    <tr>\n",
              "      <th>4</th>\n",
              "      <td>2017</td>\n",
              "      <td>12</td>\n",
              "      <td>1</td>\n",
              "      <td>0</td>\n",
              "      <td>433</td>\n",
              "      <td>NaN</td>\n",
              "      <td>NaN</td>\n",
              "    </tr>\n",
              "    <tr>\n",
              "      <th>8</th>\n",
              "      <td>2017</td>\n",
              "      <td>12</td>\n",
              "      <td>1</td>\n",
              "      <td>1</td>\n",
              "      <td>430</td>\n",
              "      <td>NaN</td>\n",
              "      <td>NaN</td>\n",
              "    </tr>\n",
              "    <tr>\n",
              "      <th>9</th>\n",
              "      <td>2017</td>\n",
              "      <td>12</td>\n",
              "      <td>1</td>\n",
              "      <td>1</td>\n",
              "      <td>433</td>\n",
              "      <td>NaN</td>\n",
              "      <td>NaN</td>\n",
              "    </tr>\n",
              "    <tr>\n",
              "      <th>13</th>\n",
              "      <td>2017</td>\n",
              "      <td>12</td>\n",
              "      <td>1</td>\n",
              "      <td>2</td>\n",
              "      <td>430</td>\n",
              "      <td>NaN</td>\n",
              "      <td>NaN</td>\n",
              "    </tr>\n",
              "    <tr>\n",
              "      <th>14</th>\n",
              "      <td>2017</td>\n",
              "      <td>12</td>\n",
              "      <td>1</td>\n",
              "      <td>2</td>\n",
              "      <td>433</td>\n",
              "      <td>NaN</td>\n",
              "      <td>NaN</td>\n",
              "    </tr>\n",
              "    <tr>\n",
              "      <th>18</th>\n",
              "      <td>2017</td>\n",
              "      <td>12</td>\n",
              "      <td>1</td>\n",
              "      <td>3</td>\n",
              "      <td>430</td>\n",
              "      <td>NaN</td>\n",
              "      <td>NaN</td>\n",
              "    </tr>\n",
              "    <tr>\n",
              "      <th>19</th>\n",
              "      <td>2017</td>\n",
              "      <td>12</td>\n",
              "      <td>1</td>\n",
              "      <td>3</td>\n",
              "      <td>433</td>\n",
              "      <td>NaN</td>\n",
              "      <td>NaN</td>\n",
              "    </tr>\n",
              "    <tr>\n",
              "      <th>23</th>\n",
              "      <td>2017</td>\n",
              "      <td>12</td>\n",
              "      <td>1</td>\n",
              "      <td>4</td>\n",
              "      <td>430</td>\n",
              "      <td>NaN</td>\n",
              "      <td>NaN</td>\n",
              "    </tr>\n",
              "    <tr>\n",
              "      <th>24</th>\n",
              "      <td>2017</td>\n",
              "      <td>12</td>\n",
              "      <td>1</td>\n",
              "      <td>4</td>\n",
              "      <td>433</td>\n",
              "      <td>NaN</td>\n",
              "      <td>NaN</td>\n",
              "    </tr>\n",
              "  </tbody>\n",
              "</table>\n",
              "</div>\n",
              "      <button class=\"colab-df-convert\" onclick=\"convertToInteractive('df-269f4302-030f-42c3-9dac-552666721e79')\"\n",
              "              title=\"Convert this dataframe to an interactive table.\"\n",
              "              style=\"display:none;\">\n",
              "        \n",
              "  <svg xmlns=\"http://www.w3.org/2000/svg\" height=\"24px\"viewBox=\"0 0 24 24\"\n",
              "       width=\"24px\">\n",
              "    <path d=\"M0 0h24v24H0V0z\" fill=\"none\"/>\n",
              "    <path d=\"M18.56 5.44l.94 2.06.94-2.06 2.06-.94-2.06-.94-.94-2.06-.94 2.06-2.06.94zm-11 1L8.5 8.5l.94-2.06 2.06-.94-2.06-.94L8.5 2.5l-.94 2.06-2.06.94zm10 10l.94 2.06.94-2.06 2.06-.94-2.06-.94-.94-2.06-.94 2.06-2.06.94z\"/><path d=\"M17.41 7.96l-1.37-1.37c-.4-.4-.92-.59-1.43-.59-.52 0-1.04.2-1.43.59L10.3 9.45l-7.72 7.72c-.78.78-.78 2.05 0 2.83L4 21.41c.39.39.9.59 1.41.59.51 0 1.02-.2 1.41-.59l7.78-7.78 2.81-2.81c.8-.78.8-2.07 0-2.86zM5.41 20L4 18.59l7.72-7.72 1.47 1.35L5.41 20z\"/>\n",
              "  </svg>\n",
              "      </button>\n",
              "      \n",
              "  <style>\n",
              "    .colab-df-container {\n",
              "      display:flex;\n",
              "      flex-wrap:wrap;\n",
              "      gap: 12px;\n",
              "    }\n",
              "\n",
              "    .colab-df-convert {\n",
              "      background-color: #E8F0FE;\n",
              "      border: none;\n",
              "      border-radius: 50%;\n",
              "      cursor: pointer;\n",
              "      display: none;\n",
              "      fill: #1967D2;\n",
              "      height: 32px;\n",
              "      padding: 0 0 0 0;\n",
              "      width: 32px;\n",
              "    }\n",
              "\n",
              "    .colab-df-convert:hover {\n",
              "      background-color: #E2EBFA;\n",
              "      box-shadow: 0px 1px 2px rgba(60, 64, 67, 0.3), 0px 1px 3px 1px rgba(60, 64, 67, 0.15);\n",
              "      fill: #174EA6;\n",
              "    }\n",
              "\n",
              "    [theme=dark] .colab-df-convert {\n",
              "      background-color: #3B4455;\n",
              "      fill: #D2E3FC;\n",
              "    }\n",
              "\n",
              "    [theme=dark] .colab-df-convert:hover {\n",
              "      background-color: #434B5C;\n",
              "      box-shadow: 0px 1px 3px 1px rgba(0, 0, 0, 0.15);\n",
              "      filter: drop-shadow(0px 1px 2px rgba(0, 0, 0, 0.3));\n",
              "      fill: #FFFFFF;\n",
              "    }\n",
              "  </style>\n",
              "\n",
              "      <script>\n",
              "        const buttonEl =\n",
              "          document.querySelector('#df-269f4302-030f-42c3-9dac-552666721e79 button.colab-df-convert');\n",
              "        buttonEl.style.display =\n",
              "          google.colab.kernel.accessAllowed ? 'block' : 'none';\n",
              "\n",
              "        async function convertToInteractive(key) {\n",
              "          const element = document.querySelector('#df-269f4302-030f-42c3-9dac-552666721e79');\n",
              "          const dataTable =\n",
              "            await google.colab.kernel.invokeFunction('convertToInteractive',\n",
              "                                                     [key], {});\n",
              "          if (!dataTable) return;\n",
              "\n",
              "          const docLinkHtml = 'Like what you see? Visit the ' +\n",
              "            '<a target=\"_blank\" href=https://colab.research.google.com/notebooks/data_table.ipynb>data table notebook</a>'\n",
              "            + ' to learn more about interactive tables.';\n",
              "          element.innerHTML = '';\n",
              "          dataTable['output_type'] = 'display_data';\n",
              "          await google.colab.output.renderOutput(dataTable, element);\n",
              "          const docLink = document.createElement('div');\n",
              "          docLink.innerHTML = docLinkHtml;\n",
              "          element.appendChild(docLink);\n",
              "        }\n",
              "      </script>\n",
              "    </div>\n",
              "  </div>\n",
              "  "
            ]
          },
          "metadata": {},
          "execution_count": 301
        }
      ]
    },
    {
      "cell_type": "code",
      "source": [
        "collision_precipitation = get_precipitation(collision, distances_prec, precipitation_avg_full)"
      ],
      "metadata": {
        "id": "xa5mLJ8kDeYx"
      },
      "execution_count": 362,
      "outputs": []
    },
    {
      "cell_type": "code",
      "source": [
        "###filtered = collision_precipitation[\"station_id\"] >= 430\n",
        "###filtered_df = pivot_prec_av[filtered]\n",
        "###filtered_df.info()\n",
        "##bool_index = collision_precipitation[\"prec_duration\"].isnull()\n",
        "##collision_precipitation[bool_index]"
      ],
      "metadata": {
        "colab": {
          "base_uri": "https://localhost:8080/",
          "height": 143
        },
        "id": "F2iMjbYAsgp7",
        "outputId": "cf2817b7-2d10-4000-e159-5329ccbd070c"
      },
      "execution_count": null,
      "outputs": [
        {
          "output_type": "execute_result",
          "data": {
            "text/plain": [
              "       col_id objectid  prec_duration  prec_height            datetime\n",
              "23906   23906   199557            NaN          0.0 2019-09-07 21:00:00\n",
              "23915   23915   199566            NaN          0.0 2019-09-07 21:00:00\n",
              "23945   23945   199596            NaN          0.0 2019-09-07 20:00:00"
            ],
            "text/html": [
              "\n",
              "  <div id=\"df-bf66f1a1-8904-4220-ab4d-9be6d2d7bb1a\">\n",
              "    <div class=\"colab-df-container\">\n",
              "      <div>\n",
              "<style scoped>\n",
              "    .dataframe tbody tr th:only-of-type {\n",
              "        vertical-align: middle;\n",
              "    }\n",
              "\n",
              "    .dataframe tbody tr th {\n",
              "        vertical-align: top;\n",
              "    }\n",
              "\n",
              "    .dataframe thead th {\n",
              "        text-align: right;\n",
              "    }\n",
              "</style>\n",
              "<table border=\"1\" class=\"dataframe\">\n",
              "  <thead>\n",
              "    <tr style=\"text-align: right;\">\n",
              "      <th></th>\n",
              "      <th>col_id</th>\n",
              "      <th>objectid</th>\n",
              "      <th>prec_duration</th>\n",
              "      <th>prec_height</th>\n",
              "      <th>datetime</th>\n",
              "    </tr>\n",
              "  </thead>\n",
              "  <tbody>\n",
              "    <tr>\n",
              "      <th>23906</th>\n",
              "      <td>23906</td>\n",
              "      <td>199557</td>\n",
              "      <td>NaN</td>\n",
              "      <td>0.0</td>\n",
              "      <td>2019-09-07 21:00:00</td>\n",
              "    </tr>\n",
              "    <tr>\n",
              "      <th>23915</th>\n",
              "      <td>23915</td>\n",
              "      <td>199566</td>\n",
              "      <td>NaN</td>\n",
              "      <td>0.0</td>\n",
              "      <td>2019-09-07 21:00:00</td>\n",
              "    </tr>\n",
              "    <tr>\n",
              "      <th>23945</th>\n",
              "      <td>23945</td>\n",
              "      <td>199596</td>\n",
              "      <td>NaN</td>\n",
              "      <td>0.0</td>\n",
              "      <td>2019-09-07 20:00:00</td>\n",
              "    </tr>\n",
              "  </tbody>\n",
              "</table>\n",
              "</div>\n",
              "      <button class=\"colab-df-convert\" onclick=\"convertToInteractive('df-bf66f1a1-8904-4220-ab4d-9be6d2d7bb1a')\"\n",
              "              title=\"Convert this dataframe to an interactive table.\"\n",
              "              style=\"display:none;\">\n",
              "        \n",
              "  <svg xmlns=\"http://www.w3.org/2000/svg\" height=\"24px\"viewBox=\"0 0 24 24\"\n",
              "       width=\"24px\">\n",
              "    <path d=\"M0 0h24v24H0V0z\" fill=\"none\"/>\n",
              "    <path d=\"M18.56 5.44l.94 2.06.94-2.06 2.06-.94-2.06-.94-.94-2.06-.94 2.06-2.06.94zm-11 1L8.5 8.5l.94-2.06 2.06-.94-2.06-.94L8.5 2.5l-.94 2.06-2.06.94zm10 10l.94 2.06.94-2.06 2.06-.94-2.06-.94-.94-2.06-.94 2.06-2.06.94z\"/><path d=\"M17.41 7.96l-1.37-1.37c-.4-.4-.92-.59-1.43-.59-.52 0-1.04.2-1.43.59L10.3 9.45l-7.72 7.72c-.78.78-.78 2.05 0 2.83L4 21.41c.39.39.9.59 1.41.59.51 0 1.02-.2 1.41-.59l7.78-7.78 2.81-2.81c.8-.78.8-2.07 0-2.86zM5.41 20L4 18.59l7.72-7.72 1.47 1.35L5.41 20z\"/>\n",
              "  </svg>\n",
              "      </button>\n",
              "      \n",
              "  <style>\n",
              "    .colab-df-container {\n",
              "      display:flex;\n",
              "      flex-wrap:wrap;\n",
              "      gap: 12px;\n",
              "    }\n",
              "\n",
              "    .colab-df-convert {\n",
              "      background-color: #E8F0FE;\n",
              "      border: none;\n",
              "      border-radius: 50%;\n",
              "      cursor: pointer;\n",
              "      display: none;\n",
              "      fill: #1967D2;\n",
              "      height: 32px;\n",
              "      padding: 0 0 0 0;\n",
              "      width: 32px;\n",
              "    }\n",
              "\n",
              "    .colab-df-convert:hover {\n",
              "      background-color: #E2EBFA;\n",
              "      box-shadow: 0px 1px 2px rgba(60, 64, 67, 0.3), 0px 1px 3px 1px rgba(60, 64, 67, 0.15);\n",
              "      fill: #174EA6;\n",
              "    }\n",
              "\n",
              "    [theme=dark] .colab-df-convert {\n",
              "      background-color: #3B4455;\n",
              "      fill: #D2E3FC;\n",
              "    }\n",
              "\n",
              "    [theme=dark] .colab-df-convert:hover {\n",
              "      background-color: #434B5C;\n",
              "      box-shadow: 0px 1px 3px 1px rgba(0, 0, 0, 0.15);\n",
              "      filter: drop-shadow(0px 1px 2px rgba(0, 0, 0, 0.3));\n",
              "      fill: #FFFFFF;\n",
              "    }\n",
              "  </style>\n",
              "\n",
              "      <script>\n",
              "        const buttonEl =\n",
              "          document.querySelector('#df-bf66f1a1-8904-4220-ab4d-9be6d2d7bb1a button.colab-df-convert');\n",
              "        buttonEl.style.display =\n",
              "          google.colab.kernel.accessAllowed ? 'block' : 'none';\n",
              "\n",
              "        async function convertToInteractive(key) {\n",
              "          const element = document.querySelector('#df-bf66f1a1-8904-4220-ab4d-9be6d2d7bb1a');\n",
              "          const dataTable =\n",
              "            await google.colab.kernel.invokeFunction('convertToInteractive',\n",
              "                                                     [key], {});\n",
              "          if (!dataTable) return;\n",
              "\n",
              "          const docLinkHtml = 'Like what you see? Visit the ' +\n",
              "            '<a target=\"_blank\" href=https://colab.research.google.com/notebooks/data_table.ipynb>data table notebook</a>'\n",
              "            + ' to learn more about interactive tables.';\n",
              "          element.innerHTML = '';\n",
              "          dataTable['output_type'] = 'display_data';\n",
              "          await google.colab.output.renderOutput(dataTable, element);\n",
              "          const docLink = document.createElement('div');\n",
              "          docLink.innerHTML = docLinkHtml;\n",
              "          element.appendChild(docLink);\n",
              "        }\n",
              "      </script>\n",
              "    </div>\n",
              "  </div>\n",
              "  "
            ]
          },
          "metadata": {},
          "execution_count": 202
        }
      ]
    },
    {
      "cell_type": "code",
      "source": [
        "#pivot_prec_av[pivot_prec_av[\"datetime\"] == \"2019-09-07 21:00:00\"]"
      ],
      "metadata": {
        "colab": {
          "base_uri": "https://localhost:8080/",
          "height": 143
        },
        "id": "BMK56_lVtBR-",
        "outputId": "fccfb46a-17a9-4719-9835-d943d3f680ec"
      },
      "execution_count": null,
      "outputs": [
        {
          "output_type": "execute_result",
          "data": {
            "text/plain": [
              "        Unnamed: 0            datetime                      date  station_id  \\\n",
              "404050      404050 2019-09-07 21:00:00 2019-09-07 21:00:00+00:00         400   \n",
              "404051      404051 2019-09-07 21:00:00 2019-09-07 21:00:00+00:00         420   \n",
              "404052      404052 2019-09-07 21:00:00 2019-09-07 21:00:00+00:00         430   \n",
              "\n",
              "        prec_duration  prec_height  \n",
              "404050            NaN        0.000  \n",
              "404051            NaN        0.000  \n",
              "404052            9.7        0.005  "
            ],
            "text/html": [
              "\n",
              "  <div id=\"df-464f2830-76ee-4a48-9282-91e52051c24c\">\n",
              "    <div class=\"colab-df-container\">\n",
              "      <div>\n",
              "<style scoped>\n",
              "    .dataframe tbody tr th:only-of-type {\n",
              "        vertical-align: middle;\n",
              "    }\n",
              "\n",
              "    .dataframe tbody tr th {\n",
              "        vertical-align: top;\n",
              "    }\n",
              "\n",
              "    .dataframe thead th {\n",
              "        text-align: right;\n",
              "    }\n",
              "</style>\n",
              "<table border=\"1\" class=\"dataframe\">\n",
              "  <thead>\n",
              "    <tr style=\"text-align: right;\">\n",
              "      <th></th>\n",
              "      <th>Unnamed: 0</th>\n",
              "      <th>datetime</th>\n",
              "      <th>date</th>\n",
              "      <th>station_id</th>\n",
              "      <th>prec_duration</th>\n",
              "      <th>prec_height</th>\n",
              "    </tr>\n",
              "  </thead>\n",
              "  <tbody>\n",
              "    <tr>\n",
              "      <th>404050</th>\n",
              "      <td>404050</td>\n",
              "      <td>2019-09-07 21:00:00</td>\n",
              "      <td>2019-09-07 21:00:00+00:00</td>\n",
              "      <td>400</td>\n",
              "      <td>NaN</td>\n",
              "      <td>0.000</td>\n",
              "    </tr>\n",
              "    <tr>\n",
              "      <th>404051</th>\n",
              "      <td>404051</td>\n",
              "      <td>2019-09-07 21:00:00</td>\n",
              "      <td>2019-09-07 21:00:00+00:00</td>\n",
              "      <td>420</td>\n",
              "      <td>NaN</td>\n",
              "      <td>0.000</td>\n",
              "    </tr>\n",
              "    <tr>\n",
              "      <th>404052</th>\n",
              "      <td>404052</td>\n",
              "      <td>2019-09-07 21:00:00</td>\n",
              "      <td>2019-09-07 21:00:00+00:00</td>\n",
              "      <td>430</td>\n",
              "      <td>9.7</td>\n",
              "      <td>0.005</td>\n",
              "    </tr>\n",
              "  </tbody>\n",
              "</table>\n",
              "</div>\n",
              "      <button class=\"colab-df-convert\" onclick=\"convertToInteractive('df-464f2830-76ee-4a48-9282-91e52051c24c')\"\n",
              "              title=\"Convert this dataframe to an interactive table.\"\n",
              "              style=\"display:none;\">\n",
              "        \n",
              "  <svg xmlns=\"http://www.w3.org/2000/svg\" height=\"24px\"viewBox=\"0 0 24 24\"\n",
              "       width=\"24px\">\n",
              "    <path d=\"M0 0h24v24H0V0z\" fill=\"none\"/>\n",
              "    <path d=\"M18.56 5.44l.94 2.06.94-2.06 2.06-.94-2.06-.94-.94-2.06-.94 2.06-2.06.94zm-11 1L8.5 8.5l.94-2.06 2.06-.94-2.06-.94L8.5 2.5l-.94 2.06-2.06.94zm10 10l.94 2.06.94-2.06 2.06-.94-2.06-.94-.94-2.06-.94 2.06-2.06.94z\"/><path d=\"M17.41 7.96l-1.37-1.37c-.4-.4-.92-.59-1.43-.59-.52 0-1.04.2-1.43.59L10.3 9.45l-7.72 7.72c-.78.78-.78 2.05 0 2.83L4 21.41c.39.39.9.59 1.41.59.51 0 1.02-.2 1.41-.59l7.78-7.78 2.81-2.81c.8-.78.8-2.07 0-2.86zM5.41 20L4 18.59l7.72-7.72 1.47 1.35L5.41 20z\"/>\n",
              "  </svg>\n",
              "      </button>\n",
              "      \n",
              "  <style>\n",
              "    .colab-df-container {\n",
              "      display:flex;\n",
              "      flex-wrap:wrap;\n",
              "      gap: 12px;\n",
              "    }\n",
              "\n",
              "    .colab-df-convert {\n",
              "      background-color: #E8F0FE;\n",
              "      border: none;\n",
              "      border-radius: 50%;\n",
              "      cursor: pointer;\n",
              "      display: none;\n",
              "      fill: #1967D2;\n",
              "      height: 32px;\n",
              "      padding: 0 0 0 0;\n",
              "      width: 32px;\n",
              "    }\n",
              "\n",
              "    .colab-df-convert:hover {\n",
              "      background-color: #E2EBFA;\n",
              "      box-shadow: 0px 1px 2px rgba(60, 64, 67, 0.3), 0px 1px 3px 1px rgba(60, 64, 67, 0.15);\n",
              "      fill: #174EA6;\n",
              "    }\n",
              "\n",
              "    [theme=dark] .colab-df-convert {\n",
              "      background-color: #3B4455;\n",
              "      fill: #D2E3FC;\n",
              "    }\n",
              "\n",
              "    [theme=dark] .colab-df-convert:hover {\n",
              "      background-color: #434B5C;\n",
              "      box-shadow: 0px 1px 3px 1px rgba(0, 0, 0, 0.15);\n",
              "      filter: drop-shadow(0px 1px 2px rgba(0, 0, 0, 0.3));\n",
              "      fill: #FFFFFF;\n",
              "    }\n",
              "  </style>\n",
              "\n",
              "      <script>\n",
              "        const buttonEl =\n",
              "          document.querySelector('#df-464f2830-76ee-4a48-9282-91e52051c24c button.colab-df-convert');\n",
              "        buttonEl.style.display =\n",
              "          google.colab.kernel.accessAllowed ? 'block' : 'none';\n",
              "\n",
              "        async function convertToInteractive(key) {\n",
              "          const element = document.querySelector('#df-464f2830-76ee-4a48-9282-91e52051c24c');\n",
              "          const dataTable =\n",
              "            await google.colab.kernel.invokeFunction('convertToInteractive',\n",
              "                                                     [key], {});\n",
              "          if (!dataTable) return;\n",
              "\n",
              "          const docLinkHtml = 'Like what you see? Visit the ' +\n",
              "            '<a target=\"_blank\" href=https://colab.research.google.com/notebooks/data_table.ipynb>data table notebook</a>'\n",
              "            + ' to learn more about interactive tables.';\n",
              "          element.innerHTML = '';\n",
              "          dataTable['output_type'] = 'display_data';\n",
              "          await google.colab.output.renderOutput(dataTable, element);\n",
              "          const docLink = document.createElement('div');\n",
              "          docLink.innerHTML = docLinkHtml;\n",
              "          element.appendChild(docLink);\n",
              "        }\n",
              "      </script>\n",
              "    </div>\n",
              "  </div>\n",
              "  "
            ]
          },
          "metadata": {},
          "execution_count": 204
        }
      ]
    },
    {
      "cell_type": "code",
      "source": [
        "#pivot_prec_av[pivot_prec_av[\"datetime\"] == \"2019-09-07 20:00:00\"]"
      ],
      "metadata": {
        "colab": {
          "base_uri": "https://localhost:8080/",
          "height": 143
        },
        "id": "B_R3PWOVtaBr",
        "outputId": "53595593-466e-4ce9-fd48-db2b081b5ebc"
      },
      "execution_count": null,
      "outputs": [
        {
          "output_type": "execute_result",
          "data": {
            "text/plain": [
              "        Unnamed: 0            datetime                      date  station_id  \\\n",
              "404032      404032 2019-09-07 20:00:00 2019-09-07 20:00:00+00:00         400   \n",
              "404033      404033 2019-09-07 20:00:00 2019-09-07 20:00:00+00:00         420   \n",
              "404034      404034 2019-09-07 20:00:00 2019-09-07 20:00:00+00:00         430   \n",
              "\n",
              "        prec_duration  prec_height  \n",
              "404032            NaN        0.000  \n",
              "404033            NaN        0.000  \n",
              "404034            7.2        0.001  "
            ],
            "text/html": [
              "\n",
              "  <div id=\"df-e2b9fda6-9981-4f24-bb84-a2cb3dd169c4\">\n",
              "    <div class=\"colab-df-container\">\n",
              "      <div>\n",
              "<style scoped>\n",
              "    .dataframe tbody tr th:only-of-type {\n",
              "        vertical-align: middle;\n",
              "    }\n",
              "\n",
              "    .dataframe tbody tr th {\n",
              "        vertical-align: top;\n",
              "    }\n",
              "\n",
              "    .dataframe thead th {\n",
              "        text-align: right;\n",
              "    }\n",
              "</style>\n",
              "<table border=\"1\" class=\"dataframe\">\n",
              "  <thead>\n",
              "    <tr style=\"text-align: right;\">\n",
              "      <th></th>\n",
              "      <th>Unnamed: 0</th>\n",
              "      <th>datetime</th>\n",
              "      <th>date</th>\n",
              "      <th>station_id</th>\n",
              "      <th>prec_duration</th>\n",
              "      <th>prec_height</th>\n",
              "    </tr>\n",
              "  </thead>\n",
              "  <tbody>\n",
              "    <tr>\n",
              "      <th>404032</th>\n",
              "      <td>404032</td>\n",
              "      <td>2019-09-07 20:00:00</td>\n",
              "      <td>2019-09-07 20:00:00+00:00</td>\n",
              "      <td>400</td>\n",
              "      <td>NaN</td>\n",
              "      <td>0.000</td>\n",
              "    </tr>\n",
              "    <tr>\n",
              "      <th>404033</th>\n",
              "      <td>404033</td>\n",
              "      <td>2019-09-07 20:00:00</td>\n",
              "      <td>2019-09-07 20:00:00+00:00</td>\n",
              "      <td>420</td>\n",
              "      <td>NaN</td>\n",
              "      <td>0.000</td>\n",
              "    </tr>\n",
              "    <tr>\n",
              "      <th>404034</th>\n",
              "      <td>404034</td>\n",
              "      <td>2019-09-07 20:00:00</td>\n",
              "      <td>2019-09-07 20:00:00+00:00</td>\n",
              "      <td>430</td>\n",
              "      <td>7.2</td>\n",
              "      <td>0.001</td>\n",
              "    </tr>\n",
              "  </tbody>\n",
              "</table>\n",
              "</div>\n",
              "      <button class=\"colab-df-convert\" onclick=\"convertToInteractive('df-e2b9fda6-9981-4f24-bb84-a2cb3dd169c4')\"\n",
              "              title=\"Convert this dataframe to an interactive table.\"\n",
              "              style=\"display:none;\">\n",
              "        \n",
              "  <svg xmlns=\"http://www.w3.org/2000/svg\" height=\"24px\"viewBox=\"0 0 24 24\"\n",
              "       width=\"24px\">\n",
              "    <path d=\"M0 0h24v24H0V0z\" fill=\"none\"/>\n",
              "    <path d=\"M18.56 5.44l.94 2.06.94-2.06 2.06-.94-2.06-.94-.94-2.06-.94 2.06-2.06.94zm-11 1L8.5 8.5l.94-2.06 2.06-.94-2.06-.94L8.5 2.5l-.94 2.06-2.06.94zm10 10l.94 2.06.94-2.06 2.06-.94-2.06-.94-.94-2.06-.94 2.06-2.06.94z\"/><path d=\"M17.41 7.96l-1.37-1.37c-.4-.4-.92-.59-1.43-.59-.52 0-1.04.2-1.43.59L10.3 9.45l-7.72 7.72c-.78.78-.78 2.05 0 2.83L4 21.41c.39.39.9.59 1.41.59.51 0 1.02-.2 1.41-.59l7.78-7.78 2.81-2.81c.8-.78.8-2.07 0-2.86zM5.41 20L4 18.59l7.72-7.72 1.47 1.35L5.41 20z\"/>\n",
              "  </svg>\n",
              "      </button>\n",
              "      \n",
              "  <style>\n",
              "    .colab-df-container {\n",
              "      display:flex;\n",
              "      flex-wrap:wrap;\n",
              "      gap: 12px;\n",
              "    }\n",
              "\n",
              "    .colab-df-convert {\n",
              "      background-color: #E8F0FE;\n",
              "      border: none;\n",
              "      border-radius: 50%;\n",
              "      cursor: pointer;\n",
              "      display: none;\n",
              "      fill: #1967D2;\n",
              "      height: 32px;\n",
              "      padding: 0 0 0 0;\n",
              "      width: 32px;\n",
              "    }\n",
              "\n",
              "    .colab-df-convert:hover {\n",
              "      background-color: #E2EBFA;\n",
              "      box-shadow: 0px 1px 2px rgba(60, 64, 67, 0.3), 0px 1px 3px 1px rgba(60, 64, 67, 0.15);\n",
              "      fill: #174EA6;\n",
              "    }\n",
              "\n",
              "    [theme=dark] .colab-df-convert {\n",
              "      background-color: #3B4455;\n",
              "      fill: #D2E3FC;\n",
              "    }\n",
              "\n",
              "    [theme=dark] .colab-df-convert:hover {\n",
              "      background-color: #434B5C;\n",
              "      box-shadow: 0px 1px 3px 1px rgba(0, 0, 0, 0.15);\n",
              "      filter: drop-shadow(0px 1px 2px rgba(0, 0, 0, 0.3));\n",
              "      fill: #FFFFFF;\n",
              "    }\n",
              "  </style>\n",
              "\n",
              "      <script>\n",
              "        const buttonEl =\n",
              "          document.querySelector('#df-e2b9fda6-9981-4f24-bb84-a2cb3dd169c4 button.colab-df-convert');\n",
              "        buttonEl.style.display =\n",
              "          google.colab.kernel.accessAllowed ? 'block' : 'none';\n",
              "\n",
              "        async function convertToInteractive(key) {\n",
              "          const element = document.querySelector('#df-e2b9fda6-9981-4f24-bb84-a2cb3dd169c4');\n",
              "          const dataTable =\n",
              "            await google.colab.kernel.invokeFunction('convertToInteractive',\n",
              "                                                     [key], {});\n",
              "          if (!dataTable) return;\n",
              "\n",
              "          const docLinkHtml = 'Like what you see? Visit the ' +\n",
              "            '<a target=\"_blank\" href=https://colab.research.google.com/notebooks/data_table.ipynb>data table notebook</a>'\n",
              "            + ' to learn more about interactive tables.';\n",
              "          element.innerHTML = '';\n",
              "          dataTable['output_type'] = 'display_data';\n",
              "          await google.colab.output.renderOutput(dataTable, element);\n",
              "          const docLink = document.createElement('div');\n",
              "          docLink.innerHTML = docLinkHtml;\n",
              "          element.appendChild(docLink);\n",
              "        }\n",
              "      </script>\n",
              "    </div>\n",
              "  </div>\n",
              "  "
            ]
          },
          "metadata": {},
          "execution_count": 205
        }
      ]
    },
    {
      "cell_type": "code",
      "source": [
        "collision_precipitation.info()"
      ],
      "metadata": {
        "colab": {
          "base_uri": "https://localhost:8080/"
        },
        "id": "Fz4HDwf7ignm",
        "outputId": "b731d3e8-7c3c-4400-8288-f32bca788bcc"
      },
      "execution_count": 365,
      "outputs": [
        {
          "output_type": "stream",
          "name": "stdout",
          "text": [
            "<class 'pandas.core.frame.DataFrame'>\n",
            "Int64Index: 38851 entries, 0 to 38850\n",
            "Data columns (total 4 columns):\n",
            " #   Column         Non-Null Count  Dtype  \n",
            "---  ------         --------------  -----  \n",
            " 0   col_id         38851 non-null  int64  \n",
            " 1   objectid       38851 non-null  object \n",
            " 2   prec_duration  38851 non-null  float64\n",
            " 3   prec_height    38851 non-null  float64\n",
            "dtypes: float64(2), int64(1), object(1)\n",
            "memory usage: 1.5+ MB\n"
          ]
        }
      ]
    },
    {
      "cell_type": "code",
      "source": [
        "collision_precipitation.head()"
      ],
      "metadata": {
        "colab": {
          "base_uri": "https://localhost:8080/",
          "height": 206
        },
        "id": "Y2UhMWVfSxcC",
        "outputId": "94533583-c96f-43fd-ce13-11d7d0d68eb7"
      },
      "execution_count": 364,
      "outputs": [
        {
          "output_type": "execute_result",
          "data": {
            "text/plain": [
              "   col_id objectid  prec_duration  prec_height\n",
              "0       0   112695       3.506667     0.044000\n",
              "1       1   112705       0.313333     0.000133\n",
              "2       2   112726       2.823333     0.029300\n",
              "3       3   112737       0.703333     0.000500\n",
              "4       4   112747       2.620000     0.049900"
            ],
            "text/html": [
              "\n",
              "  <div id=\"df-c487406f-2611-4a6c-9b9a-188aaba0abb9\">\n",
              "    <div class=\"colab-df-container\">\n",
              "      <div>\n",
              "<style scoped>\n",
              "    .dataframe tbody tr th:only-of-type {\n",
              "        vertical-align: middle;\n",
              "    }\n",
              "\n",
              "    .dataframe tbody tr th {\n",
              "        vertical-align: top;\n",
              "    }\n",
              "\n",
              "    .dataframe thead th {\n",
              "        text-align: right;\n",
              "    }\n",
              "</style>\n",
              "<table border=\"1\" class=\"dataframe\">\n",
              "  <thead>\n",
              "    <tr style=\"text-align: right;\">\n",
              "      <th></th>\n",
              "      <th>col_id</th>\n",
              "      <th>objectid</th>\n",
              "      <th>prec_duration</th>\n",
              "      <th>prec_height</th>\n",
              "    </tr>\n",
              "  </thead>\n",
              "  <tbody>\n",
              "    <tr>\n",
              "      <th>0</th>\n",
              "      <td>0</td>\n",
              "      <td>112695</td>\n",
              "      <td>3.506667</td>\n",
              "      <td>0.044000</td>\n",
              "    </tr>\n",
              "    <tr>\n",
              "      <th>1</th>\n",
              "      <td>1</td>\n",
              "      <td>112705</td>\n",
              "      <td>0.313333</td>\n",
              "      <td>0.000133</td>\n",
              "    </tr>\n",
              "    <tr>\n",
              "      <th>2</th>\n",
              "      <td>2</td>\n",
              "      <td>112726</td>\n",
              "      <td>2.823333</td>\n",
              "      <td>0.029300</td>\n",
              "    </tr>\n",
              "    <tr>\n",
              "      <th>3</th>\n",
              "      <td>3</td>\n",
              "      <td>112737</td>\n",
              "      <td>0.703333</td>\n",
              "      <td>0.000500</td>\n",
              "    </tr>\n",
              "    <tr>\n",
              "      <th>4</th>\n",
              "      <td>4</td>\n",
              "      <td>112747</td>\n",
              "      <td>2.620000</td>\n",
              "      <td>0.049900</td>\n",
              "    </tr>\n",
              "  </tbody>\n",
              "</table>\n",
              "</div>\n",
              "      <button class=\"colab-df-convert\" onclick=\"convertToInteractive('df-c487406f-2611-4a6c-9b9a-188aaba0abb9')\"\n",
              "              title=\"Convert this dataframe to an interactive table.\"\n",
              "              style=\"display:none;\">\n",
              "        \n",
              "  <svg xmlns=\"http://www.w3.org/2000/svg\" height=\"24px\"viewBox=\"0 0 24 24\"\n",
              "       width=\"24px\">\n",
              "    <path d=\"M0 0h24v24H0V0z\" fill=\"none\"/>\n",
              "    <path d=\"M18.56 5.44l.94 2.06.94-2.06 2.06-.94-2.06-.94-.94-2.06-.94 2.06-2.06.94zm-11 1L8.5 8.5l.94-2.06 2.06-.94-2.06-.94L8.5 2.5l-.94 2.06-2.06.94zm10 10l.94 2.06.94-2.06 2.06-.94-2.06-.94-.94-2.06-.94 2.06-2.06.94z\"/><path d=\"M17.41 7.96l-1.37-1.37c-.4-.4-.92-.59-1.43-.59-.52 0-1.04.2-1.43.59L10.3 9.45l-7.72 7.72c-.78.78-.78 2.05 0 2.83L4 21.41c.39.39.9.59 1.41.59.51 0 1.02-.2 1.41-.59l7.78-7.78 2.81-2.81c.8-.78.8-2.07 0-2.86zM5.41 20L4 18.59l7.72-7.72 1.47 1.35L5.41 20z\"/>\n",
              "  </svg>\n",
              "      </button>\n",
              "      \n",
              "  <style>\n",
              "    .colab-df-container {\n",
              "      display:flex;\n",
              "      flex-wrap:wrap;\n",
              "      gap: 12px;\n",
              "    }\n",
              "\n",
              "    .colab-df-convert {\n",
              "      background-color: #E8F0FE;\n",
              "      border: none;\n",
              "      border-radius: 50%;\n",
              "      cursor: pointer;\n",
              "      display: none;\n",
              "      fill: #1967D2;\n",
              "      height: 32px;\n",
              "      padding: 0 0 0 0;\n",
              "      width: 32px;\n",
              "    }\n",
              "\n",
              "    .colab-df-convert:hover {\n",
              "      background-color: #E2EBFA;\n",
              "      box-shadow: 0px 1px 2px rgba(60, 64, 67, 0.3), 0px 1px 3px 1px rgba(60, 64, 67, 0.15);\n",
              "      fill: #174EA6;\n",
              "    }\n",
              "\n",
              "    [theme=dark] .colab-df-convert {\n",
              "      background-color: #3B4455;\n",
              "      fill: #D2E3FC;\n",
              "    }\n",
              "\n",
              "    [theme=dark] .colab-df-convert:hover {\n",
              "      background-color: #434B5C;\n",
              "      box-shadow: 0px 1px 3px 1px rgba(0, 0, 0, 0.15);\n",
              "      filter: drop-shadow(0px 1px 2px rgba(0, 0, 0, 0.3));\n",
              "      fill: #FFFFFF;\n",
              "    }\n",
              "  </style>\n",
              "\n",
              "      <script>\n",
              "        const buttonEl =\n",
              "          document.querySelector('#df-c487406f-2611-4a6c-9b9a-188aaba0abb9 button.colab-df-convert');\n",
              "        buttonEl.style.display =\n",
              "          google.colab.kernel.accessAllowed ? 'block' : 'none';\n",
              "\n",
              "        async function convertToInteractive(key) {\n",
              "          const element = document.querySelector('#df-c487406f-2611-4a6c-9b9a-188aaba0abb9');\n",
              "          const dataTable =\n",
              "            await google.colab.kernel.invokeFunction('convertToInteractive',\n",
              "                                                     [key], {});\n",
              "          if (!dataTable) return;\n",
              "\n",
              "          const docLinkHtml = 'Like what you see? Visit the ' +\n",
              "            '<a target=\"_blank\" href=https://colab.research.google.com/notebooks/data_table.ipynb>data table notebook</a>'\n",
              "            + ' to learn more about interactive tables.';\n",
              "          element.innerHTML = '';\n",
              "          dataTable['output_type'] = 'display_data';\n",
              "          await google.colab.output.renderOutput(dataTable, element);\n",
              "          const docLink = document.createElement('div');\n",
              "          docLink.innerHTML = docLinkHtml;\n",
              "          element.appendChild(docLink);\n",
              "        }\n",
              "      </script>\n",
              "    </div>\n",
              "  </div>\n",
              "  "
            ]
          },
          "metadata": {},
          "execution_count": 364
        }
      ]
    },
    {
      "cell_type": "code",
      "source": [
        "path = '/content/drive/My Drive/data/output/collision_precipitation.csv'\n",
        "\n",
        "with open(path, 'w', encoding = 'utf-8-sig') as f:\n",
        "  collision_precipitation.to_csv(f)"
      ],
      "metadata": {
        "id": "T2FZnW8cLFVW"
      },
      "execution_count": null,
      "outputs": []
    },
    {
      "cell_type": "markdown",
      "source": [
        "## Visibility"
      ],
      "metadata": {
        "id": "V-T_F78UlB_t"
      }
    },
    {
      "cell_type": "code",
      "source": [
        "visibility_clean = clean_cols(visibility)"
      ],
      "metadata": {
        "id": "tzODCLzYZw9e"
      },
      "execution_count": 395,
      "outputs": []
    },
    {
      "cell_type": "code",
      "source": [
        "visibility_clean = visibility_clean[visibility_clean[\"station_id\"] == 430].copy() #only for station 430 that has data"
      ],
      "metadata": {
        "id": "ilNLmr4Ba0Jr"
      },
      "execution_count": 397,
      "outputs": []
    },
    {
      "cell_type": "code",
      "source": [
        "visibility_clean.info()"
      ],
      "metadata": {
        "colab": {
          "base_uri": "https://localhost:8080/"
        },
        "id": "4aeBQEn9Z_1o",
        "outputId": "7d650d55-483b-4326-87b7-20948ceed616"
      },
      "execution_count": 398,
      "outputs": [
        {
          "output_type": "stream",
          "name": "stdout",
          "text": [
            "<class 'pandas.core.frame.DataFrame'>\n",
            "Int64Index: 26304 entries, 78915 to 105218\n",
            "Data columns (total 10 columns):\n",
            " #   Column      Non-Null Count  Dtype  \n",
            "---  ------      --------------  -----  \n",
            " 0   station_id  26304 non-null  int64  \n",
            " 1   dataset     26304 non-null  object \n",
            " 2   parameter   26304 non-null  object \n",
            " 3   date        26304 non-null  object \n",
            " 4   value       26299 non-null  float64\n",
            " 5   quality     26299 non-null  float64\n",
            " 6   year        26304 non-null  int64  \n",
            " 7   month       26304 non-null  int64  \n",
            " 8   hour        26304 non-null  int64  \n",
            " 9   day         26304 non-null  int64  \n",
            "dtypes: float64(2), int64(5), object(3)\n",
            "memory usage: 2.2+ MB\n"
          ]
        }
      ]
    },
    {
      "cell_type": "code",
      "source": [
        "visibility_avg = get_average(visibility_clean)"
      ],
      "metadata": {
        "id": "OfNXdh34ZzNd"
      },
      "execution_count": 399,
      "outputs": []
    },
    {
      "cell_type": "code",
      "source": [
        "#pivoted visibility data\n",
        "pivot_visibility = pivot_weather(visibility_avg)"
      ],
      "metadata": {
        "id": "IS4GI_heliw3"
      },
      "execution_count": 401,
      "outputs": []
    },
    {
      "cell_type": "code",
      "source": [
        "pivot_visibility.head()"
      ],
      "metadata": {
        "colab": {
          "base_uri": "https://localhost:8080/",
          "height": 206
        },
        "id": "WTqQkoRcpz1L",
        "outputId": "6b12d5e5-263e-4cf3-cbe9-240c21612591"
      },
      "execution_count": 402,
      "outputs": [
        {
          "output_type": "execute_result",
          "data": {
            "text/plain": [
              "parameter            datetime station_id  visibility\n",
              "0         2018-01-01 00:00:00        430     26250.0\n",
              "1         2018-01-01 01:00:00        430     25000.0\n",
              "2         2018-01-01 02:00:00        430     25000.0\n",
              "3         2018-01-01 03:00:00        430     26000.0\n",
              "4         2018-01-01 04:00:00        430     19750.0"
            ],
            "text/html": [
              "\n",
              "  <div id=\"df-cbccd41b-3806-492a-b715-5dd285f9d691\">\n",
              "    <div class=\"colab-df-container\">\n",
              "      <div>\n",
              "<style scoped>\n",
              "    .dataframe tbody tr th:only-of-type {\n",
              "        vertical-align: middle;\n",
              "    }\n",
              "\n",
              "    .dataframe tbody tr th {\n",
              "        vertical-align: top;\n",
              "    }\n",
              "\n",
              "    .dataframe thead th {\n",
              "        text-align: right;\n",
              "    }\n",
              "</style>\n",
              "<table border=\"1\" class=\"dataframe\">\n",
              "  <thead>\n",
              "    <tr style=\"text-align: right;\">\n",
              "      <th>parameter</th>\n",
              "      <th>datetime</th>\n",
              "      <th>station_id</th>\n",
              "      <th>visibility</th>\n",
              "    </tr>\n",
              "  </thead>\n",
              "  <tbody>\n",
              "    <tr>\n",
              "      <th>0</th>\n",
              "      <td>2018-01-01 00:00:00</td>\n",
              "      <td>430</td>\n",
              "      <td>26250.0</td>\n",
              "    </tr>\n",
              "    <tr>\n",
              "      <th>1</th>\n",
              "      <td>2018-01-01 01:00:00</td>\n",
              "      <td>430</td>\n",
              "      <td>25000.0</td>\n",
              "    </tr>\n",
              "    <tr>\n",
              "      <th>2</th>\n",
              "      <td>2018-01-01 02:00:00</td>\n",
              "      <td>430</td>\n",
              "      <td>25000.0</td>\n",
              "    </tr>\n",
              "    <tr>\n",
              "      <th>3</th>\n",
              "      <td>2018-01-01 03:00:00</td>\n",
              "      <td>430</td>\n",
              "      <td>26000.0</td>\n",
              "    </tr>\n",
              "    <tr>\n",
              "      <th>4</th>\n",
              "      <td>2018-01-01 04:00:00</td>\n",
              "      <td>430</td>\n",
              "      <td>19750.0</td>\n",
              "    </tr>\n",
              "  </tbody>\n",
              "</table>\n",
              "</div>\n",
              "      <button class=\"colab-df-convert\" onclick=\"convertToInteractive('df-cbccd41b-3806-492a-b715-5dd285f9d691')\"\n",
              "              title=\"Convert this dataframe to an interactive table.\"\n",
              "              style=\"display:none;\">\n",
              "        \n",
              "  <svg xmlns=\"http://www.w3.org/2000/svg\" height=\"24px\"viewBox=\"0 0 24 24\"\n",
              "       width=\"24px\">\n",
              "    <path d=\"M0 0h24v24H0V0z\" fill=\"none\"/>\n",
              "    <path d=\"M18.56 5.44l.94 2.06.94-2.06 2.06-.94-2.06-.94-.94-2.06-.94 2.06-2.06.94zm-11 1L8.5 8.5l.94-2.06 2.06-.94-2.06-.94L8.5 2.5l-.94 2.06-2.06.94zm10 10l.94 2.06.94-2.06 2.06-.94-2.06-.94-.94-2.06-.94 2.06-2.06.94z\"/><path d=\"M17.41 7.96l-1.37-1.37c-.4-.4-.92-.59-1.43-.59-.52 0-1.04.2-1.43.59L10.3 9.45l-7.72 7.72c-.78.78-.78 2.05 0 2.83L4 21.41c.39.39.9.59 1.41.59.51 0 1.02-.2 1.41-.59l7.78-7.78 2.81-2.81c.8-.78.8-2.07 0-2.86zM5.41 20L4 18.59l7.72-7.72 1.47 1.35L5.41 20z\"/>\n",
              "  </svg>\n",
              "      </button>\n",
              "      \n",
              "  <style>\n",
              "    .colab-df-container {\n",
              "      display:flex;\n",
              "      flex-wrap:wrap;\n",
              "      gap: 12px;\n",
              "    }\n",
              "\n",
              "    .colab-df-convert {\n",
              "      background-color: #E8F0FE;\n",
              "      border: none;\n",
              "      border-radius: 50%;\n",
              "      cursor: pointer;\n",
              "      display: none;\n",
              "      fill: #1967D2;\n",
              "      height: 32px;\n",
              "      padding: 0 0 0 0;\n",
              "      width: 32px;\n",
              "    }\n",
              "\n",
              "    .colab-df-convert:hover {\n",
              "      background-color: #E2EBFA;\n",
              "      box-shadow: 0px 1px 2px rgba(60, 64, 67, 0.3), 0px 1px 3px 1px rgba(60, 64, 67, 0.15);\n",
              "      fill: #174EA6;\n",
              "    }\n",
              "\n",
              "    [theme=dark] .colab-df-convert {\n",
              "      background-color: #3B4455;\n",
              "      fill: #D2E3FC;\n",
              "    }\n",
              "\n",
              "    [theme=dark] .colab-df-convert:hover {\n",
              "      background-color: #434B5C;\n",
              "      box-shadow: 0px 1px 3px 1px rgba(0, 0, 0, 0.15);\n",
              "      filter: drop-shadow(0px 1px 2px rgba(0, 0, 0, 0.3));\n",
              "      fill: #FFFFFF;\n",
              "    }\n",
              "  </style>\n",
              "\n",
              "      <script>\n",
              "        const buttonEl =\n",
              "          document.querySelector('#df-cbccd41b-3806-492a-b715-5dd285f9d691 button.colab-df-convert');\n",
              "        buttonEl.style.display =\n",
              "          google.colab.kernel.accessAllowed ? 'block' : 'none';\n",
              "\n",
              "        async function convertToInteractive(key) {\n",
              "          const element = document.querySelector('#df-cbccd41b-3806-492a-b715-5dd285f9d691');\n",
              "          const dataTable =\n",
              "            await google.colab.kernel.invokeFunction('convertToInteractive',\n",
              "                                                     [key], {});\n",
              "          if (!dataTable) return;\n",
              "\n",
              "          const docLinkHtml = 'Like what you see? Visit the ' +\n",
              "            '<a target=\"_blank\" href=https://colab.research.google.com/notebooks/data_table.ipynb>data table notebook</a>'\n",
              "            + ' to learn more about interactive tables.';\n",
              "          element.innerHTML = '';\n",
              "          dataTable['output_type'] = 'display_data';\n",
              "          await google.colab.output.renderOutput(dataTable, element);\n",
              "          const docLink = document.createElement('div');\n",
              "          docLink.innerHTML = docLinkHtml;\n",
              "          element.appendChild(docLink);\n",
              "        }\n",
              "      </script>\n",
              "    </div>\n",
              "  </div>\n",
              "  "
            ]
          },
          "metadata": {},
          "execution_count": 402
        }
      ]
    },
    {
      "cell_type": "code",
      "source": [
        "collision_visibility = get_visibility(collision, pivot_visibility)"
      ],
      "metadata": {
        "id": "mmq8Ia0RqtJj"
      },
      "execution_count": 410,
      "outputs": []
    },
    {
      "cell_type": "code",
      "source": [
        "collision_visibility.info()"
      ],
      "metadata": {
        "colab": {
          "base_uri": "https://localhost:8080/"
        },
        "id": "px-i6dPVG14s",
        "outputId": "1d355387-5b57-47ed-f9e2-151b5770861c"
      },
      "execution_count": 411,
      "outputs": [
        {
          "output_type": "stream",
          "name": "stdout",
          "text": [
            "<class 'pandas.core.frame.DataFrame'>\n",
            "Int64Index: 38851 entries, 0 to 38850\n",
            "Data columns (total 3 columns):\n",
            " #   Column      Non-Null Count  Dtype  \n",
            "---  ------      --------------  -----  \n",
            " 0   col_id      38851 non-null  int64  \n",
            " 1   objectid    38851 non-null  object \n",
            " 2   visibility  38851 non-null  float64\n",
            "dtypes: float64(1), int64(1), object(1)\n",
            "memory usage: 1.2+ MB\n"
          ]
        }
      ]
    },
    {
      "cell_type": "code",
      "source": [
        "#saving data\n",
        "path = '/content/drive/My Drive/data/output/collision_visibility.csv'\n",
        "\n",
        "with open(path, 'w', encoding = 'utf-8-sig') as f:\n",
        "  collision_visibility.to_csv(f)"
      ],
      "metadata": {
        "id": "qtDiwt5iq84y"
      },
      "execution_count": null,
      "outputs": []
    },
    {
      "cell_type": "code",
      "execution_count": null,
      "metadata": {
        "colab": {
          "base_uri": "https://localhost:8080/"
        },
        "id": "WiUn6HmUGetf",
        "outputId": "b43e5354-5c01-4c74-ff6b-40a080e743cc"
      },
      "outputs": [
        {
          "name": "stdout",
          "output_type": "stream",
          "text": [
            "8.28662021473542 km\n"
          ]
        }
      ],
      "source": [
        "#geopy gives correct distance, unilike geopandas\n",
        "dist = geopy.distance.geodesic((13.50210, 52.63100), (13.42725, 52.63382)) #Buch to accident 0\n",
        "print(dist)"
      ]
    },
    {
      "cell_type": "markdown",
      "source": [
        "# Final generation of data"
      ],
      "metadata": {
        "id": "wBzJPsShgIdL"
      }
    },
    {
      "cell_type": "markdown",
      "source": [
        "## Collision negative samples tryout"
      ],
      "metadata": {
        "id": "LehwUmr2e3zp"
      }
    },
    {
      "cell_type": "code",
      "source": [
        "#full collision dataframe - with negative samples\n",
        "path = \"/content/drive/MyDrive/data/raw/negative_samples.csv\"\n",
        "neg_samples = pd.read_csv(path)"
      ],
      "metadata": {
        "id": "N9Yj-fum6YoP"
      },
      "execution_count": 412,
      "outputs": []
    },
    {
      "cell_type": "code",
      "source": [
        "#segments midpoints\n",
        "path = \"/content/drive/MyDrive/data/output/road_shp2.shp\"\n",
        "segments = gpd.read_file(path)"
      ],
      "metadata": {
        "id": "P7yhtWz09WQQ"
      },
      "execution_count": 413,
      "outputs": []
    },
    {
      "cell_type": "code",
      "source": [
        "neg_samples.info()\n",
        "#neg_samples[\"segment_id\"] = neg_samples[\"segment_id\"].astype(\"int\") "
      ],
      "metadata": {
        "colab": {
          "base_uri": "https://localhost:8080/"
        },
        "id": "bq6xkcYh8P8w",
        "outputId": "a71aa011-20ea-47fa-c761-af7b3f5a5a22"
      },
      "execution_count": 414,
      "outputs": [
        {
          "output_type": "stream",
          "name": "stdout",
          "text": [
            "<class 'pandas.core.frame.DataFrame'>\n",
            "RangeIndex: 643187 entries, 0 to 643186\n",
            "Data columns (total 7 columns):\n",
            " #   Column        Non-Null Count   Dtype  \n",
            "---  ------        --------------   -----  \n",
            " 0   Unnamed: 0    643187 non-null  int64  \n",
            " 1   hour          643187 non-null  int64  \n",
            " 2   year          643187 non-null  int64  \n",
            " 3   month         643187 non-null  int64  \n",
            " 4   weekday_name  643187 non-null  object \n",
            " 5   weekday       643187 non-null  int64  \n",
            " 6   segment_id    643152 non-null  float64\n",
            "dtypes: float64(1), int64(5), object(1)\n",
            "memory usage: 34.4+ MB\n"
          ]
        }
      ]
    },
    {
      "cell_type": "code",
      "source": [
        "segments.info()"
      ],
      "metadata": {
        "colab": {
          "base_uri": "https://localhost:8080/"
        },
        "id": "4bVczdwV-3X4",
        "outputId": "3a89a3e9-6c01-4b95-b296-8a9fdfe6cf8d"
      },
      "execution_count": 415,
      "outputs": [
        {
          "output_type": "stream",
          "name": "stdout",
          "text": [
            "<class 'geopandas.geodataframe.GeoDataFrame'>\n",
            "RangeIndex: 43110 entries, 0 to 43109\n",
            "Data columns (total 19 columns):\n",
            " #   Column      Non-Null Count  Dtype   \n",
            "---  ------      --------------  -----   \n",
            " 0   segment_id  43110 non-null  int64   \n",
            " 1   element_nr  43110 non-null  object  \n",
            " 2   strassensc  43110 non-null  object  \n",
            " 3   strassenna  43110 non-null  object  \n",
            " 4   str_bez     1295 non-null   object  \n",
            " 5   strassenkl  43110 non-null  object  \n",
            " 6   strassen_1  43110 non-null  object  \n",
            " 7   strassen_2  43110 non-null  object  \n",
            " 8   verkehrsri  43110 non-null  object  \n",
            " 9   bezirk      43001 non-null  object  \n",
            " 10  stadtteil   43001 non-null  object  \n",
            " 11  verkehrseb  43110 non-null  int64   \n",
            " 12  beginnt_be  43110 non-null  object  \n",
            " 13  endet_bei_  43110 non-null  object  \n",
            " 14  laenge      43110 non-null  float64 \n",
            " 15  gueltig_vo  43110 non-null  object  \n",
            " 16  okstra_id   43110 non-null  object  \n",
            " 17  length_m    43110 non-null  float64 \n",
            " 18  geometry    43110 non-null  geometry\n",
            "dtypes: float64(2), geometry(1), int64(2), object(14)\n",
            "memory usage: 6.2+ MB\n"
          ]
        }
      ]
    },
    {
      "cell_type": "code",
      "source": [
        "segments[\"segment_id\"] = segments[\"segment_id\"].astype(\"float\") #for join"
      ],
      "metadata": {
        "id": "EXmVD2K09p0w"
      },
      "execution_count": 416,
      "outputs": []
    },
    {
      "cell_type": "code",
      "source": [
        "neg_samples_geo = neg_samples.merge(segments[[\"segment_id\", \"geometry\"]], how = \"left\", on=\"segment_id\")"
      ],
      "metadata": {
        "id": "aOfZX8WK-uIj"
      },
      "execution_count": 418,
      "outputs": []
    },
    {
      "cell_type": "code",
      "source": [
        "neg_samples_geo = gpd.GeoDataFrame(neg_samples_geo, \n",
        "                                   geometry=neg_samples_geo[\"geometry\"], \n",
        "                                   crs = {\"init\" : \"EPSG:4326\"})  #we just need to define where geometry points are saved"
      ],
      "metadata": {
        "colab": {
          "base_uri": "https://localhost:8080/"
        },
        "id": "_1MSP8lu_i9_",
        "outputId": "c907678e-a41c-4c37-f5bc-c9bb5023e925"
      },
      "execution_count": 420,
      "outputs": [
        {
          "output_type": "stream",
          "name": "stderr",
          "text": [
            "/usr/local/lib/python3.7/dist-packages/pyproj/crs/crs.py:131: FutureWarning: '+init=<authority>:<code>' syntax is deprecated. '<authority>:<code>' is the preferred initialization method. When making the change, be mindful of axis order changes: https://pyproj4.github.io/pyproj/stable/gotchas.html#axis-order-changes-in-proj-6\n",
            "  in_crs_string = _prepare_from_proj_string(in_crs_string)\n"
          ]
        }
      ]
    },
    {
      "cell_type": "code",
      "source": [
        "neg_samples_geo.info()"
      ],
      "metadata": {
        "colab": {
          "base_uri": "https://localhost:8080/"
        },
        "id": "djNoGoQe_TdO",
        "outputId": "90da4fcb-9760-453d-dfb3-81897a9c41af"
      },
      "execution_count": 421,
      "outputs": [
        {
          "output_type": "stream",
          "name": "stdout",
          "text": [
            "<class 'geopandas.geodataframe.GeoDataFrame'>\n",
            "Int64Index: 643187 entries, 0 to 643186\n",
            "Data columns (total 8 columns):\n",
            " #   Column        Non-Null Count   Dtype   \n",
            "---  ------        --------------   -----   \n",
            " 0   Unnamed: 0    643187 non-null  int64   \n",
            " 1   hour          643187 non-null  int64   \n",
            " 2   year          643187 non-null  int64   \n",
            " 3   month         643187 non-null  int64   \n",
            " 4   weekday_name  643187 non-null  object  \n",
            " 5   weekday       643187 non-null  int64   \n",
            " 6   segment_id    643152 non-null  float64 \n",
            " 7   geometry      643152 non-null  geometry\n",
            "dtypes: float64(1), geometry(1), int64(5), object(1)\n",
            "memory usage: 44.2+ MB\n"
          ]
        }
      ]
    },
    {
      "cell_type": "markdown",
      "source": [
        "## Temeperature"
      ],
      "metadata": {
        "id": "khmUrPRHgMle"
      }
    },
    {
      "cell_type": "code",
      "source": [
        "temperature_clean = clean_cols(temperature_df)"
      ],
      "metadata": {
        "id": "6UjxWixggO0_"
      },
      "execution_count": 434,
      "outputs": []
    },
    {
      "cell_type": "code",
      "source": [
        "temperature_avg = get_average(temperature_clean)"
      ],
      "metadata": {
        "id": "vQslwLOGgXIv"
      },
      "execution_count": 435,
      "outputs": []
    },
    {
      "cell_type": "code",
      "source": [
        "distances_full = get_distances(neg_samples_geo, stations)"
      ],
      "metadata": {
        "id": "QUUMHIzAgbCH"
      },
      "execution_count": 436,
      "outputs": []
    },
    {
      "cell_type": "code",
      "source": [
        "pivot = pivot_weather(temperature_avg)"
      ],
      "metadata": {
        "id": "oaZdSq2xgenD"
      },
      "execution_count": 437,
      "outputs": []
    },
    {
      "cell_type": "code",
      "source": [
        "pivot.info()"
      ],
      "metadata": {
        "colab": {
          "base_uri": "https://localhost:8080/"
        },
        "id": "0Kzl1pPxhbLX",
        "outputId": "7d617499-c432-47ed-9f7e-c0d26afd2caf"
      },
      "execution_count": 439,
      "outputs": [
        {
          "output_type": "stream",
          "name": "stdout",
          "text": [
            "<class 'pandas.core.frame.DataFrame'>\n",
            "RangeIndex: 26880 entries, 0 to 26879\n",
            "Data columns (total 4 columns):\n",
            " #   Column                    Non-Null Count  Dtype         \n",
            "---  ------                    --------------  -----         \n",
            " 0   datetime                  26880 non-null  datetime64[ns]\n",
            " 1   station_id                26880 non-null  object        \n",
            " 2   humidity                  26880 non-null  float64       \n",
            " 3   temperature_air_mean_200  26880 non-null  float64       \n",
            "dtypes: datetime64[ns](1), float64(2), object(1)\n",
            "memory usage: 840.1+ KB\n"
          ]
        }
      ]
    },
    {
      "cell_type": "code",
      "source": [
        "neg_samples_geo.info()"
      ],
      "metadata": {
        "colab": {
          "base_uri": "https://localhost:8080/"
        },
        "id": "EEecsh_lhufF",
        "outputId": "c777cf25-450c-44c1-c59d-e71e7274c587"
      },
      "execution_count": 440,
      "outputs": [
        {
          "output_type": "stream",
          "name": "stdout",
          "text": [
            "<class 'geopandas.geodataframe.GeoDataFrame'>\n",
            "Int64Index: 643187 entries, 0 to 643186\n",
            "Data columns (total 10 columns):\n",
            " #   Column        Non-Null Count   Dtype   \n",
            "---  ------        --------------   -----   \n",
            " 0   Unnamed: 0    643187 non-null  int64   \n",
            " 1   hour          643187 non-null  int64   \n",
            " 2   year          643187 non-null  int64   \n",
            " 3   month         643187 non-null  int64   \n",
            " 4   weekday_name  643187 non-null  object  \n",
            " 5   weekday       643187 non-null  int64   \n",
            " 6   segment_id    643152 non-null  float64 \n",
            " 7   geometry      643152 non-null  geometry\n",
            " 8   st_closest    643152 non-null  object  \n",
            " 9   st_2closest   643152 non-null  object  \n",
            "dtypes: float64(1), geometry(1), int64(5), object(3)\n",
            "memory usage: 54.0+ MB\n"
          ]
        }
      ]
    },
    {
      "cell_type": "code",
      "source": [
        "collision_temperature_neg_samples = get_temperature(neg_samples_geo, distances_full, pivot)"
      ],
      "metadata": {
        "id": "RdQqVXwggh1Q"
      },
      "execution_count": 447,
      "outputs": []
    },
    {
      "cell_type": "code",
      "source": [
        "collision_temperature_neg_samples.info()"
      ],
      "metadata": {
        "colab": {
          "base_uri": "https://localhost:8080/"
        },
        "id": "LmDyxOp5gibQ",
        "outputId": "8ff0d096-c0b7-4090-ff22-fb181203c5b7"
      },
      "execution_count": 448,
      "outputs": [
        {
          "output_type": "stream",
          "name": "stdout",
          "text": [
            "<class 'pandas.core.frame.DataFrame'>\n",
            "Int64Index: 643187 entries, 0 to 643186\n",
            "Data columns (total 7 columns):\n",
            " #   Column       Non-Null Count   Dtype  \n",
            "---  ------       --------------   -----  \n",
            " 0   year         643187 non-null  int64  \n",
            " 1   month        643187 non-null  int64  \n",
            " 2   day          643187 non-null  int64  \n",
            " 3   hour         643187 non-null  int64  \n",
            " 4   segment_id   643152 non-null  float64\n",
            " 5   temperature  643152 non-null  float64\n",
            " 6   humidity     643152 non-null  float64\n",
            "dtypes: float64(3), int64(4)\n",
            "memory usage: 39.3 MB\n"
          ]
        }
      ]
    },
    {
      "cell_type": "code",
      "source": [
        "collision_temperature_neg_samples.head()"
      ],
      "metadata": {
        "colab": {
          "base_uri": "https://localhost:8080/",
          "height": 206
        },
        "id": "0nNz7joQijXD",
        "outputId": "e6260cc5-7b64-43b2-db4a-6561ffa2e589"
      },
      "execution_count": 449,
      "outputs": [
        {
          "output_type": "execute_result",
          "data": {
            "text/plain": [
              "   year  month  day  hour  segment_id  temperature  humidity\n",
              "0  2018      1    2     0     37063.0         3.28      83.8\n",
              "1  2018      1    2     2      7097.0         3.16      84.0\n",
              "2  2018      1    2     2     30880.0         2.96      82.8\n",
              "3  2018      1    2     6      3942.0         2.86      84.0\n",
              "4  2018      1    2     9     29466.0         3.06      76.0"
            ],
            "text/html": [
              "\n",
              "  <div id=\"df-1ae2168c-8321-48bd-95a1-1774a23eb489\">\n",
              "    <div class=\"colab-df-container\">\n",
              "      <div>\n",
              "<style scoped>\n",
              "    .dataframe tbody tr th:only-of-type {\n",
              "        vertical-align: middle;\n",
              "    }\n",
              "\n",
              "    .dataframe tbody tr th {\n",
              "        vertical-align: top;\n",
              "    }\n",
              "\n",
              "    .dataframe thead th {\n",
              "        text-align: right;\n",
              "    }\n",
              "</style>\n",
              "<table border=\"1\" class=\"dataframe\">\n",
              "  <thead>\n",
              "    <tr style=\"text-align: right;\">\n",
              "      <th></th>\n",
              "      <th>year</th>\n",
              "      <th>month</th>\n",
              "      <th>day</th>\n",
              "      <th>hour</th>\n",
              "      <th>segment_id</th>\n",
              "      <th>temperature</th>\n",
              "      <th>humidity</th>\n",
              "    </tr>\n",
              "  </thead>\n",
              "  <tbody>\n",
              "    <tr>\n",
              "      <th>0</th>\n",
              "      <td>2018</td>\n",
              "      <td>1</td>\n",
              "      <td>2</td>\n",
              "      <td>0</td>\n",
              "      <td>37063.0</td>\n",
              "      <td>3.28</td>\n",
              "      <td>83.8</td>\n",
              "    </tr>\n",
              "    <tr>\n",
              "      <th>1</th>\n",
              "      <td>2018</td>\n",
              "      <td>1</td>\n",
              "      <td>2</td>\n",
              "      <td>2</td>\n",
              "      <td>7097.0</td>\n",
              "      <td>3.16</td>\n",
              "      <td>84.0</td>\n",
              "    </tr>\n",
              "    <tr>\n",
              "      <th>2</th>\n",
              "      <td>2018</td>\n",
              "      <td>1</td>\n",
              "      <td>2</td>\n",
              "      <td>2</td>\n",
              "      <td>30880.0</td>\n",
              "      <td>2.96</td>\n",
              "      <td>82.8</td>\n",
              "    </tr>\n",
              "    <tr>\n",
              "      <th>3</th>\n",
              "      <td>2018</td>\n",
              "      <td>1</td>\n",
              "      <td>2</td>\n",
              "      <td>6</td>\n",
              "      <td>3942.0</td>\n",
              "      <td>2.86</td>\n",
              "      <td>84.0</td>\n",
              "    </tr>\n",
              "    <tr>\n",
              "      <th>4</th>\n",
              "      <td>2018</td>\n",
              "      <td>1</td>\n",
              "      <td>2</td>\n",
              "      <td>9</td>\n",
              "      <td>29466.0</td>\n",
              "      <td>3.06</td>\n",
              "      <td>76.0</td>\n",
              "    </tr>\n",
              "  </tbody>\n",
              "</table>\n",
              "</div>\n",
              "      <button class=\"colab-df-convert\" onclick=\"convertToInteractive('df-1ae2168c-8321-48bd-95a1-1774a23eb489')\"\n",
              "              title=\"Convert this dataframe to an interactive table.\"\n",
              "              style=\"display:none;\">\n",
              "        \n",
              "  <svg xmlns=\"http://www.w3.org/2000/svg\" height=\"24px\"viewBox=\"0 0 24 24\"\n",
              "       width=\"24px\">\n",
              "    <path d=\"M0 0h24v24H0V0z\" fill=\"none\"/>\n",
              "    <path d=\"M18.56 5.44l.94 2.06.94-2.06 2.06-.94-2.06-.94-.94-2.06-.94 2.06-2.06.94zm-11 1L8.5 8.5l.94-2.06 2.06-.94-2.06-.94L8.5 2.5l-.94 2.06-2.06.94zm10 10l.94 2.06.94-2.06 2.06-.94-2.06-.94-.94-2.06-.94 2.06-2.06.94z\"/><path d=\"M17.41 7.96l-1.37-1.37c-.4-.4-.92-.59-1.43-.59-.52 0-1.04.2-1.43.59L10.3 9.45l-7.72 7.72c-.78.78-.78 2.05 0 2.83L4 21.41c.39.39.9.59 1.41.59.51 0 1.02-.2 1.41-.59l7.78-7.78 2.81-2.81c.8-.78.8-2.07 0-2.86zM5.41 20L4 18.59l7.72-7.72 1.47 1.35L5.41 20z\"/>\n",
              "  </svg>\n",
              "      </button>\n",
              "      \n",
              "  <style>\n",
              "    .colab-df-container {\n",
              "      display:flex;\n",
              "      flex-wrap:wrap;\n",
              "      gap: 12px;\n",
              "    }\n",
              "\n",
              "    .colab-df-convert {\n",
              "      background-color: #E8F0FE;\n",
              "      border: none;\n",
              "      border-radius: 50%;\n",
              "      cursor: pointer;\n",
              "      display: none;\n",
              "      fill: #1967D2;\n",
              "      height: 32px;\n",
              "      padding: 0 0 0 0;\n",
              "      width: 32px;\n",
              "    }\n",
              "\n",
              "    .colab-df-convert:hover {\n",
              "      background-color: #E2EBFA;\n",
              "      box-shadow: 0px 1px 2px rgba(60, 64, 67, 0.3), 0px 1px 3px 1px rgba(60, 64, 67, 0.15);\n",
              "      fill: #174EA6;\n",
              "    }\n",
              "\n",
              "    [theme=dark] .colab-df-convert {\n",
              "      background-color: #3B4455;\n",
              "      fill: #D2E3FC;\n",
              "    }\n",
              "\n",
              "    [theme=dark] .colab-df-convert:hover {\n",
              "      background-color: #434B5C;\n",
              "      box-shadow: 0px 1px 3px 1px rgba(0, 0, 0, 0.15);\n",
              "      filter: drop-shadow(0px 1px 2px rgba(0, 0, 0, 0.3));\n",
              "      fill: #FFFFFF;\n",
              "    }\n",
              "  </style>\n",
              "\n",
              "      <script>\n",
              "        const buttonEl =\n",
              "          document.querySelector('#df-1ae2168c-8321-48bd-95a1-1774a23eb489 button.colab-df-convert');\n",
              "        buttonEl.style.display =\n",
              "          google.colab.kernel.accessAllowed ? 'block' : 'none';\n",
              "\n",
              "        async function convertToInteractive(key) {\n",
              "          const element = document.querySelector('#df-1ae2168c-8321-48bd-95a1-1774a23eb489');\n",
              "          const dataTable =\n",
              "            await google.colab.kernel.invokeFunction('convertToInteractive',\n",
              "                                                     [key], {});\n",
              "          if (!dataTable) return;\n",
              "\n",
              "          const docLinkHtml = 'Like what you see? Visit the ' +\n",
              "            '<a target=\"_blank\" href=https://colab.research.google.com/notebooks/data_table.ipynb>data table notebook</a>'\n",
              "            + ' to learn more about interactive tables.';\n",
              "          element.innerHTML = '';\n",
              "          dataTable['output_type'] = 'display_data';\n",
              "          await google.colab.output.renderOutput(dataTable, element);\n",
              "          const docLink = document.createElement('div');\n",
              "          docLink.innerHTML = docLinkHtml;\n",
              "          element.appendChild(docLink);\n",
              "        }\n",
              "      </script>\n",
              "    </div>\n",
              "  </div>\n",
              "  "
            ]
          },
          "metadata": {},
          "execution_count": 449
        }
      ]
    },
    {
      "cell_type": "code",
      "source": [
        "collision_temperature_neg_samples[\"day\"].value_counts()"
      ],
      "metadata": {
        "colab": {
          "base_uri": "https://localhost:8080/"
        },
        "id": "TcnCYKHVjwct",
        "outputId": "f78cd280-c3fa-4e7f-f637-cc45657ecc97"
      },
      "execution_count": 452,
      "outputs": [
        {
          "output_type": "execute_result",
          "data": {
            "text/plain": [
              "5    92367\n",
              "3    92063\n",
              "1    91962\n",
              "4    91839\n",
              "6    91681\n",
              "2    91640\n",
              "7    91635\n",
              "Name: day, dtype: int64"
            ]
          },
          "metadata": {},
          "execution_count": 452
        }
      ]
    },
    {
      "cell_type": "code",
      "source": [
        "collision_temperature_neg_samples.groupby([\"month\"])[\"temperature\"].describe()"
      ],
      "metadata": {
        "colab": {
          "base_uri": "https://localhost:8080/",
          "height": 457
        },
        "id": "b8KtpuFWkFHz",
        "outputId": "8a2d1b2d-283d-4f7d-d88d-1a344fe511dc"
      },
      "execution_count": 455,
      "outputs": [
        {
          "output_type": "execute_result",
          "data": {
            "text/plain": [
              "         count       mean       std        min     25%     50%     75%     max\n",
              "month                                                                         \n",
              "1      53526.0   3.247722  1.900333  -1.550000   1.885   3.175   4.650   8.420\n",
              "2      53523.0   3.417937  3.807010  -7.625000   0.625   3.725   6.400  10.880\n",
              "3      53334.0   5.087114  3.293644  -5.225000   2.540   5.275   7.725  12.125\n",
              "4      53807.0  12.156284  3.852366   0.550000   9.150  12.250  15.350  20.475\n",
              "5      53372.0  14.589976  4.257777   3.300000  11.350  14.350  17.200  26.225\n",
              "6      53798.0  20.473642  3.922660   8.333333  17.375  20.400  22.875  33.525\n",
              "7      53342.0  20.289146  3.555809  11.500000  17.425  20.100  23.175  28.400\n",
              "8      53559.0  21.705361  3.603063   9.875000  18.625  21.580  24.760  29.780\n",
              "9      53609.0  16.181086  3.500313   6.740000  13.375  15.900  18.740  24.475\n",
              "10     53789.0  11.557961  2.459660   1.280000   9.860  11.475  13.140  18.250\n",
              "11     53576.0   6.491078  1.544462   0.900000   5.500   6.525   7.575  10.760\n",
              "12     53917.0   4.238008  1.445125  -2.800000   3.200   4.400   5.240  12.900"
            ],
            "text/html": [
              "\n",
              "  <div id=\"df-a2ef1b54-37eb-4af6-b2f4-fdb060347c69\">\n",
              "    <div class=\"colab-df-container\">\n",
              "      <div>\n",
              "<style scoped>\n",
              "    .dataframe tbody tr th:only-of-type {\n",
              "        vertical-align: middle;\n",
              "    }\n",
              "\n",
              "    .dataframe tbody tr th {\n",
              "        vertical-align: top;\n",
              "    }\n",
              "\n",
              "    .dataframe thead th {\n",
              "        text-align: right;\n",
              "    }\n",
              "</style>\n",
              "<table border=\"1\" class=\"dataframe\">\n",
              "  <thead>\n",
              "    <tr style=\"text-align: right;\">\n",
              "      <th></th>\n",
              "      <th>count</th>\n",
              "      <th>mean</th>\n",
              "      <th>std</th>\n",
              "      <th>min</th>\n",
              "      <th>25%</th>\n",
              "      <th>50%</th>\n",
              "      <th>75%</th>\n",
              "      <th>max</th>\n",
              "    </tr>\n",
              "    <tr>\n",
              "      <th>month</th>\n",
              "      <th></th>\n",
              "      <th></th>\n",
              "      <th></th>\n",
              "      <th></th>\n",
              "      <th></th>\n",
              "      <th></th>\n",
              "      <th></th>\n",
              "      <th></th>\n",
              "    </tr>\n",
              "  </thead>\n",
              "  <tbody>\n",
              "    <tr>\n",
              "      <th>1</th>\n",
              "      <td>53526.0</td>\n",
              "      <td>3.247722</td>\n",
              "      <td>1.900333</td>\n",
              "      <td>-1.550000</td>\n",
              "      <td>1.885</td>\n",
              "      <td>3.175</td>\n",
              "      <td>4.650</td>\n",
              "      <td>8.420</td>\n",
              "    </tr>\n",
              "    <tr>\n",
              "      <th>2</th>\n",
              "      <td>53523.0</td>\n",
              "      <td>3.417937</td>\n",
              "      <td>3.807010</td>\n",
              "      <td>-7.625000</td>\n",
              "      <td>0.625</td>\n",
              "      <td>3.725</td>\n",
              "      <td>6.400</td>\n",
              "      <td>10.880</td>\n",
              "    </tr>\n",
              "    <tr>\n",
              "      <th>3</th>\n",
              "      <td>53334.0</td>\n",
              "      <td>5.087114</td>\n",
              "      <td>3.293644</td>\n",
              "      <td>-5.225000</td>\n",
              "      <td>2.540</td>\n",
              "      <td>5.275</td>\n",
              "      <td>7.725</td>\n",
              "      <td>12.125</td>\n",
              "    </tr>\n",
              "    <tr>\n",
              "      <th>4</th>\n",
              "      <td>53807.0</td>\n",
              "      <td>12.156284</td>\n",
              "      <td>3.852366</td>\n",
              "      <td>0.550000</td>\n",
              "      <td>9.150</td>\n",
              "      <td>12.250</td>\n",
              "      <td>15.350</td>\n",
              "      <td>20.475</td>\n",
              "    </tr>\n",
              "    <tr>\n",
              "      <th>5</th>\n",
              "      <td>53372.0</td>\n",
              "      <td>14.589976</td>\n",
              "      <td>4.257777</td>\n",
              "      <td>3.300000</td>\n",
              "      <td>11.350</td>\n",
              "      <td>14.350</td>\n",
              "      <td>17.200</td>\n",
              "      <td>26.225</td>\n",
              "    </tr>\n",
              "    <tr>\n",
              "      <th>6</th>\n",
              "      <td>53798.0</td>\n",
              "      <td>20.473642</td>\n",
              "      <td>3.922660</td>\n",
              "      <td>8.333333</td>\n",
              "      <td>17.375</td>\n",
              "      <td>20.400</td>\n",
              "      <td>22.875</td>\n",
              "      <td>33.525</td>\n",
              "    </tr>\n",
              "    <tr>\n",
              "      <th>7</th>\n",
              "      <td>53342.0</td>\n",
              "      <td>20.289146</td>\n",
              "      <td>3.555809</td>\n",
              "      <td>11.500000</td>\n",
              "      <td>17.425</td>\n",
              "      <td>20.100</td>\n",
              "      <td>23.175</td>\n",
              "      <td>28.400</td>\n",
              "    </tr>\n",
              "    <tr>\n",
              "      <th>8</th>\n",
              "      <td>53559.0</td>\n",
              "      <td>21.705361</td>\n",
              "      <td>3.603063</td>\n",
              "      <td>9.875000</td>\n",
              "      <td>18.625</td>\n",
              "      <td>21.580</td>\n",
              "      <td>24.760</td>\n",
              "      <td>29.780</td>\n",
              "    </tr>\n",
              "    <tr>\n",
              "      <th>9</th>\n",
              "      <td>53609.0</td>\n",
              "      <td>16.181086</td>\n",
              "      <td>3.500313</td>\n",
              "      <td>6.740000</td>\n",
              "      <td>13.375</td>\n",
              "      <td>15.900</td>\n",
              "      <td>18.740</td>\n",
              "      <td>24.475</td>\n",
              "    </tr>\n",
              "    <tr>\n",
              "      <th>10</th>\n",
              "      <td>53789.0</td>\n",
              "      <td>11.557961</td>\n",
              "      <td>2.459660</td>\n",
              "      <td>1.280000</td>\n",
              "      <td>9.860</td>\n",
              "      <td>11.475</td>\n",
              "      <td>13.140</td>\n",
              "      <td>18.250</td>\n",
              "    </tr>\n",
              "    <tr>\n",
              "      <th>11</th>\n",
              "      <td>53576.0</td>\n",
              "      <td>6.491078</td>\n",
              "      <td>1.544462</td>\n",
              "      <td>0.900000</td>\n",
              "      <td>5.500</td>\n",
              "      <td>6.525</td>\n",
              "      <td>7.575</td>\n",
              "      <td>10.760</td>\n",
              "    </tr>\n",
              "    <tr>\n",
              "      <th>12</th>\n",
              "      <td>53917.0</td>\n",
              "      <td>4.238008</td>\n",
              "      <td>1.445125</td>\n",
              "      <td>-2.800000</td>\n",
              "      <td>3.200</td>\n",
              "      <td>4.400</td>\n",
              "      <td>5.240</td>\n",
              "      <td>12.900</td>\n",
              "    </tr>\n",
              "  </tbody>\n",
              "</table>\n",
              "</div>\n",
              "      <button class=\"colab-df-convert\" onclick=\"convertToInteractive('df-a2ef1b54-37eb-4af6-b2f4-fdb060347c69')\"\n",
              "              title=\"Convert this dataframe to an interactive table.\"\n",
              "              style=\"display:none;\">\n",
              "        \n",
              "  <svg xmlns=\"http://www.w3.org/2000/svg\" height=\"24px\"viewBox=\"0 0 24 24\"\n",
              "       width=\"24px\">\n",
              "    <path d=\"M0 0h24v24H0V0z\" fill=\"none\"/>\n",
              "    <path d=\"M18.56 5.44l.94 2.06.94-2.06 2.06-.94-2.06-.94-.94-2.06-.94 2.06-2.06.94zm-11 1L8.5 8.5l.94-2.06 2.06-.94-2.06-.94L8.5 2.5l-.94 2.06-2.06.94zm10 10l.94 2.06.94-2.06 2.06-.94-2.06-.94-.94-2.06-.94 2.06-2.06.94z\"/><path d=\"M17.41 7.96l-1.37-1.37c-.4-.4-.92-.59-1.43-.59-.52 0-1.04.2-1.43.59L10.3 9.45l-7.72 7.72c-.78.78-.78 2.05 0 2.83L4 21.41c.39.39.9.59 1.41.59.51 0 1.02-.2 1.41-.59l7.78-7.78 2.81-2.81c.8-.78.8-2.07 0-2.86zM5.41 20L4 18.59l7.72-7.72 1.47 1.35L5.41 20z\"/>\n",
              "  </svg>\n",
              "      </button>\n",
              "      \n",
              "  <style>\n",
              "    .colab-df-container {\n",
              "      display:flex;\n",
              "      flex-wrap:wrap;\n",
              "      gap: 12px;\n",
              "    }\n",
              "\n",
              "    .colab-df-convert {\n",
              "      background-color: #E8F0FE;\n",
              "      border: none;\n",
              "      border-radius: 50%;\n",
              "      cursor: pointer;\n",
              "      display: none;\n",
              "      fill: #1967D2;\n",
              "      height: 32px;\n",
              "      padding: 0 0 0 0;\n",
              "      width: 32px;\n",
              "    }\n",
              "\n",
              "    .colab-df-convert:hover {\n",
              "      background-color: #E2EBFA;\n",
              "      box-shadow: 0px 1px 2px rgba(60, 64, 67, 0.3), 0px 1px 3px 1px rgba(60, 64, 67, 0.15);\n",
              "      fill: #174EA6;\n",
              "    }\n",
              "\n",
              "    [theme=dark] .colab-df-convert {\n",
              "      background-color: #3B4455;\n",
              "      fill: #D2E3FC;\n",
              "    }\n",
              "\n",
              "    [theme=dark] .colab-df-convert:hover {\n",
              "      background-color: #434B5C;\n",
              "      box-shadow: 0px 1px 3px 1px rgba(0, 0, 0, 0.15);\n",
              "      filter: drop-shadow(0px 1px 2px rgba(0, 0, 0, 0.3));\n",
              "      fill: #FFFFFF;\n",
              "    }\n",
              "  </style>\n",
              "\n",
              "      <script>\n",
              "        const buttonEl =\n",
              "          document.querySelector('#df-a2ef1b54-37eb-4af6-b2f4-fdb060347c69 button.colab-df-convert');\n",
              "        buttonEl.style.display =\n",
              "          google.colab.kernel.accessAllowed ? 'block' : 'none';\n",
              "\n",
              "        async function convertToInteractive(key) {\n",
              "          const element = document.querySelector('#df-a2ef1b54-37eb-4af6-b2f4-fdb060347c69');\n",
              "          const dataTable =\n",
              "            await google.colab.kernel.invokeFunction('convertToInteractive',\n",
              "                                                     [key], {});\n",
              "          if (!dataTable) return;\n",
              "\n",
              "          const docLinkHtml = 'Like what you see? Visit the ' +\n",
              "            '<a target=\"_blank\" href=https://colab.research.google.com/notebooks/data_table.ipynb>data table notebook</a>'\n",
              "            + ' to learn more about interactive tables.';\n",
              "          element.innerHTML = '';\n",
              "          dataTable['output_type'] = 'display_data';\n",
              "          await google.colab.output.renderOutput(dataTable, element);\n",
              "          const docLink = document.createElement('div');\n",
              "          docLink.innerHTML = docLinkHtml;\n",
              "          element.appendChild(docLink);\n",
              "        }\n",
              "      </script>\n",
              "    </div>\n",
              "  </div>\n",
              "  "
            ]
          },
          "metadata": {},
          "execution_count": 455
        }
      ]
    },
    {
      "cell_type": "code",
      "source": [
        "#SAVE THE DATA\n",
        "path = '/content/drive/My Drive/data/output/collision_temperature.csv'\n",
        "\n",
        "with open(path, 'w', encoding = 'utf-8-sig') as f:\n",
        "  collision_temperature_neg_samples.to_csv(f)"
      ],
      "metadata": {
        "id": "KlwRW7MXlhqJ"
      },
      "execution_count": null,
      "outputs": []
    },
    {
      "cell_type": "markdown",
      "source": [
        "## Precipitation"
      ],
      "metadata": {
        "id": "OnltpY1elltJ"
      }
    },
    {
      "cell_type": "code",
      "source": [
        "precipitation_clean = clean_cols(precipitation_df)"
      ],
      "metadata": {
        "id": "1Bi47XNKloJ8"
      },
      "execution_count": 463,
      "outputs": []
    },
    {
      "cell_type": "code",
      "source": [
        "distances_prec = get_distances(neg_samples_geo, stations_precipitation)"
      ],
      "metadata": {
        "id": "yR1k2d2lmfNO"
      },
      "execution_count": 464,
      "outputs": []
    },
    {
      "cell_type": "code",
      "source": [
        "pivot_prec = pivot_weather(precipitation_clean, precipitation=True)"
      ],
      "metadata": {
        "id": "wsu16RIMms3w"
      },
      "execution_count": 465,
      "outputs": []
    },
    {
      "cell_type": "code",
      "source": [
        "#rolling average for precipitation\n",
        "pivot_prec_av = pivot_prec.copy()\n",
        "\n",
        "pivot_prec_av[\"prec_duration\"] = pivot_prec.groupby('station_id')['precipitation_duration'].rolling(10, min_periods=6).mean().reset_index(0,drop=True)\n",
        "pivot_prec_av[\"prec_height\"] = pivot_prec.groupby('station_id')['precipitation_height'].rolling(10, min_periods=6).mean().reset_index(0,drop=True)\n",
        "\n",
        "pivot_prec_av = pivot_prec_av.loc[pivot_prec_av[\"datetime\"].dt.minute == 0]\n",
        "pivot_prec_av = pivot_prec_av.drop([\"precipitation_indicator_wr\", \"precipitation_duration\", \"precipitation_height\"], axis=1)"
      ],
      "metadata": {
        "id": "b-boL2Pzm26r"
      },
      "execution_count": 466,
      "outputs": []
    },
    {
      "cell_type": "code",
      "source": [
        "####calculating average per day of week\n",
        "\n",
        "precipitation_avg = pivot_prec_av.copy()\n",
        "\n",
        "#avg for duration\n",
        "duration_avg = precipitation_avg.groupby(by=[\"year\", \"month\", \"day\", \"hour\", \"station_id\"])[\"prec_duration\"].mean()\n",
        "duration_avg = duration_avg.reset_index()\n",
        "\n",
        "#avg for height\n",
        "height_avg = precipitation_avg.groupby(by=[\"year\", \"month\", \"day\", \"hour\", \"station_id\"])[\"prec_height\"].mean()\n",
        "height_avg = height_avg.reset_index()\n",
        "\n",
        "#join\n",
        "precipitation_avg_full = duration_avg.merge(height_avg, how=\"inner\", on=[\"year\", \"month\", \"day\", \"hour\", \"station_id\"])"
      ],
      "metadata": {
        "id": "Em5E7coxnC9z"
      },
      "execution_count": 467,
      "outputs": []
    },
    {
      "cell_type": "code",
      "source": [
        "collision_precipitation = get_precipitation(neg_samples_geo, distances_prec, precipitation_avg_full)"
      ],
      "metadata": {
        "id": "-xpy4swknF1u"
      },
      "execution_count": 468,
      "outputs": []
    },
    {
      "cell_type": "code",
      "source": [
        "collision_precipitation.info()"
      ],
      "metadata": {
        "colab": {
          "base_uri": "https://localhost:8080/"
        },
        "id": "ZGVU_139oUpx",
        "outputId": "a5c35d3e-e071-4bb8-dc77-d46903ad0825"
      },
      "execution_count": 469,
      "outputs": [
        {
          "output_type": "stream",
          "name": "stdout",
          "text": [
            "<class 'pandas.core.frame.DataFrame'>\n",
            "Int64Index: 643187 entries, 0 to 643186\n",
            "Data columns (total 7 columns):\n",
            " #   Column         Non-Null Count   Dtype  \n",
            "---  ------         --------------   -----  \n",
            " 0   year           643187 non-null  int64  \n",
            " 1   month          643187 non-null  int64  \n",
            " 2   day            643187 non-null  int64  \n",
            " 3   hour           643187 non-null  int64  \n",
            " 4   segment_id     643152 non-null  float64\n",
            " 5   prec_duration  643152 non-null  float64\n",
            " 6   prec_height    643152 non-null  float64\n",
            "dtypes: float64(3), int64(4)\n",
            "memory usage: 39.3 MB\n"
          ]
        }
      ]
    },
    {
      "cell_type": "code",
      "source": [
        "#SAVE THE DATA\n",
        "path = '/content/drive/My Drive/data/output/collision_precipitation.csv'\n",
        "\n",
        "with open(path, 'w', encoding = 'utf-8-sig') as f:\n",
        "  collision_precipitation.to_csv(f)"
      ],
      "metadata": {
        "id": "j9F-2-2krLvz"
      },
      "execution_count": null,
      "outputs": []
    },
    {
      "cell_type": "markdown",
      "source": [
        "## Visibility"
      ],
      "metadata": {
        "id": "WC8TMh3Uouyt"
      }
    },
    {
      "cell_type": "code",
      "source": [
        "visibility_clean = clean_cols(visibility)"
      ],
      "metadata": {
        "id": "n-mlUsqToxkF"
      },
      "execution_count": 477,
      "outputs": []
    },
    {
      "cell_type": "code",
      "source": [
        "visibility_clean = visibility_clean[visibility_clean[\"station_id\"] == 430].copy() #only for station 430 that has data"
      ],
      "metadata": {
        "id": "dqEm0fL7o4t1"
      },
      "execution_count": 478,
      "outputs": []
    },
    {
      "cell_type": "code",
      "source": [
        "visibility_avg = get_average(visibility_clean)"
      ],
      "metadata": {
        "id": "7JpcU192o_Vd"
      },
      "execution_count": 479,
      "outputs": []
    },
    {
      "cell_type": "code",
      "source": [
        "pivot_visibility = pivot_weather(visibility_avg)"
      ],
      "metadata": {
        "id": "T7Q186NlpCo3"
      },
      "execution_count": 480,
      "outputs": []
    },
    {
      "cell_type": "code",
      "source": [
        "collision_visibility = get_visibility(neg_samples_geo, pivot_visibility)"
      ],
      "metadata": {
        "id": "_gvS3rSNpW-f"
      },
      "execution_count": 483,
      "outputs": []
    },
    {
      "cell_type": "code",
      "source": [
        "collision_visibility.info()"
      ],
      "metadata": {
        "colab": {
          "base_uri": "https://localhost:8080/"
        },
        "id": "-O8v0lYPrZ-M",
        "outputId": "a833211c-95df-4b6e-b40d-11b2782e4c2b"
      },
      "execution_count": 484,
      "outputs": [
        {
          "output_type": "stream",
          "name": "stdout",
          "text": [
            "<class 'pandas.core.frame.DataFrame'>\n",
            "Int64Index: 643187 entries, 0 to 643186\n",
            "Data columns (total 6 columns):\n",
            " #   Column      Non-Null Count   Dtype  \n",
            "---  ------      --------------   -----  \n",
            " 0   year        643187 non-null  int64  \n",
            " 1   month       643187 non-null  int64  \n",
            " 2   day         643187 non-null  int64  \n",
            " 3   hour        643187 non-null  int64  \n",
            " 4   segment_id  643152 non-null  float64\n",
            " 5   visibility  643187 non-null  float64\n",
            "dtypes: float64(2), int64(4)\n",
            "memory usage: 34.3 MB\n"
          ]
        }
      ]
    },
    {
      "cell_type": "code",
      "source": [
        "#SAVE THE DATA\n",
        "path = '/content/drive/My Drive/data/output/collision_visibility.csv'\n",
        "\n",
        "with open(path, 'w', encoding = 'utf-8-sig') as f:\n",
        "  collision_visibility.to_csv(f)"
      ],
      "metadata": {
        "id": "dy6J2vuxqC-A"
      },
      "execution_count": null,
      "outputs": []
    }
  ],
  "metadata": {
    "colab": {
      "collapsed_sections": [
        "IRKraiCCjDts",
        "0Y_l3urUPABm",
        "ccrI2DdP-eNx",
        "wpJpbi7z-Plg",
        "iKKDOcsnjM9_",
        "bXS_NrNAjU_k",
        "Ajzvr6-_fNm5",
        "5RuH0tDk1G-h",
        "iK6HY3JJf09S",
        "U0cbudD89Io9",
        "uZROx5KWrNvb",
        "QnSmevDYrUXB",
        "V-T_F78UlB_t",
        "LehwUmr2e3zp",
        "khmUrPRHgMle",
        "OnltpY1elltJ",
        "WC8TMh3Uouyt"
      ],
      "name": "Weather API.ipynb",
      "provenance": []
    },
    "kernelspec": {
      "display_name": "Python 3",
      "name": "python3"
    },
    "language_info": {
      "name": "python"
    }
  },
  "nbformat": 4,
  "nbformat_minor": 0
}