{
 "cells": [
  {
   "cell_type": "code",
   "execution_count": 23,
   "metadata": {},
   "outputs": [],
   "source": [
    "import pandas as pd\n",
    "from sklearn.model_selection import train_test_split\n",
    "#Import Random Forest Model\n",
    "from sklearn.ensemble import RandomForestClassifier\n",
    "#Import scikit-learn metrics module for accuracy calculation\n",
    "from sklearn import metrics"
   ]
  },
  {
   "cell_type": "code",
   "execution_count": 24,
   "metadata": {},
   "outputs": [
    {
     "data": {
      "text/html": [
       "<div>\n",
       "<style scoped>\n",
       "    .dataframe tbody tr th:only-of-type {\n",
       "        vertical-align: middle;\n",
       "    }\n",
       "\n",
       "    .dataframe tbody tr th {\n",
       "        vertical-align: top;\n",
       "    }\n",
       "\n",
       "    .dataframe thead th {\n",
       "        text-align: right;\n",
       "    }\n",
       "</style>\n",
       "<table border=\"1\" class=\"dataframe\">\n",
       "  <thead>\n",
       "    <tr style=\"text-align: right;\">\n",
       "      <th></th>\n",
       "      <th>XGCSWGS84</th>\n",
       "      <th>YGCSWGS84</th>\n",
       "      <th>collision</th>\n",
       "      <th>hour</th>\n",
       "      <th>hour_cos</th>\n",
       "      <th>hour_sin</th>\n",
       "      <th>month</th>\n",
       "      <th>month_cos</th>\n",
       "      <th>month_sin</th>\n",
       "      <th>segment_id</th>\n",
       "      <th>sun_elevation_angle</th>\n",
       "      <th>weekday</th>\n",
       "      <th>year</th>\n",
       "    </tr>\n",
       "  </thead>\n",
       "  <tbody>\n",
       "    <tr>\n",
       "      <th>0</th>\n",
       "      <td>13.475018</td>\n",
       "      <td>52.513596</td>\n",
       "      <td>1</td>\n",
       "      <td>15</td>\n",
       "      <td>-0.576680</td>\n",
       "      <td>-0.816970</td>\n",
       "      <td>1</td>\n",
       "      <td>0.866025</td>\n",
       "      <td>5.000000e-01</td>\n",
       "      <td>6209.0</td>\n",
       "      <td>8.940090</td>\n",
       "      <td>4</td>\n",
       "      <td>2018</td>\n",
       "    </tr>\n",
       "    <tr>\n",
       "      <th>1</th>\n",
       "      <td>13.291022</td>\n",
       "      <td>52.587257</td>\n",
       "      <td>1</td>\n",
       "      <td>11</td>\n",
       "      <td>-0.990686</td>\n",
       "      <td>0.136167</td>\n",
       "      <td>1</td>\n",
       "      <td>0.866025</td>\n",
       "      <td>5.000000e-01</td>\n",
       "      <td>41374.0</td>\n",
       "      <td>14.868199</td>\n",
       "      <td>2</td>\n",
       "      <td>2018</td>\n",
       "    </tr>\n",
       "    <tr>\n",
       "      <th>2</th>\n",
       "      <td>13.291022</td>\n",
       "      <td>52.587257</td>\n",
       "      <td>1</td>\n",
       "      <td>11</td>\n",
       "      <td>-0.990686</td>\n",
       "      <td>0.136167</td>\n",
       "      <td>1</td>\n",
       "      <td>0.866025</td>\n",
       "      <td>5.000000e-01</td>\n",
       "      <td>41373.0</td>\n",
       "      <td>14.868199</td>\n",
       "      <td>2</td>\n",
       "      <td>2018</td>\n",
       "    </tr>\n",
       "    <tr>\n",
       "      <th>3</th>\n",
       "      <td>13.420578</td>\n",
       "      <td>52.526020</td>\n",
       "      <td>1</td>\n",
       "      <td>9</td>\n",
       "      <td>-0.775711</td>\n",
       "      <td>0.631088</td>\n",
       "      <td>1</td>\n",
       "      <td>0.866025</td>\n",
       "      <td>5.000000e-01</td>\n",
       "      <td>4410.0</td>\n",
       "      <td>5.386518</td>\n",
       "      <td>3</td>\n",
       "      <td>2018</td>\n",
       "    </tr>\n",
       "    <tr>\n",
       "      <th>4</th>\n",
       "      <td>13.348288</td>\n",
       "      <td>52.481846</td>\n",
       "      <td>1</td>\n",
       "      <td>17</td>\n",
       "      <td>-0.068242</td>\n",
       "      <td>-0.997669</td>\n",
       "      <td>1</td>\n",
       "      <td>0.866025</td>\n",
       "      <td>5.000000e-01</td>\n",
       "      <td>1452.0</td>\n",
       "      <td>-5.666644</td>\n",
       "      <td>2</td>\n",
       "      <td>2018</td>\n",
       "    </tr>\n",
       "    <tr>\n",
       "      <th>...</th>\n",
       "      <td>...</td>\n",
       "      <td>...</td>\n",
       "      <td>...</td>\n",
       "      <td>...</td>\n",
       "      <td>...</td>\n",
       "      <td>...</td>\n",
       "      <td>...</td>\n",
       "      <td>...</td>\n",
       "      <td>...</td>\n",
       "      <td>...</td>\n",
       "      <td>...</td>\n",
       "      <td>...</td>\n",
       "      <td>...</td>\n",
       "    </tr>\n",
       "    <tr>\n",
       "      <th>233510</th>\n",
       "      <td>13.461185</td>\n",
       "      <td>52.500866</td>\n",
       "      <td>0</td>\n",
       "      <td>4</td>\n",
       "      <td>0.460065</td>\n",
       "      <td>0.887885</td>\n",
       "      <td>12</td>\n",
       "      <td>1.000000</td>\n",
       "      <td>-2.449294e-16</td>\n",
       "      <td>20785.0</td>\n",
       "      <td>-36.130956</td>\n",
       "      <td>2</td>\n",
       "      <td>2020</td>\n",
       "    </tr>\n",
       "    <tr>\n",
       "      <th>233511</th>\n",
       "      <td>13.408936</td>\n",
       "      <td>52.516991</td>\n",
       "      <td>0</td>\n",
       "      <td>6</td>\n",
       "      <td>-0.068242</td>\n",
       "      <td>0.997669</td>\n",
       "      <td>12</td>\n",
       "      <td>1.000000</td>\n",
       "      <td>-2.449294e-16</td>\n",
       "      <td>7145.0</td>\n",
       "      <td>-18.064387</td>\n",
       "      <td>2</td>\n",
       "      <td>2020</td>\n",
       "    </tr>\n",
       "    <tr>\n",
       "      <th>233512</th>\n",
       "      <td>13.299673</td>\n",
       "      <td>52.519741</td>\n",
       "      <td>0</td>\n",
       "      <td>7</td>\n",
       "      <td>-0.334880</td>\n",
       "      <td>0.942261</td>\n",
       "      <td>12</td>\n",
       "      <td>1.000000</td>\n",
       "      <td>-2.449294e-16</td>\n",
       "      <td>2827.0</td>\n",
       "      <td>-9.561931</td>\n",
       "      <td>2</td>\n",
       "      <td>2020</td>\n",
       "    </tr>\n",
       "    <tr>\n",
       "      <th>233513</th>\n",
       "      <td>13.295041</td>\n",
       "      <td>52.590935</td>\n",
       "      <td>0</td>\n",
       "      <td>16</td>\n",
       "      <td>-0.334880</td>\n",
       "      <td>-0.942261</td>\n",
       "      <td>12</td>\n",
       "      <td>1.000000</td>\n",
       "      <td>-2.449294e-16</td>\n",
       "      <td>1257.0</td>\n",
       "      <td>-1.575767</td>\n",
       "      <td>2</td>\n",
       "      <td>2020</td>\n",
       "    </tr>\n",
       "    <tr>\n",
       "      <th>233514</th>\n",
       "      <td>13.585360</td>\n",
       "      <td>52.411098</td>\n",
       "      <td>0</td>\n",
       "      <td>16</td>\n",
       "      <td>-0.334880</td>\n",
       "      <td>-0.942261</td>\n",
       "      <td>12</td>\n",
       "      <td>1.000000</td>\n",
       "      <td>-2.449294e-16</td>\n",
       "      <td>38421.0</td>\n",
       "      <td>-1.607907</td>\n",
       "      <td>2</td>\n",
       "      <td>2020</td>\n",
       "    </tr>\n",
       "  </tbody>\n",
       "</table>\n",
       "<p>330116 rows × 13 columns</p>\n",
       "</div>"
      ],
      "text/plain": [
       "        XGCSWGS84  YGCSWGS84  collision  hour  hour_cos  hour_sin  month  \\\n",
       "0       13.475018  52.513596          1    15 -0.576680 -0.816970      1   \n",
       "1       13.291022  52.587257          1    11 -0.990686  0.136167      1   \n",
       "2       13.291022  52.587257          1    11 -0.990686  0.136167      1   \n",
       "3       13.420578  52.526020          1     9 -0.775711  0.631088      1   \n",
       "4       13.348288  52.481846          1    17 -0.068242 -0.997669      1   \n",
       "...           ...        ...        ...   ...       ...       ...    ...   \n",
       "233510  13.461185  52.500866          0     4  0.460065  0.887885     12   \n",
       "233511  13.408936  52.516991          0     6 -0.068242  0.997669     12   \n",
       "233512  13.299673  52.519741          0     7 -0.334880  0.942261     12   \n",
       "233513  13.295041  52.590935          0    16 -0.334880 -0.942261     12   \n",
       "233514  13.585360  52.411098          0    16 -0.334880 -0.942261     12   \n",
       "\n",
       "        month_cos     month_sin  segment_id  sun_elevation_angle  weekday  \\\n",
       "0        0.866025  5.000000e-01      6209.0             8.940090        4   \n",
       "1        0.866025  5.000000e-01     41374.0            14.868199        2   \n",
       "2        0.866025  5.000000e-01     41373.0            14.868199        2   \n",
       "3        0.866025  5.000000e-01      4410.0             5.386518        3   \n",
       "4        0.866025  5.000000e-01      1452.0            -5.666644        2   \n",
       "...           ...           ...         ...                  ...      ...   \n",
       "233510   1.000000 -2.449294e-16     20785.0           -36.130956        2   \n",
       "233511   1.000000 -2.449294e-16      7145.0           -18.064387        2   \n",
       "233512   1.000000 -2.449294e-16      2827.0            -9.561931        2   \n",
       "233513   1.000000 -2.449294e-16      1257.0            -1.575767        2   \n",
       "233514   1.000000 -2.449294e-16     38421.0            -1.607907        2   \n",
       "\n",
       "        year  \n",
       "0       2018  \n",
       "1       2018  \n",
       "2       2018  \n",
       "3       2018  \n",
       "4       2018  \n",
       "...      ...  \n",
       "233510  2020  \n",
       "233511  2020  \n",
       "233512  2020  \n",
       "233513  2020  \n",
       "233514  2020  \n",
       "\n",
       "[330116 rows x 13 columns]"
      ]
     },
     "execution_count": 24,
     "metadata": {},
     "output_type": "execute_result"
    }
   ],
   "source": [
    "data = pd.read_csv('../data/output/full_sample.csv',index_col=[0]).dropna()\n",
    "data"
   ]
  },
  {
   "cell_type": "code",
   "execution_count": 25,
   "metadata": {},
   "outputs": [],
   "source": [
    "X=data[['year','month_sin', 'month_cos', 'weekday', 'hour_sin', 'hour_cos', 'segment_id', 'sun_elevation_angle']]  # Features\n",
    "\n",
    "y=data['collision']  # Labels"
   ]
  },
  {
   "cell_type": "code",
   "execution_count": 39,
   "metadata": {},
   "outputs": [],
   "source": [
    "# Split dataset into training set and test set\n",
    "X_train, X_test, y_train, y_test = train_test_split(X, y, test_size=0.33) # 70% training and 30% test"
   ]
  },
  {
   "cell_type": "code",
   "execution_count": 43,
   "metadata": {},
   "outputs": [
    {
     "data": {
      "text/plain": [
       "RandomForestClassifier(max_depth=18)"
      ]
     },
     "execution_count": 43,
     "metadata": {},
     "output_type": "execute_result"
    }
   ],
   "source": [
    "#Create a Gaussian Classifier\n",
    "clf=RandomForestClassifier(n_estimators=100, max_depth=18)\n",
    "\n",
    "#Train the model using the training sets y_pred=clf.predict(X_test)\n",
    "clf.fit(X_train,y_train)\n",
    "\n"
   ]
  },
  {
   "cell_type": "code",
   "execution_count": 41,
   "metadata": {},
   "outputs": [],
   "source": [
    "y_pred=clf.predict(X_test)"
   ]
  },
  {
   "cell_type": "code",
   "execution_count": 42,
   "metadata": {},
   "outputs": [
    {
     "name": "stdout",
     "output_type": "stream",
     "text": [
      "Accuracy: 0.9519443846404713\n"
     ]
    }
   ],
   "source": [
    "# Model Accuracy, how often is the classifier correct?\n",
    "print(\"Accuracy:\",metrics.roc_auc_score(y_test, y_pred))"
   ]
  },
  {
   "cell_type": "code",
   "execution_count": 44,
   "metadata": {},
   "outputs": [
    {
     "data": {
      "image/png": "[encoded data removed]",
      "text/plain": [
       "<Figure size 432x288 with 1 Axes>"
      ]
     },
     "metadata": {
      "needs_background": "light"
     },
     "output_type": "display_data"
    }
   ],
   "source": [
    "from sklearn.metrics import PrecisionRecallDisplay\n",
    "\n",
    "display = PrecisionRecallDisplay.from_estimator(\n",
    "    clf, X_test, y_test, name=\"LinearSVC\"\n",
    ")\n",
    "\n",
    "_ = display.ax_.set_title(\"2-class Precision-Recall curve\")"
   ]
  },
  {
   "cell_type": "code",
   "execution_count": 46,
   "metadata": {},
   "outputs": [
    {
     "data": {
      "image/png": "[encoded data removed]",
      "text/plain": [
       "<Figure size 432x288 with 1 Axes>"
      ]
     },
     "metadata": {
      "needs_background": "light"
     },
     "output_type": "display_data"
    }
   ],
   "source": [
    "#y_score = clf.decision_function(X_test)\n",
    "\n",
    "display = PrecisionRecallDisplay.from_predictions(y_test, y_score, name=\"LinearSVC\")\n",
    "_ = display.ax_.set_title(\"2-class Precision-Recall curve\")"
   ]
  },
  {
   "cell_type": "code",
   "execution_count": null,
   "metadata": {},
   "outputs": [],
   "source": []
  }
 ],
 "metadata": {
  "kernelspec": {
   "display_name": "Python 3",
   "language": "python",
   "name": "python3"
  },
  "language_info": {
   "codemirror_mode": {
    "name": "ipython",
    "version": 3
   },
   "file_extension": ".py",
   "mimetype": "text/x-python",
   "name": "python",
   "nbconvert_exporter": "python",
   "pygments_lexer": "ipython3",
   "version": "3.7.4"
  }
 },
 "nbformat": 4,
 "nbformat_minor": 4
}
