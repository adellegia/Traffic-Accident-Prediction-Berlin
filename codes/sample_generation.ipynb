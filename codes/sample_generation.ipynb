{
 "cells": [
  {
   "cell_type": "code",
   "execution_count": 1,
   "metadata": {
    "colab": {
     "base_uri": "https://localhost:8080/"
    },
    "collapsed": true,
    "executionInfo": {
     "elapsed": 1620,
     "status": "ok",
     "timestamp": 1648822485723,
     "user": {
      "displayName": "Benedikt Ströbl",
      "userId": "04612548199667048888"
     },
     "user_tz": -120
    },
    "id": "Dzu6-GDCIwyy",
    "jupyter": {
     "outputs_hidden": true
    },
    "outputId": "f19842df-8bcb-4e9e-ef19-71faf33b613d"
   },
   "outputs": [
    {
     "ename": "ModuleNotFoundError",
     "evalue": "No module named 'google.colab'",
     "output_type": "error",
     "traceback": [
      "\u001b[1;31m---------------------------------------------------------------------------\u001b[0m",
      "\u001b[1;31mModuleNotFoundError\u001b[0m                       Traceback (most recent call last)",
      "\u001b[1;32m<ipython-input-1-e6c166483820>\u001b[0m in \u001b[0;36m<module>\u001b[1;34m\u001b[0m\n\u001b[1;32m----> 1\u001b[1;33m \u001b[1;32mfrom\u001b[0m \u001b[0mgoogle\u001b[0m\u001b[1;33m.\u001b[0m\u001b[0mcolab\u001b[0m \u001b[1;32mimport\u001b[0m \u001b[0mdrive\u001b[0m\u001b[1;33m\u001b[0m\u001b[1;33m\u001b[0m\u001b[0m\n\u001b[0m\u001b[0;32m      2\u001b[0m \u001b[1;33m\u001b[0m\u001b[0m\n\u001b[0;32m      3\u001b[0m \u001b[0mdrive\u001b[0m\u001b[1;33m.\u001b[0m\u001b[0mmount\u001b[0m\u001b[1;33m(\u001b[0m\u001b[1;34m'/content/drive/'\u001b[0m\u001b[1;33m)\u001b[0m\u001b[1;33m\u001b[0m\u001b[1;33m\u001b[0m\u001b[0m\n",
      "\u001b[1;31mModuleNotFoundError\u001b[0m: No module named 'google.colab'"
     ]
    }
   ],
   "source": [
    "from google.colab import drive\n",
    "\n",
    "drive.mount('/content/drive/')"
   ]
  },
  {
   "cell_type": "code",
   "execution_count": 187,
   "metadata": {
    "executionInfo": {
     "elapsed": 711,
     "status": "ok",
     "timestamp": 1648822486427,
     "user": {
      "displayName": "Benedikt Ströbl",
      "userId": "04612548199667048888"
     },
     "user_tz": -120
    },
    "id": "UCgOMBB5Wv7l",
    "tags": []
   },
   "outputs": [],
   "source": [
    "import pandas as pd"
   ]
  },
  {
   "cell_type": "code",
   "execution_count": 188,
   "metadata": {
    "tags": []
   },
   "outputs": [
    {
     "ename": "ValueError",
     "evalue": "Cannot run multiple SparkContexts at once; existing SparkContext(app=ML_Project, master=local) created by __init__ at <ipython-input-2-189f8250b048>:10 ",
     "output_type": "error",
     "traceback": [
      "\u001b[1;31m---------------------------------------------------------------------------\u001b[0m",
      "\u001b[1;31mValueError\u001b[0m                                Traceback (most recent call last)",
      "\u001b[1;32m<ipython-input-188-189f8250b048>\u001b[0m in \u001b[0;36m<module>\u001b[1;34m\u001b[0m\n\u001b[0;32m      8\u001b[0m \u001b[1;32mfrom\u001b[0m \u001b[0mpyspark\u001b[0m\u001b[1;33m.\u001b[0m\u001b[0msql\u001b[0m \u001b[1;32mimport\u001b[0m \u001b[0mSparkSession\u001b[0m\u001b[1;33m\u001b[0m\u001b[1;33m\u001b[0m\u001b[0m\n\u001b[0;32m      9\u001b[0m \u001b[0mconf\u001b[0m \u001b[1;33m=\u001b[0m \u001b[0mpyspark\u001b[0m\u001b[1;33m.\u001b[0m\u001b[0mSparkConf\u001b[0m\u001b[1;33m(\u001b[0m\u001b[1;33m)\u001b[0m\u001b[1;33m.\u001b[0m\u001b[0msetAppName\u001b[0m\u001b[1;33m(\u001b[0m\u001b[1;34m'ML_Project'\u001b[0m\u001b[1;33m)\u001b[0m\u001b[1;33m.\u001b[0m\u001b[0msetMaster\u001b[0m\u001b[1;33m(\u001b[0m\u001b[1;34m'local'\u001b[0m\u001b[1;33m)\u001b[0m\u001b[1;33m.\u001b[0m\u001b[0mset\u001b[0m\u001b[1;33m(\u001b[0m\u001b[1;34m\"spark.executor.memory\"\u001b[0m\u001b[1;33m,\u001b[0m \u001b[1;34m\"6g\"\u001b[0m\u001b[1;33m)\u001b[0m\u001b[1;33m\u001b[0m\u001b[1;33m\u001b[0m\u001b[0m\n\u001b[1;32m---> 10\u001b[1;33m \u001b[0msc\u001b[0m \u001b[1;33m=\u001b[0m \u001b[0mpyspark\u001b[0m\u001b[1;33m.\u001b[0m\u001b[0mSparkContext\u001b[0m\u001b[1;33m(\u001b[0m\u001b[0mconf\u001b[0m\u001b[1;33m=\u001b[0m\u001b[0mconf\u001b[0m\u001b[1;33m)\u001b[0m\u001b[1;33m\u001b[0m\u001b[1;33m\u001b[0m\u001b[0m\n\u001b[0m\u001b[0;32m     11\u001b[0m \u001b[1;31m#Create SparkSession\u001b[0m\u001b[1;33m\u001b[0m\u001b[1;33m\u001b[0m\u001b[1;33m\u001b[0m\u001b[0m\n\u001b[0;32m     12\u001b[0m \u001b[0mspark\u001b[0m \u001b[1;33m=\u001b[0m \u001b[0mSparkSession\u001b[0m\u001b[1;33m(\u001b[0m\u001b[0msc\u001b[0m\u001b[1;33m)\u001b[0m\u001b[1;33m\u001b[0m\u001b[1;33m\u001b[0m\u001b[0m\n",
      "\u001b[1;32mC:\\spark\\spark-3.2.1-bin-hadoop3.2\\python\\pyspark\\context.py\u001b[0m in \u001b[0;36m__init__\u001b[1;34m(self, master, appName, sparkHome, pyFiles, environment, batchSize, serializer, conf, gateway, jsc, profiler_cls)\u001b[0m\n\u001b[0;32m    142\u001b[0m                 \" is not allowed as it is a security risk.\")\n\u001b[0;32m    143\u001b[0m \u001b[1;33m\u001b[0m\u001b[0m\n\u001b[1;32m--> 144\u001b[1;33m         \u001b[0mSparkContext\u001b[0m\u001b[1;33m.\u001b[0m\u001b[0m_ensure_initialized\u001b[0m\u001b[1;33m(\u001b[0m\u001b[0mself\u001b[0m\u001b[1;33m,\u001b[0m \u001b[0mgateway\u001b[0m\u001b[1;33m=\u001b[0m\u001b[0mgateway\u001b[0m\u001b[1;33m,\u001b[0m \u001b[0mconf\u001b[0m\u001b[1;33m=\u001b[0m\u001b[0mconf\u001b[0m\u001b[1;33m)\u001b[0m\u001b[1;33m\u001b[0m\u001b[1;33m\u001b[0m\u001b[0m\n\u001b[0m\u001b[0;32m    145\u001b[0m         \u001b[1;32mtry\u001b[0m\u001b[1;33m:\u001b[0m\u001b[1;33m\u001b[0m\u001b[1;33m\u001b[0m\u001b[0m\n\u001b[0;32m    146\u001b[0m             self._do_init(master, appName, sparkHome, pyFiles, environment, batchSize, serializer,\n",
      "\u001b[1;32mC:\\spark\\spark-3.2.1-bin-hadoop3.2\\python\\pyspark\\context.py\u001b[0m in \u001b[0;36m_ensure_initialized\u001b[1;34m(cls, instance, gateway, conf)\u001b[0m\n\u001b[0;32m    353\u001b[0m                         \u001b[1;34m\" created by %s at %s:%s \"\u001b[0m\u001b[1;33m\u001b[0m\u001b[1;33m\u001b[0m\u001b[0m\n\u001b[0;32m    354\u001b[0m                         % (currentAppName, currentMaster,\n\u001b[1;32m--> 355\u001b[1;33m                             callsite.function, callsite.file, callsite.linenum))\n\u001b[0m\u001b[0;32m    356\u001b[0m                 \u001b[1;32melse\u001b[0m\u001b[1;33m:\u001b[0m\u001b[1;33m\u001b[0m\u001b[1;33m\u001b[0m\u001b[0m\n\u001b[0;32m    357\u001b[0m                     \u001b[0mSparkContext\u001b[0m\u001b[1;33m.\u001b[0m\u001b[0m_active_spark_context\u001b[0m \u001b[1;33m=\u001b[0m \u001b[0minstance\u001b[0m\u001b[1;33m\u001b[0m\u001b[1;33m\u001b[0m\u001b[0m\n",
      "\u001b[1;31mValueError\u001b[0m: Cannot run multiple SparkContexts at once; existing SparkContext(app=ML_Project, master=local) created by __init__ at <ipython-input-2-189f8250b048>:10 "
     ]
    }
   ],
   "source": [
    "import findspark\n",
    "findspark.init()\n",
    "findspark.find()\n",
    "import pyspark\n",
    "from pyspark.sql.functions import *\n",
    "from pyspark.sql.types import IntegerType, FloatType\n",
    "from pyspark import SparkContext, SparkConf\n",
    "from pyspark.sql import SparkSession\n",
    "conf = pyspark.SparkConf().setAppName('ML_Project').setMaster('local').set(\"spark.executor.memory\", \"6g\")\n",
    "sc = pyspark.SparkContext(conf=conf)\n",
    "#Create SparkSession\n",
    "spark = SparkSession(sc)"
   ]
  },
  {
   "cell_type": "code",
   "execution_count": 189,
   "metadata": {
    "colab": {
     "base_uri": "https://localhost:8080/"
    },
    "executionInfo": {
     "elapsed": 2378,
     "status": "ok",
     "timestamp": 1648822490632,
     "user": {
      "displayName": "Benedikt Ströbl",
      "userId": "04612548199667048888"
     },
     "user_tz": -120
    },
    "id": "vVyO0ACwVmFu",
    "outputId": "47061e18-869c-41e2-af67-c56e2024114e",
    "tags": []
   },
   "outputs": [
    {
     "name": "stderr",
     "output_type": "stream",
     "text": [
      "c:\\users\\bened\\appdata\\local\\programs\\python\\python37\\lib\\site-packages\\IPython\\core\\interactiveshell.py:3058: DtypeWarning: Columns (5,20,21) have mixed types. Specify dtype option on import or set low_memory=False.\n",
      "  interactivity=interactivity, compiler=compiler, result=result)\n"
     ]
    }
   ],
   "source": [
    "# import collision_road matching data with segment IDs\n",
    "df_collision_segment_pairs = pd.read_csv('../data/processed/col_segment_pairs.csv')\n",
    "\n",
    "# import collision data\n",
    "df_collisions = pd.read_csv('../data/processed/collisions.csv')\n",
    "\n",
    "# load all segment_ID in Berlin\n",
    "df_segments = pd.read_csv('../data/processed/road_segments.csv')"
   ]
  },
  {
   "cell_type": "code",
   "execution_count": 190,
   "metadata": {
    "tags": []
   },
   "outputs": [
    {
     "data": {
      "text/html": [
       "<div>\n",
       "<style scoped>\n",
       "    .dataframe tbody tr th:only-of-type {\n",
       "        vertical-align: middle;\n",
       "    }\n",
       "\n",
       "    .dataframe tbody tr th {\n",
       "        vertical-align: top;\n",
       "    }\n",
       "\n",
       "    .dataframe thead th {\n",
       "        text-align: right;\n",
       "    }\n",
       "</style>\n",
       "<table border=\"1\" class=\"dataframe\">\n",
       "  <thead>\n",
       "    <tr style=\"text-align: right;\">\n",
       "      <th></th>\n",
       "      <th>segment_id</th>\n",
       "    </tr>\n",
       "  </thead>\n",
       "  <tbody>\n",
       "    <tr>\n",
       "      <th>0</th>\n",
       "      <td>0</td>\n",
       "    </tr>\n",
       "    <tr>\n",
       "      <th>1</th>\n",
       "      <td>1</td>\n",
       "    </tr>\n",
       "    <tr>\n",
       "      <th>2</th>\n",
       "      <td>2</td>\n",
       "    </tr>\n",
       "    <tr>\n",
       "      <th>3</th>\n",
       "      <td>3</td>\n",
       "    </tr>\n",
       "    <tr>\n",
       "      <th>4</th>\n",
       "      <td>4</td>\n",
       "    </tr>\n",
       "    <tr>\n",
       "      <th>...</th>\n",
       "      <td>...</td>\n",
       "    </tr>\n",
       "    <tr>\n",
       "      <th>43105</th>\n",
       "      <td>43105</td>\n",
       "    </tr>\n",
       "    <tr>\n",
       "      <th>43106</th>\n",
       "      <td>43106</td>\n",
       "    </tr>\n",
       "    <tr>\n",
       "      <th>43107</th>\n",
       "      <td>43107</td>\n",
       "    </tr>\n",
       "    <tr>\n",
       "      <th>43108</th>\n",
       "      <td>43108</td>\n",
       "    </tr>\n",
       "    <tr>\n",
       "      <th>43109</th>\n",
       "      <td>43109</td>\n",
       "    </tr>\n",
       "  </tbody>\n",
       "</table>\n",
       "<p>43110 rows × 1 columns</p>\n",
       "</div>"
      ],
      "text/plain": [
       "       segment_id\n",
       "0               0\n",
       "1               1\n",
       "2               2\n",
       "3               3\n",
       "4               4\n",
       "...           ...\n",
       "43105       43105\n",
       "43106       43106\n",
       "43107       43107\n",
       "43108       43108\n",
       "43109       43109\n",
       "\n",
       "[43110 rows x 1 columns]"
      ]
     },
     "execution_count": 190,
     "metadata": {},
     "output_type": "execute_result"
    }
   ],
   "source": [
    "# Retain only segment IDs from full segment list\n",
    "df_segment_ids = df_segments[['segment_id']]\n",
    "df_segment_ids"
   ]
  },
  {
   "cell_type": "code",
   "execution_count": 202,
   "metadata": {
    "colab": {
     "base_uri": "https://localhost:8080/",
     "height": 238
    },
    "executionInfo": {
     "elapsed": 14,
     "status": "ok",
     "timestamp": 1648822490633,
     "user": {
      "displayName": "Benedikt Ströbl",
      "userId": "04612548199667048888"
     },
     "user_tz": -120
    },
    "id": "2N-zNUGAkvPM",
    "outputId": "53820bfe-73d7-4550-ced5-a1fd3b6366bf",
    "tags": []
   },
   "outputs": [
    {
     "data": {
      "text/html": [
       "<div>\n",
       "<style scoped>\n",
       "    .dataframe tbody tr th:only-of-type {\n",
       "        vertical-align: middle;\n",
       "    }\n",
       "\n",
       "    .dataframe tbody tr th {\n",
       "        vertical-align: top;\n",
       "    }\n",
       "\n",
       "    .dataframe thead th {\n",
       "        text-align: right;\n",
       "    }\n",
       "</style>\n",
       "<table border=\"1\" class=\"dataframe\">\n",
       "  <thead>\n",
       "    <tr style=\"text-align: right;\">\n",
       "      <th></th>\n",
       "      <th>col_id</th>\n",
       "      <th>segment_id</th>\n",
       "      <th>collision_cnt</th>\n",
       "      <th>objectid</th>\n",
       "      <th>land</th>\n",
       "      <th>district</th>\n",
       "      <th>LOR</th>\n",
       "      <th>street</th>\n",
       "      <th>LOR_ab_2021</th>\n",
       "      <th>year</th>\n",
       "      <th>...</th>\n",
       "      <th>foot</th>\n",
       "      <th>motor</th>\n",
       "      <th>vehicle</th>\n",
       "      <th>other</th>\n",
       "      <th>road_con</th>\n",
       "      <th>LINREFX</th>\n",
       "      <th>LINREFY</th>\n",
       "      <th>XGCSWGS84</th>\n",
       "      <th>YGCSWGS84</th>\n",
       "      <th>geometry</th>\n",
       "    </tr>\n",
       "  </thead>\n",
       "  <tbody>\n",
       "    <tr>\n",
       "      <th>0</th>\n",
       "      <td>1</td>\n",
       "      <td>41373.0</td>\n",
       "      <td>1</td>\n",
       "      <td>112705</td>\n",
       "      <td>11</td>\n",
       "      <td>12</td>\n",
       "      <td>12304314.0</td>\n",
       "      <td>Ziekowstraße/Freie Scholle</td>\n",
       "      <td>12500824.0</td>\n",
       "      <td>2018</td>\n",
       "      <td>...</td>\n",
       "      <td>0</td>\n",
       "      <td>0</td>\n",
       "      <td>0</td>\n",
       "      <td>0</td>\n",
       "      <td>0</td>\n",
       "      <td>790639,5854</td>\n",
       "      <td>5835009,589</td>\n",
       "      <td>13.291022</td>\n",
       "      <td>52.587259</td>\n",
       "      <td>POINT (13.29102205 52.58725906)</td>\n",
       "    </tr>\n",
       "    <tr>\n",
       "      <th>1</th>\n",
       "      <td>3</td>\n",
       "      <td>828.0</td>\n",
       "      <td>6</td>\n",
       "      <td>112737</td>\n",
       "      <td>11</td>\n",
       "      <td>7</td>\n",
       "      <td>7020202.0</td>\n",
       "      <td>Volkspark (Rudolf-Wilde-Park)</td>\n",
       "      <td>7200308.0</td>\n",
       "      <td>2018</td>\n",
       "      <td>...</td>\n",
       "      <td>1</td>\n",
       "      <td>0</td>\n",
       "      <td>0</td>\n",
       "      <td>0</td>\n",
       "      <td>0</td>\n",
       "      <td>795223,509</td>\n",
       "      <td>5823525,402</td>\n",
       "      <td>13.348288</td>\n",
       "      <td>52.481844</td>\n",
       "      <td>POINT (13.34828776 52.48184447)</td>\n",
       "    </tr>\n",
       "    <tr>\n",
       "      <th>2</th>\n",
       "      <td>4</td>\n",
       "      <td>21397.0</td>\n",
       "      <td>2</td>\n",
       "      <td>112747</td>\n",
       "      <td>11</td>\n",
       "      <td>3</td>\n",
       "      <td>3020209.0</td>\n",
       "      <td>Niederschönhausen</td>\n",
       "      <td>3200206.0</td>\n",
       "      <td>2018</td>\n",
       "      <td>...</td>\n",
       "      <td>1</td>\n",
       "      <td>0</td>\n",
       "      <td>0</td>\n",
       "      <td>0</td>\n",
       "      <td>1</td>\n",
       "      <td>798261,3849</td>\n",
       "      <td>5835047,26</td>\n",
       "      <td>13.403228</td>\n",
       "      <td>52.583472</td>\n",
       "      <td>POINT (13.40322797 52.58347154)</td>\n",
       "    </tr>\n",
       "    <tr>\n",
       "      <th>3</th>\n",
       "      <td>6</td>\n",
       "      <td>41696.0</td>\n",
       "      <td>1</td>\n",
       "      <td>112792</td>\n",
       "      <td>11</td>\n",
       "      <td>4</td>\n",
       "      <td>4061757.0</td>\n",
       "      <td>Forst Grunewald</td>\n",
       "      <td>4200207.0</td>\n",
       "      <td>2018</td>\n",
       "      <td>...</td>\n",
       "      <td>0</td>\n",
       "      <td>0</td>\n",
       "      <td>0</td>\n",
       "      <td>1</td>\n",
       "      <td>1</td>\n",
       "      <td>788961,8201</td>\n",
       "      <td>5823583,542</td>\n",
       "      <td>13.256390</td>\n",
       "      <td>52.485715</td>\n",
       "      <td>POINT (13.25639043 52.48571541)</td>\n",
       "    </tr>\n",
       "    <tr>\n",
       "      <th>4</th>\n",
       "      <td>7</td>\n",
       "      <td>42255.0</td>\n",
       "      <td>2</td>\n",
       "      <td>112805</td>\n",
       "      <td>11</td>\n",
       "      <td>3</td>\n",
       "      <td>3010104.0</td>\n",
       "      <td>Lietzengraben</td>\n",
       "      <td>3100101.0</td>\n",
       "      <td>2018</td>\n",
       "      <td>...</td>\n",
       "      <td>0</td>\n",
       "      <td>0</td>\n",
       "      <td>0</td>\n",
       "      <td>0</td>\n",
       "      <td>1</td>\n",
       "      <td>799543,5822</td>\n",
       "      <td>5840743,375</td>\n",
       "      <td>13.427252</td>\n",
       "      <td>52.633823</td>\n",
       "      <td>POINT (13.42725182 52.63382261)</td>\n",
       "    </tr>\n",
       "    <tr>\n",
       "      <th>...</th>\n",
       "      <td>...</td>\n",
       "      <td>...</td>\n",
       "      <td>...</td>\n",
       "      <td>...</td>\n",
       "      <td>...</td>\n",
       "      <td>...</td>\n",
       "      <td>...</td>\n",
       "      <td>...</td>\n",
       "      <td>...</td>\n",
       "      <td>...</td>\n",
       "      <td>...</td>\n",
       "      <td>...</td>\n",
       "      <td>...</td>\n",
       "      <td>...</td>\n",
       "      <td>...</td>\n",
       "      <td>...</td>\n",
       "      <td>...</td>\n",
       "      <td>...</td>\n",
       "      <td>...</td>\n",
       "      <td>...</td>\n",
       "      <td>...</td>\n",
       "    </tr>\n",
       "    <tr>\n",
       "      <th>52113</th>\n",
       "      <td>38472</td>\n",
       "      <td>21737.0</td>\n",
       "      <td>6</td>\n",
       "      <td>145557</td>\n",
       "      <td>11</td>\n",
       "      <td>1</td>\n",
       "      <td>1044201.0</td>\n",
       "      <td>NaN</td>\n",
       "      <td>1401045.0</td>\n",
       "      <td>2020</td>\n",
       "      <td>...</td>\n",
       "      <td>0</td>\n",
       "      <td>0</td>\n",
       "      <td>0</td>\n",
       "      <td>0</td>\n",
       "      <td>0</td>\n",
       "      <td>796697,6855</td>\n",
       "      <td>5831916,881</td>\n",
       "      <td>13.377416</td>\n",
       "      <td>52.556266</td>\n",
       "      <td>POINT (13.37741627 52.55626636)</td>\n",
       "    </tr>\n",
       "    <tr>\n",
       "      <th>52114</th>\n",
       "      <td>38511</td>\n",
       "      <td>2782.0</td>\n",
       "      <td>20</td>\n",
       "      <td>145596</td>\n",
       "      <td>11</td>\n",
       "      <td>1</td>\n",
       "      <td>1044201.0</td>\n",
       "      <td>NaN</td>\n",
       "      <td>1401045.0</td>\n",
       "      <td>2020</td>\n",
       "      <td>...</td>\n",
       "      <td>0</td>\n",
       "      <td>0</td>\n",
       "      <td>0</td>\n",
       "      <td>0</td>\n",
       "      <td>1</td>\n",
       "      <td>797094,9703</td>\n",
       "      <td>5831923,772</td>\n",
       "      <td>13.383265</td>\n",
       "      <td>52.556112</td>\n",
       "      <td>POINT (13.38326526 52.55611156)</td>\n",
       "    </tr>\n",
       "    <tr>\n",
       "      <th>52115</th>\n",
       "      <td>38536</td>\n",
       "      <td>2781.0</td>\n",
       "      <td>21</td>\n",
       "      <td>145621</td>\n",
       "      <td>11</td>\n",
       "      <td>1</td>\n",
       "      <td>1044201.0</td>\n",
       "      <td>NaN</td>\n",
       "      <td>1401045.0</td>\n",
       "      <td>2020</td>\n",
       "      <td>...</td>\n",
       "      <td>0</td>\n",
       "      <td>0</td>\n",
       "      <td>0</td>\n",
       "      <td>1</td>\n",
       "      <td>0</td>\n",
       "      <td>796599,2162</td>\n",
       "      <td>5831923,893</td>\n",
       "      <td>13.375974</td>\n",
       "      <td>52.556383</td>\n",
       "      <td>POINT (13.37597435 52.55638286)</td>\n",
       "    </tr>\n",
       "    <tr>\n",
       "      <th>52116</th>\n",
       "      <td>38556</td>\n",
       "      <td>19720.0</td>\n",
       "      <td>14</td>\n",
       "      <td>145641</td>\n",
       "      <td>11</td>\n",
       "      <td>3</td>\n",
       "      <td>3061228.0</td>\n",
       "      <td>NaN</td>\n",
       "      <td>3601245.0</td>\n",
       "      <td>2020</td>\n",
       "      <td>...</td>\n",
       "      <td>0</td>\n",
       "      <td>1</td>\n",
       "      <td>0</td>\n",
       "      <td>0</td>\n",
       "      <td>0</td>\n",
       "      <td>800403,9773</td>\n",
       "      <td>5831533,36</td>\n",
       "      <td>13.431574</td>\n",
       "      <td>52.550797</td>\n",
       "      <td>POINT (13.43157439 52.5507971)</td>\n",
       "    </tr>\n",
       "    <tr>\n",
       "      <th>52117</th>\n",
       "      <td>38805</td>\n",
       "      <td>2781.0</td>\n",
       "      <td>21</td>\n",
       "      <td>145971</td>\n",
       "      <td>11</td>\n",
       "      <td>1</td>\n",
       "      <td>1044201.0</td>\n",
       "      <td>NaN</td>\n",
       "      <td>1401045.0</td>\n",
       "      <td>2020</td>\n",
       "      <td>...</td>\n",
       "      <td>0</td>\n",
       "      <td>0</td>\n",
       "      <td>0</td>\n",
       "      <td>0</td>\n",
       "      <td>0</td>\n",
       "      <td>796617,6077</td>\n",
       "      <td>5831922,593</td>\n",
       "      <td>13.376244</td>\n",
       "      <td>52.556361</td>\n",
       "      <td>POINT (13.37624367 52.55636119)</td>\n",
       "    </tr>\n",
       "  </tbody>\n",
       "</table>\n",
       "<p>52118 rows × 29 columns</p>\n",
       "</div>"
      ],
      "text/plain": [
       "       col_id  segment_id  collision_cnt  objectid  land  district  \\\n",
       "0           1     41373.0              1    112705    11        12   \n",
       "1           3       828.0              6    112737    11         7   \n",
       "2           4     21397.0              2    112747    11         3   \n",
       "3           6     41696.0              1    112792    11         4   \n",
       "4           7     42255.0              2    112805    11         3   \n",
       "...       ...         ...            ...       ...   ...       ...   \n",
       "52113   38472     21737.0              6    145557    11         1   \n",
       "52114   38511      2782.0             20    145596    11         1   \n",
       "52115   38536      2781.0             21    145621    11         1   \n",
       "52116   38556     19720.0             14    145641    11         3   \n",
       "52117   38805      2781.0             21    145971    11         1   \n",
       "\n",
       "              LOR                         street  LOR_ab_2021  year  ...  \\\n",
       "0      12304314.0     Ziekowstraße/Freie Scholle   12500824.0  2018  ...   \n",
       "1       7020202.0  Volkspark (Rudolf-Wilde-Park)    7200308.0  2018  ...   \n",
       "2       3020209.0              Niederschönhausen    3200206.0  2018  ...   \n",
       "3       4061757.0                Forst Grunewald    4200207.0  2018  ...   \n",
       "4       3010104.0                  Lietzengraben    3100101.0  2018  ...   \n",
       "...           ...                            ...          ...   ...  ...   \n",
       "52113   1044201.0                            NaN    1401045.0  2020  ...   \n",
       "52114   1044201.0                            NaN    1401045.0  2020  ...   \n",
       "52115   1044201.0                            NaN    1401045.0  2020  ...   \n",
       "52116   3061228.0                            NaN    3601245.0  2020  ...   \n",
       "52117   1044201.0                            NaN    1401045.0  2020  ...   \n",
       "\n",
       "       foot  motor  vehicle  other  road_con      LINREFX      LINREFY  \\\n",
       "0         0      0        0      0         0  790639,5854  5835009,589   \n",
       "1         1      0        0      0         0   795223,509  5823525,402   \n",
       "2         1      0        0      0         1  798261,3849   5835047,26   \n",
       "3         0      0        0      1         1  788961,8201  5823583,542   \n",
       "4         0      0        0      0         1  799543,5822  5840743,375   \n",
       "...     ...    ...      ...    ...       ...          ...          ...   \n",
       "52113     0      0        0      0         0  796697,6855  5831916,881   \n",
       "52114     0      0        0      0         1  797094,9703  5831923,772   \n",
       "52115     0      0        0      1         0  796599,2162  5831923,893   \n",
       "52116     0      1        0      0         0  800403,9773   5831533,36   \n",
       "52117     0      0        0      0         0  796617,6077  5831922,593   \n",
       "\n",
       "       XGCSWGS84  YGCSWGS84                         geometry  \n",
       "0      13.291022  52.587259  POINT (13.29102205 52.58725906)  \n",
       "1      13.348288  52.481844  POINT (13.34828776 52.48184447)  \n",
       "2      13.403228  52.583472  POINT (13.40322797 52.58347154)  \n",
       "3      13.256390  52.485715  POINT (13.25639043 52.48571541)  \n",
       "4      13.427252  52.633823  POINT (13.42725182 52.63382261)  \n",
       "...          ...        ...                              ...  \n",
       "52113  13.377416  52.556266  POINT (13.37741627 52.55626636)  \n",
       "52114  13.383265  52.556112  POINT (13.38326526 52.55611156)  \n",
       "52115  13.375974  52.556383  POINT (13.37597435 52.55638286)  \n",
       "52116  13.431574  52.550797   POINT (13.43157439 52.5507971)  \n",
       "52117  13.376244  52.556361  POINT (13.37624367 52.55636119)  \n",
       "\n",
       "[52118 rows x 29 columns]"
      ]
     },
     "execution_count": 202,
     "metadata": {},
     "output_type": "execute_result"
    }
   ],
   "source": [
    "# Merge Collision Segment pairs with collision data set to get positive sample\n",
    "df_positive_sample = df_collision_segment_pairs.merge(df_collisions, left_on='col_id', right_on='col_id', suffixes=('','_y'), copy=False)\n",
    "df_positive_sample"
   ]
  },
  {
   "cell_type": "code",
   "execution_count": 192,
   "metadata": {
    "tags": []
   },
   "outputs": [],
   "source": [
    "# Some type conversions\n",
    "df_segments.bezirk = df_segments.bezirk.astype(str)\n",
    "df_segments.stadtteil = df_segments.stadtteil.astype(str)\n",
    "df_segments.strassenna = df_segments.strassenna.astype(str)\n",
    "df_segments.str_bez = df_segments.str_bez.astype(str)\n",
    "\n",
    "df_positive_sample.street = df_positive_sample.street.astype(str)\n",
    "df_positive_sample.other = df_positive_sample.other.astype(str)\n",
    "df_positive_sample.road_con = df_positive_sample.road_con.astype(str)\n",
    "\n"
   ]
  },
  {
   "cell_type": "code",
   "execution_count": 193,
   "metadata": {
    "executionInfo": {
     "elapsed": 242,
     "status": "ok",
     "timestamp": 1648822774657,
     "user": {
      "displayName": "Benedikt Ströbl",
      "userId": "04612548199667048888"
     },
     "user_tz": -120
    },
    "id": "VbPwLDbFJF-s",
    "tags": []
   },
   "outputs": [],
   "source": [
    "# generate all dates from start to end\n",
    "import time\n",
    "import datetime\n",
    "\n",
    "\n",
    "\n",
    "start = \"31/12/2017\"\n",
    "end = \"31/12/2020\"\n",
    "date = datetime.datetime.strptime(start, \"%d/%m/%Y\")\n",
    "\n",
    "dates = list()\n",
    "while(date != datetime.datetime.strptime(end, \"%d/%m/%Y\")): \n",
    "    date += datetime.timedelta(days=1)\n",
    "    for i in range(24):\n",
    "        dates.append((date.strftime(\"%Y-%m-%d\"), i))"
   ]
  },
  {
   "cell_type": "code",
   "execution_count": 194,
   "metadata": {
    "tags": []
   },
   "outputs": [
    {
     "data": {
      "text/html": [
       "<div>\n",
       "<style scoped>\n",
       "    .dataframe tbody tr th:only-of-type {\n",
       "        vertical-align: middle;\n",
       "    }\n",
       "\n",
       "    .dataframe tbody tr th {\n",
       "        vertical-align: top;\n",
       "    }\n",
       "\n",
       "    .dataframe thead th {\n",
       "        text-align: right;\n",
       "    }\n",
       "</style>\n",
       "<table border=\"1\" class=\"dataframe\">\n",
       "  <thead>\n",
       "    <tr style=\"text-align: right;\">\n",
       "      <th></th>\n",
       "      <th>hour</th>\n",
       "      <th>year</th>\n",
       "      <th>month</th>\n",
       "      <th>weekday</th>\n",
       "    </tr>\n",
       "  </thead>\n",
       "  <tbody>\n",
       "    <tr>\n",
       "      <th>0</th>\n",
       "      <td>0</td>\n",
       "      <td>2018</td>\n",
       "      <td>1</td>\n",
       "      <td>2</td>\n",
       "    </tr>\n",
       "    <tr>\n",
       "      <th>1</th>\n",
       "      <td>1</td>\n",
       "      <td>2018</td>\n",
       "      <td>1</td>\n",
       "      <td>2</td>\n",
       "    </tr>\n",
       "    <tr>\n",
       "      <th>2</th>\n",
       "      <td>2</td>\n",
       "      <td>2018</td>\n",
       "      <td>1</td>\n",
       "      <td>2</td>\n",
       "    </tr>\n",
       "    <tr>\n",
       "      <th>3</th>\n",
       "      <td>3</td>\n",
       "      <td>2018</td>\n",
       "      <td>1</td>\n",
       "      <td>2</td>\n",
       "    </tr>\n",
       "    <tr>\n",
       "      <th>4</th>\n",
       "      <td>4</td>\n",
       "      <td>2018</td>\n",
       "      <td>1</td>\n",
       "      <td>2</td>\n",
       "    </tr>\n",
       "    <tr>\n",
       "      <th>...</th>\n",
       "      <td>...</td>\n",
       "      <td>...</td>\n",
       "      <td>...</td>\n",
       "      <td>...</td>\n",
       "    </tr>\n",
       "    <tr>\n",
       "      <th>25723</th>\n",
       "      <td>19</td>\n",
       "      <td>2020</td>\n",
       "      <td>12</td>\n",
       "      <td>2</td>\n",
       "    </tr>\n",
       "    <tr>\n",
       "      <th>25724</th>\n",
       "      <td>20</td>\n",
       "      <td>2020</td>\n",
       "      <td>12</td>\n",
       "      <td>2</td>\n",
       "    </tr>\n",
       "    <tr>\n",
       "      <th>25725</th>\n",
       "      <td>21</td>\n",
       "      <td>2020</td>\n",
       "      <td>12</td>\n",
       "      <td>2</td>\n",
       "    </tr>\n",
       "    <tr>\n",
       "      <th>25726</th>\n",
       "      <td>22</td>\n",
       "      <td>2020</td>\n",
       "      <td>12</td>\n",
       "      <td>2</td>\n",
       "    </tr>\n",
       "    <tr>\n",
       "      <th>25727</th>\n",
       "      <td>23</td>\n",
       "      <td>2020</td>\n",
       "      <td>12</td>\n",
       "      <td>2</td>\n",
       "    </tr>\n",
       "  </tbody>\n",
       "</table>\n",
       "<p>6048 rows × 4 columns</p>\n",
       "</div>"
      ],
      "text/plain": [
       "       hour  year  month  weekday\n",
       "0         0  2018      1        2\n",
       "1         1  2018      1        2\n",
       "2         2  2018      1        2\n",
       "3         3  2018      1        2\n",
       "4         4  2018      1        2\n",
       "...     ...   ...    ...      ...\n",
       "25723    19  2020     12        2\n",
       "25724    20  2020     12        2\n",
       "25725    21  2020     12        2\n",
       "25726    22  2020     12        2\n",
       "25727    23  2020     12        2\n",
       "\n",
       "[6048 rows x 4 columns]"
      ]
     },
     "execution_count": 194,
     "metadata": {},
     "output_type": "execute_result"
    }
   ],
   "source": [
    "# Ge date hour pairs and preprocess them to fit with formatting of collision data (e.g. Sunday: 1)\n",
    "df_date_hour_pairs = pd.DataFrame(dates, columns = ['date', 'hour'])\n",
    "df_date_hour_pairs['date'] = pd.to_datetime(df_date_hour_pairs['date'])\n",
    "df_date_hour_pairs['year'] = df_date_hour_pairs['date'].dt.year\n",
    "df_date_hour_pairs['month'] = df_date_hour_pairs['date'].dt.month\n",
    "df_date_hour_pairs['weekday'] = df_date_hour_pairs['date'].dt.weekday + 2\n",
    "df_date_hour_pairs.loc[(df_date_hour_pairs.weekday == 8),'weekday']=1\n",
    "df_date_hour_pairs = df_date_hour_pairs.drop('date', axis=1)\n",
    "df_date_hour_pairs = df_date_hour_pairs.drop_duplicates()\n",
    "df_date_hour_pairs"
   ]
  },
  {
   "cell_type": "code",
   "execution_count": 195,
   "metadata": {
    "tags": []
   },
   "outputs": [],
   "source": [
    "df_date_hour_pairs = spark.createDataFrame(df_date_hour_pairs) \n",
    "df_segment_ids = spark.createDataFrame(df_segment_ids) \n",
    "df_positive_sample = spark.createDataFrame(df_positive_sample) "
   ]
  },
  {
   "cell_type": "code",
   "execution_count": 196,
   "metadata": {
    "tags": []
   },
   "outputs": [
    {
     "data": {
      "text/plain": [
       "260729280"
      ]
     },
     "execution_count": 196,
     "metadata": {},
     "output_type": "execute_result"
    }
   ],
   "source": [
    "# Create all possible year, month, day, hour, segment combinations for 2018-2020\n",
    "df_combinations = df_date_hour_pairs.crossJoin(df_segment_ids).repartition(100)\n",
    "df_combinations.count()"
   ]
  },
  {
   "cell_type": "code",
   "execution_count": 197,
   "metadata": {
    "tags": []
   },
   "outputs": [
    {
     "data": {
      "text/plain": [
       "260677246"
      ]
     },
     "execution_count": 197,
     "metadata": {},
     "output_type": "execute_result"
    }
   ],
   "source": [
    "# Drop all accident time paris that acutally have been recorded as positive examples (collisions occurred)\n",
    "df_neg_combinations = df_combinations.join(df_positive_sample,(df_combinations.year == df_positive_sample.year) & \n",
    "                                                            (df_combinations.month == df_positive_sample.month) & \n",
    "                                                            (df_combinations.weekday == df_positive_sample.weekday) & \n",
    "                                                            (df_combinations.hour == df_positive_sample.hour) &\n",
    "                                                            (df_combinations.segment_id == df_positive_sample.segment_id), \n",
    "                                       \"leftanti\").repartition(100)\n",
    "df_neg_combinations.count()"
   ]
  },
  {
   "cell_type": "code",
   "execution_count": 198,
   "metadata": {
    "tags": []
   },
   "outputs": [
    {
     "data": {
      "text/plain": [
       "260702"
      ]
     },
     "execution_count": 198,
     "metadata": {},
     "output_type": "execute_result"
    }
   ],
   "source": [
    "# Draw 0.1% uniform sample of negative combinations to replicate Hebert approach\n",
    "df_neg_combinations = df_neg_combinations.sample(False, 0.001, seed=None)\n",
    "df_neg_combinations.count()"
   ]
  },
  {
   "cell_type": "code",
   "execution_count": 199,
   "metadata": {},
   "outputs": [],
   "source": [
    "# Convert it to Pandas DF\n",
    "df_neg_combinations = df_neg_combinations.toPandas()\n",
    "df_positive_sample = df_positive_sample.toPandas()"
   ]
  },
  {
   "cell_type": "code",
   "execution_count": 203,
   "metadata": {},
   "outputs": [],
   "source": [
    "df_negative_sample = df_neg_combinations.merge(df_positive_sample.drop_duplicates(['segment_id']), how=\"left\", left_on=[\"segment_id\"], right_on=[\"segment_id\"],suffixes=('','_del')).drop(['year_del','month_del','hour_del','weekday_del'],axis=1)"
   ]
  },
  {
   "cell_type": "code",
   "execution_count": 204,
   "metadata": {
    "tags": []
   },
   "outputs": [],
   "source": [
    "# Generate new outcome column: \"0\" means non collision has occurred\n",
    "df_negative_sample['collision'] = 0\n",
    "df_positive_sample['collision'] = 1"
   ]
  },
  {
   "cell_type": "code",
   "execution_count": 205,
   "metadata": {},
   "outputs": [],
   "source": [
    "# Add midpoint (geographic centers) of segments\n",
    "df_negative_sample = df_negative_sample.merge(df_segments.drop_duplicates(['segment_id'])[['segment_id','mid_lat', 'mid_lon', 'length_m', 'side_strt']], how=\"left\", left_on=\"segment_id\", right_on=\"segment_id\")\n",
    "df_positive_sample = df_positive_sample.merge(df_segments.drop_duplicates(['segment_id'])[['segment_id','mid_lat', 'mid_lon', 'length_m', 'side_strt']], how=\"left\", left_on=[\"segment_id\"], right_on=[\"segment_id\"])"
   ]
  },
  {
   "cell_type": "code",
   "execution_count": 209,
   "metadata": {},
   "outputs": [
    {
     "name": "stdout",
     "output_type": "stream",
     "text": [
      "<class 'pandas.core.frame.DataFrame'>\n",
      "Int64Index: 260702 entries, 0 to 260701\n",
      "Data columns (total 34 columns):\n",
      "hour             260702 non-null int64\n",
      "year             260702 non-null int64\n",
      "month            260702 non-null int64\n",
      "weekday          260702 non-null int64\n",
      "segment_id       260702 non-null int64\n",
      "col_id           90192 non-null float64\n",
      "collision_cnt    90192 non-null float64\n",
      "objectid         90192 non-null float64\n",
      "land             90192 non-null float64\n",
      "district         90192 non-null float64\n",
      "LOR              90166 non-null float64\n",
      "street           75476 non-null object\n",
      "LOR_ab_2021      66053 non-null float64\n",
      "acc_cat          90192 non-null float64\n",
      "acc_type1        90192 non-null float64\n",
      "acc_type2        90192 non-null float64\n",
      "lightratio       90192 non-null float64\n",
      "bike             90192 non-null float64\n",
      "car              90192 non-null float64\n",
      "foot             90192 non-null float64\n",
      "motor            90192 non-null float64\n",
      "vehicle          90192 non-null float64\n",
      "other            90192 non-null object\n",
      "road_con         90192 non-null object\n",
      "LINREFX          90192 non-null object\n",
      "LINREFY          90192 non-null object\n",
      "XGCSWGS84        90192 non-null float64\n",
      "YGCSWGS84        90192 non-null float64\n",
      "geometry         90192 non-null object\n",
      "collision        260702 non-null int64\n",
      "mid_lat          260702 non-null float64\n",
      "mid_lon          260702 non-null float64\n",
      "length_m         260702 non-null float64\n",
      "side_strt        260702 non-null float64\n",
      "dtypes: float64(22), int64(6), object(6)\n",
      "memory usage: 69.6+ MB\n"
     ]
    }
   ],
   "source": [
    "df_negative_sample.info()"
   ]
  },
  {
   "cell_type": "code",
   "execution_count": 206,
   "metadata": {},
   "outputs": [
    {
     "name": "stdout",
     "output_type": "stream",
     "text": [
      "<class 'pandas.core.frame.DataFrame'>\n",
      "Int64Index: 52118 entries, 0 to 52117\n",
      "Data columns (total 34 columns):\n",
      "col_id           52118 non-null int64\n",
      "segment_id       52118 non-null float64\n",
      "collision_cnt    52118 non-null int64\n",
      "objectid         52118 non-null int64\n",
      "land             52118 non-null int64\n",
      "district         52118 non-null int64\n",
      "LOR              52111 non-null float64\n",
      "street           36227 non-null object\n",
      "LOR_ab_2021      34216 non-null float64\n",
      "year             52118 non-null int64\n",
      "month            52118 non-null int64\n",
      "hour             52118 non-null int64\n",
      "weekday          52118 non-null int64\n",
      "acc_cat          52118 non-null int64\n",
      "acc_type1        52118 non-null int64\n",
      "acc_type2        52118 non-null int64\n",
      "lightratio       52118 non-null int64\n",
      "bike             52118 non-null int64\n",
      "car              52118 non-null int64\n",
      "foot             52118 non-null int64\n",
      "motor            52118 non-null int64\n",
      "vehicle          52118 non-null int64\n",
      "other            52118 non-null object\n",
      "road_con         52118 non-null object\n",
      "LINREFX          52118 non-null object\n",
      "LINREFY          52118 non-null object\n",
      "XGCSWGS84        52118 non-null float64\n",
      "YGCSWGS84        52118 non-null float64\n",
      "geometry         52118 non-null object\n",
      "collision        52118 non-null int64\n",
      "mid_lat          52118 non-null float64\n",
      "mid_lon          52118 non-null float64\n",
      "length_m         52118 non-null float64\n",
      "side_strt        52118 non-null float64\n",
      "dtypes: float64(9), int64(19), object(6)\n",
      "memory usage: 13.9+ MB\n"
     ]
    }
   ],
   "source": [
    "df_positive_sample.info()"
   ]
  },
  {
   "cell_type": "code",
   "execution_count": 211,
   "metadata": {
    "tags": []
   },
   "outputs": [],
   "source": [
    "# EXPORT\n",
    "df_negative_sample.to_csv('../data/processed/negative_sample.csv')\n",
    "df_positive_sample.to_csv('../data/processed/positive_sample.csv')"
   ]
  },
  {
   "cell_type": "code",
   "execution_count": null,
   "metadata": {},
   "outputs": [],
   "source": []
  }
 ],
 "metadata": {
  "colab": {
   "authorship_tag": "ABX9TyMIxd6RCgKnQZUxpOnZKv76",
   "collapsed_sections": [],
   "name": "combinations.ipynb",
   "provenance": []
  },
  "kernelspec": {
   "display_name": "Python 3",
   "language": "python",
   "name": "python3"
  },
  "language_info": {
   "codemirror_mode": {
    "name": "ipython",
    "version": 3
   },
   "file_extension": ".py",
   "mimetype": "text/x-python",
   "name": "python",
   "nbconvert_exporter": "python",
   "pygments_lexer": "ipython3",
   "version": "3.7.4"
  }
 },
 "nbformat": 4,
 "nbformat_minor": 4
}
