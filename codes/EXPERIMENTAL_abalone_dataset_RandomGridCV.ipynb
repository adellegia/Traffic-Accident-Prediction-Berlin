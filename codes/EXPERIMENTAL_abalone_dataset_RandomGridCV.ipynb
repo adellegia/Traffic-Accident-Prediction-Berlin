{
 "cells": [
  {
   "cell_type": "code",
   "execution_count": 71,
   "metadata": {
    "tags": []
   },
   "outputs": [],
   "source": [
    "from imblearn.datasets import fetch_datasets\n",
    "import pandas as pd\n",
    "from sklearn.impute import SimpleImputer\n",
    "from sklearn.preprocessing import StandardScaler\n",
    "from sklearn.preprocessing import OneHotEncoder\n",
    "from sklearn.model_selection import train_test_split,cross_validate\n",
    "from sklearn.pipeline import make_pipeline\n",
    "abalone_raw = fetch_datasets()['abalone']"
   ]
  },
  {
   "cell_type": "code",
   "execution_count": 72,
   "metadata": {
    "tags": []
   },
   "outputs": [
    {
     "data": {
      "text/html": [
       "<div>\n",
       "<style scoped>\n",
       "    .dataframe tbody tr th:only-of-type {\n",
       "        vertical-align: middle;\n",
       "    }\n",
       "\n",
       "    .dataframe tbody tr th {\n",
       "        vertical-align: top;\n",
       "    }\n",
       "\n",
       "    .dataframe thead th {\n",
       "        text-align: right;\n",
       "    }\n",
       "</style>\n",
       "<table border=\"1\" class=\"dataframe\">\n",
       "  <thead>\n",
       "    <tr style=\"text-align: right;\">\n",
       "      <th></th>\n",
       "      <th>0</th>\n",
       "      <th>1</th>\n",
       "      <th>2</th>\n",
       "      <th>3</th>\n",
       "      <th>4</th>\n",
       "      <th>5</th>\n",
       "      <th>6</th>\n",
       "      <th>7</th>\n",
       "      <th>8</th>\n",
       "      <th>9</th>\n",
       "      <th>target</th>\n",
       "    </tr>\n",
       "  </thead>\n",
       "  <tbody>\n",
       "    <tr>\n",
       "      <th>0</th>\n",
       "      <td>0.0</td>\n",
       "      <td>0.0</td>\n",
       "      <td>1.0</td>\n",
       "      <td>0.455</td>\n",
       "      <td>0.365</td>\n",
       "      <td>0.095</td>\n",
       "      <td>0.5140</td>\n",
       "      <td>0.2245</td>\n",
       "      <td>0.1010</td>\n",
       "      <td>0.1500</td>\n",
       "      <td>-1</td>\n",
       "    </tr>\n",
       "    <tr>\n",
       "      <th>1</th>\n",
       "      <td>0.0</td>\n",
       "      <td>0.0</td>\n",
       "      <td>1.0</td>\n",
       "      <td>0.350</td>\n",
       "      <td>0.265</td>\n",
       "      <td>0.090</td>\n",
       "      <td>0.2255</td>\n",
       "      <td>0.0995</td>\n",
       "      <td>0.0485</td>\n",
       "      <td>0.0700</td>\n",
       "      <td>1</td>\n",
       "    </tr>\n",
       "    <tr>\n",
       "      <th>2</th>\n",
       "      <td>1.0</td>\n",
       "      <td>0.0</td>\n",
       "      <td>0.0</td>\n",
       "      <td>0.530</td>\n",
       "      <td>0.420</td>\n",
       "      <td>0.135</td>\n",
       "      <td>0.6770</td>\n",
       "      <td>0.2565</td>\n",
       "      <td>0.1415</td>\n",
       "      <td>0.2100</td>\n",
       "      <td>-1</td>\n",
       "    </tr>\n",
       "    <tr>\n",
       "      <th>3</th>\n",
       "      <td>0.0</td>\n",
       "      <td>0.0</td>\n",
       "      <td>1.0</td>\n",
       "      <td>0.440</td>\n",
       "      <td>0.365</td>\n",
       "      <td>0.125</td>\n",
       "      <td>0.5160</td>\n",
       "      <td>0.2155</td>\n",
       "      <td>0.1140</td>\n",
       "      <td>0.1550</td>\n",
       "      <td>-1</td>\n",
       "    </tr>\n",
       "    <tr>\n",
       "      <th>4</th>\n",
       "      <td>0.0</td>\n",
       "      <td>1.0</td>\n",
       "      <td>0.0</td>\n",
       "      <td>0.330</td>\n",
       "      <td>0.255</td>\n",
       "      <td>0.080</td>\n",
       "      <td>0.2050</td>\n",
       "      <td>0.0895</td>\n",
       "      <td>0.0395</td>\n",
       "      <td>0.0550</td>\n",
       "      <td>1</td>\n",
       "    </tr>\n",
       "    <tr>\n",
       "      <th>...</th>\n",
       "      <td>...</td>\n",
       "      <td>...</td>\n",
       "      <td>...</td>\n",
       "      <td>...</td>\n",
       "      <td>...</td>\n",
       "      <td>...</td>\n",
       "      <td>...</td>\n",
       "      <td>...</td>\n",
       "      <td>...</td>\n",
       "      <td>...</td>\n",
       "      <td>...</td>\n",
       "    </tr>\n",
       "    <tr>\n",
       "      <th>4172</th>\n",
       "      <td>1.0</td>\n",
       "      <td>0.0</td>\n",
       "      <td>0.0</td>\n",
       "      <td>0.565</td>\n",
       "      <td>0.450</td>\n",
       "      <td>0.165</td>\n",
       "      <td>0.8870</td>\n",
       "      <td>0.3700</td>\n",
       "      <td>0.2390</td>\n",
       "      <td>0.2490</td>\n",
       "      <td>-1</td>\n",
       "    </tr>\n",
       "    <tr>\n",
       "      <th>4173</th>\n",
       "      <td>0.0</td>\n",
       "      <td>0.0</td>\n",
       "      <td>1.0</td>\n",
       "      <td>0.590</td>\n",
       "      <td>0.440</td>\n",
       "      <td>0.135</td>\n",
       "      <td>0.9660</td>\n",
       "      <td>0.4390</td>\n",
       "      <td>0.2145</td>\n",
       "      <td>0.2605</td>\n",
       "      <td>-1</td>\n",
       "    </tr>\n",
       "    <tr>\n",
       "      <th>4174</th>\n",
       "      <td>0.0</td>\n",
       "      <td>0.0</td>\n",
       "      <td>1.0</td>\n",
       "      <td>0.600</td>\n",
       "      <td>0.475</td>\n",
       "      <td>0.205</td>\n",
       "      <td>1.1760</td>\n",
       "      <td>0.5255</td>\n",
       "      <td>0.2875</td>\n",
       "      <td>0.3080</td>\n",
       "      <td>-1</td>\n",
       "    </tr>\n",
       "    <tr>\n",
       "      <th>4175</th>\n",
       "      <td>1.0</td>\n",
       "      <td>0.0</td>\n",
       "      <td>0.0</td>\n",
       "      <td>0.625</td>\n",
       "      <td>0.485</td>\n",
       "      <td>0.150</td>\n",
       "      <td>1.0945</td>\n",
       "      <td>0.5310</td>\n",
       "      <td>0.2610</td>\n",
       "      <td>0.2960</td>\n",
       "      <td>-1</td>\n",
       "    </tr>\n",
       "    <tr>\n",
       "      <th>4176</th>\n",
       "      <td>0.0</td>\n",
       "      <td>0.0</td>\n",
       "      <td>1.0</td>\n",
       "      <td>0.710</td>\n",
       "      <td>0.555</td>\n",
       "      <td>0.195</td>\n",
       "      <td>1.9485</td>\n",
       "      <td>0.9455</td>\n",
       "      <td>0.3765</td>\n",
       "      <td>0.4950</td>\n",
       "      <td>-1</td>\n",
       "    </tr>\n",
       "  </tbody>\n",
       "</table>\n",
       "<p>4177 rows × 11 columns</p>\n",
       "</div>"
      ],
      "text/plain": [
       "        0    1    2      3      4      5       6       7       8       9  \\\n",
       "0     0.0  0.0  1.0  0.455  0.365  0.095  0.5140  0.2245  0.1010  0.1500   \n",
       "1     0.0  0.0  1.0  0.350  0.265  0.090  0.2255  0.0995  0.0485  0.0700   \n",
       "2     1.0  0.0  0.0  0.530  0.420  0.135  0.6770  0.2565  0.1415  0.2100   \n",
       "3     0.0  0.0  1.0  0.440  0.365  0.125  0.5160  0.2155  0.1140  0.1550   \n",
       "4     0.0  1.0  0.0  0.330  0.255  0.080  0.2050  0.0895  0.0395  0.0550   \n",
       "...   ...  ...  ...    ...    ...    ...     ...     ...     ...     ...   \n",
       "4172  1.0  0.0  0.0  0.565  0.450  0.165  0.8870  0.3700  0.2390  0.2490   \n",
       "4173  0.0  0.0  1.0  0.590  0.440  0.135  0.9660  0.4390  0.2145  0.2605   \n",
       "4174  0.0  0.0  1.0  0.600  0.475  0.205  1.1760  0.5255  0.2875  0.3080   \n",
       "4175  1.0  0.0  0.0  0.625  0.485  0.150  1.0945  0.5310  0.2610  0.2960   \n",
       "4176  0.0  0.0  1.0  0.710  0.555  0.195  1.9485  0.9455  0.3765  0.4950   \n",
       "\n",
       "      target  \n",
       "0         -1  \n",
       "1          1  \n",
       "2         -1  \n",
       "3         -1  \n",
       "4          1  \n",
       "...      ...  \n",
       "4172      -1  \n",
       "4173      -1  \n",
       "4174      -1  \n",
       "4175      -1  \n",
       "4176      -1  \n",
       "\n",
       "[4177 rows x 11 columns]"
      ]
     },
     "execution_count": 72,
     "metadata": {},
     "output_type": "execute_result"
    }
   ],
   "source": [
    "abalone = pd.DataFrame(abalone_raw.data)\n",
    "\n",
    "abalone['target'] = abalone_raw.target\n",
    "\n",
    "abalone"
   ]
  },
  {
   "cell_type": "code",
   "execution_count": 73,
   "metadata": {
    "tags": []
   },
   "outputs": [],
   "source": [
    "abalone.loc[abalone['target'] == -1, 'target'] = 0"
   ]
  },
  {
   "cell_type": "code",
   "execution_count": 74,
   "metadata": {
    "tags": []
   },
   "outputs": [],
   "source": [
    "X_train, X_test, y_train, y_test = train_test_split(abalone.drop('target',axis=1), abalone['target'], test_size=0.33, random_state=42)"
   ]
  },
  {
   "cell_type": "code",
   "execution_count": 75,
   "metadata": {
    "tags": []
   },
   "outputs": [],
   "source": [
    "# Random Forest\n",
    "from sklearn.preprocessing import OrdinalEncoder\n",
    "from sklearn.ensemble import RandomForestClassifier, HistGradientBoostingClassifier\n",
    "from imblearn.ensemble import BalancedRandomForestClassifier, BalancedBaggingClassifier\n",
    "from sklearn.compose import make_column_transformer\n",
    "from sklearn.compose import make_column_selector as selector\n",
    "\n",
    "num_pipe = SimpleImputer(strategy=\"mean\", add_indicator=True)\n",
    "cat_pipe = make_pipeline(\n",
    "    OrdinalEncoder(handle_unknown=\"use_encoded_value\", unknown_value=-1),\n",
    ")\n",
    "\n",
    "preprocessor_tree = make_column_transformer(\n",
    "    (num_pipe, selector(dtype_include=\"number\")),\n",
    "    (cat_pipe, selector(dtype_include=\"category\")),\n",
    "    n_jobs=2,\n",
    ")\n",
    "\n",
    "rf_clf = make_pipeline(\n",
    "    preprocessor_tree, RandomForestClassifier(n_estimators=300)\n",
    ")"
   ]
  },
  {
   "cell_type": "code",
   "execution_count": 76,
   "metadata": {},
   "outputs": [],
   "source": [
    "# Simple CV Baseline: RF\n",
    "cv_result = cross_validate(rf_clf, X_train, y_train, scoring=\"roc_auc\", cv=5)"
   ]
  },
  {
   "cell_type": "code",
   "execution_count": 77,
   "metadata": {},
   "outputs": [
    {
     "data": {
      "text/plain": [
       "0.8301059529878486"
      ]
     },
     "execution_count": 77,
     "metadata": {},
     "output_type": "execute_result"
    }
   ],
   "source": [
    "cv_result['test_score'].mean()"
   ]
  },
  {
   "cell_type": "code",
   "execution_count": 78,
   "metadata": {
    "tags": []
   },
   "outputs": [
    {
     "name": "stdout",
     "output_type": "stream",
     "text": [
      "{'n_estimators': [100, 200, 300, 400, 500, 600, 700, 800, 900, 1000], 'max_features': ['log2', 'sqrt'], 'max_depth': [5, 10, 15, 20, 25, 30, 35, 40, 45, 50, None], 'min_samples_split': [2, 7, 12, 17, 22, 27, 32, 37, 42, 47, 52], 'min_samples_leaf': [1], 'bootstrap': [False], 'criterion': ['gini', 'entropy']}\n"
     ]
    }
   ],
   "source": [
    "## RANDOM PARAMETER GRID SEARCH\n",
    "from sklearn.model_selection import RandomizedSearchCV, GridSearchCV\n",
    "import numpy as np\n",
    "\n",
    "# Number of trees in random forest\n",
    "n_estimators = [int(x) for x in np.arange(100, 1001, 100)]\n",
    "# Number of features to consider at every split\n",
    "max_features = ['log2','sqrt']\n",
    "# Maximum number of levels in tree\n",
    "max_depth = [int(x) for x in np.arange(5, 51, 5)]\n",
    "max_depth.append(None)\n",
    "\n",
    "criterion = ['gini', 'entropy']\n",
    "# Minimum number of samples required to split a node\n",
    "min_samples_split = [int(x) for x in np.arange(2, 53, 5)]\n",
    "# Minimum number of samples required at each leaf node\n",
    "min_samples_leaf = [1]\n",
    "# Method of selecting samples for training each tree\n",
    "bootstrap = [False]\n",
    "# Create the random grid\n",
    "random_grid = {'n_estimators': n_estimators,\n",
    "               'max_features': max_features,\n",
    "               'max_depth': max_depth,\n",
    "               'min_samples_split':min_samples_split,\n",
    "               'min_samples_leaf':min_samples_leaf,\n",
    "               'bootstrap': bootstrap,\n",
    "                'criterion':criterion}\n",
    "\n",
    "print(random_grid)"
   ]
  },
  {
   "cell_type": "code",
   "execution_count": 79,
   "metadata": {
    "tags": []
   },
   "outputs": [],
   "source": [
    "rf_random = RandomizedSearchCV(estimator = RandomForestClassifier(), \n",
    "                               param_distributions = random_grid,\n",
    "                               scoring='roc_auc',\n",
    "                                n_iter=1000,\n",
    "                               cv = 3, \n",
    "                               verbose=2, \n",
    "                               n_jobs = -1,\n",
    "                               return_train_score = True)"
   ]
  },
  {
   "cell_type": "code",
   "execution_count": 80,
   "metadata": {
    "tags": []
   },
   "outputs": [
    {
     "name": "stdout",
     "output_type": "stream",
     "text": [
      "Fitting 3 folds for each of 1000 candidates, totalling 3000 fits\n"
     ]
    },
    {
     "data": {
      "text/plain": [
       "RandomizedSearchCV(cv=3, estimator=RandomForestClassifier(), n_iter=1000,\n",
       "                   n_jobs=-1,\n",
       "                   param_distributions={'bootstrap': [False],\n",
       "                                        'criterion': ['gini', 'entropy'],\n",
       "                                        'max_depth': [5, 10, 15, 20, 25, 30, 35,\n",
       "                                                      40, 45, 50, None],\n",
       "                                        'max_features': ['log2', 'sqrt'],\n",
       "                                        'min_samples_leaf': [1],\n",
       "                                        'min_samples_split': [2, 7, 12, 17, 22,\n",
       "                                                              27, 32, 37, 42,\n",
       "                                                              47, 52],\n",
       "                                        'n_estimators': [100, 200, 300, 400,\n",
       "                                                         500, 600, 700, 800,\n",
       "                                                         900, 1000]},\n",
       "                   return_train_score=True, scoring='roc_auc', verbose=2)"
      ]
     },
     "execution_count": 80,
     "metadata": {},
     "output_type": "execute_result"
    }
   ],
   "source": [
    "rf_random.fit(X_train, y_train)"
   ]
  },
  {
   "cell_type": "code",
   "execution_count": 81,
   "metadata": {
    "tags": []
   },
   "outputs": [
    {
     "data": {
      "text/plain": [
       "0.8643762306685687"
      ]
     },
     "execution_count": 81,
     "metadata": {},
     "output_type": "execute_result"
    }
   ],
   "source": [
    "rf_random.best_score_"
   ]
  },
  {
   "cell_type": "code",
   "execution_count": 82,
   "metadata": {
    "tags": []
   },
   "outputs": [
    {
     "data": {
      "text/plain": [
       "{'n_estimators': 100,\n",
       " 'min_samples_split': 47,\n",
       " 'min_samples_leaf': 1,\n",
       " 'max_features': 'sqrt',\n",
       " 'max_depth': 5,\n",
       " 'criterion': 'entropy',\n",
       " 'bootstrap': False}"
      ]
     },
     "execution_count": 82,
     "metadata": {},
     "output_type": "execute_result"
    }
   ],
   "source": [
    "rf_random.best_params_"
   ]
  },
  {
   "cell_type": "code",
   "execution_count": 83,
   "metadata": {
    "tags": []
   },
   "outputs": [],
   "source": [
    "brf_random = RandomizedSearchCV(estimator = BalancedRandomForestClassifier(), \n",
    "                              param_distributions = random_grid,\n",
    "                               scoring='roc_auc',\n",
    "                                n_iter=1000,\n",
    "                               cv = 3, \n",
    "                               verbose=2, \n",
    "                               n_jobs = -1,\n",
    "                               return_train_score = True)"
   ]
  },
  {
   "cell_type": "code",
   "execution_count": 84,
   "metadata": {
    "tags": []
   },
   "outputs": [
    {
     "name": "stdout",
     "output_type": "stream",
     "text": [
      "Fitting 3 folds for each of 1000 candidates, totalling 3000 fits\n"
     ]
    },
    {
     "data": {
      "text/plain": [
       "RandomizedSearchCV(cv=3, estimator=BalancedRandomForestClassifier(),\n",
       "                   n_iter=1000, n_jobs=-1,\n",
       "                   param_distributions={'bootstrap': [False],\n",
       "                                        'criterion': ['gini', 'entropy'],\n",
       "                                        'max_depth': [5, 10, 15, 20, 25, 30, 35,\n",
       "                                                      40, 45, 50, None],\n",
       "                                        'max_features': ['log2', 'sqrt'],\n",
       "                                        'min_samples_leaf': [1],\n",
       "                                        'min_samples_split': [2, 7, 12, 17, 22,\n",
       "                                                              27, 32, 37, 42,\n",
       "                                                              47, 52],\n",
       "                                        'n_estimators': [100, 200, 300, 400,\n",
       "                                                         500, 600, 700, 800,\n",
       "                                                         900, 1000]},\n",
       "                   return_train_score=True, scoring='roc_auc', verbose=2)"
      ]
     },
     "execution_count": 84,
     "metadata": {},
     "output_type": "execute_result"
    }
   ],
   "source": [
    "brf_random.fit(X_train, y_train)"
   ]
  },
  {
   "cell_type": "code",
   "execution_count": 85,
   "metadata": {
    "tags": []
   },
   "outputs": [
    {
     "data": {
      "text/plain": [
       "0.8647839279132489"
      ]
     },
     "execution_count": 85,
     "metadata": {},
     "output_type": "execute_result"
    }
   ],
   "source": [
    "brf_random.best_score_"
   ]
  },
  {
   "cell_type": "code",
   "execution_count": 86,
   "metadata": {
    "tags": []
   },
   "outputs": [
    {
     "data": {
      "text/plain": [
       "{'n_estimators': 100,\n",
       " 'min_samples_split': 12,\n",
       " 'min_samples_leaf': 1,\n",
       " 'max_features': 'sqrt',\n",
       " 'max_depth': 5,\n",
       " 'criterion': 'entropy',\n",
       " 'bootstrap': False}"
      ]
     },
     "execution_count": 86,
     "metadata": {},
     "output_type": "execute_result"
    }
   ],
   "source": [
    "brf_random.best_params_"
   ]
  },
  {
   "cell_type": "code",
   "execution_count": 87,
   "metadata": {},
   "outputs": [
    {
     "name": "stdout",
     "output_type": "stream",
     "text": [
      "{'randomforestclassifier__n_estimators': [100, 200, 300, 400, 500, 600, 700, 800, 900, 1000], 'randomforestclassifier__max_features': ['log2', 'sqrt'], 'randomforestclassifier__max_depth': [5, 10, 15, 20, 25, 30, 35, 40, 45, 50, None], 'randomforestclassifier__min_samples_split': [2, 7, 12, 17, 22, 27, 32, 37, 42, 47, 52], 'randomforestclassifier__min_samples_leaf': [1], 'randomforestclassifier__bootstrap': [False], 'randomforestclassifier__criterion': ['gini', 'entropy'], 'smote__sampling_strategy': [0.2, 0.25, 0.3, 0.35], 'randomundersampler__sampling_strategy': [0.35, 0.39999999999999997, 0.44999999999999996, 0.49999999999999994]}\n"
     ]
    }
   ],
   "source": [
    "#Random Forest with oversampling using SMOTE and undersampling using RandomUnderSampler\n",
    "from imblearn.over_sampling import SMOTE\n",
    "from imblearn.under_sampling import RandomUnderSampler\n",
    "from imblearn.pipeline import Pipeline, make_pipeline\n",
    "\n",
    "over_n = [float(x) for x in np.arange(0.2, 0.351, 0.05)]\n",
    "# RandomUnderSampler undersampling\n",
    "under_n = [float(x) for x in np.arange(0.35, 0.5, 0.05)]\n",
    "\n",
    "# Create the random grid\n",
    "random_grid = {'randomforestclassifier__n_estimators': n_estimators,\n",
    "               'randomforestclassifier__max_features': max_features,\n",
    "               'randomforestclassifier__max_depth': max_depth,\n",
    "               'randomforestclassifier__min_samples_split': min_samples_split,\n",
    "               'randomforestclassifier__min_samples_leaf': min_samples_leaf,\n",
    "               'randomforestclassifier__bootstrap': bootstrap,\n",
    "               'randomforestclassifier__criterion':criterion,\n",
    "              'smote__sampling_strategy':over_n,\n",
    "              'randomundersampler__sampling_strategy':under_n}\n",
    "\n",
    "print(random_grid)"
   ]
  },
  {
   "cell_type": "code",
   "execution_count": 88,
   "metadata": {},
   "outputs": [],
   "source": [
    "# define pipeline\n",
    "# oversample positive (minority) to be x% the number of negative (majority)\n",
    "over = SMOTE(sampling_strategy = 0.1)\n",
    "# randomly undersample negative (majority) to reduce the number of negative to x% of the positive (minority)\n",
    "under = RandomUnderSampler(sampling_strategy = 0.25) \n",
    "\n",
    "pipeline = make_pipeline(over, under, RandomForestClassifier(n_estimators = 260,\n",
    " min_samples_split =2,\n",
    " min_samples_leaf=1,\n",
    " max_features= 'auto',\n",
    " max_depth= 90,\n",
    " bootstrap= False))\n",
    "\n",
    "rf_sampling_random = RandomizedSearchCV(pipeline,\n",
    "                               param_distributions = random_grid,\n",
    "                               scoring='roc_auc',\n",
    "                                n_iter=1000,\n",
    "                               cv = 3, \n",
    "                               verbose=2, \n",
    "                               n_jobs = -1,\n",
    "                               return_train_score = True)"
   ]
  },
  {
   "cell_type": "code",
   "execution_count": 89,
   "metadata": {},
   "outputs": [
    {
     "name": "stdout",
     "output_type": "stream",
     "text": [
      "Fitting 3 folds for each of 1000 candidates, totalling 3000 fits\n"
     ]
    },
    {
     "data": {
      "text/plain": [
       "RandomizedSearchCV(cv=3,\n",
       "                   estimator=Pipeline(steps=[('smote',\n",
       "                                              SMOTE(sampling_strategy=0.1)),\n",
       "                                             ('randomundersampler',\n",
       "                                              RandomUnderSampler(sampling_strategy=0.25)),\n",
       "                                             ('randomforestclassifier',\n",
       "                                              RandomForestClassifier(bootstrap=False,\n",
       "                                                                     max_depth=90,\n",
       "                                                                     n_estimators=260))]),\n",
       "                   n_iter=1000, n_jobs=-1,\n",
       "                   param_distributions={'randomforestclassifier__bootstrap': [False],\n",
       "                                        'randomfo...\n",
       "                                        'randomforestclassifier__min_samples_split': [2,\n",
       "                                                                                      7,\n",
       "                                                                                      12,\n",
       "                                                                                      17,\n",
       "                                                                                      22,\n",
       "                                                                                      27,\n",
       "                                                                                      32,\n",
       "                                                                                      37,\n",
       "                                                                                      42,\n",
       "                                                                                      47,\n",
       "                                                                                      52],\n",
       "                                        'randomforestclassifier__n_estimators': [100,\n",
       "                                                                                 200,\n",
       "                                                                                 300,\n",
       "                                                                                 400,\n",
       "                                                                                 500,\n",
       "                                                                                 600,\n",
       "                                                                                 700,\n",
       "                                                                                 800,\n",
       "                                                                                 900,\n",
       "                                                                                 1000],\n",
       "                                        'randomundersampler__sampling_strategy': [0.35,\n",
       "                                                                                  0.39999999999999997,\n",
       "                                                                                  0.44999999999999996,\n",
       "                                                                                  0.49999999999999994],\n",
       "                                        'smote__sampling_strategy': [0.2, 0.25,\n",
       "                                                                     0.3,\n",
       "                                                                     0.35]},\n",
       "                   return_train_score=True, scoring='roc_auc', verbose=2)"
      ]
     },
     "execution_count": 89,
     "metadata": {},
     "output_type": "execute_result"
    }
   ],
   "source": [
    "rf_sampling_random.fit(X_train,y_train)\n"
   ]
  },
  {
   "cell_type": "code",
   "execution_count": 90,
   "metadata": {},
   "outputs": [
    {
     "data": {
      "text/plain": [
       "0.8689392512484106"
      ]
     },
     "execution_count": 90,
     "metadata": {},
     "output_type": "execute_result"
    }
   ],
   "source": [
    "rf_sampling_random.best_score_\n"
   ]
  },
  {
   "cell_type": "code",
   "execution_count": 91,
   "metadata": {},
   "outputs": [
    {
     "data": {
      "text/plain": [
       "{'smote__sampling_strategy': 0.2,\n",
       " 'randomundersampler__sampling_strategy': 0.39999999999999997,\n",
       " 'randomforestclassifier__n_estimators': 400,\n",
       " 'randomforestclassifier__min_samples_split': 27,\n",
       " 'randomforestclassifier__min_samples_leaf': 1,\n",
       " 'randomforestclassifier__max_features': 'log2',\n",
       " 'randomforestclassifier__max_depth': 5,\n",
       " 'randomforestclassifier__criterion': 'gini',\n",
       " 'randomforestclassifier__bootstrap': False}"
      ]
     },
     "execution_count": 91,
     "metadata": {},
     "output_type": "execute_result"
    }
   ],
   "source": [
    "rf_sampling_random.best_params_"
   ]
  },
  {
   "cell_type": "code",
   "execution_count": 160,
   "metadata": {
    "tags": []
   },
   "outputs": [],
   "source": [
    "# BALANCED BAGGING\n",
    "\n",
    "# Number of trees in random forest\n",
    "n_estimators = [int(x) for x in np.arange(300, 501, 100)]\n",
    "\n",
    "# Method of selecting samples for training each tree\n",
    "bootstrap = [True]\n",
    "\n",
    "# max_features\n",
    "max_features = [0.6,1.0]\n",
    "\n",
    "#Sampling strategy\n",
    "sampling_strategy = [0.2,0.3,0.4]\n",
    "\n",
    "#sampler\n",
    "sampler = [RandomUnderSampler(),SMOTE()]\n",
    "\n",
    "\n",
    "# Create the random grid\n",
    "bb_random_grid = {'n_estimators': n_estimators,\n",
    "                 'bootstrap': bootstrap,\n",
    "                 'sampling_strategy':sampling_strategy,\n",
    "                 'sampler':sampler,\n",
    "                 'max_features':max_features}\n"
   ]
  },
  {
   "cell_type": "code",
   "execution_count": 161,
   "metadata": {
    "tags": []
   },
   "outputs": [],
   "source": [
    "bb_random = RandomizedSearchCV(estimator = BalancedBaggingClassifier(base_estimator=HistGradientBoostingClassifier(random_state=42)), \n",
    "                               param_distributions = bb_random_grid,\n",
    "                               scoring='roc_auc',\n",
    "                               n_iter=15,\n",
    "                               cv = 3, \n",
    "                               verbose=3, \n",
    "                               n_jobs = -1,\n",
    "                               return_train_score = True)"
   ]
  },
  {
   "cell_type": "code",
   "execution_count": 162,
   "metadata": {
    "tags": []
   },
   "outputs": [
    {
     "name": "stdout",
     "output_type": "stream",
     "text": [
      "Fitting 3 folds for each of 15 candidates, totalling 45 fits\n"
     ]
    },
    {
     "data": {
      "text/plain": [
       "RandomizedSearchCV(cv=3,\n",
       "                   estimator=BalancedBaggingClassifier(base_estimator=HistGradientBoostingClassifier(random_state=42)),\n",
       "                   n_iter=15, n_jobs=-1,\n",
       "                   param_distributions={'bootstrap': [True],\n",
       "                                        'max_features': [0.6, 1.0],\n",
       "                                        'n_estimators': [300, 400, 500],\n",
       "                                        'sampler': [RandomUnderSampler(),\n",
       "                                                    SMOTE()],\n",
       "                                        'sampling_strategy': [0.2, 0.3, 0.3,\n",
       "                                                              0.4]},\n",
       "                   return_train_score=True, scoring='roc_auc', verbose=3)"
      ]
     },
     "execution_count": 162,
     "metadata": {},
     "output_type": "execute_result"
    }
   ],
   "source": [
    "bb_random.fit(X_train, y_train)\n"
   ]
  },
  {
   "cell_type": "code",
   "execution_count": 163,
   "metadata": {},
   "outputs": [
    {
     "data": {
      "text/plain": [
       "0.8544262294149597"
      ]
     },
     "execution_count": 163,
     "metadata": {},
     "output_type": "execute_result"
    }
   ],
   "source": [
    "bb_random.best_score_"
   ]
  },
  {
   "cell_type": "code",
   "execution_count": 164,
   "metadata": {
    "tags": []
   },
   "outputs": [
    {
     "data": {
      "text/plain": [
       "{'sampling_strategy': 0.3,\n",
       " 'sampler': RandomUnderSampler(),\n",
       " 'n_estimators': 300,\n",
       " 'max_features': 0.6,\n",
       " 'bootstrap': True}"
      ]
     },
     "execution_count": 164,
     "metadata": {},
     "output_type": "execute_result"
    }
   ],
   "source": [
    "bb_random.best_params_"
   ]
  },
  {
   "cell_type": "code",
   "execution_count": 97,
   "metadata": {
    "tags": []
   },
   "outputs": [
    {
     "data": {
      "text/plain": [
       "Pipeline(steps=[('columntransformer',\n",
       "                 ColumnTransformer(n_jobs=2,\n",
       "                                   transformers=[('pipeline-1',\n",
       "                                                  Pipeline(steps=[('standardscaler',\n",
       "                                                                   StandardScaler())]),\n",
       "                                                  <sklearn.compose._column_transformer.make_column_selector object at 0x0000024FABCAC1C8>),\n",
       "                                                 ('pipeline-2',\n",
       "                                                  Pipeline(steps=[('onehotencoder',\n",
       "                                                                   OneHotEncoder(handle_unknown='ignore'))]),\n",
       "                                                  <sklearn.compose._column_transformer.make_column_selector object at 0x0000024FAC83B948>)])),\n",
       "                ('logisticregression',\n",
       "                 LogisticRegression(class_weight='balanced', max_iter=1000))])"
      ]
     },
     "execution_count": 97,
     "metadata": {},
     "output_type": "execute_result"
    }
   ],
   "source": [
    "# LOGISTIC REGRESSION\n",
    "from sklearn.compose import make_column_transformer\n",
    "from sklearn.compose import make_column_selector as selector\n",
    "from sklearn.linear_model import LogisticRegression\n",
    "from sklearn.model_selection import cross_validate\n",
    "\n",
    "\n",
    "\n",
    "num_pipe = make_pipeline(\n",
    "    StandardScaler()\n",
    ")\n",
    "cat_pipe = make_pipeline(\n",
    "    OneHotEncoder(handle_unknown=\"ignore\"),\n",
    ")\n",
    "\n",
    "preprocessor_linear = make_column_transformer(\n",
    "    (num_pipe, selector(dtype_include=\"number\")),\n",
    "    (cat_pipe, selector(dtype_include=\"category\")),\n",
    "    n_jobs=2,\n",
    ")\n",
    "\n",
    "lr_clf = make_pipeline(preprocessor_linear, LogisticRegression(max_iter=1000))\n",
    "lr_clf.set_params(logisticregression__class_weight=\"balanced\")"
   ]
  },
  {
   "cell_type": "code",
   "execution_count": 98,
   "metadata": {
    "tags": []
   },
   "outputs": [],
   "source": [
    "cv_result = cross_validate(lr_clf, X_train, y_train, scoring=\"roc_auc\", cv=5)"
   ]
  },
  {
   "cell_type": "code",
   "execution_count": 99,
   "metadata": {
    "tags": []
   },
   "outputs": [
    {
     "data": {
      "text/plain": [
       "0.8437581473293818"
      ]
     },
     "execution_count": 99,
     "metadata": {},
     "output_type": "execute_result"
    }
   ],
   "source": [
    "cv_result['test_score'].mean()"
   ]
  },
  {
   "cell_type": "code",
   "execution_count": 113,
   "metadata": {
    "tags": []
   },
   "outputs": [],
   "source": [
    "# Support Vector Classification with RandomOverSampling\n",
    "from sklearn.preprocessing import MinMaxScaler\n",
    "from sklearn.svm import SVC\n",
    "from imblearn.over_sampling import RandomOverSampler, SMOTE\n",
    "from imblearn.under_sampling import RandomUnderSampler\n",
    "from imblearn.pipeline import Pipeline, make_pipeline \n",
    "\n",
    "num_pipe = make_pipeline(\n",
    "    MinMaxScaler(feature_range=(0, 1))\n",
    ")\n",
    "cat_pipe = make_pipeline(\n",
    "    OneHotEncoder(handle_unknown=\"ignore\"),\n",
    ")\n",
    "\n",
    "preprocessor_svc = make_column_transformer(\n",
    "    (num_pipe, selector(dtype_include=\"number\")),\n",
    "    (cat_pipe, selector(dtype_include=\"category\")),\n",
    "    n_jobs=2,\n",
    ")\n",
    "\n",
    "smote = SMOTE(sampling_strategy=0.1)\n",
    "\n",
    "rus = RandomUnderSampler(sampling_strategy=0.2)\n",
    "\n",
    "svc_clf = make_pipeline(preprocessor_svc, smote, rus, SVC(kernel='rbf',C=1))\n",
    "\n",
    "svc_clf_no_sampling = make_pipeline(preprocessor_svc, SVC(kernel='rbf',C=1))"
   ]
  },
  {
   "cell_type": "code",
   "execution_count": 108,
   "metadata": {},
   "outputs": [],
   "source": [
    "cv_result = cross_validate(svc_clf, X_train, y_train, scoring=\"roc_auc\", cv=5)"
   ]
  },
  {
   "cell_type": "code",
   "execution_count": 109,
   "metadata": {},
   "outputs": [
    {
     "data": {
      "text/plain": [
       "0.8228907866864945"
      ]
     },
     "execution_count": 109,
     "metadata": {},
     "output_type": "execute_result"
    }
   ],
   "source": [
    "cv_result['test_score'].mean()"
   ]
  },
  {
   "cell_type": "code",
   "execution_count": 114,
   "metadata": {},
   "outputs": [],
   "source": [
    "parameters = {'smote__sampling_strategy':[float(x) for x in np.arange(0.2, 0.351, 0.05)],\n",
    "              'randomundersampler__sampling_strategy':[float(x) for x in np.arange(0.35, 0.451, 0.05)],\n",
    "              'svc__kernel':('linear', 'rbf', 'poly'), \n",
    "              'svc__C':[10,100,1000,5000,10000],\n",
    "              'svc__gamma':[1,0.1,0.001,0.0001], \n",
    "              'svc__degree':[1,2,3]}\n",
    "\n",
    "svc_grid = RandomizedSearchCV(svc_clf, param_distributions=parameters, n_iter=50, scoring=\"roc_auc\", cv=3)\n"
   ]
  },
  {
   "cell_type": "code",
   "execution_count": 104,
   "metadata": {},
   "outputs": [
    {
     "data": {
      "text/plain": [
       "RandomizedSearchCV(cv=3,\n",
       "                   estimator=Pipeline(steps=[('columntransformer',\n",
       "                                              ColumnTransformer(n_jobs=2,\n",
       "                                                                transformers=[('pipeline-1',\n",
       "                                                                               Pipeline(steps=[('minmaxscaler',\n",
       "                                                                                                MinMaxScaler())]),\n",
       "                                                                               <sklearn.compose._column_transformer.make_column_selector object at 0x0000024FAC4F9D48>),\n",
       "                                                                              ('pipeline-2',\n",
       "                                                                               Pipeline(steps=[('onehotencoder',\n",
       "                                                                                                OneHotEncoder(handle_unknown='ignore'))])...\n",
       "                                              RandomUnderSampler(sampling_strategy=0.2)),\n",
       "                                             ('svc', SVC(C=1))]),\n",
       "                   n_iter=50,\n",
       "                   param_distributions={'randomundersampler__sampling_strategy': [0.35,\n",
       "                                                                                  0.39999999999999997,\n",
       "                                                                                  0.44999999999999996],\n",
       "                                        'smote__sampling_strategy': [0.2, 0.25,\n",
       "                                                                     0.3,\n",
       "                                                                     0.35],\n",
       "                                        'svc__C': [10, 100, 1000, 5000, 10000],\n",
       "                                        'svc__degree': [1, 2, 3],\n",
       "                                        'svc__gamma': [1, 0.1, 0.001, 0.0001],\n",
       "                                        'svc__kernel': ('linear', 'rbf',\n",
       "                                                        'poly')},\n",
       "                   scoring='roc_auc')"
      ]
     },
     "execution_count": 104,
     "metadata": {},
     "output_type": "execute_result"
    }
   ],
   "source": [
    "svc_grid.fit(X_train, y_train)\n"
   ]
  },
  {
   "cell_type": "code",
   "execution_count": 105,
   "metadata": {},
   "outputs": [
    {
     "data": {
      "text/plain": [
       "0.8620553360730187"
      ]
     },
     "execution_count": 105,
     "metadata": {},
     "output_type": "execute_result"
    }
   ],
   "source": [
    "svc_grid.best_score_"
   ]
  },
  {
   "cell_type": "code",
   "execution_count": 106,
   "metadata": {},
   "outputs": [
    {
     "data": {
      "text/plain": [
       "{'svc__kernel': 'rbf',\n",
       " 'svc__gamma': 0.1,\n",
       " 'svc__degree': 3,\n",
       " 'svc__C': 5000,\n",
       " 'smote__sampling_strategy': 0.2,\n",
       " 'randomundersampler__sampling_strategy': 0.35}"
      ]
     },
     "execution_count": 106,
     "metadata": {},
     "output_type": "execute_result"
    }
   ],
   "source": [
    "svc_grid.best_params_"
   ]
  },
  {
   "cell_type": "code",
   "execution_count": 119,
   "metadata": {},
   "outputs": [],
   "source": [
    "# SVC WITHOUT SAMPLING\n",
    "parameters = {'svc__kernel':('linear', 'rbf', 'poly'), \n",
    "              'svc__C':[10,100,1000,5000,10000],\n",
    "              'svc__gamma':[1,0.1,0.001,0.0001], \n",
    "              'svc__degree':[1,2,3]}\n",
    "\n",
    "svc_no_sampling_grid = RandomizedSearchCV(svc_clf_no_sampling, param_distributions=parameters, n_iter=50, scoring=\"roc_auc\", cv=3, verbose=3)"
   ]
  },
  {
   "cell_type": "code",
   "execution_count": 120,
   "metadata": {},
   "outputs": [],
   "source": [
    "cv_result = cross_validate(svc_clf_no_sampling, X_train, y_train, scoring=\"roc_auc\", cv=5)"
   ]
  },
  {
   "cell_type": "code",
   "execution_count": 121,
   "metadata": {},
   "outputs": [
    {
     "data": {
      "text/plain": [
       "0.7543906022683047"
      ]
     },
     "execution_count": 121,
     "metadata": {},
     "output_type": "execute_result"
    }
   ],
   "source": [
    "cv_result['test_score'].mean()"
   ]
  },
  {
   "cell_type": "code",
   "execution_count": 122,
   "metadata": {},
   "outputs": [
    {
     "data": {
      "text/plain": [
       "RandomizedSearchCV(cv=3,\n",
       "                   estimator=Pipeline(steps=[('columntransformer',\n",
       "                                              ColumnTransformer(n_jobs=2,\n",
       "                                                                transformers=[('pipeline-1',\n",
       "                                                                               Pipeline(steps=[('minmaxscaler',\n",
       "                                                                                                MinMaxScaler())]),\n",
       "                                                                               <sklearn.compose._column_transformer.make_column_selector object at 0x0000024FB26B6088>),\n",
       "                                                                              ('pipeline-2',\n",
       "                                                                               Pipeline(steps=[('onehotencoder',\n",
       "                                                                                                OneHotEncoder(handle_unknown='ignore'))]),\n",
       "                                                                               <sklearn.compose._column_transformer.make_column_selector object at 0x0000024FB26D4B08>)])),\n",
       "                                             ('svc', SVC(C=1))]),\n",
       "                   n_iter=50,\n",
       "                   param_distributions={'svc__C': [10, 100, 1000, 5000, 10000],\n",
       "                                        'svc__degree': [1, 2, 3],\n",
       "                                        'svc__gamma': [1, 0.1, 0.001, 0.0001],\n",
       "                                        'svc__kernel': ('linear', 'rbf',\n",
       "                                                        'poly')},\n",
       "                   scoring='roc_auc')"
      ]
     },
     "execution_count": 122,
     "metadata": {},
     "output_type": "execute_result"
    }
   ],
   "source": [
    "svc_no_sampling_grid.fit(X_train, y_train)"
   ]
  },
  {
   "cell_type": "code",
   "execution_count": 124,
   "metadata": {},
   "outputs": [
    {
     "data": {
      "text/plain": [
       "0.8591793969573618"
      ]
     },
     "execution_count": 124,
     "metadata": {},
     "output_type": "execute_result"
    }
   ],
   "source": [
    "svc_no_sampling_grid.best_score_"
   ]
  },
  {
   "cell_type": "code",
   "execution_count": 125,
   "metadata": {},
   "outputs": [
    {
     "data": {
      "text/plain": [
       "{'svc__kernel': 'rbf', 'svc__gamma': 0.001, 'svc__degree': 1, 'svc__C': 5000}"
      ]
     },
     "execution_count": 125,
     "metadata": {},
     "output_type": "execute_result"
    }
   ],
   "source": [
    "svc_no_sampling_grid.best_params_\n"
   ]
  },
  {
   "cell_type": "code",
   "execution_count": null,
   "metadata": {},
   "outputs": [],
   "source": []
  }
 ],
 "metadata": {
  "kernelspec": {
   "display_name": "Python 3",
   "language": "python",
   "name": "python3"
  },
  "language_info": {
   "codemirror_mode": {
    "name": "ipython",
    "version": 3
   },
   "file_extension": ".py",
   "mimetype": "text/x-python",
   "name": "python",
   "nbconvert_exporter": "python",
   "pygments_lexer": "ipython3",
   "version": "3.7.4"
  }
 },
 "nbformat": 4,
 "nbformat_minor": 4
}
