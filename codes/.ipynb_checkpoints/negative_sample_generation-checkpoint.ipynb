{
 "cells": [
  {
   "cell_type": "code",
   "execution_count": 1,
   "metadata": {
    "colab": {
     "base_uri": "https://localhost:8080/"
    },
    "executionInfo": {
     "elapsed": 1620,
     "status": "ok",
     "timestamp": 1648822485723,
     "user": {
      "displayName": "Benedikt Ströbl",
      "userId": "04612548199667048888"
     },
     "user_tz": -120
    },
    "id": "Dzu6-GDCIwyy",
    "outputId": "f19842df-8bcb-4e9e-ef19-71faf33b613d"
   },
   "outputs": [
    {
     "ename": "ModuleNotFoundError",
     "evalue": "No module named 'google.colab'",
     "output_type": "error",
     "traceback": [
      "\u001b[1;31m---------------------------------------------------------------------------\u001b[0m",
      "\u001b[1;31mModuleNotFoundError\u001b[0m                       Traceback (most recent call last)",
      "\u001b[1;32m<ipython-input-1-e6c166483820>\u001b[0m in \u001b[0;36m<module>\u001b[1;34m\u001b[0m\n\u001b[1;32m----> 1\u001b[1;33m \u001b[1;32mfrom\u001b[0m \u001b[0mgoogle\u001b[0m\u001b[1;33m.\u001b[0m\u001b[0mcolab\u001b[0m \u001b[1;32mimport\u001b[0m \u001b[0mdrive\u001b[0m\u001b[1;33m\u001b[0m\u001b[1;33m\u001b[0m\u001b[0m\n\u001b[0m\u001b[0;32m      2\u001b[0m \u001b[1;33m\u001b[0m\u001b[0m\n\u001b[0;32m      3\u001b[0m \u001b[0mdrive\u001b[0m\u001b[1;33m.\u001b[0m\u001b[0mmount\u001b[0m\u001b[1;33m(\u001b[0m\u001b[1;34m'/content/drive/'\u001b[0m\u001b[1;33m)\u001b[0m\u001b[1;33m\u001b[0m\u001b[1;33m\u001b[0m\u001b[0m\n",
      "\u001b[1;31mModuleNotFoundError\u001b[0m: No module named 'google.colab'"
     ]
    }
   ],
   "source": [
    "from google.colab import drive\n",
    "\n",
    "drive.mount('/content/drive/')"
   ]
  },
  {
   "cell_type": "code",
   "execution_count": 2,
   "metadata": {
    "executionInfo": {
     "elapsed": 711,
     "status": "ok",
     "timestamp": 1648822486427,
     "user": {
      "displayName": "Benedikt Ströbl",
      "userId": "04612548199667048888"
     },
     "user_tz": -120
    },
    "id": "UCgOMBB5Wv7l"
   },
   "outputs": [],
   "source": [
    "import pandas as pd"
   ]
  },
  {
   "cell_type": "code",
   "execution_count": 3,
   "metadata": {
    "colab": {
     "base_uri": "https://localhost:8080/"
    },
    "executionInfo": {
     "elapsed": 2378,
     "status": "ok",
     "timestamp": 1648822490632,
     "user": {
      "displayName": "Benedikt Ströbl",
      "userId": "04612548199667048888"
     },
     "user_tz": -120
    },
    "id": "vVyO0ACwVmFu",
    "outputId": "47061e18-869c-41e2-af67-c56e2024114e"
   },
   "outputs": [
    {
     "name": "stderr",
     "output_type": "stream",
     "text": [
      "c:\\users\\bened\\appdata\\local\\programs\\python\\python37\\lib\\site-packages\\IPython\\core\\interactiveshell.py:3058: DtypeWarning: Columns (5,20,21) have mixed types. Specify dtype option on import or set low_memory=False.\n",
      "  interactivity=interactivity, compiler=compiler, result=result)\n"
     ]
    }
   ],
   "source": [
    "# import collision_road matching data with segment IDs\n",
    "df_collisions_road = pd.read_csv('../data/output/collisions_road.csv')\n",
    "\n",
    "# import collision data\n",
    "df_collisions = pd.read_csv('../data/output/collisions.csv')\n"
   ]
  },
  {
   "cell_type": "code",
   "execution_count": 4,
   "metadata": {
    "colab": {
     "base_uri": "https://localhost:8080/",
     "height": 238
    },
    "executionInfo": {
     "elapsed": 14,
     "status": "ok",
     "timestamp": 1648822490633,
     "user": {
      "displayName": "Benedikt Ströbl",
      "userId": "04612548199667048888"
     },
     "user_tz": -120
    },
    "id": "2N-zNUGAkvPM",
    "outputId": "53820bfe-73d7-4550-ced5-a1fd3b6366bf"
   },
   "outputs": [
    {
     "data": {
      "text/plain": [
       "Index(['col_id', 'street', 'year', 'month', 'weekday', 'hour', 'segment_id',\n",
       "       'bezirk', 'stadtteil', 'strassenna', 'objectid', 'land', 'district',\n",
       "       'LOR', 'LOR_ab_2021', 'acc_cat', 'acc_type1', 'acc_type2', 'lightratio',\n",
       "       'bike', 'car', 'foot', 'motor', 'vehicle', 'other', 'road_con',\n",
       "       'LINREFX', 'LINREFY', 'XGCSWGS84', 'YGCSWGS84'],\n",
       "      dtype='object')"
      ]
     },
     "execution_count": 4,
     "metadata": {},
     "output_type": "execute_result"
    }
   ],
   "source": [
    "df_collisions_merged = df_collisions_road.merge(df_collisions, left_on='col_id', right_on='col_id', suffixes=('','_y'), copy=False)\n",
    "df_collisions_merged = df_collisions_merged.drop(['street_y', 'year_y', 'month_y', 'hour_y',\n",
    "       'weekday_y'], axis=1)\n",
    "df_collisions_merged.columns"
   ]
  },
  {
   "cell_type": "code",
   "execution_count": 5,
   "metadata": {},
   "outputs": [],
   "source": [
    "df_collisions_merged.to_csv('../data/output/df_collisions_merged.csv')"
   ]
  },
  {
   "cell_type": "code",
   "execution_count": 6,
   "metadata": {},
   "outputs": [],
   "source": [
    "df_collisions_merged.bezirk = df_collisions_merged.bezirk.astype(str)\n",
    "df_collisions_merged.stadtteil = df_collisions_merged.stadtteil.astype(str)\n",
    "df_collisions_merged.strassenna = df_collisions_merged.strassenna.astype(str)\n",
    "df_collisions_merged.other = df_collisions_merged.other.astype(str)\n",
    "df_collisions_merged.street = df_collisions_merged.street.astype(str)\n",
    "df_collisions_merged.road_con = df_collisions_merged.road_con.astype(str)"
   ]
  },
  {
   "cell_type": "code",
   "execution_count": 7,
   "metadata": {},
   "outputs": [
    {
     "data": {
      "text/html": [
       "<div>\n",
       "<style scoped>\n",
       "    .dataframe tbody tr th:only-of-type {\n",
       "        vertical-align: middle;\n",
       "    }\n",
       "\n",
       "    .dataframe tbody tr th {\n",
       "        vertical-align: top;\n",
       "    }\n",
       "\n",
       "    .dataframe thead th {\n",
       "        text-align: right;\n",
       "    }\n",
       "</style>\n",
       "<table border=\"1\" class=\"dataframe\">\n",
       "  <thead>\n",
       "    <tr style=\"text-align: right;\">\n",
       "      <th></th>\n",
       "      <th>col_id</th>\n",
       "      <th>street</th>\n",
       "      <th>year</th>\n",
       "      <th>month</th>\n",
       "      <th>weekday</th>\n",
       "      <th>hour</th>\n",
       "      <th>segment_id</th>\n",
       "      <th>bezirk</th>\n",
       "      <th>stadtteil</th>\n",
       "      <th>strassenna</th>\n",
       "      <th>...</th>\n",
       "      <th>car</th>\n",
       "      <th>foot</th>\n",
       "      <th>motor</th>\n",
       "      <th>vehicle</th>\n",
       "      <th>other</th>\n",
       "      <th>road_con</th>\n",
       "      <th>LINREFX</th>\n",
       "      <th>LINREFY</th>\n",
       "      <th>XGCSWGS84</th>\n",
       "      <th>YGCSWGS84</th>\n",
       "    </tr>\n",
       "  </thead>\n",
       "  <tbody>\n",
       "    <tr>\n",
       "      <th>0</th>\n",
       "      <td>0</td>\n",
       "      <td>Samariterviertel</td>\n",
       "      <td>2018</td>\n",
       "      <td>1</td>\n",
       "      <td>4</td>\n",
       "      <td>15</td>\n",
       "      <td>6209.0</td>\n",
       "      <td>Friedrichshain-Kreuzberg</td>\n",
       "      <td>Friedrichshain</td>\n",
       "      <td>Frankfurter Allee</td>\n",
       "      <td>...</td>\n",
       "      <td>1</td>\n",
       "      <td>1</td>\n",
       "      <td>0</td>\n",
       "      <td>0</td>\n",
       "      <td>0</td>\n",
       "      <td>1</td>\n",
       "      <td>803604,1562</td>\n",
       "      <td>5827580,738</td>\n",
       "      <td>13,4750178</td>\n",
       "      <td>52,51359681</td>\n",
       "    </tr>\n",
       "    <tr>\n",
       "      <th>1</th>\n",
       "      <td>1</td>\n",
       "      <td>Ziekowstraße/Freie Scholle</td>\n",
       "      <td>2018</td>\n",
       "      <td>1</td>\n",
       "      <td>2</td>\n",
       "      <td>11</td>\n",
       "      <td>41374.0</td>\n",
       "      <td>Reinickendorf</td>\n",
       "      <td>Tegel</td>\n",
       "      <td>A 111 BAB Autobahnzubringer Hamburg</td>\n",
       "      <td>...</td>\n",
       "      <td>1</td>\n",
       "      <td>0</td>\n",
       "      <td>0</td>\n",
       "      <td>0</td>\n",
       "      <td>0</td>\n",
       "      <td>0</td>\n",
       "      <td>790639,5854</td>\n",
       "      <td>5835009,589</td>\n",
       "      <td>13,29102205</td>\n",
       "      <td>52,58725906</td>\n",
       "    </tr>\n",
       "    <tr>\n",
       "      <th>2</th>\n",
       "      <td>1</td>\n",
       "      <td>Ziekowstraße/Freie Scholle</td>\n",
       "      <td>2018</td>\n",
       "      <td>1</td>\n",
       "      <td>2</td>\n",
       "      <td>11</td>\n",
       "      <td>41373.0</td>\n",
       "      <td>Reinickendorf</td>\n",
       "      <td>Tegel</td>\n",
       "      <td>A 111 BAB Autobahnzubringer Hamburg</td>\n",
       "      <td>...</td>\n",
       "      <td>1</td>\n",
       "      <td>0</td>\n",
       "      <td>0</td>\n",
       "      <td>0</td>\n",
       "      <td>0</td>\n",
       "      <td>0</td>\n",
       "      <td>790639,5854</td>\n",
       "      <td>5835009,589</td>\n",
       "      <td>13,29102205</td>\n",
       "      <td>52,58725906</td>\n",
       "    </tr>\n",
       "    <tr>\n",
       "      <th>3</th>\n",
       "      <td>2</td>\n",
       "      <td>Barnimkiez</td>\n",
       "      <td>2018</td>\n",
       "      <td>1</td>\n",
       "      <td>3</td>\n",
       "      <td>9</td>\n",
       "      <td>4410.0</td>\n",
       "      <td>Pankow</td>\n",
       "      <td>Prenzlauer Berg</td>\n",
       "      <td>Otto-Braun-Straße</td>\n",
       "      <td>...</td>\n",
       "      <td>1</td>\n",
       "      <td>1</td>\n",
       "      <td>0</td>\n",
       "      <td>0</td>\n",
       "      <td>0</td>\n",
       "      <td>0</td>\n",
       "      <td>799827,9618</td>\n",
       "      <td>5828733,523</td>\n",
       "      <td>13,42057818</td>\n",
       "      <td>52,52601854</td>\n",
       "    </tr>\n",
       "    <tr>\n",
       "      <th>4</th>\n",
       "      <td>3</td>\n",
       "      <td>Volkspark (Rudolf-Wilde-Park)</td>\n",
       "      <td>2018</td>\n",
       "      <td>1</td>\n",
       "      <td>2</td>\n",
       "      <td>17</td>\n",
       "      <td>1452.0</td>\n",
       "      <td>Tempelhof-Schöneberg</td>\n",
       "      <td>Schöneberg</td>\n",
       "      <td>Hauptstraße</td>\n",
       "      <td>...</td>\n",
       "      <td>1</td>\n",
       "      <td>1</td>\n",
       "      <td>0</td>\n",
       "      <td>0</td>\n",
       "      <td>0</td>\n",
       "      <td>0</td>\n",
       "      <td>795223,509</td>\n",
       "      <td>5823525,402</td>\n",
       "      <td>13,34828776</td>\n",
       "      <td>52,48184447</td>\n",
       "    </tr>\n",
       "    <tr>\n",
       "      <th>5</th>\n",
       "      <td>3</td>\n",
       "      <td>Volkspark (Rudolf-Wilde-Park)</td>\n",
       "      <td>2018</td>\n",
       "      <td>1</td>\n",
       "      <td>2</td>\n",
       "      <td>17</td>\n",
       "      <td>828.0</td>\n",
       "      <td>Tempelhof-Schöneberg</td>\n",
       "      <td>Schöneberg</td>\n",
       "      <td>Dominicusstraße</td>\n",
       "      <td>...</td>\n",
       "      <td>1</td>\n",
       "      <td>1</td>\n",
       "      <td>0</td>\n",
       "      <td>0</td>\n",
       "      <td>0</td>\n",
       "      <td>0</td>\n",
       "      <td>795223,509</td>\n",
       "      <td>5823525,402</td>\n",
       "      <td>13,34828776</td>\n",
       "      <td>52,48184447</td>\n",
       "    </tr>\n",
       "    <tr>\n",
       "      <th>6</th>\n",
       "      <td>3</td>\n",
       "      <td>Volkspark (Rudolf-Wilde-Park)</td>\n",
       "      <td>2018</td>\n",
       "      <td>1</td>\n",
       "      <td>2</td>\n",
       "      <td>17</td>\n",
       "      <td>829.0</td>\n",
       "      <td>Tempelhof-Schöneberg</td>\n",
       "      <td>Schöneberg</td>\n",
       "      <td>Dominicusstraße</td>\n",
       "      <td>...</td>\n",
       "      <td>1</td>\n",
       "      <td>1</td>\n",
       "      <td>0</td>\n",
       "      <td>0</td>\n",
       "      <td>0</td>\n",
       "      <td>0</td>\n",
       "      <td>795223,509</td>\n",
       "      <td>5823525,402</td>\n",
       "      <td>13,34828776</td>\n",
       "      <td>52,48184447</td>\n",
       "    </tr>\n",
       "    <tr>\n",
       "      <th>7</th>\n",
       "      <td>3</td>\n",
       "      <td>Volkspark (Rudolf-Wilde-Park)</td>\n",
       "      <td>2018</td>\n",
       "      <td>1</td>\n",
       "      <td>2</td>\n",
       "      <td>17</td>\n",
       "      <td>20054.0</td>\n",
       "      <td>Tempelhof-Schöneberg</td>\n",
       "      <td>Schöneberg</td>\n",
       "      <td>Hauptstraße</td>\n",
       "      <td>...</td>\n",
       "      <td>1</td>\n",
       "      <td>1</td>\n",
       "      <td>0</td>\n",
       "      <td>0</td>\n",
       "      <td>0</td>\n",
       "      <td>0</td>\n",
       "      <td>795223,509</td>\n",
       "      <td>5823525,402</td>\n",
       "      <td>13,34828776</td>\n",
       "      <td>52,48184447</td>\n",
       "    </tr>\n",
       "    <tr>\n",
       "      <th>8</th>\n",
       "      <td>4</td>\n",
       "      <td>Niederschönhausen</td>\n",
       "      <td>2018</td>\n",
       "      <td>1</td>\n",
       "      <td>4</td>\n",
       "      <td>15</td>\n",
       "      <td>21397.0</td>\n",
       "      <td>Pankow</td>\n",
       "      <td>Niederschönhausen</td>\n",
       "      <td>Dietzgenstraße</td>\n",
       "      <td>...</td>\n",
       "      <td>0</td>\n",
       "      <td>1</td>\n",
       "      <td>0</td>\n",
       "      <td>0</td>\n",
       "      <td>0</td>\n",
       "      <td>1</td>\n",
       "      <td>798261,3849</td>\n",
       "      <td>5835047,26</td>\n",
       "      <td>13,40322797</td>\n",
       "      <td>52,58347154</td>\n",
       "    </tr>\n",
       "    <tr>\n",
       "      <th>9</th>\n",
       "      <td>5</td>\n",
       "      <td>Ringkolonnaden</td>\n",
       "      <td>2018</td>\n",
       "      <td>1</td>\n",
       "      <td>2</td>\n",
       "      <td>5</td>\n",
       "      <td>7709.0</td>\n",
       "      <td>Marzahn-Hellersdorf</td>\n",
       "      <td>Marzahn</td>\n",
       "      <td>Märkische Allee</td>\n",
       "      <td>...</td>\n",
       "      <td>1</td>\n",
       "      <td>0</td>\n",
       "      <td>0</td>\n",
       "      <td>0</td>\n",
       "      <td>0</td>\n",
       "      <td>0</td>\n",
       "      <td>808320,0275</td>\n",
       "      <td>5832060,055</td>\n",
       "      <td>13,54844656</td>\n",
       "      <td>52,5510946</td>\n",
       "    </tr>\n",
       "    <tr>\n",
       "      <th>10</th>\n",
       "      <td>6</td>\n",
       "      <td>Forst Grunewald</td>\n",
       "      <td>2018</td>\n",
       "      <td>1</td>\n",
       "      <td>2</td>\n",
       "      <td>17</td>\n",
       "      <td>41694.0</td>\n",
       "      <td>Charlottenburg-Wilmersdorf</td>\n",
       "      <td>Grunewald</td>\n",
       "      <td>A 115 BAB Autobahnzubringer Magdebg/Leipz (Avus)</td>\n",
       "      <td>...</td>\n",
       "      <td>1</td>\n",
       "      <td>0</td>\n",
       "      <td>0</td>\n",
       "      <td>0</td>\n",
       "      <td>1</td>\n",
       "      <td>1</td>\n",
       "      <td>788961,8201</td>\n",
       "      <td>5823583,542</td>\n",
       "      <td>13,25639043</td>\n",
       "      <td>52,48571541</td>\n",
       "    </tr>\n",
       "    <tr>\n",
       "      <th>11</th>\n",
       "      <td>6</td>\n",
       "      <td>Forst Grunewald</td>\n",
       "      <td>2018</td>\n",
       "      <td>1</td>\n",
       "      <td>2</td>\n",
       "      <td>17</td>\n",
       "      <td>41696.0</td>\n",
       "      <td>Charlottenburg-Wilmersdorf</td>\n",
       "      <td>Grunewald</td>\n",
       "      <td>A 115 BAB Autobahnzubringer Magdebg/Leipz (Avus)</td>\n",
       "      <td>...</td>\n",
       "      <td>1</td>\n",
       "      <td>0</td>\n",
       "      <td>0</td>\n",
       "      <td>0</td>\n",
       "      <td>1</td>\n",
       "      <td>1</td>\n",
       "      <td>788961,8201</td>\n",
       "      <td>5823583,542</td>\n",
       "      <td>13,25639043</td>\n",
       "      <td>52,48571541</td>\n",
       "    </tr>\n",
       "    <tr>\n",
       "      <th>12</th>\n",
       "      <td>7</td>\n",
       "      <td>Lietzengraben</td>\n",
       "      <td>2018</td>\n",
       "      <td>1</td>\n",
       "      <td>5</td>\n",
       "      <td>16</td>\n",
       "      <td>42256.0</td>\n",
       "      <td>Pankow</td>\n",
       "      <td>Buch</td>\n",
       "      <td>A 114 BAB Autobahnzubringer Prenzlau</td>\n",
       "      <td>...</td>\n",
       "      <td>1</td>\n",
       "      <td>0</td>\n",
       "      <td>0</td>\n",
       "      <td>0</td>\n",
       "      <td>0</td>\n",
       "      <td>1</td>\n",
       "      <td>799543,5822</td>\n",
       "      <td>5840743,375</td>\n",
       "      <td>13,42725182</td>\n",
       "      <td>52,63382261</td>\n",
       "    </tr>\n",
       "    <tr>\n",
       "      <th>13</th>\n",
       "      <td>7</td>\n",
       "      <td>Lietzengraben</td>\n",
       "      <td>2018</td>\n",
       "      <td>1</td>\n",
       "      <td>5</td>\n",
       "      <td>16</td>\n",
       "      <td>42255.0</td>\n",
       "      <td>Pankow</td>\n",
       "      <td>Buch</td>\n",
       "      <td>A 114 BAB Autobahnzubringer Prenzlau</td>\n",
       "      <td>...</td>\n",
       "      <td>1</td>\n",
       "      <td>0</td>\n",
       "      <td>0</td>\n",
       "      <td>0</td>\n",
       "      <td>0</td>\n",
       "      <td>1</td>\n",
       "      <td>799543,5822</td>\n",
       "      <td>5840743,375</td>\n",
       "      <td>13,42725182</td>\n",
       "      <td>52,63382261</td>\n",
       "    </tr>\n",
       "    <tr>\n",
       "      <th>14</th>\n",
       "      <td>8</td>\n",
       "      <td>Alexanderplatzviertel</td>\n",
       "      <td>2018</td>\n",
       "      <td>1</td>\n",
       "      <td>2</td>\n",
       "      <td>14</td>\n",
       "      <td>8333.0</td>\n",
       "      <td>Mitte</td>\n",
       "      <td>Mitte</td>\n",
       "      <td>Grunerstraße</td>\n",
       "      <td>...</td>\n",
       "      <td>1</td>\n",
       "      <td>1</td>\n",
       "      <td>0</td>\n",
       "      <td>0</td>\n",
       "      <td>0</td>\n",
       "      <td>0</td>\n",
       "      <td>799255,9754</td>\n",
       "      <td>5827907,973</td>\n",
       "      <td>13,41142938</td>\n",
       "      <td>52,51893299</td>\n",
       "    </tr>\n",
       "    <tr>\n",
       "      <th>15</th>\n",
       "      <td>8</td>\n",
       "      <td>Alexanderplatzviertel</td>\n",
       "      <td>2018</td>\n",
       "      <td>1</td>\n",
       "      <td>2</td>\n",
       "      <td>14</td>\n",
       "      <td>39275.0</td>\n",
       "      <td>Mitte</td>\n",
       "      <td>Mitte</td>\n",
       "      <td>Straßentunnel Alexanderplatz</td>\n",
       "      <td>...</td>\n",
       "      <td>1</td>\n",
       "      <td>1</td>\n",
       "      <td>0</td>\n",
       "      <td>0</td>\n",
       "      <td>0</td>\n",
       "      <td>0</td>\n",
       "      <td>799255,9754</td>\n",
       "      <td>5827907,973</td>\n",
       "      <td>13,41142938</td>\n",
       "      <td>52,51893299</td>\n",
       "    </tr>\n",
       "    <tr>\n",
       "      <th>16</th>\n",
       "      <td>9</td>\n",
       "      <td>Teichstraße</td>\n",
       "      <td>2018</td>\n",
       "      <td>1</td>\n",
       "      <td>7</td>\n",
       "      <td>21</td>\n",
       "      <td>2201.0</td>\n",
       "      <td>Reinickendorf</td>\n",
       "      <td>Reinickendorf</td>\n",
       "      <td>Lindauer Allee</td>\n",
       "      <td>...</td>\n",
       "      <td>0</td>\n",
       "      <td>0</td>\n",
       "      <td>1</td>\n",
       "      <td>0</td>\n",
       "      <td>0</td>\n",
       "      <td>1</td>\n",
       "      <td>794735,9234</td>\n",
       "      <td>5833763,947</td>\n",
       "      <td>13,35020475</td>\n",
       "      <td>52,57388905</td>\n",
       "    </tr>\n",
       "    <tr>\n",
       "      <th>17</th>\n",
       "      <td>10</td>\n",
       "      <td>Alexanderplatzviertel</td>\n",
       "      <td>2018</td>\n",
       "      <td>1</td>\n",
       "      <td>3</td>\n",
       "      <td>17</td>\n",
       "      <td>8321.0</td>\n",
       "      <td>Mitte</td>\n",
       "      <td>Mitte</td>\n",
       "      <td>Otto-Braun-Straße</td>\n",
       "      <td>...</td>\n",
       "      <td>1</td>\n",
       "      <td>0</td>\n",
       "      <td>0</td>\n",
       "      <td>0</td>\n",
       "      <td>0</td>\n",
       "      <td>1</td>\n",
       "      <td>799698,6291</td>\n",
       "      <td>5828456,085</td>\n",
       "      <td>13,41842748</td>\n",
       "      <td>52,52360287</td>\n",
       "    </tr>\n",
       "    <tr>\n",
       "      <th>18</th>\n",
       "      <td>10</td>\n",
       "      <td>Alexanderplatzviertel</td>\n",
       "      <td>2018</td>\n",
       "      <td>1</td>\n",
       "      <td>3</td>\n",
       "      <td>17</td>\n",
       "      <td>39275.0</td>\n",
       "      <td>Mitte</td>\n",
       "      <td>Mitte</td>\n",
       "      <td>Straßentunnel Alexanderplatz</td>\n",
       "      <td>...</td>\n",
       "      <td>1</td>\n",
       "      <td>0</td>\n",
       "      <td>0</td>\n",
       "      <td>0</td>\n",
       "      <td>0</td>\n",
       "      <td>1</td>\n",
       "      <td>799698,6291</td>\n",
       "      <td>5828456,085</td>\n",
       "      <td>13,41842748</td>\n",
       "      <td>52,52360287</td>\n",
       "    </tr>\n",
       "    <tr>\n",
       "      <th>19</th>\n",
       "      <td>11</td>\n",
       "      <td>Manteuffelstraße</td>\n",
       "      <td>2018</td>\n",
       "      <td>1</td>\n",
       "      <td>4</td>\n",
       "      <td>16</td>\n",
       "      <td>39308.0</td>\n",
       "      <td>Tempelhof-Schöneberg</td>\n",
       "      <td>Tempelhof</td>\n",
       "      <td>Manteuffelstraße</td>\n",
       "      <td>...</td>\n",
       "      <td>1</td>\n",
       "      <td>0</td>\n",
       "      <td>0</td>\n",
       "      <td>0</td>\n",
       "      <td>0</td>\n",
       "      <td>1</td>\n",
       "      <td>797300,7087</td>\n",
       "      <td>5822341,224</td>\n",
       "      <td>13,37773011</td>\n",
       "      <td>52,47010259</td>\n",
       "    </tr>\n",
       "  </tbody>\n",
       "</table>\n",
       "<p>20 rows × 30 columns</p>\n",
       "</div>"
      ],
      "text/plain": [
       "    col_id                         street  year  month  weekday  hour  \\\n",
       "0        0               Samariterviertel  2018      1        4    15   \n",
       "1        1     Ziekowstraße/Freie Scholle  2018      1        2    11   \n",
       "2        1     Ziekowstraße/Freie Scholle  2018      1        2    11   \n",
       "3        2                     Barnimkiez  2018      1        3     9   \n",
       "4        3  Volkspark (Rudolf-Wilde-Park)  2018      1        2    17   \n",
       "5        3  Volkspark (Rudolf-Wilde-Park)  2018      1        2    17   \n",
       "6        3  Volkspark (Rudolf-Wilde-Park)  2018      1        2    17   \n",
       "7        3  Volkspark (Rudolf-Wilde-Park)  2018      1        2    17   \n",
       "8        4              Niederschönhausen  2018      1        4    15   \n",
       "9        5                 Ringkolonnaden  2018      1        2     5   \n",
       "10       6                Forst Grunewald  2018      1        2    17   \n",
       "11       6                Forst Grunewald  2018      1        2    17   \n",
       "12       7                  Lietzengraben  2018      1        5    16   \n",
       "13       7                  Lietzengraben  2018      1        5    16   \n",
       "14       8          Alexanderplatzviertel  2018      1        2    14   \n",
       "15       8          Alexanderplatzviertel  2018      1        2    14   \n",
       "16       9                    Teichstraße  2018      1        7    21   \n",
       "17      10          Alexanderplatzviertel  2018      1        3    17   \n",
       "18      10          Alexanderplatzviertel  2018      1        3    17   \n",
       "19      11               Manteuffelstraße  2018      1        4    16   \n",
       "\n",
       "    segment_id                      bezirk          stadtteil  \\\n",
       "0       6209.0    Friedrichshain-Kreuzberg     Friedrichshain   \n",
       "1      41374.0               Reinickendorf              Tegel   \n",
       "2      41373.0               Reinickendorf              Tegel   \n",
       "3       4410.0                      Pankow    Prenzlauer Berg   \n",
       "4       1452.0        Tempelhof-Schöneberg         Schöneberg   \n",
       "5        828.0        Tempelhof-Schöneberg         Schöneberg   \n",
       "6        829.0        Tempelhof-Schöneberg         Schöneberg   \n",
       "7      20054.0        Tempelhof-Schöneberg         Schöneberg   \n",
       "8      21397.0                      Pankow  Niederschönhausen   \n",
       "9       7709.0         Marzahn-Hellersdorf            Marzahn   \n",
       "10     41694.0  Charlottenburg-Wilmersdorf          Grunewald   \n",
       "11     41696.0  Charlottenburg-Wilmersdorf          Grunewald   \n",
       "12     42256.0                      Pankow               Buch   \n",
       "13     42255.0                      Pankow               Buch   \n",
       "14      8333.0                       Mitte              Mitte   \n",
       "15     39275.0                       Mitte              Mitte   \n",
       "16      2201.0               Reinickendorf      Reinickendorf   \n",
       "17      8321.0                       Mitte              Mitte   \n",
       "18     39275.0                       Mitte              Mitte   \n",
       "19     39308.0        Tempelhof-Schöneberg          Tempelhof   \n",
       "\n",
       "                                          strassenna  ...  car  foot  motor  \\\n",
       "0                                  Frankfurter Allee  ...    1     1      0   \n",
       "1                A 111 BAB Autobahnzubringer Hamburg  ...    1     0      0   \n",
       "2                A 111 BAB Autobahnzubringer Hamburg  ...    1     0      0   \n",
       "3                                  Otto-Braun-Straße  ...    1     1      0   \n",
       "4                                        Hauptstraße  ...    1     1      0   \n",
       "5                                    Dominicusstraße  ...    1     1      0   \n",
       "6                                    Dominicusstraße  ...    1     1      0   \n",
       "7                                        Hauptstraße  ...    1     1      0   \n",
       "8                                     Dietzgenstraße  ...    0     1      0   \n",
       "9                                    Märkische Allee  ...    1     0      0   \n",
       "10  A 115 BAB Autobahnzubringer Magdebg/Leipz (Avus)  ...    1     0      0   \n",
       "11  A 115 BAB Autobahnzubringer Magdebg/Leipz (Avus)  ...    1     0      0   \n",
       "12              A 114 BAB Autobahnzubringer Prenzlau  ...    1     0      0   \n",
       "13              A 114 BAB Autobahnzubringer Prenzlau  ...    1     0      0   \n",
       "14                                      Grunerstraße  ...    1     1      0   \n",
       "15                      Straßentunnel Alexanderplatz  ...    1     1      0   \n",
       "16                                    Lindauer Allee  ...    0     0      1   \n",
       "17                                 Otto-Braun-Straße  ...    1     0      0   \n",
       "18                      Straßentunnel Alexanderplatz  ...    1     0      0   \n",
       "19                                  Manteuffelstraße  ...    1     0      0   \n",
       "\n",
       "    vehicle  other  road_con      LINREFX      LINREFY    XGCSWGS84  \\\n",
       "0         0      0         1  803604,1562  5827580,738   13,4750178   \n",
       "1         0      0         0  790639,5854  5835009,589  13,29102205   \n",
       "2         0      0         0  790639,5854  5835009,589  13,29102205   \n",
       "3         0      0         0  799827,9618  5828733,523  13,42057818   \n",
       "4         0      0         0   795223,509  5823525,402  13,34828776   \n",
       "5         0      0         0   795223,509  5823525,402  13,34828776   \n",
       "6         0      0         0   795223,509  5823525,402  13,34828776   \n",
       "7         0      0         0   795223,509  5823525,402  13,34828776   \n",
       "8         0      0         1  798261,3849   5835047,26  13,40322797   \n",
       "9         0      0         0  808320,0275  5832060,055  13,54844656   \n",
       "10        0      1         1  788961,8201  5823583,542  13,25639043   \n",
       "11        0      1         1  788961,8201  5823583,542  13,25639043   \n",
       "12        0      0         1  799543,5822  5840743,375  13,42725182   \n",
       "13        0      0         1  799543,5822  5840743,375  13,42725182   \n",
       "14        0      0         0  799255,9754  5827907,973  13,41142938   \n",
       "15        0      0         0  799255,9754  5827907,973  13,41142938   \n",
       "16        0      0         1  794735,9234  5833763,947  13,35020475   \n",
       "17        0      0         1  799698,6291  5828456,085  13,41842748   \n",
       "18        0      0         1  799698,6291  5828456,085  13,41842748   \n",
       "19        0      0         1  797300,7087  5822341,224  13,37773011   \n",
       "\n",
       "      YGCSWGS84  \n",
       "0   52,51359681  \n",
       "1   52,58725906  \n",
       "2   52,58725906  \n",
       "3   52,52601854  \n",
       "4   52,48184447  \n",
       "5   52,48184447  \n",
       "6   52,48184447  \n",
       "7   52,48184447  \n",
       "8   52,58347154  \n",
       "9    52,5510946  \n",
       "10  52,48571541  \n",
       "11  52,48571541  \n",
       "12  52,63382261  \n",
       "13  52,63382261  \n",
       "14  52,51893299  \n",
       "15  52,51893299  \n",
       "16  52,57388905  \n",
       "17  52,52360287  \n",
       "18  52,52360287  \n",
       "19  52,47010259  \n",
       "\n",
       "[20 rows x 30 columns]"
      ]
     },
     "execution_count": 7,
     "metadata": {},
     "output_type": "execute_result"
    }
   ],
   "source": [
    "df_collisions_merged.head(20)"
   ]
  },
  {
   "cell_type": "code",
   "execution_count": 8,
   "metadata": {
    "executionInfo": {
     "elapsed": 242,
     "status": "ok",
     "timestamp": 1648822774657,
     "user": {
      "displayName": "Benedikt Ströbl",
      "userId": "04612548199667048888"
     },
     "user_tz": -120
    },
    "id": "VbPwLDbFJF-s"
   },
   "outputs": [],
   "source": [
    "# generate all dates from start to end\n",
    "import time\n",
    "import datetime\n",
    "\n",
    "\n",
    "\n",
    "start = \"31/12/2017\"\n",
    "end = \"31/12/2020\"\n",
    "date = datetime.datetime.strptime(start, \"%d/%m/%Y\")\n",
    "\n",
    "dates = list()\n",
    "while(date != datetime.datetime.strptime(end, \"%d/%m/%Y\")): \n",
    "    date += datetime.timedelta(days=1)\n",
    "    for i in range(24):\n",
    "        dates.append((date.strftime(\"%Y-%m-%d\"), i))"
   ]
  },
  {
   "cell_type": "code",
   "execution_count": 9,
   "metadata": {},
   "outputs": [],
   "source": [
    "# Create the pandas DataFrame\n",
    "df_date_hour_pairs = pd.DataFrame(dates, columns = ['date', 'hour'])\n",
    "df_segments = pd.DataFrame(df_collisions_road[\"segment_id\"].unique(), columns=[\"segment_id\"])"
   ]
  },
  {
   "cell_type": "code",
   "execution_count": 10,
   "metadata": {},
   "outputs": [],
   "source": [
    "df_date_hour_pairs['date'] = pd.to_datetime(df_date_hour_pairs['date'])\n",
    "df_date_hour_pairs['year'] = df_date_hour_pairs['date'].dt.year\n",
    "df_date_hour_pairs['month'] = df_date_hour_pairs['date'].dt.month"
   ]
  },
  {
   "cell_type": "code",
   "execution_count": 11,
   "metadata": {},
   "outputs": [],
   "source": [
    "df_date_hour_pairs['weekday_name'] = df_date_hour_pairs['date'].dt.weekday_name\n",
    "df_date_hour_pairs['weekday'] = df_date_hour_pairs['date'].dt.weekday + 2\n",
    "df_date_hour_pairs.loc[(df_date_hour_pairs.weekday == 8),'weekday']=1\n",
    "df_date_hour_pairs = df_date_hour_pairs.drop('date', axis=1)"
   ]
  },
  {
   "cell_type": "code",
   "execution_count": 12,
   "metadata": {},
   "outputs": [],
   "source": [
    "df_date_hour_pairs = df_date_hour_pairs.drop_duplicates()"
   ]
  },
  {
   "cell_type": "code",
   "execution_count": 13,
   "metadata": {},
   "outputs": [],
   "source": [
    "import findspark\n",
    "findspark.init()\n",
    "findspark.find()\n",
    "import pyspark\n",
    "from pyspark.sql.functions import *\n",
    "from pyspark.sql.types import IntegerType, FloatType"
   ]
  },
  {
   "cell_type": "code",
   "execution_count": 14,
   "metadata": {},
   "outputs": [],
   "source": [
    "from pyspark import SparkContext, SparkConf\n",
    "from pyspark.sql import SparkSession\n",
    "conf = pyspark.SparkConf().setAppName('ML_Project').setMaster('local')\n",
    "sc = pyspark.SparkContext(conf=conf)\n",
    "spark = SparkSession(sc)"
   ]
  },
  {
   "cell_type": "code",
   "execution_count": 15,
   "metadata": {},
   "outputs": [],
   "source": [
    "df_date_hour_pairs = spark.createDataFrame(df_date_hour_pairs) \n",
    "df_segments = spark.createDataFrame(df_segments) \n",
    "df_collisions_merged = spark.createDataFrame(df_collisions_merged) "
   ]
  },
  {
   "cell_type": "code",
   "execution_count": 16,
   "metadata": {},
   "outputs": [],
   "source": [
    "df_combinations = df_date_hour_pairs.crossJoin(df_segments)"
   ]
  },
  {
   "cell_type": "code",
   "execution_count": 17,
   "metadata": {},
   "outputs": [
    {
     "data": {
      "text/plain": [
       "117034848"
      ]
     },
     "execution_count": 17,
     "metadata": {},
     "output_type": "execute_result"
    }
   ],
   "source": [
    "df_combinations.count()"
   ]
  },
  {
   "cell_type": "code",
   "execution_count": 18,
   "metadata": {},
   "outputs": [],
   "source": [
    "df_combinations = df_combinations.join(df_collisions_merged,(df_combinations.year == df_collisions_merged.year) & \n",
    "                                                            (df_combinations.month == df_collisions_merged.month) & \n",
    "                                                            (df_combinations.weekday == df_collisions_merged.weekday) & \n",
    "                                                            (df_combinations.hour == df_collisions_merged.hour) &\n",
    "                                                            (df_combinations.segment_id == df_collisions_merged.segment_id), \n",
    "                                       \"leftanti\")\n"
   ]
  },
  {
   "cell_type": "code",
   "execution_count": 19,
   "metadata": {},
   "outputs": [
    {
     "data": {
      "text/plain": [
       "116938408"
      ]
     },
     "execution_count": 19,
     "metadata": {},
     "output_type": "execute_result"
    }
   ],
   "source": [
    "df_combinations.count()"
   ]
  },
  {
   "cell_type": "code",
   "execution_count": 20,
   "metadata": {},
   "outputs": [
    {
     "name": "stdout",
     "output_type": "stream",
     "text": [
      "+----+----+-----+------------+-------+----------+\n",
      "|hour|year|month|weekday_name|weekday|segment_id|\n",
      "+----+----+-----+------------+-------+----------+\n",
      "|   0|2018|    1|      Monday|      2|   39305.0|\n",
      "|   0|2018|    1|      Monday|      2|    7183.0|\n",
      "|   0|2018|    1|      Monday|      2|    3840.0|\n",
      "|   0|2018|    1|      Monday|      2|   42079.0|\n",
      "|   0|2018|    1|      Monday|      2|   31885.0|\n",
      "|   0|2018|    1|      Monday|      2|   41108.0|\n",
      "|   0|2018|    1|      Monday|      2|    8171.0|\n",
      "|   0|2018|    1|      Monday|      2|    6450.0|\n",
      "|   0|2018|    1|      Monday|      2|    5578.0|\n",
      "|   0|2018|    1|      Monday|      2|   29533.0|\n",
      "|   0|2018|    1|      Monday|      2|   23565.0|\n",
      "|   0|2018|    1|      Monday|      2|   17180.0|\n",
      "|   0|2018|    1|      Monday|      2|    3268.0|\n",
      "|   0|2018|    1|      Monday|      2|    3484.0|\n",
      "|   0|2018|    1|      Monday|      2|   19780.0|\n",
      "|   0|2018|    1|      Monday|      2|    1387.0|\n",
      "|   0|2018|    1|      Monday|      2|   11742.0|\n",
      "|   0|2018|    1|      Monday|      2|   37901.0|\n",
      "|   0|2018|    1|      Monday|      2|   20232.0|\n",
      "|   0|2018|    1|      Monday|      2|     110.0|\n",
      "|   0|2018|    1|      Monday|      2|   22466.0|\n",
      "|   0|2018|    1|      Monday|      2|   39204.0|\n",
      "|   0|2018|    1|      Monday|      2|   42440.0|\n",
      "|   0|2018|    1|      Monday|      2|   18250.0|\n",
      "|   0|2018|    1|      Monday|      2|   41381.0|\n",
      "|   0|2018|    1|      Monday|      2|   39071.0|\n",
      "|   0|2018|    1|      Monday|      2|   41908.0|\n",
      "|   0|2018|    1|      Monday|      2|   11630.0|\n",
      "|   0|2018|    1|      Monday|      2|   38709.0|\n",
      "|   0|2018|    1|      Monday|      2|   24665.0|\n",
      "+----+----+-----+------------+-------+----------+\n",
      "only showing top 30 rows\n",
      "\n"
     ]
    }
   ],
   "source": [
    "df_combinations.show(30)"
   ]
  },
  {
   "cell_type": "code",
   "execution_count": 21,
   "metadata": {},
   "outputs": [],
   "source": [
    "df_combinations = df_combinations.sample(False, 0.014, seed=None)"
   ]
  },
  {
   "cell_type": "code",
   "execution_count": 22,
   "metadata": {},
   "outputs": [
    {
     "data": {
      "text/plain": [
       "1636763"
      ]
     },
     "execution_count": 22,
     "metadata": {},
     "output_type": "execute_result"
    }
   ],
   "source": [
    "df_combinations.count()"
   ]
  },
  {
   "cell_type": "code",
   "execution_count": 23,
   "metadata": {},
   "outputs": [],
   "source": [
    "df_collisions_merged = spark.read.csv('../data/output/df_collisions_merged.csv', header=True, inferSchema=True).dropDuplicates(['segment_id'])"
   ]
  },
  {
   "cell_type": "code",
   "execution_count": 24,
   "metadata": {},
   "outputs": [
    {
     "data": {
      "text/plain": [
       "19351"
      ]
     },
     "execution_count": 24,
     "metadata": {},
     "output_type": "execute_result"
    }
   ],
   "source": [
    "df_collisions_merged.count()"
   ]
  },
  {
   "cell_type": "code",
   "execution_count": 25,
   "metadata": {},
   "outputs": [],
   "source": [
    "df_combinations = df_combinations.join(df_collisions_merged, df_combinations.segment_id == df_collisions_merged.segment_id, \"left\").select(df_combinations['*'],df_collisions_merged['XGCSWGS84'],df_collisions_merged['YGCSWGS84'])"
   ]
  },
  {
   "cell_type": "code",
   "execution_count": 26,
   "metadata": {},
   "outputs": [],
   "source": [
    "df_combinations = df_combinations.withColumn('YGCSWGS84', regexp_replace('YGCSWGS84',',','.'))\n",
    "df_combinations = df_combinations.withColumn('XGCSWGS84', regexp_replace('XGCSWGS84',',','.'))"
   ]
  },
  {
   "cell_type": "code",
   "execution_count": 27,
   "metadata": {},
   "outputs": [],
   "source": [
    "df_combinations=df_combinations.withColumn(\"XGCSWGS84\",df_combinations.XGCSWGS84.cast(FloatType()))\n",
    "df_combinations=df_combinations.withColumn(\"YGCSWGS84\",df_combinations.YGCSWGS84.cast(FloatType()))"
   ]
  },
  {
   "cell_type": "code",
   "execution_count": null,
   "metadata": {},
   "outputs": [],
   "source": [
    "df_combinations['collision'] = 0"
   ]
  },
  {
   "cell_type": "code",
   "execution_count": null,
   "metadata": {},
   "outputs": [],
   "source": [
    "#Cyclical Encoding of TIme Features\n",
    "df_combinations['hour_sin'] = df_combinations.progress_apply(lambda row: math.sin(2 * math.pi * row['hour']/23.0),axis=1)\n",
    "df_combinations['hour_cos'] = df_combinations.progress_apply(lambda row: math.cos(2 * math.pi * row['hour']/23.0),axis=1)\n",
    "df_combinations['month_sin'] = df_combinations.progress_apply(lambda row: math.sin(2 * math.pi * row['month']/12.0),axis=1)\n",
    "df_combinations['month_cos'] = df_combinations.progress_apply(lambda row: math.cos(2 * math.pi * row['month']/12.0),axis=1)\n",
    "\n"
   ]
  },
  {
   "cell_type": "code",
   "execution_count": null,
   "metadata": {},
   "outputs": [],
   "source": [
    "df_combinations.count()"
   ]
  },
  {
   "cell_type": "code",
   "execution_count": 28,
   "metadata": {},
   "outputs": [],
   "source": [
    "df_combinations = df_combinations.toPandas()"
   ]
  },
  {
   "cell_type": "code",
   "execution_count": null,
   "metadata": {},
   "outputs": [],
   "source": [
    "df_combinations.to_csv('../data/output/negative_combinations.csv')"
   ]
  }
 ],
 "metadata": {
  "colab": {
   "authorship_tag": "ABX9TyMIxd6RCgKnQZUxpOnZKv76",
   "collapsed_sections": [],
   "name": "combinations.ipynb",
   "provenance": []
  },
  "kernelspec": {
   "display_name": "Python 3",
   "language": "python",
   "name": "python3"
  },
  "language_info": {
   "codemirror_mode": {
    "name": "ipython",
    "version": 3
   },
   "file_extension": ".py",
   "mimetype": "text/x-python",
   "name": "python",
   "nbconvert_exporter": "python",
   "pygments_lexer": "ipython3",
   "version": "3.7.4"
  }
 },
 "nbformat": 4,
 "nbformat_minor": 4
}
