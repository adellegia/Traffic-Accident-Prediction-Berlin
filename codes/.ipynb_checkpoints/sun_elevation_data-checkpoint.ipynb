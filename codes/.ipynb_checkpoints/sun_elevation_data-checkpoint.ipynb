{
 "cells": [
  {
   "cell_type": "code",
   "execution_count": 2,
   "metadata": {
    "colab": {
     "base_uri": "https://localhost:8080/"
    },
    "executionInfo": {
     "elapsed": 3327,
     "status": "ok",
     "timestamp": 1648821063431,
     "user": {
      "displayName": "Benedikt Ströbl",
      "userId": "04612548199667048888"
     },
     "user_tz": -120
    },
    "id": "rXWZjYKOorDh",
    "outputId": "f793f761-bb8e-433d-fff3-82b4ba6f59c0"
   },
   "outputs": [
    {
     "name": "stdout",
     "output_type": "stream",
     "text": [
      "Requirement already satisfied: pysolar in c:\\users\\bened\\appdata\\local\\programs\\python\\python37\\lib\\site-packages (0.10)\n"
     ]
    }
   ],
   "source": [
    "!pip install pysolar\n",
    "from pysolar.solar import *\n",
    "from dateutil import tz\n",
    "import datetime\n",
    "import pandas as pd\n",
    "import math\n",
    "\n",
    "from tqdm import tqdm\n",
    "tqdm.pandas()"
   ]
  },
  {
   "cell_type": "code",
   "execution_count": 2,
   "metadata": {
    "executionInfo": {
     "elapsed": 4,
     "status": "ok",
     "timestamp": 1648821712747,
     "user": {
      "displayName": "Benedikt Ströbl",
      "userId": "04612548199667048888"
     },
     "user_tz": -120
    },
    "id": "6wUUeKRbVq6t"
   },
   "outputs": [],
   "source": [
    "tzone = tz.gettz('Europe/Berlin')"
   ]
  },
  {
   "cell_type": "code",
   "execution_count": 3,
   "metadata": {
    "colab": {
     "base_uri": "https://localhost:8080/"
    },
    "executionInfo": {
     "elapsed": 4,
     "status": "ok",
     "timestamp": 1648821714959,
     "user": {
      "displayName": "Benedikt Ströbl",
      "userId": "04612548199667048888"
     },
     "user_tz": -120
    },
    "id": "yG-WLiSPRQ-F",
    "outputId": "cfc57628-d582-4dee-bd66-45695240e2af"
   },
   "outputs": [
    {
     "data": {
      "text/plain": [
       "-53.749102831159014"
      ]
     },
     "execution_count": 3,
     "metadata": {},
     "output_type": "execute_result"
    }
   ],
   "source": [
    "# EXAMPLE:\n",
    "latitude = 52.55075\n",
    "longitude = 13.414106\n",
    "\n",
    "date = datetime.datetime(2018, 1, 1, 2, 0, 0, tzinfo=tzone)\n",
    "sun_altitude = get_altitude(latitude, longitude, date)\n",
    "sun_altitude"
   ]
  },
  {
   "cell_type": "code",
   "execution_count": 4,
   "metadata": {
    "executionInfo": {
     "elapsed": 302,
     "status": "ok",
     "timestamp": 1648821719377,
     "user": {
      "displayName": "Benedikt Ströbl",
      "userId": "04612548199667048888"
     },
     "user_tz": -120
    },
    "id": "2ia-lRvPbBY2"
   },
   "outputs": [],
   "source": [
    "def get_sun_altitude(year,month,weekday,hour, lat, long):\n",
    "  date_1 = datetime.datetime(year,\n",
    "                           month,\n",
    "                           weekday,\n",
    "                           hour,\n",
    "                           0, \n",
    "                           0, \n",
    "                           tzinfo=tzone)\n",
    "  date_2 = datetime.datetime(year,\n",
    "                               month,\n",
    "                               weekday+7,\n",
    "                               hour,\n",
    "                               0, \n",
    "                               0, \n",
    "                               tzinfo=tzone)\n",
    "  date_3 = datetime.datetime(year,\n",
    "                               month,\n",
    "                               weekday+14,\n",
    "                               hour,\n",
    "                               0, \n",
    "                               0, \n",
    "                               tzinfo=tzone)\n",
    "  date_4 = datetime.datetime(year,\n",
    "                               month,\n",
    "                               weekday+21,\n",
    "                               hour,\n",
    "                               0, \n",
    "                               0, \n",
    "                               tzinfo=tzone)\n",
    "  sun_altitude = get_altitude(lat, long, date_1) + get_altitude(lat, long, date_2) + get_altitude(lat, long, date_3) + get_altitude(lat, long, date_4)\n",
    "  sun_altitude = sun_altitude/4\n",
    "  return float(sun_altitude)"
   ]
  },
  {
   "cell_type": "code",
   "execution_count": 5,
   "metadata": {
    "colab": {
     "base_uri": "https://localhost:8080/"
    },
    "executionInfo": {
     "elapsed": 412,
     "status": "ok",
     "timestamp": 1648821697332,
     "user": {
      "displayName": "Benedikt Ströbl",
      "userId": "04612548199667048888"
     },
     "user_tz": -120
    },
    "id": "2-qzebyGbZ7k",
    "outputId": "ff493928-9e20-48e8-b594-7f724f368c68"
   },
   "outputs": [
    {
     "data": {
      "text/plain": [
       "33.868894127442694"
      ]
     },
     "execution_count": 5,
     "metadata": {},
     "output_type": "execute_result"
    }
   ],
   "source": [
    "# Function TEST: Example\n",
    "get_sun_altitude(2022,4,1,16,52.509,13.385)"
   ]
  },
  {
   "cell_type": "code",
   "execution_count": 8,
   "metadata": {},
   "outputs": [],
   "source": [
    "df_negative_samples = pd.read_csv('../data/output/df_negative_sample.csv', index_col=[0])\n"
   ]
  },
  {
   "cell_type": "code",
   "execution_count": 9,
   "metadata": {},
   "outputs": [
    {
     "data": {
      "text/html": [
       "<div>\n",
       "<style scoped>\n",
       "    .dataframe tbody tr th:only-of-type {\n",
       "        vertical-align: middle;\n",
       "    }\n",
       "\n",
       "    .dataframe tbody tr th {\n",
       "        vertical-align: top;\n",
       "    }\n",
       "\n",
       "    .dataframe thead th {\n",
       "        text-align: right;\n",
       "    }\n",
       "</style>\n",
       "<table border=\"1\" class=\"dataframe\">\n",
       "  <thead>\n",
       "    <tr style=\"text-align: right;\">\n",
       "      <th></th>\n",
       "      <th>hour</th>\n",
       "      <th>year</th>\n",
       "      <th>month</th>\n",
       "      <th>weekday_name</th>\n",
       "      <th>weekday</th>\n",
       "      <th>segment_id</th>\n",
       "    </tr>\n",
       "  </thead>\n",
       "  <tbody>\n",
       "    <tr>\n",
       "      <th>0</th>\n",
       "      <td>0</td>\n",
       "      <td>2018</td>\n",
       "      <td>1</td>\n",
       "      <td>Monday</td>\n",
       "      <td>2</td>\n",
       "      <td>42079.0</td>\n",
       "    </tr>\n",
       "    <tr>\n",
       "      <th>1</th>\n",
       "      <td>0</td>\n",
       "      <td>2018</td>\n",
       "      <td>1</td>\n",
       "      <td>Monday</td>\n",
       "      <td>2</td>\n",
       "      <td>20232.0</td>\n",
       "    </tr>\n",
       "    <tr>\n",
       "      <th>2</th>\n",
       "      <td>3</td>\n",
       "      <td>2018</td>\n",
       "      <td>1</td>\n",
       "      <td>Monday</td>\n",
       "      <td>2</td>\n",
       "      <td>42612.0</td>\n",
       "    </tr>\n",
       "    <tr>\n",
       "      <th>3</th>\n",
       "      <td>3</td>\n",
       "      <td>2018</td>\n",
       "      <td>1</td>\n",
       "      <td>Monday</td>\n",
       "      <td>2</td>\n",
       "      <td>24521.0</td>\n",
       "    </tr>\n",
       "    <tr>\n",
       "      <th>4</th>\n",
       "      <td>4</td>\n",
       "      <td>2018</td>\n",
       "      <td>1</td>\n",
       "      <td>Monday</td>\n",
       "      <td>2</td>\n",
       "      <td>20491.0</td>\n",
       "    </tr>\n",
       "  </tbody>\n",
       "</table>\n",
       "</div>"
      ],
      "text/plain": [
       "   hour  year  month weekday_name  weekday  segment_id\n",
       "0     0  2018      1       Monday        2     42079.0\n",
       "1     0  2018      1       Monday        2     20232.0\n",
       "2     3  2018      1       Monday        2     42612.0\n",
       "3     3  2018      1       Monday        2     24521.0\n",
       "4     4  2018      1       Monday        2     20491.0"
      ]
     },
     "execution_count": 9,
     "metadata": {},
     "output_type": "execute_result"
    }
   ],
   "source": [
    "df_negative_samples.head()"
   ]
  },
  {
   "cell_type": "code",
   "execution_count": 15,
   "metadata": {},
   "outputs": [
    {
     "name": "stderr",
     "output_type": "stream",
     "text": [
      "100%|█████████████████████████████████████████████████████████████████████| 1635962/1635962 [3:24:41<00:00, 133.21it/s]\n"
     ]
    }
   ],
   "source": [
    "df_negative_sample['sun_elevation_angle'] = df_negative_sample.progress_apply(lambda row:get_sun_altitude(row['year'],row['month'],row['weekday'],row['hour'],row['YGCSWGS84'],row['XGCSWGS84']), axis=1)"
   ]
  },
  {
   "cell_type": "code",
   "execution_count": 25,
   "metadata": {},
   "outputs": [
    {
     "name": "stderr",
     "output_type": "stream",
     "text": [
      "100%|███████████████████████████████████████████████████████████████████████████| 96666/96666 [09:46<00:00, 164.79it/s]\n"
     ]
    }
   ],
   "source": [
    "df_collisions['sun_elevation_angle'] = df_collisions.progress_apply(lambda row:get_sun_altitude(row['year'].astype('int'),row['month'].astype('int'),row['weekday'].astype('int'),row['hour'].astype('int'),row['YGCSWGS84'].astype('int'),row['XGCSWGS84'].astype('int')), axis=1)"
   ]
  }
 ],
 "metadata": {
  "colab": {
   "authorship_tag": "ABX9TyPIypoqZD0PLFyF88D3Xjgv",
   "name": "sun_elevation_data.ipynb",
   "provenance": []
  },
  "kernelspec": {
   "display_name": "Python 3",
   "language": "python",
   "name": "python3"
  },
  "language_info": {
   "codemirror_mode": {
    "name": "ipython",
    "version": 3
   },
   "file_extension": ".py",
   "mimetype": "text/x-python",
   "name": "python",
   "nbconvert_exporter": "python",
   "pygments_lexer": "ipython3",
   "version": "3.7.4"
  }
 },
 "nbformat": 4,
 "nbformat_minor": 4
}
