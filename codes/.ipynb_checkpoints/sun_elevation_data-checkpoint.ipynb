{
 "cells": [
  {
   "cell_type": "code",
   "execution_count": null,
   "metadata": {
    "colab": {
     "base_uri": "https://localhost:8080/"
    },
    "executionInfo": {
     "elapsed": 3327,
     "status": "ok",
     "timestamp": 1648821063431,
     "user": {
      "displayName": "Benedikt Ströbl",
      "userId": "04612548199667048888"
     },
     "user_tz": -120
    },
    "id": "rXWZjYKOorDh",
    "outputId": "f793f761-bb8e-433d-fff3-82b4ba6f59c0"
   },
   "outputs": [],
   "source": [
    "!pip install pysolar\n",
    "from pysolar.solar import *\n",
    "from dateutil import tz\n",
    "import datetime\n",
    "import pandas as pd\n",
    "import math\n",
    "\n",
    "from tqdm import tqdm\n",
    "tqdm.pandas()"
   ]
  },
  {
   "cell_type": "code",
   "execution_count": null,
   "metadata": {
    "executionInfo": {
     "elapsed": 4,
     "status": "ok",
     "timestamp": 1648821712747,
     "user": {
      "displayName": "Benedikt Ströbl",
      "userId": "04612548199667048888"
     },
     "user_tz": -120
    },
    "id": "6wUUeKRbVq6t"
   },
   "outputs": [],
   "source": [
    "tzone = tz.gettz('Europe/Berlin')"
   ]
  },
  {
   "cell_type": "code",
   "execution_count": 3,
   "metadata": {
    "colab": {
     "base_uri": "https://localhost:8080/"
    },
    "executionInfo": {
     "elapsed": 4,
     "status": "ok",
     "timestamp": 1648821714959,
     "user": {
      "displayName": "Benedikt Ströbl",
      "userId": "04612548199667048888"
     },
     "user_tz": -120
    },
    "id": "yG-WLiSPRQ-F",
    "outputId": "cfc57628-d582-4dee-bd66-45695240e2af"
   },
   "outputs": [
    {
     "data": {
      "text/plain": [
       "-53.749102831159014"
      ]
     },
     "execution_count": 3,
     "metadata": {},
     "output_type": "execute_result"
    }
   ],
   "source": [
    "# EXAMPLE:\n",
    "latitude = 52.55075\n",
    "longitude = 13.414106\n",
    "\n",
    "date = datetime.datetime(2018, 1, 1, 2, 0, 0, tzinfo=tzone)\n",
    "sun_altitude = get_altitude(latitude, longitude, date)\n",
    "sun_altitude"
   ]
  },
  {
   "cell_type": "code",
   "execution_count": 4,
   "metadata": {
    "executionInfo": {
     "elapsed": 302,
     "status": "ok",
     "timestamp": 1648821719377,
     "user": {
      "displayName": "Benedikt Ströbl",
      "userId": "04612548199667048888"
     },
     "user_tz": -120
    },
    "id": "2ia-lRvPbBY2"
   },
   "outputs": [],
   "source": [
    "def get_sun_altitude(year,month,weekday,hour, lat, long):\n",
    "  date_1 = datetime.datetime(year,\n",
    "                           month,\n",
    "                           weekday,\n",
    "                           hour,\n",
    "                           0, \n",
    "                           0, \n",
    "                           tzinfo=tzone)\n",
    "  date_2 = datetime.datetime(year,\n",
    "                               month,\n",
    "                               weekday+7,\n",
    "                               hour,\n",
    "                               0, \n",
    "                               0, \n",
    "                               tzinfo=tzone)\n",
    "  date_3 = datetime.datetime(year,\n",
    "                               month,\n",
    "                               weekday+14,\n",
    "                               hour,\n",
    "                               0, \n",
    "                               0, \n",
    "                               tzinfo=tzone)\n",
    "  date_4 = datetime.datetime(year,\n",
    "                               month,\n",
    "                               weekday+21,\n",
    "                               hour,\n",
    "                               0, \n",
    "                               0, \n",
    "                               tzinfo=tzone)\n",
    "  sun_altitude = get_altitude(lat, long, date_1) + get_altitude(lat, long, date_2) + get_altitude(lat, long, date_3) + get_altitude(lat, long, date_4)\n",
    "  sun_altitude = sun_altitude/4\n",
    "  return float(sun_altitude)"
   ]
  },
  {
   "cell_type": "code",
   "execution_count": 5,
   "metadata": {
    "colab": {
     "base_uri": "https://localhost:8080/"
    },
    "executionInfo": {
     "elapsed": 412,
     "status": "ok",
     "timestamp": 1648821697332,
     "user": {
      "displayName": "Benedikt Ströbl",
      "userId": "04612548199667048888"
     },
     "user_tz": -120
    },
    "id": "2-qzebyGbZ7k",
    "outputId": "ff493928-9e20-48e8-b594-7f724f368c68"
   },
   "outputs": [
    {
     "data": {
      "text/plain": [
       "33.868894127442694"
      ]
     },
     "execution_count": 5,
     "metadata": {},
     "output_type": "execute_result"
    }
   ],
   "source": [
    "get_sun_altitude(2022,4,1,16,52.509,13.385)"
   ]
  },
  {
   "cell_type": "code",
   "execution_count": 6,
   "metadata": {},
   "outputs": [],
   "source": [
    "import findspark\n",
    "findspark.init()\n",
    "findspark.find()\n",
    "import pyspark\n",
    "from pyspark.sql.functions import *\n",
    "from pyspark.sql.types import IntegerType, FloatType, DoubleType"
   ]
  },
  {
   "cell_type": "code",
   "execution_count": 7,
   "metadata": {},
   "outputs": [],
   "source": [
    "from pyspark import SparkContext, SparkConf\n",
    "from pyspark.sql import SparkSession\n",
    "conf = pyspark.SparkConf().setAppName('ML_Project').setMaster('local')\n",
    "sc = pyspark.SparkContext(conf=conf)\n",
    "spark = SparkSession(sc)"
   ]
  },
  {
   "cell_type": "code",
   "execution_count": 8,
   "metadata": {},
   "outputs": [],
   "source": [
    "df_negative_samples = spark.read.csv('../data/output/negative_samples.csv', header=True, inferSchema=True)\n"
   ]
  },
  {
   "cell_type": "code",
   "execution_count": 9,
   "metadata": {},
   "outputs": [],
   "source": [
    "df_collisions_merged = spark.read.csv('../data/output/df_collisions_merged.csv', header=True, inferSchema=True).dropDuplicates(['segment_id'])"
   ]
  },
  {
   "cell_type": "code",
   "execution_count": 10,
   "metadata": {},
   "outputs": [
    {
     "data": {
      "text/plain": [
       "19351"
      ]
     },
     "execution_count": 10,
     "metadata": {},
     "output_type": "execute_result"
    }
   ],
   "source": [
    "df_collisions_merged.count()"
   ]
  },
  {
   "cell_type": "code",
   "execution_count": 11,
   "metadata": {},
   "outputs": [
    {
     "data": {
      "text/plain": [
       "643187"
      ]
     },
     "execution_count": 11,
     "metadata": {},
     "output_type": "execute_result"
    }
   ],
   "source": [
    "df_negative_samples.count()"
   ]
  },
  {
   "cell_type": "code",
   "execution_count": 12,
   "metadata": {},
   "outputs": [
    {
     "name": "stdout",
     "output_type": "stream",
     "text": [
      "+-----+------+--------------------+----+-----+-------+----+----------+--------------------+----------+-------------------+--------+----+--------+---------+-----------+-------+---------+---------+----------+----+---+----+-----+-------+-----+--------+-----------+-----------+-----------+-----------+\n",
      "|  _c0|col_id|              street|year|month|weekday|hour|segment_id|              bezirk| stadtteil|         strassenna|objectid|land|district|      LOR|LOR_ab_2021|acc_cat|acc_type1|acc_type2|lightratio|bike|car|foot|motor|vehicle|other|road_con|    LINREFX|    LINREFY|  XGCSWGS84|  YGCSWGS84|\n",
      "+-----+------+--------------------+----+-----+-------+----+----------+--------------------+----------+-------------------+--------+----+--------+---------+-----------+-------+---------+---------+----------+----+---+----+-----+-------+-----+--------+-----------+-----------+-----------+-----------+\n",
      "| 1616|   697|      Andreasviertel|2018|    4|      3|  12|      null|                null|      null|               null|  114648|  11|       2|2040701.0|  2400521.0|      2|        5|        3|         0|   1|  0|   0|    0|      0|    0|       0|800471,7926|5827936,997|13,42932028|52,51852463|\n",
      "|14765|  5973|            Rehberge|2018|    5|      2|   5|       2.0|               Mitte|   Wedding|Afrikanische Straße|  200956|  11|       1|1044101.0|  1400937.0|      3|        5|        3|         0|   1|  1|   0|    1|      0|    0|       0|793673,1482|5832253,886|13,33323052|52,56092682|\n",
      "|43631| 17520|            Rehberge|2019|    3|      4|  16|       3.0|               Mitte|   Wedding|Afrikanische Straße|  193171|  11|       1|1044101.0|       null|      3|        5|        3|         0|   0|  1|   0|    0|      0|    0|       0|793775,5002|5831867,548|   13,33439|   52,55741|\n",
      "|22697|  9142|            Rehberge|2018|    8|      2|  16|       4.0|               Mitte|   Wedding|Afrikanische Straße|  204125|  11|       1|1044101.0|  1400937.0|      3|        3|        6|         0|   0|  0|   0|    1|      0|    1|       0|793820,9334|5831749,663|13,33495795|52,55632706|\n",
      "| 4650|  1978|            Rehberge|2018|    1|      4|   6|       5.0|               Mitte|   Wedding|Afrikanische Straße|  196928|  11|       1|1044101.0|  1400937.0|      3|        5|        3|         2|   1|  1|   0|    0|      0|    0|       1|793985,8969|5831343,201|13,33702425|52,55259437|\n",
      "| 4651|  1978|            Rehberge|2018|    1|      4|   6|       6.0|               Mitte|   Wedding|Afrikanische Straße|  196928|  11|       1|1044101.0|  1400937.0|      3|        5|        3|         2|   1|  1|   0|    0|      0|    0|       1|793985,8969|5831343,201|13,33702425|52,55259437|\n",
      "|28792| 11572|            Rehberge|2018|   10|      6|  17|       7.0|               Mitte|   Wedding|Afrikanische Straße|  206555|  11|       1|1044101.0|  1400938.0|      3|        5|        2|         0|   0|  1|   0|    0|      0|    0|       0|794145,7648|5831106,786| 13,3391659|52,55038876|\n",
      "| 4803|  2032|            Rehberge|2018|    1|      2|  16|       8.0|               Mitte|   Wedding|Afrikanische Straße|  196982|  11|       1|1044101.0|  1400938.0|      3|        5|        3|         1|   1|  1|   0|    0|      0|    0|       0|794378,8064|5830798,291|13,34231947|52,54749743|\n",
      "| 4804|  2032|            Rehberge|2018|    1|      2|  16|       9.0|               Mitte|   Wedding|Afrikanische Straße|  196982|  11|       1|1044101.0|  1400938.0|      3|        5|        3|         1|   1|  1|   0|    0|      0|    0|       0|794378,8064|5830798,291|13,34231947|52,54749743|\n",
      "|26537| 10694|Kaiser-Wilhelm-Platz|2018|    9|      3|  16|      12.0|Tempelhof-Schöneberg|Schöneberg|      Akazienstraße|  205677|  11|       7|7020203.0|  7200409.0|      2|        5|        3|         0|   1|  1|   0|    0|      0|    0|       0| 795512,176|5824438,328|13,35333555|52,48987203|\n",
      "+-----+------+--------------------+----+-----+-------+----+----------+--------------------+----------+-------------------+--------+----+--------+---------+-----------+-------+---------+---------+----------+----+---+----+-----+-------+-----+--------+-----------+-----------+-----------+-----------+\n",
      "only showing top 10 rows\n",
      "\n"
     ]
    }
   ],
   "source": [
    "df_collisions_merged.show(10)"
   ]
  },
  {
   "cell_type": "code",
   "execution_count": 13,
   "metadata": {},
   "outputs": [],
   "source": [
    "df_negative_samples = df_negative_samples.join(df_collisions_merged, df_negative_samples.segment_id == df_collisions_merged.segment_id, \"left\").select(df_negative_samples['*'],df_collisions_merged['XGCSWGS84'],df_collisions_merged['YGCSWGS84'])"
   ]
  },
  {
   "cell_type": "code",
   "execution_count": 14,
   "metadata": {},
   "outputs": [],
   "source": [
    "df_negative_samples = df_negative_samples.withColumn('YGCSWGS84', regexp_replace('YGCSWGS84',',','.'))\n",
    "df_negative_samples = df_negative_samples.withColumn('XGCSWGS84', regexp_replace('XGCSWGS84',',','.'))"
   ]
  },
  {
   "cell_type": "code",
   "execution_count": 15,
   "metadata": {},
   "outputs": [],
   "source": [
    "df_negative_samples=df_negative_samples.withColumn(\"XGCSWGS84\",df_negative_samples.XGCSWGS84.cast(FloatType()))\n",
    "df_negative_samples=df_negative_samples.withColumn(\"YGCSWGS84\",df_negative_samples.YGCSWGS84.cast(FloatType()))"
   ]
  },
  {
   "cell_type": "code",
   "execution_count": 16,
   "metadata": {},
   "outputs": [
    {
     "name": "stdout",
     "output_type": "stream",
     "text": [
      "+---+----+----+-----+------------+-------+----------+---------+---------+\n",
      "|_c0|hour|year|month|weekday_name|weekday|segment_id|XGCSWGS84|YGCSWGS84|\n",
      "+---+----+----+-----+------------+-------+----------+---------+---------+\n",
      "|  0|   0|2018|    1|      Monday|      2|   37063.0|13.165076|52.533466|\n",
      "|  1|   2|2018|    1|      Monday|      2|    7097.0|13.414106| 52.55075|\n",
      "|  2|   2|2018|    1|      Monday|      2|   30880.0|13.608368| 52.54298|\n",
      "|  3|   6|2018|    1|      Monday|      2|    3942.0| 13.35158| 52.52647|\n",
      "|  4|   9|2018|    1|      Monday|      2|   29466.0|13.365961|52.604504|\n",
      "+---+----+----+-----+------------+-------+----------+---------+---------+\n",
      "only showing top 5 rows\n",
      "\n"
     ]
    }
   ],
   "source": [
    "df_negative_samples.show(5)"
   ]
  },
  {
   "cell_type": "code",
   "execution_count": 17,
   "metadata": {},
   "outputs": [],
   "source": [
    "sun_elevation_udf = udf(lambda year,month,weekday,hour,lat,long: get_sun_altitude(year,month,weekday,hour,lat,long), FloatType())"
   ]
  },
  {
   "cell_type": "code",
   "execution_count": 18,
   "metadata": {},
   "outputs": [],
   "source": [
    "df_negative_samples = df_negative_samples.withColumn(\"sun_elevation\", sun_elevation_udf(df_negative_samples.year,df_negative_samples.month,df_negative_samples.weekday,df_negative_samples.hour,df_negative_samples.YGCSWGS84,df_negative_samples.XGCSWGS84))"
   ]
  },
  {
   "cell_type": "code",
   "execution_count": 19,
   "metadata": {},
   "outputs": [
    {
     "name": "stdout",
     "output_type": "stream",
     "text": [
      "+---+----+----+-----+------------+-------+----------+---------+---------+-------------+\n",
      "|_c0|hour|year|month|weekday_name|weekday|segment_id|XGCSWGS84|YGCSWGS84|sun_elevation|\n",
      "+---+----+----+-----+------------+-------+----------+---------+---------+-------------+\n",
      "|  0|   0|2018|    1|      Monday|      2|   37063.0|13.165076|52.533466|   -58.720448|\n",
      "|  1|   2|2018|    1|      Monday|      2|    7097.0|13.414106| 52.55075|    -52.78655|\n",
      "|  2|   2|2018|    1|      Monday|      2|   30880.0|13.608368| 52.54298|   -52.711033|\n",
      "|  3|   6|2018|    1|      Monday|      2|    3942.0| 13.35158| 52.52647|   -18.974955|\n",
      "|  4|   9|2018|    1|      Monday|      2|   29466.0|13.365961|52.604504|    5.0147595|\n",
      "|  5|  11|2018|    1|      Monday|      2|   26253.0| 13.56204| 52.56158|    14.442504|\n",
      "|  6|  13|2018|    1|      Monday|      2|     224.0|13.193334| 52.54901|    15.561082|\n",
      "|  7|  13|2018|    1|      Monday|      2|   12981.0| 13.32666| 52.51679|    15.577415|\n",
      "|  8|  13|2018|    1|      Monday|      2|   20060.0| 13.35499| 52.48388|    15.606351|\n",
      "|  9|  15|2018|    1|      Monday|      2|   14031.0|13.313364|52.523197|     8.036418|\n",
      "+---+----+----+-----+------------+-------+----------+---------+---------+-------------+\n",
      "only showing top 10 rows\n",
      "\n"
     ]
    }
   ],
   "source": [
    "df_negative_samples.show(10)"
   ]
  },
  {
   "cell_type": "code",
   "execution_count": 20,
   "metadata": {},
   "outputs": [],
   "source": [
    "df_negative_samples = df_negative_samples.withColumn(\"collision\", lit(0))"
   ]
  },
  {
   "cell_type": "code",
   "execution_count": 21,
   "metadata": {},
   "outputs": [],
   "source": [
    "df_negative_samples = df_negative_samples.drop('_c0')"
   ]
  },
  {
   "cell_type": "code",
   "execution_count": 22,
   "metadata": {},
   "outputs": [],
   "source": [
    "df_collisions = spark.read.csv('../data/output/df_collisions_merged.csv', header=True, inferSchema=True)"
   ]
  },
  {
   "cell_type": "code",
   "execution_count": 23,
   "metadata": {},
   "outputs": [],
   "source": [
    "df_collisions = df_collisions.select(['hour','year','month','weekday','segment_id','XGCSWGS84','YGCSWGS84'])"
   ]
  },
  {
   "cell_type": "code",
   "execution_count": 24,
   "metadata": {},
   "outputs": [],
   "source": [
    "df_collisions = df_collisions.withColumn('YGCSWGS84', regexp_replace('YGCSWGS84',',','.'))\n",
    "df_collisions = df_collisions.withColumn('XGCSWGS84', regexp_replace('XGCSWGS84',',','.'))"
   ]
  },
  {
   "cell_type": "code",
   "execution_count": 25,
   "metadata": {},
   "outputs": [],
   "source": [
    "df_collisions=df_collisions.withColumn(\"XGCSWGS84\",df_collisions.XGCSWGS84.cast(FloatType()))\n",
    "df_collisions=df_collisions.withColumn(\"YGCSWGS84\",df_collisions.YGCSWGS84.cast(FloatType()))"
   ]
  },
  {
   "cell_type": "code",
   "execution_count": 26,
   "metadata": {},
   "outputs": [],
   "source": [
    "df_collisions = df_collisions.withColumn(\"sun_elevation\", sun_elevation_udf(df_collisions.year,df_collisions.month,df_collisions.weekday,df_collisions.hour,df_collisions.YGCSWGS84,df_collisions.XGCSWGS84))"
   ]
  },
  {
   "cell_type": "code",
   "execution_count": 27,
   "metadata": {},
   "outputs": [],
   "source": [
    "df_collisions = df_collisions.withColumn('weekday_name',when(df_collisions.weekday == 1,'Sunday').when(df_collisions.weekday == 2,'Monday').when(df_collisions.weekday == 3,'Tuesday').when(df_collisions.weekday == 4,'Wednesday').when(df_collisions.weekday == 5,'Thursday').when(df_collisions.weekday == 6,'Friday').otherwise('Saturday'))"
   ]
  },
  {
   "cell_type": "code",
   "execution_count": 28,
   "metadata": {},
   "outputs": [],
   "source": [
    "df_collisions = df_collisions.withColumn(\"collision\", lit(1))"
   ]
  },
  {
   "cell_type": "code",
   "execution_count": 29,
   "metadata": {},
   "outputs": [
    {
     "data": {
      "text/plain": [
       "[('hour', 'int'),\n",
       " ('year', 'int'),\n",
       " ('month', 'int'),\n",
       " ('weekday_name', 'string'),\n",
       " ('weekday', 'int'),\n",
       " ('segment_id', 'double'),\n",
       " ('XGCSWGS84', 'float'),\n",
       " ('YGCSWGS84', 'float'),\n",
       " ('sun_elevation', 'float'),\n",
       " ('collision', 'int')]"
      ]
     },
     "execution_count": 29,
     "metadata": {},
     "output_type": "execute_result"
    }
   ],
   "source": [
    "df_negative_samples.dtypes"
   ]
  },
  {
   "cell_type": "code",
   "execution_count": 30,
   "metadata": {},
   "outputs": [
    {
     "data": {
      "text/plain": [
       "[('hour', 'int'),\n",
       " ('year', 'int'),\n",
       " ('month', 'int'),\n",
       " ('weekday', 'int'),\n",
       " ('segment_id', 'double'),\n",
       " ('XGCSWGS84', 'float'),\n",
       " ('YGCSWGS84', 'float'),\n",
       " ('sun_elevation', 'float'),\n",
       " ('weekday_name', 'string'),\n",
       " ('collision', 'int')]"
      ]
     },
     "execution_count": 30,
     "metadata": {},
     "output_type": "execute_result"
    }
   ],
   "source": [
    "df_collisions.dtypes"
   ]
  },
  {
   "cell_type": "code",
   "execution_count": 31,
   "metadata": {},
   "outputs": [
    {
     "data": {
      "text/plain": [
       "96666"
      ]
     },
     "execution_count": 31,
     "metadata": {},
     "output_type": "execute_result"
    }
   ],
   "source": [
    "df_collisions.count()"
   ]
  },
  {
   "cell_type": "code",
   "execution_count": 32,
   "metadata": {},
   "outputs": [],
   "source": [
    "df_full = df_collisions.union(df_negative_samples).limit(10000)"
   ]
  },
  {
   "cell_type": "code",
   "execution_count": 33,
   "metadata": {},
   "outputs": [
    {
     "data": {
      "text/plain": [
       "[('hour', 'int'),\n",
       " ('year', 'int'),\n",
       " ('month', 'int'),\n",
       " ('weekday', 'string'),\n",
       " ('segment_id', 'double'),\n",
       " ('XGCSWGS84', 'double'),\n",
       " ('YGCSWGS84', 'float'),\n",
       " ('sun_elevation', 'float'),\n",
       " ('weekday_name', 'string'),\n",
       " ('collision', 'int')]"
      ]
     },
     "execution_count": 33,
     "metadata": {},
     "output_type": "execute_result"
    }
   ],
   "source": [
    "df_full.dtypes"
   ]
  },
  {
   "cell_type": "code",
   "execution_count": 35,
   "metadata": {},
   "outputs": [],
   "source": [
    "df_full = df_full.withColumn('hour_sin', sin(2 * math.pi * df_full.hour/23.0))\n",
    "df_full = df_full.withColumn('hour_cos', cos(2 * math.pi * df_full.hour/23.0))\n",
    "df_full = df_full.withColumn('month_sin', sin(2 * math.pi * df_full.month/12.0))\n",
    "df_full = df_full.withColumn('month_cos', cos(2 * math.pi * df_full.month/12.0))"
   ]
  },
  {
   "cell_type": "code",
   "execution_count": null,
   "metadata": {},
   "outputs": [],
   "source": [
    "df_full.show(5)"
   ]
  },
  {
   "cell_type": "code",
   "execution_count": null,
   "metadata": {},
   "outputs": [],
   "source": [
    "df_full.write.option(\"header\",True)\n",
    "   .csv('../data/output/full_sample')"
   ]
  },
  {
   "cell_type": "code",
   "execution_count": null,
   "metadata": {},
   "outputs": [],
   "source": [
    "df_full.toPandas().to_csv('full_sample.csv')"
   ]
  },
  {
   "cell_type": "code",
   "execution_count": null,
   "metadata": {},
   "outputs": [],
   "source": []
  }
 ],
 "metadata": {
  "colab": {
   "authorship_tag": "ABX9TyPIypoqZD0PLFyF88D3Xjgv",
   "name": "sun_elevation_data.ipynb",
   "provenance": []
  },
  "kernelspec": {
   "display_name": "Python 3",
   "language": "python",
   "name": "python3"
  },
  "language_info": {
   "codemirror_mode": {
    "name": "ipython",
    "version": 3
   },
   "file_extension": ".py",
   "mimetype": "text/x-python",
   "name": "python",
   "nbconvert_exporter": "python",
   "pygments_lexer": "ipython3",
   "version": "3.7.4"
  }
 },
 "nbformat": 4,
 "nbformat_minor": 4
}
