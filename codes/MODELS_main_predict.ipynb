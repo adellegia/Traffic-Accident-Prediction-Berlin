{
 "cells": [
  {
   "cell_type": "code",
   "execution_count": 145,
   "id": "e805ff07-e5d9-4e8c-9006-fa8a2b6ef64b",
   "metadata": {},
   "outputs": [],
   "source": [
    "import pandas as pd\n",
    "from sklearn.impute import SimpleImputer\n",
    "from sklearn.preprocessing import StandardScaler\n",
    "from sklearn.preprocessing import OneHotEncoder\n",
    "from sklearn.model_selection import train_test_split\n",
    "from sklearn.pipeline import make_pipeline\n",
    "import matplotlib.pyplot as plt\n",
    "import numpy as np\n",
    "import math\n",
    "from sklearn import metrics"
   ]
  },
  {
   "cell_type": "code",
   "execution_count": 146,
   "id": "b0665b03-b0f7-4fab-9f78-754023195431",
   "metadata": {},
   "outputs": [
    {
     "name": "stdout",
     "output_type": "stream",
     "text": [
      "G:\\My Drive\\GRAD-C24_Machine_Learning\\data\n"
     ]
    }
   ],
   "source": [
    "cd \"G:\\My Drive\\GRAD-C24_Machine_Learning\\data\""
   ]
  },
  {
   "cell_type": "code",
   "execution_count": 147,
   "id": "376aaf0a-e8d9-42f7-a38f-e42c669bc29e",
   "metadata": {},
   "outputs": [
    {
     "name": "stdout",
     "output_type": "stream",
     "text": [
      "<class 'pandas.core.frame.DataFrame'>\n",
      "Int64Index: 52118 entries, 0 to 107727\n",
      "Data columns (total 7 columns):\n",
      " #   Column         Non-Null Count  Dtype  \n",
      "---  ------         --------------  -----  \n",
      " 0   year           52118 non-null  int64  \n",
      " 1   month          52118 non-null  int64  \n",
      " 2   weekday        52118 non-null  int64  \n",
      " 3   hour           52118 non-null  int64  \n",
      " 4   segment_id     52118 non-null  float64\n",
      " 5   prec_duration  52118 non-null  float64\n",
      " 6   prec_height    52118 non-null  float64\n",
      "dtypes: float64(3), int64(4)\n",
      "memory usage: 3.2 MB\n"
     ]
    }
   ],
   "source": [
    "# Negative Sample\n",
    "neg_sample_visibility = pd.read_csv('../data/processed/neg_sample_visibility.csv', index_col=[0])\n",
    "neg_sample_temperature = pd.read_csv('../data/processed/neg_sample_temperature.csv', index_col=[0])\n",
    "neg_sample_precipitation = pd.read_csv('../data/processed/neg_sample_precipitation.csv', index_col=[0])\n",
    "negative_sample = pd.read_csv('../data/processed/negative_sample.csv', index_col=[0])\n",
    "\n",
    "# Positive sample\n",
    "pos_sample_visibility = pd.read_csv('../data/processed/pos_sample_visibility.csv', index_col=[0])\n",
    "pos_sample_temperature = pd.read_csv('../data/processed/pos_sample_temperature.csv', index_col=[0])\n",
    "pos_sample_precipitation = pd.read_csv('../data/processed/pos_sample_precipitation.csv', index_col=[0])\n",
    "positive_sample = pd.read_csv('../data/processed/positive_sample.csv', index_col=[0])\n",
    "pos_sample_precipitation.info()"
   ]
  },
  {
   "cell_type": "code",
   "execution_count": 148,
   "id": "650dc04f-1351-449e-b364-8f32dbaecb17",
   "metadata": {},
   "outputs": [
    {
     "name": "stderr",
     "output_type": "stream",
     "text": [
      "C:\\Users\\admin\\AppData\\Local\\Temp/ipykernel_68260/605013631.py:5: FutureWarning: The frame.append method is deprecated and will be removed from pandas in a future version. Use pandas.concat instead.\n",
      "  full_data = negative_sample.append(positive_sample)\n"
     ]
    }
   ],
   "source": [
    "# Merge (we need to reset index of precipitation df)\n",
    "negative_sample['humidity'], negative_sample['temparature'], negative_sample['visibility'],negative_sample['prec_height'],negative_sample['prec_duration']  =  neg_sample_temperature['humidity'], neg_sample_temperature['temperature'], neg_sample_visibility['visibility'],neg_sample_precipitation.reset_index()['prec_height'],neg_sample_precipitation.reset_index()['prec_duration'] \n",
    "positive_sample['humidity'], positive_sample['temparature'], positive_sample['visibility'],positive_sample['prec_height'],positive_sample['prec_duration']  =  pos_sample_temperature['humidity'], pos_sample_temperature['temperature'], pos_sample_visibility['visibility'],pos_sample_precipitation.reset_index()['prec_height'],pos_sample_precipitation.reset_index()['prec_duration'] \n",
    "\n",
    "full_data = negative_sample.append(positive_sample)"
   ]
  },
  {
   "cell_type": "code",
   "execution_count": 149,
   "id": "52d864fd-b17d-4fec-a984-f2c65ab8ce45",
   "metadata": {},
   "outputs": [],
   "source": [
    "# FUll DATA\n",
    "full_data = full_data[[\n",
    "    'segment_id',\n",
    "    'year',\n",
    "    'month_cos',\n",
    "    'month_sin',\n",
    "    'weekday',\n",
    "    'hour_cos',\n",
    "    'hour_sin',\n",
    "    'collision_cnt',\n",
    "    'side_strt',\n",
    "    'length_m',\n",
    "    'sun_elevation_angle',\n",
    "    'humidity',\n",
    "    'temparature',\n",
    "    'visibility',\n",
    "    'prec_height',\n",
    "    'prec_duration',\n",
    "    'collision'\n",
    "]]\n",
    "\n",
    "full_data['collision_cnt'] = full_data['collision_cnt'].fillna(0)\n",
    "\n",
    "full_data = full_data.round(3)\n",
    "\n",
    "#full_data['weekday'] = full_data['weekday'].astype('category')"
   ]
  },
  {
   "cell_type": "code",
   "execution_count": 150,
   "id": "132c5ba4-ac8f-4177-8a76-57e4b737a070",
   "metadata": {},
   "outputs": [],
   "source": [
    "full_data = full_data.round(3)"
   ]
  },
  {
   "cell_type": "code",
   "execution_count": 151,
   "id": "ded3e161-8c2c-4cff-bb02-68291fcbc03c",
   "metadata": {},
   "outputs": [
    {
     "name": "stdout",
     "output_type": "stream",
     "text": [
      "<class 'pandas.core.frame.DataFrame'>\n",
      "Int64Index: 312820 entries, 0 to 52117\n",
      "Data columns (total 17 columns):\n",
      " #   Column               Non-Null Count   Dtype  \n",
      "---  ------               --------------   -----  \n",
      " 0   segment_id           312820 non-null  float64\n",
      " 1   year                 312820 non-null  int64  \n",
      " 2   month_cos            312820 non-null  float64\n",
      " 3   month_sin            312820 non-null  float64\n",
      " 4   weekday              312820 non-null  int64  \n",
      " 5   hour_cos             312820 non-null  float64\n",
      " 6   hour_sin             312820 non-null  float64\n",
      " 7   collision_cnt        312820 non-null  float64\n",
      " 8   side_strt            312820 non-null  float64\n",
      " 9   length_m             312820 non-null  float64\n",
      " 10  sun_elevation_angle  312820 non-null  float64\n",
      " 11  humidity             312820 non-null  float64\n",
      " 12  temparature          312820 non-null  float64\n",
      " 13  visibility           312820 non-null  float64\n",
      " 14  prec_height          312820 non-null  float64\n",
      " 15  prec_duration        312820 non-null  float64\n",
      " 16  collision            312820 non-null  int64  \n",
      "dtypes: float64(14), int64(3)\n",
      "memory usage: 43.0 MB\n"
     ]
    }
   ],
   "source": [
    "full_data.info()"
   ]
  },
  {
   "cell_type": "code",
   "execution_count": 152,
   "id": "c6ee8698-415b-4124-8a79-13f5eaaddcef",
   "metadata": {},
   "outputs": [],
   "source": [
    "full_data[full_data.select_dtypes(np.float64).columns] = full_data.select_dtypes(np.float64).astype(np.float32)"
   ]
  },
  {
   "cell_type": "code",
   "execution_count": 153,
   "id": "12a78c8a-fb4a-40d1-81b1-f54d22f6f368",
   "metadata": {},
   "outputs": [
    {
     "data": {
      "text/html": [
       "<div>\n",
       "<style scoped>\n",
       "    .dataframe tbody tr th:only-of-type {\n",
       "        vertical-align: middle;\n",
       "    }\n",
       "\n",
       "    .dataframe tbody tr th {\n",
       "        vertical-align: top;\n",
       "    }\n",
       "\n",
       "    .dataframe thead th {\n",
       "        text-align: right;\n",
       "    }\n",
       "</style>\n",
       "<table border=\"1\" class=\"dataframe\">\n",
       "  <thead>\n",
       "    <tr style=\"text-align: right;\">\n",
       "      <th></th>\n",
       "      <th>segment_id</th>\n",
       "      <th>year</th>\n",
       "      <th>month_cos</th>\n",
       "      <th>month_sin</th>\n",
       "      <th>weekday</th>\n",
       "      <th>hour_cos</th>\n",
       "      <th>hour_sin</th>\n",
       "      <th>collision_cnt</th>\n",
       "      <th>side_strt</th>\n",
       "      <th>length_m</th>\n",
       "      <th>sun_elevation_angle</th>\n",
       "      <th>humidity</th>\n",
       "      <th>temparature</th>\n",
       "      <th>visibility</th>\n",
       "      <th>prec_height</th>\n",
       "      <th>prec_duration</th>\n",
       "      <th>collision</th>\n",
       "    </tr>\n",
       "  </thead>\n",
       "  <tbody>\n",
       "    <tr>\n",
       "      <th>count</th>\n",
       "      <td>312820.000000</td>\n",
       "      <td>312820.000000</td>\n",
       "      <td>312820.000000</td>\n",
       "      <td>312820.000000</td>\n",
       "      <td>312820.000000</td>\n",
       "      <td>312820.000000</td>\n",
       "      <td>312820.000000</td>\n",
       "      <td>312820.000000</td>\n",
       "      <td>312820.000000</td>\n",
       "      <td>312820.000000</td>\n",
       "      <td>312820.000000</td>\n",
       "      <td>312820.000000</td>\n",
       "      <td>312820.000000</td>\n",
       "      <td>312820.000000</td>\n",
       "      <td>312820.000000</td>\n",
       "      <td>312820.000000</td>\n",
       "      <td>312820.000000</td>\n",
       "    </tr>\n",
       "    <tr>\n",
       "      <th>mean</th>\n",
       "      <td>20610.242188</td>\n",
       "      <td>2018.990157</td>\n",
       "      <td>-0.016518</td>\n",
       "      <td>-0.016270</td>\n",
       "      <td>4.016150</td>\n",
       "      <td>-0.018516</td>\n",
       "      <td>-0.045747</td>\n",
       "      <td>1.465184</td>\n",
       "      <td>0.558839</td>\n",
       "      <td>164.144318</td>\n",
       "      <td>3.296829</td>\n",
       "      <td>68.649521</td>\n",
       "      <td>12.086720</td>\n",
       "      <td>33993.496094</td>\n",
       "      <td>0.008898</td>\n",
       "      <td>0.881586</td>\n",
       "      <td>0.166607</td>\n",
       "    </tr>\n",
       "    <tr>\n",
       "      <th>std</th>\n",
       "      <td>12869.899414</td>\n",
       "      <td>0.815421</td>\n",
       "      <td>0.707028</td>\n",
       "      <td>0.706542</td>\n",
       "      <td>1.969842</td>\n",
       "      <td>0.713828</td>\n",
       "      <td>0.698396</td>\n",
       "      <td>3.115010</td>\n",
       "      <td>0.496888</td>\n",
       "      <td>159.658264</td>\n",
       "      <td>29.605246</td>\n",
       "      <td>15.186735</td>\n",
       "      <td>7.511836</td>\n",
       "      <td>8365.945312</td>\n",
       "      <td>0.012756</td>\n",
       "      <td>0.686707</td>\n",
       "      <td>0.372625</td>\n",
       "    </tr>\n",
       "    <tr>\n",
       "      <th>min</th>\n",
       "      <td>0.000000</td>\n",
       "      <td>2018.000000</td>\n",
       "      <td>-1.000000</td>\n",
       "      <td>-1.000000</td>\n",
       "      <td>1.000000</td>\n",
       "      <td>-0.991000</td>\n",
       "      <td>-0.998000</td>\n",
       "      <td>0.000000</td>\n",
       "      <td>0.000000</td>\n",
       "      <td>3.551000</td>\n",
       "      <td>-60.723000</td>\n",
       "      <td>31.733000</td>\n",
       "      <td>-4.175000</td>\n",
       "      <td>16793.332031</td>\n",
       "      <td>0.000000</td>\n",
       "      <td>0.000000</td>\n",
       "      <td>0.000000</td>\n",
       "    </tr>\n",
       "    <tr>\n",
       "      <th>25%</th>\n",
       "      <td>8663.000000</td>\n",
       "      <td>2018.000000</td>\n",
       "      <td>-0.866000</td>\n",
       "      <td>-0.866000</td>\n",
       "      <td>2.000000</td>\n",
       "      <td>-0.776000</td>\n",
       "      <td>-0.731000</td>\n",
       "      <td>0.000000</td>\n",
       "      <td>0.000000</td>\n",
       "      <td>82.663002</td>\n",
       "      <td>-17.888000</td>\n",
       "      <td>55.742001</td>\n",
       "      <td>5.387000</td>\n",
       "      <td>26296.773438</td>\n",
       "      <td>0.001000</td>\n",
       "      <td>0.371000</td>\n",
       "      <td>0.000000</td>\n",
       "    </tr>\n",
       "    <tr>\n",
       "      <th>50%</th>\n",
       "      <td>20343.000000</td>\n",
       "      <td>2019.000000</td>\n",
       "      <td>-0.000000</td>\n",
       "      <td>0.000000</td>\n",
       "      <td>4.000000</td>\n",
       "      <td>-0.068000</td>\n",
       "      <td>0.000000</td>\n",
       "      <td>0.000000</td>\n",
       "      <td>1.000000</td>\n",
       "      <td>127.566002</td>\n",
       "      <td>4.665500</td>\n",
       "      <td>72.107002</td>\n",
       "      <td>11.635000</td>\n",
       "      <td>35173.332031</td>\n",
       "      <td>0.005000</td>\n",
       "      <td>0.714000</td>\n",
       "      <td>0.000000</td>\n",
       "    </tr>\n",
       "    <tr>\n",
       "      <th>75%</th>\n",
       "      <td>31839.000000</td>\n",
       "      <td>2020.000000</td>\n",
       "      <td>0.500000</td>\n",
       "      <td>0.500000</td>\n",
       "      <td>6.000000</td>\n",
       "      <td>0.683000</td>\n",
       "      <td>0.631000</td>\n",
       "      <td>1.000000</td>\n",
       "      <td>1.000000</td>\n",
       "      <td>201.384995</td>\n",
       "      <td>25.524250</td>\n",
       "      <td>82.362999</td>\n",
       "      <td>18.152000</td>\n",
       "      <td>41741.933594</td>\n",
       "      <td>0.012000</td>\n",
       "      <td>1.220000</td>\n",
       "      <td>0.000000</td>\n",
       "    </tr>\n",
       "    <tr>\n",
       "      <th>max</th>\n",
       "      <td>43109.000000</td>\n",
       "      <td>2020.000000</td>\n",
       "      <td>1.000000</td>\n",
       "      <td>1.000000</td>\n",
       "      <td>7.000000</td>\n",
       "      <td>1.000000</td>\n",
       "      <td>0.998000</td>\n",
       "      <td>50.000000</td>\n",
       "      <td>1.000000</td>\n",
       "      <td>6402.402832</td>\n",
       "      <td>60.813000</td>\n",
       "      <td>93.567001</td>\n",
       "      <td>28.030001</td>\n",
       "      <td>48548.386719</td>\n",
       "      <td>0.224000</td>\n",
       "      <td>3.215000</td>\n",
       "      <td>1.000000</td>\n",
       "    </tr>\n",
       "  </tbody>\n",
       "</table>\n",
       "</div>"
      ],
      "text/plain": [
       "          segment_id           year      month_cos      month_sin  \\\n",
       "count  312820.000000  312820.000000  312820.000000  312820.000000   \n",
       "mean    20610.242188    2018.990157      -0.016518      -0.016270   \n",
       "std     12869.899414       0.815421       0.707028       0.706542   \n",
       "min         0.000000    2018.000000      -1.000000      -1.000000   \n",
       "25%      8663.000000    2018.000000      -0.866000      -0.866000   \n",
       "50%     20343.000000    2019.000000      -0.000000       0.000000   \n",
       "75%     31839.000000    2020.000000       0.500000       0.500000   \n",
       "max     43109.000000    2020.000000       1.000000       1.000000   \n",
       "\n",
       "             weekday       hour_cos       hour_sin  collision_cnt  \\\n",
       "count  312820.000000  312820.000000  312820.000000  312820.000000   \n",
       "mean        4.016150      -0.018516      -0.045747       1.465184   \n",
       "std         1.969842       0.713828       0.698396       3.115010   \n",
       "min         1.000000      -0.991000      -0.998000       0.000000   \n",
       "25%         2.000000      -0.776000      -0.731000       0.000000   \n",
       "50%         4.000000      -0.068000       0.000000       0.000000   \n",
       "75%         6.000000       0.683000       0.631000       1.000000   \n",
       "max         7.000000       1.000000       0.998000      50.000000   \n",
       "\n",
       "           side_strt       length_m  sun_elevation_angle       humidity  \\\n",
       "count  312820.000000  312820.000000        312820.000000  312820.000000   \n",
       "mean        0.558839     164.144318             3.296829      68.649521   \n",
       "std         0.496888     159.658264            29.605246      15.186735   \n",
       "min         0.000000       3.551000           -60.723000      31.733000   \n",
       "25%         0.000000      82.663002           -17.888000      55.742001   \n",
       "50%         1.000000     127.566002             4.665500      72.107002   \n",
       "75%         1.000000     201.384995            25.524250      82.362999   \n",
       "max         1.000000    6402.402832            60.813000      93.567001   \n",
       "\n",
       "         temparature     visibility    prec_height  prec_duration  \\\n",
       "count  312820.000000  312820.000000  312820.000000  312820.000000   \n",
       "mean       12.086720   33993.496094       0.008898       0.881586   \n",
       "std         7.511836    8365.945312       0.012756       0.686707   \n",
       "min        -4.175000   16793.332031       0.000000       0.000000   \n",
       "25%         5.387000   26296.773438       0.001000       0.371000   \n",
       "50%        11.635000   35173.332031       0.005000       0.714000   \n",
       "75%        18.152000   41741.933594       0.012000       1.220000   \n",
       "max        28.030001   48548.386719       0.224000       3.215000   \n",
       "\n",
       "           collision  \n",
       "count  312820.000000  \n",
       "mean        0.166607  \n",
       "std         0.372625  \n",
       "min         0.000000  \n",
       "25%         0.000000  \n",
       "50%         0.000000  \n",
       "75%         0.000000  \n",
       "max         1.000000  "
      ]
     },
     "execution_count": 153,
     "metadata": {},
     "output_type": "execute_result"
    }
   ],
   "source": [
    "full_data.describe()"
   ]
  },
  {
   "cell_type": "code",
   "execution_count": 154,
   "id": "b43a0f97-4d33-4cab-aa57-35e44bf55d91",
   "metadata": {},
   "outputs": [],
   "source": [
    "# Split\n",
    "X_train = full_data[full_data['year'] < 2020].drop(['collision','segment_id'],axis=1)\n",
    "X_test = full_data[full_data['year'] == 2020].drop(['collision','segment_id'],axis=1)\n",
    "\n",
    "y_train = full_data[full_data['year'] < 2020]['collision']\n",
    "y_test = full_data[full_data['year'] == 2020]['collision']"
   ]
  },
  {
   "cell_type": "code",
   "execution_count": 202,
   "id": "7938793a-c8e7-4be8-a547-95f5d4f1aba9",
   "metadata": {},
   "outputs": [],
   "source": [
    "# Random Forest\n",
    "from sklearn.preprocessing import OrdinalEncoder\n",
    "from sklearn.ensemble import RandomForestClassifier\n",
    "from imblearn.ensemble import BalancedRandomForestClassifier\n",
    "from sklearn.compose import make_column_transformer\n",
    "from sklearn.compose import make_column_selector as selector\n",
    "from sklearn.experimental import enable_halving_search_cv  # noqa\n",
    "from sklearn.model_selection import HalvingGridSearchCV\n",
    "from sklearn.model_selection import cross_validate\n",
    "\n",
    "num_pipe = SimpleImputer(strategy=\"mean\", add_indicator=True)\n",
    "cat_pipe = make_pipeline(\n",
    "    OneHotEncoder(handle_unknown=\"ignore\"),\n",
    ")\n",
    "\n",
    "preprocessor_tree = make_column_transformer(\n",
    "    (num_pipe, selector(dtype_include=\"number\")),\n",
    "    (cat_pipe, selector(dtype_include=\"category\")),\n",
    "    n_jobs=2,\n",
    ")"
   ]
  },
  {
   "cell_type": "code",
   "execution_count": 203,
   "id": "a2997a4b-6b4d-4191-9995-c6282095f12a",
   "metadata": {},
   "outputs": [
    {
     "data": {
      "text/plain": [
       "Pipeline(steps=[('columntransformer',\n",
       "                 ColumnTransformer(n_jobs=2,\n",
       "                                   transformers=[('simpleimputer',\n",
       "                                                  SimpleImputer(add_indicator=True),\n",
       "                                                  <sklearn.compose._column_transformer.make_column_selector object at 0x0000028A12E71B50>),\n",
       "                                                 ('pipeline',\n",
       "                                                  Pipeline(steps=[('onehotencoder',\n",
       "                                                                   OneHotEncoder(handle_unknown='ignore'))]),\n",
       "                                                  <sklearn.compose._column_transformer.make_column_selector object at 0x0000028A12E71BB0>)])),\n",
       "                ('randomforestclassifier',\n",
       "                 RandomForestClassifier(bootstrap=False, criterion='entropy',\n",
       "                                        max_depth=30, max_features='log2',\n",
       "                                        n_estimators=450))])"
      ]
     },
     "execution_count": 203,
     "metadata": {},
     "output_type": "execute_result"
    }
   ],
   "source": [
    "# Random Forest\n",
    "rf_clf = make_pipeline(\n",
    "    preprocessor_tree, RandomForestClassifier(n_estimators = 450,\n",
    "                               min_samples_split = 2,\n",
    "                               min_samples_leaf = 1,\n",
    "                               max_features = 'log2',\n",
    "                               max_depth = 30,\n",
    "                               criterion = 'entropy',\n",
    "                               bootstrap = False)\n",
    ")\n",
    "\n",
    "rf_clf.fit(X_train,y_train)"
   ]
  },
  {
   "cell_type": "code",
   "execution_count": 157,
   "id": "488c37ff-71fd-4476-8f09-de6c2b74e9e3",
   "metadata": {},
   "outputs": [
    {
     "data": {
      "text/plain": [
       "array([0.00523662, 0.00666108, 0.00697943, 0.05774094, 0.02734654,\n",
       "       0.0224859 , 0.39760548, 0.06176142, 0.13040508, 0.14076025,\n",
       "       0.04162458, 0.03541036, 0.01881684, 0.02215293, 0.02501254])"
      ]
     },
     "execution_count": 157,
     "metadata": {},
     "output_type": "execute_result"
    }
   ],
   "source": [
    "rf_clf.fit(X_train, y_train).steps[1][1].feature_importances_"
   ]
  },
  {
   "cell_type": "code",
   "execution_count": 158,
   "id": "f0307e16-529c-43ec-a5e4-06b3bc663d6d",
   "metadata": {},
   "outputs": [
    {
     "data": {
      "text/plain": [
       "Text(0, 0.5, 'Mean decrease in impurity')"
      ]
     },
     "execution_count": 158,
     "metadata": {},
     "output_type": "execute_result"
    },
    {
     "data": {
      "image/png": "[encoded data removed]",
      "text/plain": [
       "<Figure size 432x288 with 1 Axes>"
      ]
     },
     "metadata": {
      "needs_background": "light"
     },
     "output_type": "display_data"
    }
   ],
   "source": [
    "# Plot Feature Importance for baseline BRF model\n",
    "\n",
    "import time\n",
    "import numpy as np\n",
    "\n",
    "forest_importances = pd.Series(rf_clf.steps[1][1].feature_importances_, index=rf_clf.feature_names_in_)\n",
    "\n",
    "start_time = time.time()\n",
    "importances = rf_clf.steps[1][1].feature_importances_\n",
    "std = np.std([tree.feature_importances_ for tree in rf_clf.steps[1][1].estimators_], axis=0)\n",
    "elapsed_time = time.time() - start_time\n",
    "\n",
    "fig, ax = plt.subplots()\n",
    "forest_importances.sort_values(axis=0, ascending=False).plot.bar(yerr=std, ax=ax)\n",
    "#ax.set_title(\"Feature importances using MDI\")\n",
    "ax.set_ylabel(\"Feature Importance Scores\")"
   ]
  },
  {
   "cell_type": "code",
   "execution_count": 159,
   "id": "bceb9c75-1f82-4216-b70b-6660b9975f88",
   "metadata": {},
   "outputs": [],
   "source": [
    "#fig.savefig(\"feature_importance_rf.png\",bbox_inches='tight')"
   ]
  },
  {
   "cell_type": "code",
   "execution_count": 160,
   "id": "8e99ca03-4fb2-4c53-b091-33d3237d7955",
   "metadata": {},
   "outputs": [],
   "source": [
    "y_pred_rf = rf_clf.predict(X_test)"
   ]
  },
  {
   "cell_type": "code",
   "execution_count": 161,
   "id": "6269904f-a7bb-4d7f-bf75-2e3c99b90479",
   "metadata": {},
   "outputs": [
    {
     "name": "stdout",
     "output_type": "stream",
     "text": [
      "ROC_AUC: 0.8408075050434267\n",
      "Recall: 0.7201560631804166\n",
      "F1: 0.7462180490349504\n",
      "Precision: 0.7742371964007848\n"
     ]
    }
   ],
   "source": [
    "# Model Accuracy, how often is the classifier correct\n",
    "print(\"ROC_AUC:\",metrics.roc_auc_score(y_test, y_pred_rf))\n",
    "print(\"Recall:\",metrics.recall_score(y_test, y_pred_rf))\n",
    "print(\"F1:\",metrics.f1_score(y_test, y_pred_rf))\n",
    "print(\"Precision:\",metrics.precision_score(y_test, y_pred_rf))"
   ]
  },
  {
   "cell_type": "code",
   "execution_count": 162,
   "id": "a4ee57fc-8c2e-457a-b5b3-498411cff4fe",
   "metadata": {},
   "outputs": [
    {
     "data": {
      "text/plain": [
       "BalancedRandomForestClassifier(bootstrap=False, criterion='entropy',\n",
       "                               max_depth=30, max_features='log2',\n",
       "                               n_estimators=500)"
      ]
     },
     "execution_count": 162,
     "metadata": {},
     "output_type": "execute_result"
    }
   ],
   "source": [
    "# Balanced Random Forest\n",
    "brf_clf = BalancedRandomForestClassifier(n_estimators = 500,\n",
    "                               min_samples_split = 2,\n",
    "                               min_samples_leaf = 1,\n",
    "                               max_features = 'log2',\n",
    "                               max_depth = 30,\n",
    "                               criterion = 'entropy',\n",
    "                               bootstrap = False)\n",
    "brf_clf.fit(X_train,y_train)"
   ]
  },
  {
   "cell_type": "code",
   "execution_count": 163,
   "id": "3bd09a12-0def-44a2-acff-85ab65eeebfd",
   "metadata": {},
   "outputs": [],
   "source": [
    "y_pred_brf = brf_clf.predict(X_test)"
   ]
  },
  {
   "cell_type": "code",
   "execution_count": 164,
   "id": "fbbc34f9-2f1a-407f-9498-f5a1ce0dd4f3",
   "metadata": {},
   "outputs": [
    {
     "name": "stdout",
     "output_type": "stream",
     "text": [
      "ROC_AUC: 0.8871347699510492\n",
      "Recall: 0.9442451702221383\n",
      "F1: 0.6579264683313967\n",
      "Precision: 0.5048448960366059\n"
     ]
    }
   ],
   "source": [
    "# Model Accuracy, how often is the classifier correct\n",
    "print(\"ROC_AUC:\",metrics.roc_auc_score(y_test, y_pred_brf))\n",
    "print(\"Recall:\",metrics.recall_score(y_test, y_pred_brf))\n",
    "print(\"F1:\",metrics.f1_score(y_test, y_pred_brf))\n",
    "print(\"Precision:\",metrics.precision_score(y_test, y_pred_brf))"
   ]
  },
  {
   "cell_type": "code",
   "execution_count": null,
   "id": "54a0483d-4738-4001-baa8-d67bef26479e",
   "metadata": {},
   "outputs": [],
   "source": [
    "# Plot Feature Importance for baseline RF model\n",
    "\n",
    "import time\n",
    "import numpy as np\n",
    "\n",
    "forest_importances = pd.Series(brf_clf.steps[1][1].feature_importances_, index=brf_clf.feature_names_in_)\n",
    "\n",
    "start_time = time.time()\n",
    "importances = brf_clf.steps[1][1].feature_importances_\n",
    "std = np.std([tree.feature_importances_ for tree in brf_clf.steps[1][1].estimators_], axis=0)\n",
    "elapsed_time = time.time() - start_time\n",
    "\n",
    "fig, ax = plt.subplots()\n",
    "forest_importances.sort_values(axis=0, ascending=False).plot.bar(yerr=std, ax=ax)\n",
    "ax.set_title(\"Feature importances using BRF\")\n",
    "ax.set_ylabel(\"Mean decrease in impurity\")"
   ]
  },
  {
   "cell_type": "code",
   "execution_count": 165,
   "id": "49cb4323-ede3-4cb3-b6cd-2eca866e849a",
   "metadata": {},
   "outputs": [],
   "source": [
    "#Random Forest with oversampling using SMOTE and undersampling using RandomUnderSampler\n",
    "from imblearn.over_sampling import SMOTE\n",
    "from imblearn.under_sampling import RandomUnderSampler\n",
    "from imblearn.pipeline import Pipeline, make_pipeline\n",
    "\n",
    "# oversample positive (minority) to be x% the number of negative (majority)\n",
    "over = SMOTE(sampling_strategy = 0.3)\n",
    "\n",
    "# randomly undersample negative (majority) to reduce the number of negative to x% of the positive (minority)\n",
    "under = RandomUnderSampler(sampling_strategy = 0.5) \n",
    "\n",
    "pipeline = make_pipeline(over, under)\n",
    "\n",
    "X_train_res, y_train_res = pipeline.fit_resample(X_train, y_train)\n",
    "\n",
    "\n",
    "rf_sampling_clf = RandomForestClassifier(n_estimators = 500,\n",
    "                               min_samples_split = 2,\n",
    "                               min_samples_leaf = 1,\n",
    "                               max_features = 'sqrt',\n",
    "                               max_depth = 30,\n",
    "                               criterion = 'entropy',\n",
    "                               bootstrap = False)"
   ]
  },
  {
   "cell_type": "code",
   "execution_count": 166,
   "id": "a2e1bcf9-d004-4542-8a7e-2972af77d642",
   "metadata": {},
   "outputs": [
    {
     "data": {
      "text/plain": [
       "RandomForestClassifier(bootstrap=False, criterion='entropy', max_depth=30,\n",
       "                       max_features='sqrt', n_estimators=500)"
      ]
     },
     "execution_count": 166,
     "metadata": {},
     "output_type": "execute_result"
    }
   ],
   "source": [
    "rf_sampling_clf.fit(X_train_res,y_train_res)"
   ]
  },
  {
   "cell_type": "code",
   "execution_count": 167,
   "id": "6d9a6d62-5a57-4372-85e7-de05e78b7160",
   "metadata": {},
   "outputs": [],
   "source": [
    "y_pred_rf_s = rf_sampling_clf.predict(X_test)"
   ]
  },
  {
   "cell_type": "code",
   "execution_count": 168,
   "id": "42ddc6f2-32f1-4671-a501-5e17f6977230",
   "metadata": {},
   "outputs": [
    {
     "name": "stdout",
     "output_type": "stream",
     "text": [
      "ROC_AUC: 0.8741434031885095\n",
      "Recall: 0.8184506953621546\n",
      "F1: 0.7437950360288231\n",
      "Precision: 0.6816204601435983\n"
     ]
    }
   ],
   "source": [
    "# Model Accuracy, how often is the classifier correct\n",
    "print(\"ROC_AUC:\",metrics.roc_auc_score(y_test, y_pred_rf_s))\n",
    "print(\"Recall:\",metrics.recall_score(y_test, y_pred_rf_s))\n",
    "print(\"F1:\",metrics.f1_score(y_test, y_pred_rf_s))\n",
    "print(\"Precision:\",metrics.precision_score(y_test, y_pred_rf_s))"
   ]
  },
  {
   "cell_type": "code",
   "execution_count": 199,
   "id": "2bece422-5569-421d-a729-11340ee42c45",
   "metadata": {},
   "outputs": [
    {
     "data": {
      "text/plain": [
       "Pipeline(steps=[('columntransformer',\n",
       "                 ColumnTransformer(n_jobs=2,\n",
       "                                   transformers=[('pipeline-1',\n",
       "                                                  Pipeline(steps=[('standardscaler',\n",
       "                                                                   StandardScaler()),\n",
       "                                                                  ('simpleimputer',\n",
       "                                                                   SimpleImputer(add_indicator=True))]),\n",
       "                                                  <sklearn.compose._column_transformer.make_column_selector object at 0x0000028A0FAA6F70>),\n",
       "                                                 ('pipeline-2',\n",
       "                                                  Pipeline(steps=[('onehotencoder',\n",
       "                                                                   OneHotEncoder(handle_unknown='ignore'))]),\n",
       "                                                  <sklearn.compose._column_transformer.make_column_selector object at 0x0000028A0FAA6FA0>)])),\n",
       "                ('logisticregression',\n",
       "                 LogisticRegression(class_weight='balanced', max_iter=1000))])"
      ]
     },
     "execution_count": 199,
     "metadata": {},
     "output_type": "execute_result"
    }
   ],
   "source": [
    "# LOGISTIC REGRESSION\n",
    "from sklearn.compose import make_column_transformer\n",
    "from sklearn.compose import make_column_selector as selector\n",
    "from sklearn.linear_model import LogisticRegression\n",
    "from sklearn.model_selection import cross_validate\n",
    "\n",
    "num_pipe = make_pipeline(\n",
    "    StandardScaler(), SimpleImputer(strategy=\"mean\", add_indicator=True)\n",
    ")\n",
    "cat_pipe = make_pipeline(\n",
    "    OneHotEncoder(handle_unknown=\"ignore\"),\n",
    ")\n",
    "\n",
    "preprocessor_linear = make_column_transformer(\n",
    "    (num_pipe, selector(dtype_include=\"number\")),\n",
    "    (cat_pipe, selector(dtype_include=\"category\")),\n",
    "    n_jobs=2,\n",
    ")\n",
    "\n",
    "lr_clf = make_pipeline(preprocessor_linear, LogisticRegression(max_iter=1000))\n",
    "lr_clf.set_params(logisticregression__class_weight=\"balanced\")"
   ]
  },
  {
   "cell_type": "code",
   "execution_count": 200,
   "id": "a9e7e27b-4514-49c5-bcf6-f9b19d44c07b",
   "metadata": {},
   "outputs": [
    {
     "data": {
      "text/plain": [
       "Pipeline(steps=[('columntransformer',\n",
       "                 ColumnTransformer(n_jobs=2,\n",
       "                                   transformers=[('pipeline-1',\n",
       "                                                  Pipeline(steps=[('standardscaler',\n",
       "                                                                   StandardScaler()),\n",
       "                                                                  ('simpleimputer',\n",
       "                                                                   SimpleImputer(add_indicator=True))]),\n",
       "                                                  <sklearn.compose._column_transformer.make_column_selector object at 0x0000028A0FAA6F70>),\n",
       "                                                 ('pipeline-2',\n",
       "                                                  Pipeline(steps=[('onehotencoder',\n",
       "                                                                   OneHotEncoder(handle_unknown='ignore'))]),\n",
       "                                                  <sklearn.compose._column_transformer.make_column_selector object at 0x0000028A0FAA6FA0>)])),\n",
       "                ('logisticregression',\n",
       "                 LogisticRegression(class_weight='balanced', max_iter=1000))])"
      ]
     },
     "execution_count": 200,
     "metadata": {},
     "output_type": "execute_result"
    }
   ],
   "source": [
    "lr_clf.fit(X_train, y_train)"
   ]
  },
  {
   "cell_type": "code",
   "execution_count": 171,
   "id": "c544de0a-8aef-4804-8ed8-2f6056619779",
   "metadata": {},
   "outputs": [],
   "source": [
    "y_pred_lr = lr_clf.predict(X_test)"
   ]
  },
  {
   "cell_type": "code",
   "execution_count": 172,
   "id": "30757b01-7d46-4b2a-b6c4-ba13c9efac4c",
   "metadata": {},
   "outputs": [
    {
     "name": "stdout",
     "output_type": "stream",
     "text": [
      "ROC_AUC: 0.8680299793460373\n",
      "Recall: 0.8069976716380342\n",
      "F1: 0.7358062942880914\n",
      "Precision: 0.6761573341769482\n"
     ]
    }
   ],
   "source": [
    "# Model Accuracy, how often is the classifier correct\n",
    "print(\"ROC_AUC:\",metrics.roc_auc_score(y_test, y_pred_lr))\n",
    "print(\"Recall:\",metrics.recall_score(y_test, y_pred_lr))\n",
    "print(\"F1:\",metrics.f1_score(y_test, y_pred_lr))\n",
    "print(\"Precision:\",metrics.precision_score(y_test, y_pred_lr))"
   ]
  },
  {
   "cell_type": "code",
   "execution_count": 173,
   "id": "4e53bda0-0fd2-4ebb-8031-a13cb216a25b",
   "metadata": {},
   "outputs": [],
   "source": [
    "# Balanced Bagging\n",
    "# BALANCED BAGGING\n",
    "from imblearn.ensemble import BalancedBaggingClassifier\n",
    "from sklearn.ensemble import HistGradientBoostingClassifier\n",
    "from imblearn.over_sampling import RandomOverSampler, SMOTE\n",
    "\n",
    "bb_clf = BalancedBaggingClassifier(base_estimator=HistGradientBoostingClassifier(random_state=42),\n",
    "                                  n_estimators = 300,\n",
    "                                bootstrap = True,\n",
    "                                 sampler = SMOTE(sampling_strategy = 0.3),\n",
    "                                 max_features = 1)"
   ]
  },
  {
   "cell_type": "code",
   "execution_count": 174,
   "id": "4000756a-50d3-4b39-ba25-a72cc47c0f4b",
   "metadata": {},
   "outputs": [
    {
     "data": {
      "text/plain": [
       "BalancedBaggingClassifier(base_estimator=HistGradientBoostingClassifier(random_state=42),\n",
       "                          max_features=1, n_estimators=300,\n",
       "                          sampler=SMOTE(sampling_strategy=0.3))"
      ]
     },
     "execution_count": 174,
     "metadata": {},
     "output_type": "execute_result"
    }
   ],
   "source": [
    "bb_clf.fit(X_train, y_train)"
   ]
  },
  {
   "cell_type": "code",
   "execution_count": 175,
   "id": "d8e0a291-c419-407d-b909-e84c8a0fd3b2",
   "metadata": {},
   "outputs": [],
   "source": [
    "y_pred_bb = bb_clf.predict(X_test)"
   ]
  },
  {
   "cell_type": "code",
   "execution_count": 176,
   "id": "0fd50a2d-7df2-4259-b147-4cb6f5051a13",
   "metadata": {},
   "outputs": [
    {
     "name": "stdout",
     "output_type": "stream",
     "text": [
      "ROC_AUC: 0.8395359248851478\n",
      "Recall: 0.8702410169278207\n",
      "F1: 0.5977264868603043\n",
      "Precision: 0.45518580691879795\n"
     ]
    }
   ],
   "source": [
    "# Model Accuracy, how often is the classifier correct\n",
    "print(\"ROC_AUC:\",metrics.roc_auc_score(y_test, y_pred_bb))\n",
    "print(\"Recall:\",metrics.recall_score(y_test, y_pred_bb))\n",
    "print(\"F1:\",metrics.f1_score(y_test, y_pred_bb))\n",
    "print(\"Precision:\",metrics.precision_score(y_test, y_pred_bb))"
   ]
  },
  {
   "cell_type": "code",
   "execution_count": 177,
   "id": "5b1afaab-8a22-4105-ad98-95842f4d1d9c",
   "metadata": {},
   "outputs": [],
   "source": [
    "# Support Vector Classification with oversampling using SMOTE and undersampling using RandomUnderSampler\n",
    "from sklearn.preprocessing import MinMaxScaler\n",
    "from sklearn.svm import SVC\n",
    "from imblearn.over_sampling import RandomOverSampler, SMOTE\n",
    "from imblearn.under_sampling import RandomUnderSampler\n",
    "from imblearn.pipeline import Pipeline, make_pipeline \n",
    "\n",
    "num_pipe = make_pipeline(\n",
    "    MinMaxScaler(feature_range=(0, 1))\n",
    ")\n",
    "cat_pipe = make_pipeline(\n",
    "    OneHotEncoder(handle_unknown=\"ignore\"),\n",
    ")\n",
    "\n",
    "preprocessor_svc = make_column_transformer(\n",
    "    (num_pipe, selector(dtype_include=\"number\")),\n",
    "    (cat_pipe, selector(dtype_include=\"category\")),\n",
    "    n_jobs=2,\n",
    ")\n",
    "\n",
    "smote = SMOTE(sampling_strategy = 0.3)\n",
    "\n",
    "rus = RandomUnderSampler(sampling_strategy = 0.5)\n",
    "\n",
    "svc_clf = make_pipeline(preprocessor_svc, SVC(kernel = 'rbf',\n",
    "                                              C = 1000,\n",
    "                                             gamma = 0.001,\n",
    "                                             degree = 10))"
   ]
  },
  {
   "cell_type": "code",
   "execution_count": 178,
   "id": "9d27220d-4f3e-4407-b23a-6c758dff8527",
   "metadata": {},
   "outputs": [],
   "source": [
    "X_train_res2, y_train_res2 = pipeline.fit_resample(X_train, y_train)"
   ]
  },
  {
   "cell_type": "code",
   "execution_count": 179,
   "id": "6f2b768d-d6dc-4634-bb8c-ce0b796d7191",
   "metadata": {},
   "outputs": [
    {
     "data": {
      "text/plain": [
       "Pipeline(steps=[('columntransformer',\n",
       "                 ColumnTransformer(n_jobs=2,\n",
       "                                   transformers=[('pipeline-1',\n",
       "                                                  Pipeline(steps=[('minmaxscaler',\n",
       "                                                                   MinMaxScaler())]),\n",
       "                                                  <sklearn.compose._column_transformer.make_column_selector object at 0x0000028A0EAAAB20>),\n",
       "                                                 ('pipeline-2',\n",
       "                                                  Pipeline(steps=[('onehotencoder',\n",
       "                                                                   OneHotEncoder(handle_unknown='ignore'))]),\n",
       "                                                  <sklearn.compose._column_transformer.make_column_selector object at 0x0000028A0EAAAE80>)])),\n",
       "                ('svc', SVC(C=1000, degree=10, gamma=0.001))])"
      ]
     },
     "execution_count": 179,
     "metadata": {},
     "output_type": "execute_result"
    }
   ],
   "source": [
    "svc_clf.fit(X_train_res2, y_train_res2)"
   ]
  },
  {
   "cell_type": "code",
   "execution_count": 180,
   "id": "ecd2e3a0-56f2-4691-825c-d967d5eefab9",
   "metadata": {},
   "outputs": [],
   "source": [
    "y_pred_svc = svc_clf.predict(X_test)"
   ]
  },
  {
   "cell_type": "code",
   "execution_count": 181,
   "id": "cf02b109-1f54-41af-9671-c3f52bd067f6",
   "metadata": {},
   "outputs": [
    {
     "name": "stdout",
     "output_type": "stream",
     "text": [
      "ROC_AUC: 0.7541900303453883\n",
      "Recall: 0.5197910767100875\n",
      "F1: 0.6571462667568321\n",
      "Precision: 0.8931660899653979\n"
     ]
    }
   ],
   "source": [
    "# Model Accuracy, how often is the classifier correct\n",
    "print(\"ROC_AUC:\",metrics.roc_auc_score(y_test, y_pred_svc))\n",
    "print(\"Recall:\",metrics.recall_score(y_test, y_pred_svc))\n",
    "print(\"F1:\",metrics.f1_score(y_test, y_pred_svc))\n",
    "print(\"Precision:\",metrics.precision_score(y_test, y_pred_svc))"
   ]
  },
  {
   "cell_type": "code",
   "execution_count": 182,
   "id": "362ca390-ee84-4d58-9e5c-9c51510c26e2",
   "metadata": {},
   "outputs": [],
   "source": [
    "#XGB Boost\n",
    "import xgboost as xgb\n",
    "\n",
    "best_param_3 = {'max_depth': 1, \n",
    "                'min_child_weight': 2, \n",
    "                'scale_pos_weight': 1, \n",
    "                'learning_rate': 0.1, \n",
    "                'n_estimators': 110, \n",
    "                'objective': 'binary:logistic'}\n",
    "\n",
    "xgb_final = xgb.XGBClassifier(**best_param_3)"
   ]
  },
  {
   "cell_type": "code",
   "execution_count": 183,
   "id": "fcd553ba-eda7-4e8b-a4db-92f59e7e1ce9",
   "metadata": {},
   "outputs": [
    {
     "data": {
      "text/plain": [
       "XGBClassifier(base_score=0.5, booster='gbtree', callbacks=None,\n",
       "              colsample_bylevel=1, colsample_bynode=1, colsample_bytree=1,\n",
       "              early_stopping_rounds=None, enable_categorical=False,\n",
       "              eval_metric=None, gamma=0, gpu_id=-1, grow_policy='depthwise',\n",
       "              importance_type=None, interaction_constraints='',\n",
       "              learning_rate=0.1, max_bin=256, max_cat_to_onehot=4,\n",
       "              max_delta_step=0, max_depth=1, max_leaves=0, min_child_weight=2,\n",
       "              missing=nan, monotone_constraints='()', n_estimators=110,\n",
       "              n_jobs=0, num_parallel_tree=1, predictor='auto', random_state=0,\n",
       "              reg_alpha=0, reg_lambda=1, ...)"
      ]
     },
     "execution_count": 183,
     "metadata": {},
     "output_type": "execute_result"
    }
   ],
   "source": [
    "xgb_final.fit(X_train, y_train)"
   ]
  },
  {
   "cell_type": "code",
   "execution_count": 184,
   "id": "8c1de621-183e-4e4a-912f-99746b02bd96",
   "metadata": {},
   "outputs": [],
   "source": [
    "y_predict_xgb = xgb_final.predict(X_test) #on the train data"
   ]
  },
  {
   "cell_type": "code",
   "execution_count": 185,
   "id": "809dcd5f-7832-403b-9899-cd5686aeef18",
   "metadata": {},
   "outputs": [
    {
     "name": "stdout",
     "output_type": "stream",
     "text": [
      "Precision XGB: 0.7542698682800781\n",
      "Recall XGB: 0.7531307029135988\n",
      "ROC_AUC XGB: 0.8540493841191004\n",
      "PR_ROC XGB: 0.6063466775957307\n",
      "F1: 0.7536998551546068\n"
     ]
    }
   ],
   "source": [
    "print(\"Precision XGB:\", metrics.precision_score(y_test, y_predict_xgb))\n",
    "print(\"Recall XGB:\", metrics.recall_score(y_test, y_predict_xgb))\n",
    "print(\"ROC_AUC XGB:\",metrics.roc_auc_score(y_test, y_predict_xgb))\n",
    "print(\"PR_ROC XGB:\", metrics.average_precision_score(y_test, y_predict_xgb))\n",
    "print(\"F1:\",metrics.f1_score(y_test, y_predict_xgb))"
   ]
  },
  {
   "cell_type": "code",
   "execution_count": 188,
   "id": "f1508028-b8b9-4757-965a-e4cb535f99a6",
   "metadata": {},
   "outputs": [
    {
     "data": {
      "text/plain": [
       "Pipeline(steps=[('columntransformer',\n",
       "                 ColumnTransformer(n_jobs=2,\n",
       "                                   transformers=[('pipeline-1',\n",
       "                                                  Pipeline(steps=[('standardscaler',\n",
       "                                                                   StandardScaler()),\n",
       "                                                                  ('simpleimputer',\n",
       "                                                                   SimpleImputer(add_indicator=True))]),\n",
       "                                                  <sklearn.compose._column_transformer.make_column_selector object at 0x0000028A0DCA2190>),\n",
       "                                                 ('pipeline-2',\n",
       "                                                  Pipeline(steps=[('onehotencoder',\n",
       "                                                                   OneHotEncoder(handle_unknown='ignore'))]),\n",
       "                                                  <sklearn.compose._column_transformer.make_column_selector object at 0x0000028A0DCA21C0>)])),\n",
       "                ('logisticregression',\n",
       "                 LogisticRegression(class_weight='balanced', max_iter=1000))])"
      ]
     },
     "execution_count": 188,
     "metadata": {},
     "output_type": "execute_result"
    }
   ],
   "source": [
    "# baseline logistic\n",
    "X_base = X_train[['hour_cos', 'hour_sin', 'month_cos', 'month_sin','collision_cnt']]\n",
    "\n",
    "lr_b_clf = make_pipeline(preprocessor_linear, LogisticRegression(max_iter=1000))\n",
    "lr_b_clf.set_params(logisticregression__class_weight=\"balanced\")"
   ]
  },
  {
   "cell_type": "code",
   "execution_count": 189,
   "id": "4d8f2144-be0e-4c78-855c-9a86d063114b",
   "metadata": {},
   "outputs": [
    {
     "data": {
      "text/plain": [
       "Pipeline(steps=[('columntransformer',\n",
       "                 ColumnTransformer(n_jobs=2,\n",
       "                                   transformers=[('pipeline-1',\n",
       "                                                  Pipeline(steps=[('standardscaler',\n",
       "                                                                   StandardScaler()),\n",
       "                                                                  ('simpleimputer',\n",
       "                                                                   SimpleImputer(add_indicator=True))]),\n",
       "                                                  <sklearn.compose._column_transformer.make_column_selector object at 0x0000028A0DCA2190>),\n",
       "                                                 ('pipeline-2',\n",
       "                                                  Pipeline(steps=[('onehotencoder',\n",
       "                                                                   OneHotEncoder(handle_unknown='ignore'))]),\n",
       "                                                  <sklearn.compose._column_transformer.make_column_selector object at 0x0000028A0DCA21C0>)])),\n",
       "                ('logisticregression',\n",
       "                 LogisticRegression(class_weight='balanced', max_iter=1000))])"
      ]
     },
     "execution_count": 189,
     "metadata": {},
     "output_type": "execute_result"
    }
   ],
   "source": [
    "lr_b_clf.fit(X_base, y_train)"
   ]
  },
  {
   "cell_type": "code",
   "execution_count": 190,
   "id": "2a0621fb-5dc2-4ae4-bb6f-87820ddead7a",
   "metadata": {},
   "outputs": [],
   "source": [
    "y_pred_lrb = lr_b_clf.predict(X_test)"
   ]
  },
  {
   "cell_type": "code",
   "execution_count": 191,
   "id": "bc91d14a-d959-4058-97b0-48c61f856862",
   "metadata": {},
   "outputs": [
    {
     "name": "stdout",
     "output_type": "stream",
     "text": [
      "ROC_AUC: 0.8829665703770967\n",
      "Recall: 0.8828267572839972\n",
      "F1: 0.7007317499562948\n",
      "Precision: 0.5809109730848862\n"
     ]
    }
   ],
   "source": [
    "# Model Accuracy, how often is the classifier correct\n",
    "print(\"ROC_AUC:\",metrics.roc_auc_score(y_test, y_pred_lrb))\n",
    "print(\"Recall:\",metrics.recall_score(y_test, y_pred_lrb))\n",
    "print(\"F1:\",metrics.f1_score(y_test, y_pred_lrb))\n",
    "print(\"Precision:\",metrics.precision_score(y_test, y_pred_lrb))"
   ]
  },
  {
   "cell_type": "code",
   "execution_count": 192,
   "id": "c3f866ea-3401-4c6e-a31a-a4c37ae3523b",
   "metadata": {},
   "outputs": [],
   "source": [
    "# baseline SRF\n",
    "rf_b_clf = make_pipeline(\n",
    "    preprocessor_tree, RandomForestClassifier(n_estimators = 450,\n",
    "                               min_samples_split = 2,\n",
    "                               min_samples_leaf = 1,\n",
    "                               max_features = 'log2',\n",
    "                               max_depth = 30,\n",
    "                               criterion = 'entropy',\n",
    "                               bootstrap = False)\n",
    ")"
   ]
  },
  {
   "cell_type": "code",
   "execution_count": 193,
   "id": "42d25339-d358-41a6-b060-e4fc83563c30",
   "metadata": {},
   "outputs": [
    {
     "data": {
      "text/plain": [
       "Pipeline(steps=[('columntransformer',\n",
       "                 ColumnTransformer(n_jobs=2,\n",
       "                                   transformers=[('simpleimputer',\n",
       "                                                  SimpleImputer(add_indicator=True),\n",
       "                                                  <sklearn.compose._column_transformer.make_column_selector object at 0x0000028A04EA8670>),\n",
       "                                                 ('pipeline',\n",
       "                                                  Pipeline(steps=[('onehotencoder',\n",
       "                                                                   OneHotEncoder(handle_unknown='ignore'))]),\n",
       "                                                  <sklearn.compose._column_transformer.make_column_selector object at 0x0000028A04EA83A0>)])),\n",
       "                ('randomforestclassifier',\n",
       "                 RandomForestClassifier(bootstrap=False, criterion='entropy',\n",
       "                                        max_depth=30, max_features='log2',\n",
       "                                        n_estimators=450))])"
      ]
     },
     "execution_count": 193,
     "metadata": {},
     "output_type": "execute_result"
    }
   ],
   "source": [
    "rf_b_clf.fit(X_base,y_train)"
   ]
  },
  {
   "cell_type": "code",
   "execution_count": null,
   "id": "77f6a424-e14b-46fd-9f37-5ee42ebec828",
   "metadata": {},
   "outputs": [],
   "source": [
    "y_pred_rfb = rf_b_clf.predict(X_test)"
   ]
  },
  {
   "cell_type": "code",
   "execution_count": null,
   "id": "6692bc7c-e01c-456b-bc3a-66a526ed7f8b",
   "metadata": {},
   "outputs": [
    {
     "name": "stdout",
     "output_type": "stream",
     "text": [
      "ROC_AUC: 0.8361428640569251\n",
      "Recall: 0.720470706689321\n",
      "F1: 0.7266438182279766\n",
      "Precision: 0.7329236284488829\n"
     ]
    }
   ],
   "source": [
    "# Model Accuracy, how often is the classifier correct\n",
    "print(\"ROC_AUC:\",metrics.roc_auc_score(y_test, y_pred_rfb))\n",
    "print(\"Recall:\",metrics.recall_score(y_test, y_pred_rfb))\n",
    "print(\"F1:\",metrics.f1_score(y_test, y_pred_rfb))\n",
    "print(\"Precision:\",metrics.precision_score(y_test, y_pred_rfb))"
   ]
  },
  {
   "cell_type": "code",
   "execution_count": 206,
   "id": "76293a94-701a-4974-a04b-3f067267b582",
   "metadata": {},
   "outputs": [
    {
     "data": {
      "image/png": "[encoded data removed]",
      "text/plain": [
       "<Figure size 432x288 with 1 Axes>"
      ]
     },
     "metadata": {
      "needs_background": "light"
     },
     "output_type": "display_data"
    }
   ],
   "source": [
    "from sklearn.metrics import PrecisionRecallDisplay, RocCurveDisplay\n",
    "\n",
    "PrecisionRecallDisplay.from_estimator(\n",
    "    lr_clf, X_test, y_test, name=\"Logit\", ax=plt.gca()\n",
    ")\n",
    "\n",
    "PrecisionRecallDisplay.from_estimator(\n",
    "    rf_clf, X_test, y_test, name=\"SRF\", ax=plt.gca()\n",
    ")\n",
    "\n",
    "PrecisionRecallDisplay.from_estimator(\n",
    "    brf_clf, X_test, y_test, name=\"BRF\", ax=plt.gca()\n",
    ")\n",
    "\n",
    "PrecisionRecallDisplay.from_estimator(\n",
    "    bb_clf, X_test, y_test, name=\"BB\", ax=plt.gca()\n",
    ")\n",
    "\n",
    "PrecisionRecallDisplay.from_estimator(\n",
    "    rf_sampling_clf, X_test, y_test, name=\"SRF_SMOTE_RUS\", ax=plt.gca()\n",
    ")\n",
    "\n",
    "PrecisionRecallDisplay.from_estimator(\n",
    "    svc_clf, X_test, y_test, name=\"SVC_SMOTE_RUS\", ax=plt.gca()\n",
    ")\n",
    "\n",
    "PrecisionRecallDisplay.from_estimator(\n",
    "    xgb_final, X_test, y_test, name=\"XGBoost\", ax=plt.gca()\n",
    ")\n",
    "\n",
    "plt.xlabel(\"Recall\")\n",
    "plt.ylabel(\"Precision\")\n",
    "plt.savefig(\"prec_rec_curve.png\", bbox_inches='tight')\n"
   ]
  },
  {
   "cell_type": "code",
   "execution_count": null,
   "id": "474a95a1-26a3-4c77-ac45-d4a0ec36b2c5",
   "metadata": {},
   "outputs": [],
   "source": [
    "PrecisionRecallDisplay.from_estimator(\n",
    "    lr_b_clf, X_test, y_test, name=\"Logit_baseline\", ax=plt.gca()\n",
    ")\n",
    "\n",
    "PrecisionRecallDisplay.from_estimator(\n",
    "    rf_b_clf, X_test, y_test, name=\"SRF_baseline\", ax=plt.gca()\n",
    ")\n",
    "\n",
    "plt.xlabel(\"Recall\")\n",
    "plt.ylabel(\"Precision\")\n",
    "plt.savefig(\"prec_rec_b_curve.png\", bbox_inches='tight')\n"
   ]
  },
  {
   "cell_type": "code",
   "execution_count": null,
   "id": "3eec9394-3e6d-445f-8063-6d780ded3695",
   "metadata": {},
   "outputs": [],
   "source": [
    "RocCurveDisplay.from_estimator(\n",
    "    lr_clf, X_test, y_test, name=\"Logit\", ax=plt.gca()\n",
    ")\n",
    "\n",
    "RocCurveDisplay.from_estimator(\n",
    "    rf_clf, X_test, y_test, name=\"SRF\", ax=plt.gca()\n",
    ")\n",
    "\n",
    "RocCurveDisplay.from_estimator(\n",
    "    brf_clf, X_test, y_test, name=\"BRF\", ax=plt.gca()\n",
    ")\n",
    "\n",
    "RocCurveDisplay.from_estimator(\n",
    "    bb_clf, X_test, y_test, name=\"BB\", ax=plt.gca()\n",
    ")\n",
    "\n",
    "RocCurveDisplay.from_estimator(\n",
    "    rf_sampling_clf, X_test, y_test, name=\"SRF_SMOTE_RUS\", ax=plt.gca()\n",
    ")\n",
    "\n",
    "RocCurveDisplay.from_estimator(\n",
    "    svc_clf, X_test, y_test, name=\"SVC_SMOTE_RUS\", ax=plt.gca()\n",
    ")\n",
    "\n",
    "RocCurveDisplay.from_estimator(\n",
    "    xgb_final, X_test, y_test, name=\"XGBoost\", ax=plt.gca()\n",
    ")\n",
    "\n",
    "plt.xlabel(\"False Positive Rate\")\n",
    "plt.ylabel(\"True Positive Rate\")\n",
    "plt.savefig(\"roc_curve.png\", bbox_inches='tight')"
   ]
  },
  {
   "cell_type": "code",
   "execution_count": null,
   "id": "3a95ad75-8166-40e5-954c-44c6d0a355eb",
   "metadata": {},
   "outputs": [],
   "source": [
    "RocCurveDisplay.from_estimator(\n",
    "    lr_clf, X_test, y_test, name=\"Logit\", ax=plt.gca()\n",
    ")"
   ]
  },
  {
   "cell_type": "code",
   "execution_count": null,
   "id": "89e42170-eea4-4d93-9bad-ba960c053a98",
   "metadata": {},
   "outputs": [],
   "source": [
    "RocCurveDisplay.from_estimator(\n",
    "    lr_b_clf, X_test, y_test, name=\"Logit_baseline\", ax=plt.gca()\n",
    ")\n",
    "\n",
    "RocCurveDisplay.from_estimator(\n",
    "    rf_b_clf, X_test, y_test, name=\"SRF_baseline\", ax=plt.gca()\n",
    ")\n",
    "\n",
    "plt.xlabel(\"Recall\")\n",
    "plt.ylabel(\"True Positive Rate\")\n",
    "plt.savefig(\"roc_b_curve.png\", bbox_inches='tight')"
   ]
  },
  {
   "cell_type": "code",
   "execution_count": null,
   "id": "b9da15c1-73ba-436b-9ac6-20e3ae1a6d2e",
   "metadata": {},
   "outputs": [],
   "source": []
  }
 ],
 "metadata": {
  "kernelspec": {
   "display_name": "Python 3 (ipykernel)",
   "language": "python",
   "name": "python3"
  },
  "language_info": {
   "codemirror_mode": {
    "name": "ipython",
    "version": 3
   },
   "file_extension": ".py",
   "mimetype": "text/x-python",
   "name": "python",
   "nbconvert_exporter": "python",
   "pygments_lexer": "ipython3",
   "version": "3.8.8"
  }
 },
 "nbformat": 4,
 "nbformat_minor": 5
}
