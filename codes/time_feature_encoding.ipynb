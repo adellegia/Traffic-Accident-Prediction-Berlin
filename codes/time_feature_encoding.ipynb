{
 "cells": [
  {
   "cell_type": "code",
   "execution_count": null,
   "metadata": {},
   "outputs": [],
   "source": [
    "import pandas as pd"
   ]
  },
  {
   "cell_type": "code",
   "execution_count": null,
   "metadata": {},
   "outputs": [],
   "source": [
    "# Negative sample\n",
    "df_negative_sample = pd.read_csv('../data/output/negative_sample.csv')\n",
    "\n",
    "# Positive sample\n",
    "df_positive_sample = pd.read_csv('../data/output/positive_sample.csv')\n"
   ]
  },
  {
   "cell_type": "code",
   "execution_count": null,
   "metadata": {},
   "outputs": [],
   "source": [
    "# Negative Sample\n",
    "#Cyclical Encoding of TIme Features\n",
    "df_negative_sample['hour_sin'] = df_negative_sample.progress_apply(lambda row: math.sin(2 * math.pi * row['hour']/23.0),axis=1)\n",
    "df_negative_sample['hour_cos'] = df_negative_sample.progress_apply(lambda row: math.cos(2 * math.pi * row['hour']/23.0),axis=1)\n",
    "df_negative_sample['month_sin'] = df_negative_sample.progress_apply(lambda row: math.sin(2 * math.pi * row['month']/12.0),axis=1)\n",
    "df_negative_sample['month_cos'] = df_negative_sample.progress_apply(lambda row: math.cos(2 * math.pi * row['month']/12.0),axis=1)"
   ]
  },
  {
   "cell_type": "code",
   "execution_count": null,
   "metadata": {},
   "outputs": [],
   "source": [
    "# Positive Sample\n",
    "#Cyclical Encoding of TIme Features\n",
    "df_positive_sample['hour_sin'] = df_positive_sample.progress_apply(lambda row: math.sin(2 * math.pi * row['hour']/23.0),axis=1)\n",
    "df_positive_sample['hour_cos'] = df_positive_sample.progress_apply(lambda row: math.cos(2 * math.pi * row['hour']/23.0),axis=1)\n",
    "df_positive_sample['month_sin'] = df_positive_sample.progress_apply(lambda row: math.sin(2 * math.pi * row['month']/12.0),axis=1)\n",
    "df_positive_sample['month_cos'] = df_positive_sample.progress_apply(lambda row: math.cos(2 * math.pi * row['month']/12.0),axis=1)"
   ]
  },
  {
   "cell_type": "code",
   "execution_count": null,
   "metadata": {},
   "outputs": [],
   "source": [
    "# EXPORT\n",
    "df_negative_sample.to_csv('../data/output/negative_sample.csv')\n",
    "df_positive_sample.to_csv('../data/output/positive_sample.csv')"
   ]
  }
 ],
 "metadata": {
  "kernelspec": {
   "display_name": "Python 3",
   "language": "python",
   "name": "python3"
  },
  "language_info": {
   "codemirror_mode": {
    "name": "ipython",
    "version": 3
   },
   "file_extension": ".py",
   "mimetype": "text/x-python",
   "name": "python",
   "nbconvert_exporter": "python",
   "pygments_lexer": "ipython3",
   "version": "3.7.4"
  }
 },
 "nbformat": 4,
 "nbformat_minor": 4
}
