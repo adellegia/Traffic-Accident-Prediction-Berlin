{
 "cells": [
  {
   "cell_type": "code",
   "execution_count": 1,
   "metadata": {
    "colab": {
     "base_uri": "https://localhost:8080/"
    },
    "executionInfo": {
     "elapsed": 1620,
     "status": "ok",
     "timestamp": 1648822485723,
     "user": {
      "displayName": "Benedikt Ströbl",
      "userId": "04612548199667048888"
     },
     "user_tz": -120
    },
    "id": "Dzu6-GDCIwyy",
    "outputId": "f19842df-8bcb-4e9e-ef19-71faf33b613d"
   },
   "outputs": [
    {
     "name": "stdout",
     "output_type": "stream",
     "text": [
      "Drive already mounted at /content/drive/; to attempt to forcibly remount, call drive.mount(\"/content/drive/\", force_remount=True).\n"
     ]
    }
   ],
   "source": [
    "from google.colab import drive\n",
    "\n",
    "drive.mount('/content/drive/')"
   ]
  },
  {
   "cell_type": "code",
   "execution_count": 15,
   "metadata": {
    "executionInfo": {
     "elapsed": 711,
     "status": "ok",
     "timestamp": 1648822486427,
     "user": {
      "displayName": "Benedikt Ströbl",
      "userId": "04612548199667048888"
     },
     "user_tz": -120
    },
    "id": "UCgOMBB5Wv7l"
   },
   "outputs": [],
   "source": [
    "import pandas as pd"
   ]
  },
  {
   "cell_type": "code",
   "execution_count": 16,
   "metadata": {
    "colab": {
     "base_uri": "https://localhost:8080/"
    },
    "executionInfo": {
     "elapsed": 2378,
     "status": "ok",
     "timestamp": 1648822490632,
     "user": {
      "displayName": "Benedikt Ströbl",
      "userId": "04612548199667048888"
     },
     "user_tz": -120
    },
    "id": "vVyO0ACwVmFu",
    "outputId": "47061e18-869c-41e2-af67-c56e2024114e"
   },
   "outputs": [],
   "source": [
    "# import collision_road matching data with segment IDs\n",
    "df_collisions_road = pd.read_csv('../data/output/collisions_road.csv')\n",
    "\n",
    "# import collision data\n",
    "df_collisions = pd.read_csv('../data/output/collisions.csv')\n"
   ]
  },
  {
   "cell_type": "code",
   "execution_count": 60,
   "metadata": {
    "colab": {
     "base_uri": "https://localhost:8080/",
     "height": 238
    },
    "executionInfo": {
     "elapsed": 14,
     "status": "ok",
     "timestamp": 1648822490633,
     "user": {
      "displayName": "Benedikt Ströbl",
      "userId": "04612548199667048888"
     },
     "user_tz": -120
    },
    "id": "2N-zNUGAkvPM",
    "outputId": "53820bfe-73d7-4550-ced5-a1fd3b6366bf"
   },
   "outputs": [
    {
     "data": {
      "text/html": [
       "<div>\n",
       "<style scoped>\n",
       "    .dataframe tbody tr th:only-of-type {\n",
       "        vertical-align: middle;\n",
       "    }\n",
       "\n",
       "    .dataframe tbody tr th {\n",
       "        vertical-align: top;\n",
       "    }\n",
       "\n",
       "    .dataframe thead th {\n",
       "        text-align: right;\n",
       "    }\n",
       "</style>\n",
       "<table border=\"1\" class=\"dataframe\">\n",
       "  <thead>\n",
       "    <tr style=\"text-align: right;\">\n",
       "      <th></th>\n",
       "      <th>col_id</th>\n",
       "      <th>street</th>\n",
       "      <th>segment_id</th>\n",
       "      <th>bezirk</th>\n",
       "      <th>stadtteil</th>\n",
       "      <th>strassenna</th>\n",
       "    </tr>\n",
       "  </thead>\n",
       "  <tbody>\n",
       "    <tr>\n",
       "      <th>0</th>\n",
       "      <td>0</td>\n",
       "      <td>Samariterviertel</td>\n",
       "      <td>6209.0</td>\n",
       "      <td>Friedrichshain-Kreuzberg</td>\n",
       "      <td>Friedrichshain</td>\n",
       "      <td>Frankfurter Allee</td>\n",
       "    </tr>\n",
       "    <tr>\n",
       "      <th>1</th>\n",
       "      <td>1</td>\n",
       "      <td>Ziekowstraße/Freie Scholle</td>\n",
       "      <td>41374.0</td>\n",
       "      <td>Reinickendorf</td>\n",
       "      <td>Tegel</td>\n",
       "      <td>A 111 BAB Autobahnzubringer Hamburg</td>\n",
       "    </tr>\n",
       "    <tr>\n",
       "      <th>2</th>\n",
       "      <td>1</td>\n",
       "      <td>Ziekowstraße/Freie Scholle</td>\n",
       "      <td>41373.0</td>\n",
       "      <td>Reinickendorf</td>\n",
       "      <td>Tegel</td>\n",
       "      <td>A 111 BAB Autobahnzubringer Hamburg</td>\n",
       "    </tr>\n",
       "    <tr>\n",
       "      <th>3</th>\n",
       "      <td>2</td>\n",
       "      <td>Barnimkiez</td>\n",
       "      <td>4410.0</td>\n",
       "      <td>Pankow</td>\n",
       "      <td>Prenzlauer Berg</td>\n",
       "      <td>Otto-Braun-Straße</td>\n",
       "    </tr>\n",
       "    <tr>\n",
       "      <th>4</th>\n",
       "      <td>3</td>\n",
       "      <td>Volkspark (Rudolf-Wilde-Park)</td>\n",
       "      <td>1452.0</td>\n",
       "      <td>Tempelhof-Schöneberg</td>\n",
       "      <td>Schöneberg</td>\n",
       "      <td>Hauptstraße</td>\n",
       "    </tr>\n",
       "  </tbody>\n",
       "</table>\n",
       "</div>"
      ],
      "text/plain": [
       "   col_id                         street  segment_id  \\\n",
       "0       0               Samariterviertel      6209.0   \n",
       "1       1     Ziekowstraße/Freie Scholle     41374.0   \n",
       "2       1     Ziekowstraße/Freie Scholle     41373.0   \n",
       "3       2                     Barnimkiez      4410.0   \n",
       "4       3  Volkspark (Rudolf-Wilde-Park)      1452.0   \n",
       "\n",
       "                     bezirk        stadtteil  \\\n",
       "0  Friedrichshain-Kreuzberg   Friedrichshain   \n",
       "1             Reinickendorf            Tegel   \n",
       "2             Reinickendorf            Tegel   \n",
       "3                    Pankow  Prenzlauer Berg   \n",
       "4      Tempelhof-Schöneberg       Schöneberg   \n",
       "\n",
       "                            strassenna  \n",
       "0                    Frankfurter Allee  \n",
       "1  A 111 BAB Autobahnzubringer Hamburg  \n",
       "2  A 111 BAB Autobahnzubringer Hamburg  \n",
       "3                    Otto-Braun-Straße  \n",
       "4                          Hauptstraße  "
      ]
     },
     "execution_count": 60,
     "metadata": {},
     "output_type": "execute_result"
    }
   ],
   "source": [
    "df_collisions_road.head()"
   ]
  },
  {
   "cell_type": "code",
   "execution_count": 17,
   "metadata": {
    "executionInfo": {
     "elapsed": 242,
     "status": "ok",
     "timestamp": 1648822774657,
     "user": {
      "displayName": "Benedikt Ströbl",
      "userId": "04612548199667048888"
     },
     "user_tz": -120
    },
    "id": "VbPwLDbFJF-s"
   },
   "outputs": [],
   "source": [
    "# generate all dates from start to end\n",
    "import time\n",
    "import datetime\n",
    "\n",
    "\n",
    "\n",
    "start = \"31/12/2017\"\n",
    "end = \"31/12/2020\"\n",
    "date = datetime.datetime.strptime(start, \"%d/%m/%Y\")\n",
    "\n",
    "dates = list()\n",
    "while(date != datetime.datetime.strptime(end, \"%d/%m/%Y\")): \n",
    "    date += datetime.timedelta(days=1)\n",
    "    for i in range(24):\n",
    "        dates.append((date.strftime(\"%Y-%m-%d\"), i))"
   ]
  },
  {
   "cell_type": "code",
   "execution_count": 18,
   "metadata": {
    "colab": {
     "base_uri": "https://localhost:8080/",
     "height": 200
    },
    "executionInfo": {
     "elapsed": 230,
     "status": "error",
     "timestamp": 1648822781409,
     "user": {
      "displayName": "Benedikt Ströbl",
      "userId": "04612548199667048888"
     },
     "user_tz": -120
    },
    "id": "xGDlvSZdcDTf",
    "outputId": "e6c79591-d415-46e5-a101-5cbddaa55180"
   },
   "outputs": [],
   "source": [
    "# Create the pandas DataFrame\n",
    "df_date_hour_pairs = pd.DataFrame(dates, columns = ['date', 'hour'])\n",
    "df_segments = pd.DataFrame(df_collisions_road[\"segment_id\"].unique(), columns=[\"segment_id\"])"
   ]
  },
  {
   "cell_type": "code",
   "execution_count": 19,
   "metadata": {},
   "outputs": [],
   "source": [
    "df_date_hour_pairs['date'] = pd.to_datetime(df_date_hour_pairs['date'])"
   ]
  },
  {
   "cell_type": "code",
   "execution_count": 20,
   "metadata": {},
   "outputs": [
    {
     "data": {
      "text/html": [
       "<div>\n",
       "<style scoped>\n",
       "    .dataframe tbody tr th:only-of-type {\n",
       "        vertical-align: middle;\n",
       "    }\n",
       "\n",
       "    .dataframe tbody tr th {\n",
       "        vertical-align: top;\n",
       "    }\n",
       "\n",
       "    .dataframe thead th {\n",
       "        text-align: right;\n",
       "    }\n",
       "</style>\n",
       "<table border=\"1\" class=\"dataframe\">\n",
       "  <thead>\n",
       "    <tr style=\"text-align: right;\">\n",
       "      <th></th>\n",
       "      <th>date</th>\n",
       "      <th>hour</th>\n",
       "    </tr>\n",
       "  </thead>\n",
       "  <tbody>\n",
       "    <tr>\n",
       "      <th>0</th>\n",
       "      <td>2018-01-01</td>\n",
       "      <td>0</td>\n",
       "    </tr>\n",
       "    <tr>\n",
       "      <th>1</th>\n",
       "      <td>2018-01-01</td>\n",
       "      <td>1</td>\n",
       "    </tr>\n",
       "    <tr>\n",
       "      <th>2</th>\n",
       "      <td>2018-01-01</td>\n",
       "      <td>2</td>\n",
       "    </tr>\n",
       "    <tr>\n",
       "      <th>3</th>\n",
       "      <td>2018-01-01</td>\n",
       "      <td>3</td>\n",
       "    </tr>\n",
       "    <tr>\n",
       "      <th>4</th>\n",
       "      <td>2018-01-01</td>\n",
       "      <td>4</td>\n",
       "    </tr>\n",
       "    <tr>\n",
       "      <th>...</th>\n",
       "      <td>...</td>\n",
       "      <td>...</td>\n",
       "    </tr>\n",
       "    <tr>\n",
       "      <th>26299</th>\n",
       "      <td>2020-12-31</td>\n",
       "      <td>19</td>\n",
       "    </tr>\n",
       "    <tr>\n",
       "      <th>26300</th>\n",
       "      <td>2020-12-31</td>\n",
       "      <td>20</td>\n",
       "    </tr>\n",
       "    <tr>\n",
       "      <th>26301</th>\n",
       "      <td>2020-12-31</td>\n",
       "      <td>21</td>\n",
       "    </tr>\n",
       "    <tr>\n",
       "      <th>26302</th>\n",
       "      <td>2020-12-31</td>\n",
       "      <td>22</td>\n",
       "    </tr>\n",
       "    <tr>\n",
       "      <th>26303</th>\n",
       "      <td>2020-12-31</td>\n",
       "      <td>23</td>\n",
       "    </tr>\n",
       "  </tbody>\n",
       "</table>\n",
       "<p>26304 rows × 2 columns</p>\n",
       "</div>"
      ],
      "text/plain": [
       "            date  hour\n",
       "0     2018-01-01     0\n",
       "1     2018-01-01     1\n",
       "2     2018-01-01     2\n",
       "3     2018-01-01     3\n",
       "4     2018-01-01     4\n",
       "...          ...   ...\n",
       "26299 2020-12-31    19\n",
       "26300 2020-12-31    20\n",
       "26301 2020-12-31    21\n",
       "26302 2020-12-31    22\n",
       "26303 2020-12-31    23\n",
       "\n",
       "[26304 rows x 2 columns]"
      ]
     },
     "execution_count": 20,
     "metadata": {},
     "output_type": "execute_result"
    }
   ],
   "source": [
    "df_date_hour_pairs"
   ]
  },
  {
   "cell_type": "code",
   "execution_count": 21,
   "metadata": {},
   "outputs": [],
   "source": [
    "df_date_hour_pairs_2018_1 = df_date_hour_pairs[df_date_hour_pairs['date']<datetime.datetime(2018,7,1)]\n",
    "df_date_hour_pairs_2018_2 = df_date_hour_pairs[(df_date_hour_pairs['date']<datetime.datetime(2019,1,1)) & (df_date_hour_pairs['date']>datetime.datetime(2018,6,30))]  \n",
    "df_date_hour_pairs_2019_1 = df_date_hour_pairs[(df_date_hour_pairs['date']<datetime.datetime(2019,7,1)) & (df_date_hour_pairs['date']>datetime.datetime(2018,12,31))]  \n",
    "df_date_hour_pairs_2019_2 = df_date_hour_pairs[(df_date_hour_pairs['date']<datetime.datetime(2020,1,1)) & (df_date_hour_pairs['date']>datetime.datetime(2019,6,30))]  \n",
    "df_date_hour_pairs_2020_1 = df_date_hour_pairs[(df_date_hour_pairs['date']<datetime.datetime(2020,7,1)) & (df_date_hour_pairs['date']>datetime.datetime(2019,12,31))]  \n",
    "df_date_hour_pairs_2020_2 = df_date_hour_pairs[(df_date_hour_pairs['date']<datetime.datetime(2021,1,1)) & (df_date_hour_pairs['date']>datetime.datetime(2020,6,30))]  "
   ]
  },
  {
   "cell_type": "code",
   "execution_count": 23,
   "metadata": {},
   "outputs": [
    {
     "data": {
      "text/html": [
       "<div>\n",
       "<style scoped>\n",
       "    .dataframe tbody tr th:only-of-type {\n",
       "        vertical-align: middle;\n",
       "    }\n",
       "\n",
       "    .dataframe tbody tr th {\n",
       "        vertical-align: top;\n",
       "    }\n",
       "\n",
       "    .dataframe thead th {\n",
       "        text-align: right;\n",
       "    }\n",
       "</style>\n",
       "<table border=\"1\" class=\"dataframe\">\n",
       "  <thead>\n",
       "    <tr style=\"text-align: right;\">\n",
       "      <th></th>\n",
       "      <th>date</th>\n",
       "      <th>hour</th>\n",
       "    </tr>\n",
       "  </thead>\n",
       "  <tbody>\n",
       "    <tr>\n",
       "      <th>21888</th>\n",
       "      <td>2020-07-01</td>\n",
       "      <td>0</td>\n",
       "    </tr>\n",
       "    <tr>\n",
       "      <th>21889</th>\n",
       "      <td>2020-07-01</td>\n",
       "      <td>1</td>\n",
       "    </tr>\n",
       "    <tr>\n",
       "      <th>21890</th>\n",
       "      <td>2020-07-01</td>\n",
       "      <td>2</td>\n",
       "    </tr>\n",
       "    <tr>\n",
       "      <th>21891</th>\n",
       "      <td>2020-07-01</td>\n",
       "      <td>3</td>\n",
       "    </tr>\n",
       "    <tr>\n",
       "      <th>21892</th>\n",
       "      <td>2020-07-01</td>\n",
       "      <td>4</td>\n",
       "    </tr>\n",
       "    <tr>\n",
       "      <th>...</th>\n",
       "      <td>...</td>\n",
       "      <td>...</td>\n",
       "    </tr>\n",
       "    <tr>\n",
       "      <th>26299</th>\n",
       "      <td>2020-12-31</td>\n",
       "      <td>19</td>\n",
       "    </tr>\n",
       "    <tr>\n",
       "      <th>26300</th>\n",
       "      <td>2020-12-31</td>\n",
       "      <td>20</td>\n",
       "    </tr>\n",
       "    <tr>\n",
       "      <th>26301</th>\n",
       "      <td>2020-12-31</td>\n",
       "      <td>21</td>\n",
       "    </tr>\n",
       "    <tr>\n",
       "      <th>26302</th>\n",
       "      <td>2020-12-31</td>\n",
       "      <td>22</td>\n",
       "    </tr>\n",
       "    <tr>\n",
       "      <th>26303</th>\n",
       "      <td>2020-12-31</td>\n",
       "      <td>23</td>\n",
       "    </tr>\n",
       "  </tbody>\n",
       "</table>\n",
       "<p>4416 rows × 2 columns</p>\n",
       "</div>"
      ],
      "text/plain": [
       "            date  hour\n",
       "21888 2020-07-01     0\n",
       "21889 2020-07-01     1\n",
       "21890 2020-07-01     2\n",
       "21891 2020-07-01     3\n",
       "21892 2020-07-01     4\n",
       "...          ...   ...\n",
       "26299 2020-12-31    19\n",
       "26300 2020-12-31    20\n",
       "26301 2020-12-31    21\n",
       "26302 2020-12-31    22\n",
       "26303 2020-12-31    23\n",
       "\n",
       "[4416 rows x 2 columns]"
      ]
     },
     "execution_count": 23,
     "metadata": {},
     "output_type": "execute_result"
    }
   ],
   "source": [
    "df_date_hour_pairs_2020_2"
   ]
  },
  {
   "cell_type": "code",
   "execution_count": 24,
   "metadata": {
    "colab": {
     "base_uri": "https://localhost:8080/",
     "height": 206
    },
    "executionInfo": {
     "elapsed": 9,
     "status": "ok",
     "timestamp": 1648822666631,
     "user": {
      "displayName": "Benedikt Ströbl",
      "userId": "04612548199667048888"
     },
     "user_tz": -120
    },
    "id": "AJ_-wwF-e6Zy",
    "outputId": "b1af4fa1-49bf-4984-b30a-9dc68212f266"
   },
   "outputs": [
    {
     "data": {
      "text/html": [
       "<div>\n",
       "<style scoped>\n",
       "    .dataframe tbody tr th:only-of-type {\n",
       "        vertical-align: middle;\n",
       "    }\n",
       "\n",
       "    .dataframe tbody tr th {\n",
       "        vertical-align: top;\n",
       "    }\n",
       "\n",
       "    .dataframe thead th {\n",
       "        text-align: right;\n",
       "    }\n",
       "</style>\n",
       "<table border=\"1\" class=\"dataframe\">\n",
       "  <thead>\n",
       "    <tr style=\"text-align: right;\">\n",
       "      <th></th>\n",
       "      <th>segment_id</th>\n",
       "    </tr>\n",
       "  </thead>\n",
       "  <tbody>\n",
       "    <tr>\n",
       "      <th>0</th>\n",
       "      <td>6209.0</td>\n",
       "    </tr>\n",
       "    <tr>\n",
       "      <th>1</th>\n",
       "      <td>41374.0</td>\n",
       "    </tr>\n",
       "    <tr>\n",
       "      <th>2</th>\n",
       "      <td>41373.0</td>\n",
       "    </tr>\n",
       "    <tr>\n",
       "      <th>3</th>\n",
       "      <td>4410.0</td>\n",
       "    </tr>\n",
       "    <tr>\n",
       "      <th>4</th>\n",
       "      <td>1452.0</td>\n",
       "    </tr>\n",
       "    <tr>\n",
       "      <th>...</th>\n",
       "      <td>...</td>\n",
       "    </tr>\n",
       "    <tr>\n",
       "      <th>19346</th>\n",
       "      <td>15989.0</td>\n",
       "    </tr>\n",
       "    <tr>\n",
       "      <th>19347</th>\n",
       "      <td>15988.0</td>\n",
       "    </tr>\n",
       "    <tr>\n",
       "      <th>19348</th>\n",
       "      <td>22553.0</td>\n",
       "    </tr>\n",
       "    <tr>\n",
       "      <th>19349</th>\n",
       "      <td>22561.0</td>\n",
       "    </tr>\n",
       "    <tr>\n",
       "      <th>19350</th>\n",
       "      <td>20180.0</td>\n",
       "    </tr>\n",
       "  </tbody>\n",
       "</table>\n",
       "<p>19351 rows × 1 columns</p>\n",
       "</div>"
      ],
      "text/plain": [
       "       segment_id\n",
       "0          6209.0\n",
       "1         41374.0\n",
       "2         41373.0\n",
       "3          4410.0\n",
       "4          1452.0\n",
       "...           ...\n",
       "19346     15989.0\n",
       "19347     15988.0\n",
       "19348     22553.0\n",
       "19349     22561.0\n",
       "19350     20180.0\n",
       "\n",
       "[19351 rows x 1 columns]"
      ]
     },
     "execution_count": 24,
     "metadata": {},
     "output_type": "execute_result"
    }
   ],
   "source": [
    "df_segments"
   ]
  },
  {
   "cell_type": "code",
   "execution_count": 25,
   "metadata": {
    "id": "srSfJEhpi3wR"
   },
   "outputs": [
    {
     "name": "stderr",
     "output_type": "stream",
     "text": [
      "c:\\users\\bened\\appdata\\local\\programs\\python\\python37\\lib\\site-packages\\ipykernel_launcher.py:3: SettingWithCopyWarning: \n",
      "A value is trying to be set on a copy of a slice from a DataFrame.\n",
      "Try using .loc[row_indexer,col_indexer] = value instead\n",
      "\n",
      "See the caveats in the documentation: http://pandas.pydata.org/pandas-docs/stable/user_guide/indexing.html#returning-a-view-versus-a-copy\n",
      "  This is separate from the ipykernel package so we can avoid doing imports until\n",
      "c:\\users\\bened\\appdata\\local\\programs\\python\\python37\\lib\\site-packages\\ipykernel_launcher.py:4: SettingWithCopyWarning: \n",
      "A value is trying to be set on a copy of a slice from a DataFrame.\n",
      "Try using .loc[row_indexer,col_indexer] = value instead\n",
      "\n",
      "See the caveats in the documentation: http://pandas.pydata.org/pandas-docs/stable/user_guide/indexing.html#returning-a-view-versus-a-copy\n",
      "  after removing the cwd from sys.path.\n",
      "c:\\users\\bened\\appdata\\local\\programs\\python\\python37\\lib\\site-packages\\ipykernel_launcher.py:5: SettingWithCopyWarning: \n",
      "A value is trying to be set on a copy of a slice from a DataFrame.\n",
      "Try using .loc[row_indexer,col_indexer] = value instead\n",
      "\n",
      "See the caveats in the documentation: http://pandas.pydata.org/pandas-docs/stable/user_guide/indexing.html#returning-a-view-versus-a-copy\n",
      "  \"\"\"\n",
      "c:\\users\\bened\\appdata\\local\\programs\\python\\python37\\lib\\site-packages\\ipykernel_launcher.py:6: SettingWithCopyWarning: \n",
      "A value is trying to be set on a copy of a slice from a DataFrame.\n",
      "Try using .loc[row_indexer,col_indexer] = value instead\n",
      "\n",
      "See the caveats in the documentation: http://pandas.pydata.org/pandas-docs/stable/user_guide/indexing.html#returning-a-view-versus-a-copy\n",
      "  \n",
      "c:\\users\\bened\\appdata\\local\\programs\\python\\python37\\lib\\site-packages\\ipykernel_launcher.py:7: SettingWithCopyWarning: \n",
      "A value is trying to be set on a copy of a slice from a DataFrame.\n",
      "Try using .loc[row_indexer,col_indexer] = value instead\n",
      "\n",
      "See the caveats in the documentation: http://pandas.pydata.org/pandas-docs/stable/user_guide/indexing.html#returning-a-view-versus-a-copy\n",
      "  import sys\n",
      "c:\\users\\bened\\appdata\\local\\programs\\python\\python37\\lib\\site-packages\\ipykernel_launcher.py:8: SettingWithCopyWarning: \n",
      "A value is trying to be set on a copy of a slice from a DataFrame.\n",
      "Try using .loc[row_indexer,col_indexer] = value instead\n",
      "\n",
      "See the caveats in the documentation: http://pandas.pydata.org/pandas-docs/stable/user_guide/indexing.html#returning-a-view-versus-a-copy\n",
      "  \n"
     ]
    }
   ],
   "source": [
    "### Creating Date-Hour-Road Segment Combinations\n",
    "df_segments['key'] = 1\n",
    "df_date_hour_pairs_2018_1['key'] = 1\n",
    "df_date_hour_pairs_2018_2['key'] = 1\n",
    "df_date_hour_pairs_2019_1['key'] = 1\n",
    "df_date_hour_pairs_2019_2['key'] = 1\n",
    "df_date_hour_pairs_2020_1['key'] = 1\n",
    "df_date_hour_pairs_2020_2['key'] = 1\n",
    "\n",
    "# to obtain the cross join we will merge \n",
    "# on the key and drop it.\n",
    "#pd.merge(df_segments, df_date_hour_pairs_2018_1, on ='key').drop(\"key\", 1).to_csv(\"../data/output/combinations_2018_1.csv\", index = False)\n",
    "pd.merge(df_segments, df_date_hour_pairs_2018_2, on ='key').drop(\"key\", 1).to_csv(\"../data/output/combinations_2018_2.csv\", index = False)\n",
    "pd.merge(df_segments, df_date_hour_pairs_2019_1, on ='key').drop(\"key\", 1).to_csv(\"../data/output/combinations_2019_1.csv\", index = False)\n",
    "pd.merge(df_segments, df_date_hour_pairs_2019_2, on ='key').drop(\"key\", 1).to_csv(\"../data/output/combinations_2019_2.csv\", index = False)\n",
    "pd.merge(df_segments, df_date_hour_pairs_2020_1, on ='key').drop(\"key\", 1).to_csv(\"../data/output/combinations_2020_1.csv\", index = False)\n",
    "pd.merge(df_segments, df_date_hour_pairs_2020_2, on ='key').drop(\"key\", 1).to_csv(\"../data/output/combinations_2020_2.csv\", index = False)\n"
   ]
  },
  {
   "cell_type": "code",
   "execution_count": 9,
   "metadata": {
    "colab": {
     "base_uri": "https://localhost:8080/",
     "height": 423
    },
    "executionInfo": {
     "elapsed": 234,
     "status": "ok",
     "timestamp": 1648822730356,
     "user": {
      "displayName": "Benedikt Ströbl",
      "userId": "04612548199667048888"
     },
     "user_tz": -120
    },
    "id": "YLX3G2BzjbKH",
    "outputId": "d47cf31e-e99b-4fa7-ac0c-73e351b13f83"
   },
   "outputs": [
    {
     "data": {
      "text/html": [
       "<div>\n",
       "<style scoped>\n",
       "    .dataframe tbody tr th:only-of-type {\n",
       "        vertical-align: middle;\n",
       "    }\n",
       "\n",
       "    .dataframe tbody tr th {\n",
       "        vertical-align: top;\n",
       "    }\n",
       "\n",
       "    .dataframe thead th {\n",
       "        text-align: right;\n",
       "    }\n",
       "</style>\n",
       "<table border=\"1\" class=\"dataframe\">\n",
       "  <thead>\n",
       "    <tr style=\"text-align: right;\">\n",
       "      <th></th>\n",
       "      <th>segment_id</th>\n",
       "      <th>date</th>\n",
       "      <th>hour</th>\n",
       "    </tr>\n",
       "  </thead>\n",
       "  <tbody>\n",
       "    <tr>\n",
       "      <th>0</th>\n",
       "      <td>6209.0</td>\n",
       "      <td>2018-01-01</td>\n",
       "      <td>0</td>\n",
       "    </tr>\n",
       "    <tr>\n",
       "      <th>1</th>\n",
       "      <td>6209.0</td>\n",
       "      <td>2018-01-01</td>\n",
       "      <td>1</td>\n",
       "    </tr>\n",
       "    <tr>\n",
       "      <th>2</th>\n",
       "      <td>6209.0</td>\n",
       "      <td>2018-01-01</td>\n",
       "      <td>2</td>\n",
       "    </tr>\n",
       "    <tr>\n",
       "      <th>3</th>\n",
       "      <td>6209.0</td>\n",
       "      <td>2018-01-01</td>\n",
       "      <td>3</td>\n",
       "    </tr>\n",
       "    <tr>\n",
       "      <th>4</th>\n",
       "      <td>6209.0</td>\n",
       "      <td>2018-01-01</td>\n",
       "      <td>4</td>\n",
       "    </tr>\n",
       "    <tr>\n",
       "      <th>...</th>\n",
       "      <td>...</td>\n",
       "      <td>...</td>\n",
       "      <td>...</td>\n",
       "    </tr>\n",
       "    <tr>\n",
       "      <th>84060739</th>\n",
       "      <td>20180.0</td>\n",
       "      <td>2018-06-30</td>\n",
       "      <td>19</td>\n",
       "    </tr>\n",
       "    <tr>\n",
       "      <th>84060740</th>\n",
       "      <td>20180.0</td>\n",
       "      <td>2018-06-30</td>\n",
       "      <td>20</td>\n",
       "    </tr>\n",
       "    <tr>\n",
       "      <th>84060741</th>\n",
       "      <td>20180.0</td>\n",
       "      <td>2018-06-30</td>\n",
       "      <td>21</td>\n",
       "    </tr>\n",
       "    <tr>\n",
       "      <th>84060742</th>\n",
       "      <td>20180.0</td>\n",
       "      <td>2018-06-30</td>\n",
       "      <td>22</td>\n",
       "    </tr>\n",
       "    <tr>\n",
       "      <th>84060743</th>\n",
       "      <td>20180.0</td>\n",
       "      <td>2018-06-30</td>\n",
       "      <td>23</td>\n",
       "    </tr>\n",
       "  </tbody>\n",
       "</table>\n",
       "<p>84060744 rows × 3 columns</p>\n",
       "</div>"
      ],
      "text/plain": [
       "          segment_id       date  hour\n",
       "0             6209.0 2018-01-01     0\n",
       "1             6209.0 2018-01-01     1\n",
       "2             6209.0 2018-01-01     2\n",
       "3             6209.0 2018-01-01     3\n",
       "4             6209.0 2018-01-01     4\n",
       "...              ...        ...   ...\n",
       "84060739     20180.0 2018-06-30    19\n",
       "84060740     20180.0 2018-06-30    20\n",
       "84060741     20180.0 2018-06-30    21\n",
       "84060742     20180.0 2018-06-30    22\n",
       "84060743     20180.0 2018-06-30    23\n",
       "\n",
       "[84060744 rows x 3 columns]"
      ]
     },
     "execution_count": 9,
     "metadata": {},
     "output_type": "execute_result"
    }
   ],
   "source": [
    "df_combinations_2018_1"
   ]
  }
 ],
 "metadata": {
  "colab": {
   "authorship_tag": "ABX9TyMIxd6RCgKnQZUxpOnZKv76",
   "collapsed_sections": [],
   "name": "combinations.ipynb",
   "provenance": []
  },
  "kernelspec": {
   "display_name": "Python 3",
   "language": "python",
   "name": "python3"
  },
  "language_info": {
   "codemirror_mode": {
    "name": "ipython",
    "version": 3
   },
   "file_extension": ".py",
   "mimetype": "text/x-python",
   "name": "python",
   "nbconvert_exporter": "python",
   "pygments_lexer": "ipython3",
   "version": "3.7.4"
  }
 },
 "nbformat": 4,
 "nbformat_minor": 4
}
